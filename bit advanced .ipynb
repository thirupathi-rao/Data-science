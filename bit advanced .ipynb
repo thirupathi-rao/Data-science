{
 "cells": [
  {
   "cell_type": "markdown",
   "id": "8696c706-53b6-4e1d-8fc4-b121cc04c763",
   "metadata": {},
   "source": [
    "# What is a File?\n",
    "\n",
    "Data used in a program is temporary unless it is specifically saved somewhere on the storage device (HDD or SSD), it is lost when the program terminates as the program typically runs on RAM and not on storage devices.\n",
    "\n",
    "To permanently store the data that was created in a program, we need to save it in a file on a disk or some other permanent storage device. The file can be transported and can be read later by other programs.\n",
    "\n",
    "Files can be classified into text or binary files.\n",
    "\n",
    "A file that can be processed (i.e., read, created, or modified) using a text editor such as Notepad on Windows or vi on UNIX, etc is called a text file.\n",
    "All the other files are called binary files. For example, Python source programs are stored in text files and can be processed by a text editor, but Microsoft Word files are stored in binary files and are processed by the Microsoft Word program.\n",
    "**\n",
    "Computers do not differentiate between binary files and text files. All files are stored in binary format, and thus all files are essentially binary files. Text IO (input and output) is built upon binary IO to provide a level of abstraction for character encoding and decoding.\n",
    "In Python, files are accessed using the file objects. As a matter of fact, the file objects help us to access not just normal disk files but can help us to accomplish many other tasks involving other kinds of files"
   ]
  },
  {
   "cell_type": "code",
   "execution_count": null,
   "id": "d3389e1b-ead0-410c-8d38-7514779c188e",
   "metadata": {},
   "outputs": [],
   "source": []
  },
  {
   "cell_type": "code",
   "execution_count": 7,
   "id": "e351a8f3-cbfe-4170-b980-78b5af7d13ba",
   "metadata": {},
   "outputs": [],
   "source": [
    "import os"
   ]
  },
  {
   "cell_type": "code",
   "execution_count": 9,
   "id": "fb079696-5b82-464b-af1d-5c0c4e09661b",
   "metadata": {},
   "outputs": [
    {
     "data": {
      "text/plain": [
       "'C:\\\\Users\\\\dtrri\\\\bot'"
      ]
     },
     "execution_count": 9,
     "metadata": {},
     "output_type": "execute_result"
    }
   ],
   "source": [
    "os.getcwd() #current working directory"
   ]
  },
  {
   "cell_type": "code",
   "execution_count": 10,
   "id": "8afa583e-7191-4641-9cfb-86e61454271c",
   "metadata": {},
   "outputs": [
    {
     "data": {
      "text/plain": [
       "'C:\\\\Users\\\\dtrri\\\\bot'"
      ]
     },
     "execution_count": 10,
     "metadata": {},
     "output_type": "execute_result"
    }
   ],
   "source": [
    "pwd"
   ]
  },
  {
   "cell_type": "code",
   "execution_count": 20,
   "id": "4833433e-0e42-4dee-825f-a925f7691c21",
   "metadata": {},
   "outputs": [],
   "source": [
    "with open('n.txt','r+')as f:\n",
    "    f.write('whats my name ')"
   ]
  },
  {
   "cell_type": "code",
   "execution_count": 23,
   "id": "21db28f2-ddba-4738-a78d-74424e9764b8",
   "metadata": {},
   "outputs": [],
   "source": [
    "with open('n.txt','a')as f:\n",
    "    f.write('\\nwalter white')"
   ]
  },
  {
   "cell_type": "code",
   "execution_count": 24,
   "id": "bd0c0be9-67b9-421b-bca3-35523d897bb9",
   "metadata": {},
   "outputs": [
    {
     "name": "stdout",
     "output_type": "stream",
     "text": [
      "whats my name walter whitewalter white\n",
      "walter white\n"
     ]
    }
   ],
   "source": [
    "with open('n.txt','r')as f:\n",
    "    print(f.read())\n",
    "    "
   ]
  },
  {
   "cell_type": "code",
   "execution_count": 25,
   "id": "e77cb607-7a70-41b5-b38e-9c1f2036bd88",
   "metadata": {},
   "outputs": [],
   "source": [
    "f.close()"
   ]
  },
  {
   "cell_type": "code",
   "execution_count": 29,
   "id": "862ad3bc-ffc6-44d0-83e9-d7fa8b98ae13",
   "metadata": {},
   "outputs": [
    {
     "name": "stdout",
     "output_type": "stream",
     "text": [
      "whats my name walter whitewalter white\n",
      "walter white\n"
     ]
    }
   ],
   "source": [
    "# use r for the path files to not get error\n",
    "with open(r\"C:\\Users\\dtrri\\bot\\n.txt\",'r')as f:\n",
    "    print(f.read())\n",
    "    "
   ]
  },
  {
   "cell_type": "code",
   "execution_count": 30,
   "id": "38067d0f-48e6-4a98-bc62-5aa3bdcddd3e",
   "metadata": {},
   "outputs": [
    {
     "ename": "SyntaxError",
     "evalue": "(unicode error) 'unicodeescape' codec can't decode bytes in position 2-3: truncated \\UXXXXXXXX escape (2257882514.py, line 1)",
     "output_type": "error",
     "traceback": [
      "\u001b[1;36m  Cell \u001b[1;32mIn[30], line 1\u001b[1;36m\u001b[0m\n\u001b[1;33m    with open(\"C:\\Users\\dtrri\\bot\\n.txt\",'r')as f:\u001b[0m\n\u001b[1;37m              ^\u001b[0m\n\u001b[1;31mSyntaxError\u001b[0m\u001b[1;31m:\u001b[0m (unicode error) 'unicodeescape' codec can't decode bytes in position 2-3: truncated \\UXXXXXXXX escape\n"
     ]
    }
   ],
   "source": [
    "with open(\"C:\\Users\\dtrri\\bot\\n.txt\",'r')as f:\n",
    "    print(f.read())\n",
    "    "
   ]
  },
  {
   "cell_type": "markdown",
   "id": "a7d70765-ef94-4af5-9b9d-d4614a87cfb9",
   "metadata": {},
   "source": [
    "# file creation using jupyter notebook"
   ]
  },
  {
   "cell_type": "code",
   "execution_count": 3,
   "id": "4ee22a71-153a-457c-958a-96d16fb896c0",
   "metadata": {},
   "outputs": [
    {
     "name": "stdout",
     "output_type": "stream",
     "text": [
      "Overwriting my_math.py\n"
     ]
    }
   ],
   "source": [
    "%%writefile my_math.py\n",
    "#%%writefile should be the first line of the cell\n",
    "#creating fuction in the file created above\n",
    "def add_(a,b):\n",
    "    return a+b\n",
    "def sub_(a,b):\n",
    "    return a-b\n",
    "def mult_(a,b):\n",
    "    return a*b\n",
    "def divide_(a,b):\n",
    "    return a/b\n",
    "    "
   ]
  },
  {
   "cell_type": "code",
   "execution_count": 4,
   "id": "8e73bcdc-6978-40f5-913e-8481d6b86222",
   "metadata": {},
   "outputs": [
    {
     "data": {
      "text/plain": [
       "0.8333333333333334"
      ]
     },
     "execution_count": 4,
     "metadata": {},
     "output_type": "execute_result"
    }
   ],
   "source": [
    "import my_math as m\n",
    "m.divide_(5,6)"
   ]
  },
  {
   "cell_type": "code",
   "execution_count": 6,
   "id": "ebc29702-f38e-4544-bacb-e886d6c67a8f",
   "metadata": {},
   "outputs": [
    {
     "name": "stdout",
     "output_type": "stream",
     "text": [
      "niggesh\n"
     ]
    }
   ],
   "source": [
    "try:\n",
    "    print(na)\n",
    "\n",
    "except: # in the except we need to specify type of error for the spesific error handeling  \n",
    "    print('niggesh')"
   ]
  },
  {
   "cell_type": "code",
   "execution_count": 10,
   "id": "440ff622-cdad-41d4-a553-9ef46332d1c5",
   "metadata": {},
   "outputs": [
    {
     "name": "stdout",
     "output_type": "stream",
     "text": [
      "whats my name walter whitewalter white\n",
      "\n",
      "walter white\n"
     ]
    }
   ],
   "source": [
    "try:\n",
    "    infile=open(r'n.txt','r')\n",
    "    \n",
    "    line1=infile.readline() #readline will read the line and move to next line\n",
    "    \n",
    "    line2=infile.readline()\n",
    "    print(line1)\n",
    "    print(line2)\n",
    "finally:\n",
    "    infile.close()"
   ]
  },
  {
   "cell_type": "markdown",
   "id": "b32e83f9-e653-4f40-93d6-2d624f2ecfa7",
   "metadata": {},
   "source": [
    "# class"
   ]
  },
  {
   "cell_type": "code",
   "execution_count": 6,
   "id": "98b6ab87-c958-4056-a977-cc3da3b893a6",
   "metadata": {},
   "outputs": [],
   "source": [
    "class MyCar:\n",
    "    def __init__(self,brand,model):\n",
    "        self.brand= brand\n",
    "        self.model=model\n",
    "        print(f'{brand} {model}')"
   ]
  },
  {
   "cell_type": "code",
   "execution_count": 7,
   "id": "27819cf1-b8f0-4bac-8704-76ccb765316f",
   "metadata": {},
   "outputs": [
    {
     "data": {
      "text/plain": [
       "type"
      ]
     },
     "execution_count": 7,
     "metadata": {},
     "output_type": "execute_result"
    }
   ],
   "source": [
    "type(MyCar) #class will get its type as type "
   ]
  },
  {
   "cell_type": "code",
   "execution_count": 9,
   "id": "e2d37b24-f743-4eaa-b9e0-8320d69e8933",
   "metadata": {},
   "outputs": [
    {
     "name": "stdout",
     "output_type": "stream",
     "text": [
      "lamborgini sian\n"
     ]
    }
   ],
   "source": [
    "a=MyCar('lamborgini','sian')"
   ]
  },
  {
   "cell_type": "code",
   "execution_count": 10,
   "id": "882ca208-d246-4de9-9190-e5a2c1fa2275",
   "metadata": {},
   "outputs": [
    {
     "data": {
      "text/plain": [
       "'lamborgini'"
      ]
     },
     "execution_count": 10,
     "metadata": {},
     "output_type": "execute_result"
    }
   ],
   "source": [
    "a.brand"
   ]
  },
  {
   "cell_type": "code",
   "execution_count": 11,
   "id": "97a64435-bb81-48ee-bac7-08b9b8dc4d42",
   "metadata": {},
   "outputs": [
    {
     "data": {
      "text/plain": [
       "'sian'"
      ]
     },
     "execution_count": 11,
     "metadata": {},
     "output_type": "execute_result"
    }
   ],
   "source": [
    "a.model"
   ]
  },
  {
   "cell_type": "code",
   "execution_count": 1,
   "id": "1637faee-63cc-4a67-874d-0b542510e329",
   "metadata": {},
   "outputs": [
    {
     "name": "stdout",
     "output_type": "stream",
     "text": [
      "Whiskers is a Cat.\n",
      "Whiskers is 3 years old.\n",
      "Buddy is a Golden Retriever dog.\n",
      "Buddy says Woof!\n",
      "Whiskers is a Cat.\n",
      "Buddy is a Golden Retriever dog.\n",
      "Counter value: 2\n"
     ]
    }
   ],
   "source": [
    "# Define a base class\n",
    "class Animal:\n",
    "    # Constructor to initialize attributes\n",
    "    def __init__(self, name, species):\n",
    "        self.name = name  # Public attribute\n",
    "        self.species = species  # Public attribute\n",
    "        self._age = 0  # Protected attribute\n",
    "        self.__secret = \"I love naps\"  # Private attribute\n",
    "    \n",
    "    # Instance method\n",
    "    def describe(self):\n",
    "        return f\"{self.name} is a {self.species}.\"\n",
    "\n",
    "    # Method to set a protected attribute\n",
    "    def set_age(self, age):\n",
    "        if age >= 0:\n",
    "            self._age = age\n",
    "        else:\n",
    "            print(\"Age cannot be negative.\")\n",
    "\n",
    "    # Method to get a protected attribute\n",
    "    def get_age(self):\n",
    "        return self._age\n",
    "\n",
    "    # Private method\n",
    "    def __secret_thought(self):\n",
    "        return f\"{self.name} says: {self.__secret}\"\n",
    "\n",
    "\n",
    "# Inheritance and Polymorphism\n",
    "class Dog(Animal):\n",
    "    def __init__(self, name, breed):\n",
    "        super().__init__(name, species=\"Dog\")  # Call parent constructor\n",
    "        self.breed = breed  # Additional attribute for Dog\n",
    "\n",
    "    # Overriding a method\n",
    "    def describe(self):\n",
    "        return f\"{self.name} is a {self.breed} dog.\"\n",
    "\n",
    "    # Additional method\n",
    "    def bark(self):\n",
    "        return f\"{self.name} says Woof!\"\n",
    "\n",
    "\n",
    "# Encapsulation demonstration\n",
    "class Counter:\n",
    "    def __init__(self):\n",
    "        self.__count = 0  # Private attribute\n",
    "\n",
    "    def increment(self):\n",
    "        self.__count += 1\n",
    "\n",
    "    def get_count(self):\n",
    "        return self.__count\n",
    "\n",
    "\n",
    "# Polymorphism in action\n",
    "def animal_sound(animal):\n",
    "    print(animal.describe())\n",
    "\n",
    "\n",
    "# Demonstrate the class functionality\n",
    "if __name__ == \"__main__\":\n",
    "    # Instantiate Animal\n",
    "    animal = Animal(\"Whiskers\", \"Cat\")\n",
    "    print(animal.describe())\n",
    "    animal.set_age(3)\n",
    "    print(f\"{animal.name} is {animal.get_age()} years old.\")\n",
    "    \n",
    "    # Private attribute is not accessible directly\n",
    "    # print(animal.__secret)  # This would raise an AttributeError\n",
    "\n",
    "    # Instantiate Dog (Inheritance)\n",
    "    dog = Dog(\"Buddy\", \"Golden Retriever\")\n",
    "    print(dog.describe())\n",
    "    print(dog.bark())\n",
    "\n",
    "    # Demonstrating polymorphism\n",
    "    animal_sound(animal)\n",
    "    animal_sound(dog)\n",
    "\n",
    "    # Using Encapsulation\n",
    "    counter = Counter()\n",
    "    counter.increment()\n",
    "    counter.increment()\n",
    "    print(f\"Counter value: {counter.get_count()}\")\n"
   ]
  },
  {
   "cell_type": "code",
   "execution_count": 3,
   "id": "aab46db3-4c4f-4999-92c0-385c08e51e02",
   "metadata": {},
   "outputs": [
    {
     "name": "stdin",
     "output_type": "stream",
     "text": [
      "Enter the number of students:  2\n"
     ]
    },
    {
     "name": "stdout",
     "output_type": "stream",
     "text": [
      "\n",
      "Entering details for Student 1:\n"
     ]
    },
    {
     "name": "stdin",
     "output_type": "stream",
     "text": [
      "Enter the student's name:  tom\n",
      "Enter the roll number:  1\n",
      "Enter the marks:  35\n"
     ]
    },
    {
     "name": "stdout",
     "output_type": "stream",
     "text": [
      "\n",
      "Entering details for Student 2:\n"
     ]
    },
    {
     "name": "stdin",
     "output_type": "stream",
     "text": [
      "Enter the student's name:  bomb\n",
      "Enter the roll number:  2\n",
      "Enter the marks:  66\n"
     ]
    },
    {
     "name": "stdout",
     "output_type": "stream",
     "text": [
      "\n",
      "Summary of Students:\n",
      "\n",
      "Student Details:\n",
      "Name         : tom\n",
      "Roll Number  : 1\n",
      "Marks        : 35.00\n",
      "Status       : Failed\n",
      "\n",
      "\n",
      "Student Details:\n",
      "Name         : bomb\n",
      "Roll Number  : 2\n",
      "Marks        : 66.00\n",
      "Status       : Passed\n",
      "\n"
     ]
    }
   ],
   "source": [
    "class Student:\n",
    "    # Constructor to initialize attributes\n",
    "    def __init__(self):\n",
    "        self.name = \"\"\n",
    "        self.roll_number = 0\n",
    "        self.marks = 0.0\n",
    "    \n",
    "    # Method to set student details\n",
    "    def set_details(self):\n",
    "        self.name = input(\"Enter the student's name: \")\n",
    "        self.roll_number = int(input(\"Enter the roll number: \"))\n",
    "        self.marks = float(input(\"Enter the marks: \"))\n",
    "    \n",
    "    # Method to display student details\n",
    "    def display_details(self):\n",
    "        print(f\"\\nStudent Details:\")\n",
    "        print(f\"Name         : {self.name}\")\n",
    "        print(f\"Roll Number  : {self.roll_number}\")\n",
    "        print(f\"Marks        : {self.marks:.2f}\")\n",
    "    \n",
    "    # Method to check if the student has passed\n",
    "    def is_passed(self):\n",
    "        return self.marks >= 40\n",
    "\n",
    "# Create multiple student objects and check their status\n",
    "if __name__ == \"__main__\":\n",
    "    num_students = int(input(\"Enter the number of students: \"))\n",
    "    students = []\n",
    "\n",
    "    for i in range(num_students):\n",
    "        print(f\"\\nEntering details for Student {i+1}:\")\n",
    "        student = Student()\n",
    "        student.set_details()\n",
    "        students.append(student)\n",
    "\n",
    "    print(\"\\nSummary of Students:\")\n",
    "    for student in students:\n",
    "        student.display_details()\n",
    "        if student.is_passed():\n",
    "            print(f\"Status       : Passed\\n\")\n",
    "        else:\n",
    "            print(f\"Status       : Failed\\n\")\n"
   ]
  },
  {
   "cell_type": "raw",
   "id": "52aa087b-9ef5-4fa8-8b6f-2e6b58225082",
   "metadata": {},
   "source": [
    "Key Features Demonstrated:\n",
    "Class Definition: A class is used to define the blueprint of an object.\n",
    "Constructor (__init__): Initializes instance attributes.\n",
    "Public, Protected, and Private Attributes:\n",
    "Public: Accessible everywhere.\n",
    "Protected: Accessible within the class and its subclasses (by convention, prefixed with _).\n",
    "Private: Accessible only within the class (by prefixing with __).\n",
    "Inheritance: Dog inherits from Animal and overrides its describe method.\n",
    "Encapsulation: Demonstrated using the Counter class with private attributes and methods.\n",
    "Polymorphism: Different classes (Animal and Dog) have the same method (describe), showcasing polymorphic behavior.\n",
    "Methods: Instance methods (describe, set_age, get_age), overridden methods (describe in Dog), and additional methods (bark)."
   ]
  },
  {
   "cell_type": "code",
   "execution_count": 32,
   "id": "7a3bb9f6-bf44-48a5-b99f-25e98d398c3c",
   "metadata": {},
   "outputs": [],
   "source": [
    "class MyMat:\n",
    "    '''performs basic math operations'''\n",
    "    def __init__(self,a,b):\n",
    "        self.a=a\n",
    "        self.b=b\n",
    "    def _add(self):\n",
    "        '''Take two number and add them'''\n",
    "        return self.a+self.b\n",
    "    def _sub(self):\n",
    "        '''Take two number and subtract 2nd number from 1st number'''\n",
    "        return self.a-self.b\n",
    "    def _mul(self):\n",
    "        '''Take two number and multiple them'''\n",
    "        return self.a*self.b\n",
    "    def _div(self):\n",
    "        '''Take two number and divide the 1st number with 2nd number and returns the output in decimals'''\n",
    "        return self.a/self.b\n",
    "    def _fdiv(self):\n",
    "        '''Take two number and divide the 1st number with 2nd number,returns output in integers'''\n",
    "        return self.a//self.b\n",
    "    def _rem(self):\n",
    "        '''Take two number and divide the 1st number with 2nd number and returns the reminder'''\n",
    "        return self.a%self.b\n",
    "        \n",
    "        \n",
    "        "
   ]
  },
  {
   "cell_type": "code",
   "execution_count": 33,
   "id": "b45c891b-2b4a-425b-a8f0-0cac4910debd",
   "metadata": {},
   "outputs": [
    {
     "name": "stdout",
     "output_type": "stream",
     "text": [
      "8\n",
      "12\n",
      "20\n",
      "5.0\n",
      "5\n",
      "0\n"
     ]
    }
   ],
   "source": [
    "a=MyMat(10,2)\n",
    "print(a._sub())\n",
    "print(a._add())\n",
    "print(a._mul())\n",
    "print(a._div())\n",
    "print(a._fdiv())\n",
    "print(a._rem())\n"
   ]
  },
  {
   "cell_type": "markdown",
   "id": "d0e18c2a-7901-4a0c-b1e2-bacdc2c8a813",
   "metadata": {},
   "source": [
    "# decoretor fuction"
   ]
  },
  {
   "cell_type": "markdown",
   "id": "1afd6a56-d00b-489a-a862-569eab30fc4d",
   "metadata": {},
   "source": [
    "A decorator in Python is a function that modifies the behavior of another function or method. Decorators are widely used to add functionality to existing code in a clean and reusable way.\n",
    "\n",
    "How Decorators Work:\n",
    "A decorator is a function that takes another function as input.\n",
    "It wraps the input function with additional functionality and returns the modified function."
   ]
  },
  {
   "cell_type": "code",
   "execution_count": 1,
   "id": "31196265-90fb-4930-afb2-6cd988855637",
   "metadata": {},
   "outputs": [
    {
     "name": "stdout",
     "output_type": "stream",
     "text": [
      "Before calling the function\n",
      "Hello, World!\n",
      "After calling the function\n"
     ]
    }
   ],
   "source": [
    "# Decorator function\n",
    "def my_decorator(func):\n",
    "    def wrapper():\n",
    "        print(\"Before calling the function\")\n",
    "        func()  # Call the original function\n",
    "        print(\"After calling the function\")\n",
    "    return wrapper\n",
    "\n",
    "# Function to decorate\n",
    "@my_decorator\n",
    "def say_hello():\n",
    "    print(\"Hello, World!\")\n",
    "\n",
    "# Call the decorated function\n",
    "say_hello()\n"
   ]
  },
  {
   "cell_type": "raw",
   "id": "e0dce001-cae1-4ecf-b4ee-f618c0c994ec",
   "metadata": {},
   "source": [
    "Explanation:\n",
    "my_decorator(func):\n",
    "This is the decorator function. It takes func (the function to be decorated) as its argument.\n",
    "It defines a wrapper function that adds behavior before and after calling func.\n",
    "@my_decorator:\n",
    "This is syntactic sugar in Python. It's equivalent to say_hello = my_decorator(say_hello).\n",
    "Output: When say_hello() is called, it executes the wrapper function instead of the original say_hello()."
   ]
  },
  {
   "cell_type": "markdown",
   "id": "89279ae1-438f-4dd2-ae26-89575b8c1a35",
   "metadata": {},
   "source": [
    "# multi decorator"
   ]
  },
  {
   "cell_type": "code",
   "execution_count": 2,
   "id": "ce383b89-e8ac-4821-84f5-6803f383a3e5",
   "metadata": {},
   "outputs": [
    {
     "name": "stdout",
     "output_type": "stream",
     "text": [
      "HELLO!!!\n"
     ]
    }
   ],
   "source": [
    "# Define first decorator\n",
    "def uppercase_decorator(func):\n",
    "    def wrapper():\n",
    "        result = func()\n",
    "        return result.upper()\n",
    "    return wrapper\n",
    "\n",
    "# Define second decorator\n",
    "def exclamation_decorator(func):\n",
    "    def wrapper():\n",
    "        result = func()\n",
    "        return result + \"!!!\"\n",
    "    return wrapper\n",
    "\n",
    "# Apply multiple decorators\n",
    "@uppercase_decorator\n",
    "@exclamation_decorator\n",
    "def greet():\n",
    "    return \"hello\"\n",
    "\n",
    "# Call the function\n",
    "print(greet())\n"
   ]
  },
  {
   "cell_type": "markdown",
   "id": "e574c869-af29-44cc-a468-21bca0a20b5b",
   "metadata": {},
   "source": [
    "# class method"
   ]
  },
  {
   "cell_type": "code",
   "execution_count": 6,
   "id": "92f6b805-8b44-42fe-a60c-77052a9e6071",
   "metadata": {},
   "outputs": [
    {
     "name": "stdout",
     "output_type": "stream",
     "text": [
      "Original pi: 3.14\n",
      "Area of c1: 78.5\n",
      "Area of c2: 314.0\n",
      "\n",
      "Updated pi: 3.14159\n",
      "Area of c1: 78.53975\n",
      "Area of c2: 314.159\n"
     ]
    }
   ],
   "source": [
    "#temperary change the attribute variable that are predefined variables in the class  \n",
    "class Circle:\n",
    "    pi = 3.14  # Class-level attribute\n",
    "\n",
    "    def __init__(self, radius):\n",
    "        self.radius = radius\n",
    "\n",
    "    @classmethod\n",
    "    def change_pi(cls, new_value):\n",
    "        cls.pi = new_value  # Modify the class-level attribute\n",
    "\n",
    "    def area(self):\n",
    "        return self.pi * self.radius ** 2\n",
    "\n",
    "# Usage\n",
    "c1 = Circle(5)\n",
    "c2 = Circle(10)\n",
    "\n",
    "print(f\"Original pi: {Circle.pi}\")  # Output: Original pi: 3.14\n",
    "print(f\"Area of c1: {c1.area()}\") \n",
    "print(f\"Area of c2: {c2.area()}\") \n",
    "# Changing pi using class method\n",
    "Circle.change_pi(3.14159)\n",
    "print()\n",
    "print(f\"Updated pi: {Circle.pi}\")  # Output: Updated pi: 3.14159\n",
    "print(f\"Area of c1: {c1.area()}\")  # Uses updated pi\n",
    "print(f\"Area of c2: {c2.area()}\") "
   ]
  },
  {
   "cell_type": "markdown",
   "id": "f492c11c-a78e-4acd-9248-16d860580432",
   "metadata": {},
   "source": [
    "# static method"
   ]
  },
  {
   "cell_type": "code",
   "execution_count": 7,
   "id": "0688410e-a3ee-47e3-bc17-4ecfb77de51f",
   "metadata": {},
   "outputs": [
    {
     "name": "stdout",
     "output_type": "stream",
     "text": [
      "I don't access instance or class data\n",
      "I can access: Class-level data\n"
     ]
    }
   ],
   "source": [
    "class Demo:\n",
    "    class_var = \"Class-level data\"\n",
    "\n",
    "    @staticmethod\n",
    "    def static_method():\n",
    "        return \"I don't access instance or class data\"\n",
    "\n",
    "    @classmethod\n",
    "    def class_method(cls):\n",
    "        return f\"I can access: {cls.class_var}\"\n",
    "\n",
    "# Usage\n",
    "print(Demo.static_method())  # Output: I don't access instance or class data\n",
    "print(Demo.class_method())   # Output: I can access: Class-level data\n"
   ]
  },
  {
   "cell_type": "markdown",
   "id": "8e73788a-56ce-4d7e-895c-9616929d8074",
   "metadata": {},
   "source": [
    "<img src=\"\\Screenshot 2024-12-11 102059.png\" alt=\"Alternative text\" />"
   ]
  },
  {
   "cell_type": "markdown",
   "id": "cb6605dd-9a82-4b68-91c6-c07015a56366",
   "metadata": {},
   "source": [
    "# encapsulation"
   ]
  },
  {
   "cell_type": "markdown",
   "id": "4b662679-c458-424b-be4d-3e969cff3876",
   "metadata": {},
   "source": [
    "Encapsulation is an object-oriented programming concept that bundles data (attributes) and methods (functions) into a single unit (class). It restricts access to certain components of an object and protects the integrity of the data by controlling how it is accessed or modified.\n",
    "\n",
    "Key Features of Encapsulation:\n",
    "Bundling Data and Methods: Encapsulation ensures that the data and the operations that modify the data are contained within the same class.\n",
    "\n",
    "Access Modifiers: Python uses prefixes to indicate the level of access:\n",
    "\n",
    "Public: Accessible from anywhere (default behavior).\n",
    "\n",
    "```Protected: Indicated by a single underscore _```. Meant to be accessed only within the class and its subclasses.\n",
    "\n",
    "```Private: Indicated by a double underscore __```. Accessible only within the class.\n",
    "\n",
    "Getter and Setter Methods: These methods provide controlled access to private attributes."
   ]
  },
  {
   "cell_type": "code",
   "execution_count": 1,
   "id": "9b84ddd0-b39c-435b-95e5-00b1f0a9ac09",
   "metadata": {},
   "outputs": [
    {
     "name": "stdin",
     "output_type": "stream",
     "text": [
      "Enter you name :  dtr\n",
      "Enter your age :  25\n"
     ]
    },
    {
     "name": "stdout",
     "output_type": "stream",
     "text": [
      "name          : dtr\n",
      "age           : 25\n",
      "account_no    : 100000001\n"
     ]
    },
    {
     "name": "stdin",
     "output_type": "stream",
     "text": [
      "Enter amount you want to add to your bank account :  600\n",
      "Enter amount you want withdraw from your bank account :  500\n",
      "enter the pin :  1234\n"
     ]
    },
    {
     "name": "stdout",
     "output_type": "stream",
     "text": [
      "your remaining balance will be 100\n"
     ]
    }
   ],
   "source": [
    "class Bank:\n",
    "    pin=1234\n",
    "    \n",
    "    def __init__(self):\n",
    "        self.name=''\n",
    "        self.age=''\n",
    "        self.account_no=100000000\n",
    "        self.__balance=0\n",
    "        self.__pin=1234\n",
    "        self._withdraw=0\n",
    "        self.__rem_balance=0\n",
    "        self.add_ammount=0\n",
    "        self.ent_pin=0\n",
    "    def set_details(self):\n",
    "        self.name=input('Enter you name : ')\n",
    "        self.age=int(input('Enter your age : '))\n",
    "        self.account_no+=1\n",
    "    def get_details(self):\n",
    "        print(f'name          : {self.name}')\n",
    "        print(f'age           : {self.age}')\n",
    "        print(f'account_no    : {self.account_no}')\n",
    "        \n",
    "    def get__balance(self):\n",
    "        self.__balance=int(input('Enter amount you want to add to your bank account : '))\n",
    "    def nadd_balance(self):\n",
    "        ammount=int(input('Enter amount you want to add to your bank account : '))\n",
    "        self.__balance+=amount\n",
    "    def check_bal(self):\n",
    "        return self.__balance\n",
    "    def set_pin(self):\n",
    "        self.__pin=(input('Enter a pin lock your bank account,it should be 4 digit number : '))\n",
    "    def r_pin(self):\n",
    "        return self.set_pin\n",
    "    def get_withdraw(self):\n",
    "        self._withdraw=int(input('Enter amount you want withdraw from your bank account : '))\n",
    "    def withdraw(self):\n",
    "        return self._withdraw\n",
    "    def rem_bal(self):\n",
    "        return self.__balance-self._withdraw\n",
    "    \n",
    "if __name__=='__main__':\n",
    "    bank=Bank()\n",
    "    bank.set_details()\n",
    "    bank.get_details()\n",
    "    bank.get__balance()\n",
    "    #bank.set_pin()\n",
    "    a=1\n",
    "    b=1\n",
    "    while a==b:\n",
    "        if bank.check_bal()<500:\n",
    "            print('min balance must be more then 500')\n",
    "            bank.nadd_balance()\n",
    "        elif bank.check_bal()>=500:\n",
    "            \n",
    "            bank.get_withdraw()\n",
    "            if bank.withdraw()>bank.check_bal():\n",
    "                print('insufficient balance')\n",
    "                bank.get_withdraw()\n",
    "            else:\n",
    "                acc_pin=int(input('enter the pin : '))\n",
    "                if bank.pin==acc_pin:\n",
    "                    print(f'your remaining balance will be {bank.rem_bal()}')\n",
    "                    break\n",
    "                else:\n",
    "                    bank.entr_pin()\n",
    "                    if bank.pin==acc_pin:\n",
    "                        print(f'your remaining balance will be {bank.rem_bal()}')\n",
    "                        break\n",
    "                    else:\n",
    "                        bank.entr_pin()\n",
    "                        if bank.pin==acc_pin:\n",
    "                            print(f'your remaining balance will be {bank.rem_bal()}')\n",
    "                            break\n",
    "                        else:\n",
    "                            print('visit the bank')\n",
    "        else:\n",
    "              break\n",
    "\n",
    "        \n",
    "        "
   ]
  },
  {
   "cell_type": "code",
   "execution_count": 2,
   "id": "818307e3-e30b-4f7b-a18e-867d89961190",
   "metadata": {},
   "outputs": [
    {
     "data": {
      "text/plain": [
       "True"
      ]
     },
     "execution_count": 2,
     "metadata": {},
     "output_type": "execute_result"
    }
   ],
   "source": [
    "def sdfs():\n",
    "    return 1111==1111\n",
    "sdfs()\n"
   ]
  },
  {
   "cell_type": "code",
   "execution_count": null,
   "id": "94c90e34-1cdf-49c1-ac4e-f9fe61f2d824",
   "metadata": {},
   "outputs": [],
   "source": [
    "class WrongPasswordError(Exception):\n",
    "\n",
    "    '''\n",
    "\n",
    "    Custom written exception will be raised when the this error is raised.\n",
    "\n",
    "    We have to define a class for raising this exception which may or may not contain relevant code.\n",
    "\n",
    "    This class will be called in the exception we raise in our actual code. If we write some custom exception handling\n",
    "\n",
    "    in this user defined error class, we can simply print that error message like we do normally when we call the default\n",
    "\n",
    "    Exception class to handle errors.\n",
    "\n",
    " \n",
    "\n",
    "    Or we can simply write \"pass\" to create this class and write whatever exception handling message we want to be printed\n",
    "\n",
    "    in the actual implementation of this exception.\n",
    "\n",
    " \n",
    "\n",
    "    For now, we will write a pass statement in this class.\n",
    "\n",
    "    '''\n",
    "\n",
    "    \n",
    "\n",
    "    pass"
   ]
  },
  {
   "cell_type": "code",
   "execution_count": null,
   "id": "9f6a1ac2-3b2c-4e10-9411-7b71c3eaa7b6",
   "metadata": {},
   "outputs": [],
   "source": [
    "class BankAccount:\n",
    "\n",
    " \n",
    "\n",
    "    bank_name = 'HDFC Bank'\n",
    "\n",
    "    acc_pin_num = '1234'\n",
    "\n",
    "    pass_chances = 3\n",
    "\n",
    "    \n",
    "\n",
    "    def __init__(self, account_number, initial_deposit):\n",
    "\n",
    "        self._account_number = account_number\n",
    "\n",
    "        self.initial_deposit = initial_deposit\n",
    "\n",
    "        self.__balance = self.initial_deposit\n",
    "\n",
    "        self._min_bal = 5000\n",
    "\n",
    "    \n",
    "\n",
    "    def deposit(self, amount):\n",
    "\n",
    "        \n",
    "\n",
    "        if amount > 0:\n",
    "\n",
    "            self.__balance += amount\n",
    "\n",
    "            print(f\"Deposited {amount} in account number {self._account_number}.\") \n",
    "\n",
    "            # print(f\"New balance is {self.__balance}.\\nRegards - {self.bank_name}\\n\")\n",
    "\n",
    "        \n",
    "\n",
    "        else:\n",
    "\n",
    "            print(\"Invalid deposit amount.\")\n",
    "            def withdraw(self, amount):\n",
    "\n",
    "        \n",
    "\n",
    "        if 0 < amount <= self.__balance:\n",
    "\n",
    "            self.__balance -= amount\n",
    "\n",
    "            print(f\"Withdrew {amount} from account number {self._account_number}.\") \n",
    "\n",
    "            # print(f\"Remaining balance is {self.__balance}.\\nRegards - {self.bank_name}\\n\")\n",
    "\n",
    "       \n",
    "\n",
    "        else:\n",
    "\n",
    "            print(\"Invalid withdrawal amount or insufficient balance.\")\n",
    "    def withdraw(self, amount):\n",
    "\n",
    "        \n",
    "\n",
    "        if 0 < amount <= self.__balance:\n",
    "\n",
    "            self.__balance -= amount\n",
    "\n",
    "            print(f\"Withdrew {amount} from account number {self._account_number}.\") \n",
    "\n",
    "            # print(f\"Remaining balance is {self.__balance}.\\nRegards - {self.bank_name}\\n\")\n",
    "\n",
    "       \n",
    "\n",
    "        else:\n",
    "\n",
    "            print(\"Invalid withdrawal amount or insufficient balance.\")\n",
    "    def _retrieve_balance(self, acc_pass = str):\n",
    "\n",
    "        \n",
    "\n",
    "        acc_pass = input('Enter your pin :')\n",
    "\n",
    " \n",
    "\n",
    "        try:\n",
    "\n",
    "            if str(acc_pass) == self.acc_pin_num:\n",
    "\n",
    "                print(f\"Your current balance is : {self.__balance}\")\n",
    "\n",
    "                \n",
    "\n",
    "                if self.__balance < self._min_bal:\n",
    "\n",
    "                    print(f'Your {self.bank_name} account with A/C number {self.account_number} is having low funds.', end = ' ')\n",
    "\n",
    "                    print(f\"Please maintain the minimum required balance of {self._min_bal} in your account.\")\n",
    "\n",
    "                    print(f'\\nWarm regards - {self.bank_name}')\n",
    "\n",
    "    \n",
    "\n",
    "            else:\n",
    "\n",
    "                self.pass_chances -= 1\n",
    "\n",
    "                print(f'You have entered a wrong pin number. You have only {self.pass_chances} chances remaining.\\n')\n",
    "\n",
    "                \n",
    "\n",
    "                raise WrongPasswordError\n",
    "            except WrongPasswordError:\n",
    "\n",
    "            print('Enter your correct pin again. This is your second attempt.')\n",
    "\n",
    " \n",
    "\n",
    "            try:\n",
    "\n",
    "                acc_pass = input('Enter your pin :')\n",
    "\n",
    "                \n",
    "\n",
    "                if str(acc_pass) == self.acc_pin_num:\n",
    "\n",
    "                    print(f\"Your current balance is : {self.__balance}\")\n",
    "\n",
    " \n",
    "\n",
    "                    if self.__balance < self._min_bal:\n",
    "\n",
    "                        print(f'Your {self.bank_name} account with A/C number {self.account_number} is having low funds.', \n",
    "\n",
    "                              end = ' ')\n",
    "\n",
    "                        print(f\"Please maintain the minimum required balance of {self._min_bal} in your account.\")\n",
    "\n",
    "                        print(f'\\nWarm regards - {self.bank_name}')\n",
    "\n",
    "        \n",
    "\n",
    "                else:\n",
    "\n",
    "                    self.pass_chances -= 1\n",
    "\n",
    "                    print(f'You have entered wrong pin number. You have only {self.pass_chances} chances remaining.')\n",
    "\n",
    "                    \n",
    "\n",
    "                    raise WrongPasswordError\n",
    "                except WrongPasswordError:\n",
    "\n",
    "                    print('You have exceeded all your attempts to enter correct pin')\n",
    "\n",
    "                    print(f\"Please contact your nearest {self.bank_name} branch for further assistance.\\nThank you.\")"
   ]
  },
  {
   "cell_type": "markdown",
   "id": "cc212617-2538-4ab9-b2ab-6886cd0d5aca",
   "metadata": {},
   "source": [
    "# inheritence"
   ]
  },
  {
   "cell_type": "markdown",
   "id": "55f6bc34-5c70-4a0e-84c1-5cffa40e1a7d",
   "metadata": {},
   "source": [
    "Inheritance is another pillar in OOPS that allows a class to derive or inherit attributes and methods from another class. This helps in reusing the code and logically structuring the code in a better format.\n",
    "\n",
    "In simpler terms, Inheritance is the process of acquiring various properties, attributes, methods and behaviours of one class into another class.\n",
    "\n",
    "We require two types of classes to apply the inheritence concept in OOPS as follows -\n",
    "\n",
    "1. Base Class :\n",
    "Also called as Parent Class. It is the class which gives the behaviours or properties to another class.\n",
    "2. Sub Class :\n",
    "Also known as Child Class or Derived Class. It is the class that gets the behaviours or properties from another class."
   ]
  },
  {
   "cell_type": "markdown",
   "id": "3fed7cab-44d1-40c4-9572-14500ad4bff6",
   "metadata": {},
   "source": [
    "Types of Inheritance :\n",
    "1. Single Inheritance\n",
    "B <=== A\n",
    "2. Multiple Inheritance\n",
    "C <=== both from A and B\n",
    "3. Multi level Inheritance\n",
    "C <=== from B <=== from A\n",
    "4. Hierarchial Inheritance\n",
    "C <=== both A and B\n",
    "E <=== both from D and C (which already inherited from A and B)\n",
    "5. Hybrid Inheritance\n",
    "Mix of above types¶"
   ]
  },
  {
   "cell_type": "markdown",
   "id": "9201015d-ae29-4a02-aee2-ac61bdbb506c",
   "metadata": {},
   "source": [
    "Why Use Inheritance?\n",
    "\n",
    "Code Reusability : Avoid rewriting the same code for similar objects.\n",
    "Extensibility : Add new features to existing classes without modifying them.\n",
    "Organized Code : Logical grouping of related classes.¶"
   ]
  },
  {
   "cell_type": "code",
   "execution_count": 3,
   "id": "f63f306f-a880-466d-9c5a-facaed3a0258",
   "metadata": {},
   "outputs": [],
   "source": [
    "class Parent:\n",
    "\n",
    "    pass\n",
    "\n",
    "class child(Parent):\n",
    "\n",
    "    pass"
   ]
  },
  {
   "cell_type": "markdown",
   "id": "8069079f-b0a0-442c-8d0b-d70520b32ab7",
   "metadata": {},
   "source": [
    "## 1. `Single Inheritance` :\n",
    "\n",
    "- #### In single inheritance, a child class inherits from a `single parent class`.\n",
    "\n",
    "- #### We need to `pass the Parent Class` as an argument to the `Child Class` so that it can `inherit the properties` of the Parent Class.\n",
    "\n",
    "- #### Child class can access parent class methods but Parent class cannot access child class methods in the inheritence.\n",
    "\n",
    "- #### When `method overwriting` is triggered, the child class will overwrite the parent class specifically because the parent class is inherited and run first and then the child class is run in the same order. Therefore, the latest run is the child class, which will overwrite the parent class method with the child class method."
   ]
  },
  {
   "cell_type": "code",
   "execution_count": 16,
   "id": "2d8b330c-2b85-4dda-b508-9c477c4dbc86",
   "metadata": {},
   "outputs": [],
   "source": [
    "class A:\n",
    "    def __init__(self,a):\n",
    "        self.a=a\n",
    "        print(self.a)\n",
    "        print('This is parent Class')\n",
    "        \n",
    "    def method_1(self):\n",
    "        print('Parent class method_1')\n",
    "    def method_2(self):\n",
    "        print('Parent class method_2')\n",
    "class B(A):\n",
    "    def __init__(self):\n",
    "        self.b=input('Enter a value : ')\n",
    "        super().__init__(self.b)\n",
    "        print(self.b)\n",
    "        print('This is child Class')\n",
    "    def method_3(self):\n",
    "        print('child class method_3')\n",
    "    def method_4(self):\n",
    "        print('child class method_4')\n",
    "    "
   ]
  },
  {
   "cell_type": "code",
   "execution_count": 17,
   "id": "c3a44075-6235-49b1-a0d5-85f78ca674b7",
   "metadata": {},
   "outputs": [
    {
     "name": "stdin",
     "output_type": "stream",
     "text": [
      "Enter a value :  1\n"
     ]
    },
    {
     "name": "stdout",
     "output_type": "stream",
     "text": [
      "1\n",
      "This is parent Class\n",
      "1\n",
      "This is child Class\n"
     ]
    }
   ],
   "source": [
    "nana=B()"
   ]
  },
  {
   "cell_type": "markdown",
   "id": "6445b01f-bc6e-402d-8dcd-bfc7aedb892b",
   "metadata": {},
   "source": [
    "~~~\n",
    "Key Points to Remember:\n",
    "\n",
    "Overriding Methods:\n",
    "Child classes can redefine methods from the parent class.\n",
    "\n",
    "super():\n",
    "Use super() to call parent class methods and constructors.\n",
    "\n",
    "Multiple Inheritance:\n",
    "Be cautious of ambiguity when multiple parent classes have methods with the same name. Python resolves this using the Method Resolution Order (MRO). You can view MRO with ClassName.mro().\n"
   ]
  },
  {
   "cell_type": "code",
   "execution_count": 28,
   "id": "9ddd8010-399c-4121-a270-a68b5eba0046",
   "metadata": {},
   "outputs": [],
   "source": [
    "#with super()\n",
    "class One:\n",
    "    def __init__(self,a,b):\n",
    "        self.a=a\n",
    "        self.b=b\n",
    "        print(f'first {self.a,self.b}')\n",
    "class Two(One):\n",
    "    def __init__(self):\n",
    "        self.c=input('yo :')\n",
    "        self.d=input('yo :')\n",
    "        super().__init__(self.c,self.d)\n",
    "        print(f'second {self.c,self.d}')"
   ]
  },
  {
   "cell_type": "code",
   "execution_count": 21,
   "id": "f2456ad4-2ed2-4e7e-8156-2cb68818a8bc",
   "metadata": {},
   "outputs": [
    {
     "name": "stdin",
     "output_type": "stream",
     "text": [
      "yo : 1\n",
      "yo : 2\n"
     ]
    },
    {
     "name": "stdout",
     "output_type": "stream",
     "text": [
      "first ('1', '2')\n",
      "second ('1', '2')\n"
     ]
    }
   ],
   "source": [
    "nas=Two()"
   ]
  },
  {
   "cell_type": "code",
   "execution_count": 29,
   "id": "1b602c31-d2b3-4ba6-9771-0ddaa63cb92a",
   "metadata": {},
   "outputs": [],
   "source": [
    "#without super()\n",
    "class One:\n",
    "    def __init__(self,a,b):\n",
    "        self.a=a\n",
    "        self.b=b\n",
    "        print(f'first {self.a,self.b}')\n",
    "class Two(One):\n",
    "    def __init__(self):\n",
    "        self.c=input('yo :')\n",
    "        self.d=input('yo :')\n",
    "        One(self.c,self.d)\n",
    "        print(f'second {self.c,self.d}')"
   ]
  },
  {
   "cell_type": "code",
   "execution_count": 27,
   "id": "33a70bc5-e28f-43f3-a2d0-25ed186d19f8",
   "metadata": {},
   "outputs": [
    {
     "name": "stdin",
     "output_type": "stream",
     "text": [
      "yo : 1\n",
      "yo : 2\n"
     ]
    },
    {
     "name": "stdout",
     "output_type": "stream",
     "text": [
      "first ('1', '2')\n",
      "second ('1', '2')\n"
     ]
    }
   ],
   "source": [
    "nad=Two()"
   ]
  },
  {
   "cell_type": "code",
   "execution_count": 30,
   "id": "effacae9-cbe6-4e5b-847b-f05c6189fee0",
   "metadata": {},
   "outputs": [
    {
     "name": "stdout",
     "output_type": "stream",
     "text": [
      "Book \"To Kill a Mockingbird\" added to the library.\n",
      "Book \"1984\" added to the library.\n",
      "Books in Central Library:\n",
      " - To Kill a Mockingbird\n",
      " - 1984\n",
      "\n",
      "----------------------------------------\n",
      "\n",
      "Book \"The Great Gatsby\" added to the library.\n",
      "Ebook \"Digital Marketing 101\" added to the digital library.\n",
      "Books in Digital Library:\n",
      " - The Great Gatsby\n",
      "Ebooks in Digital Library:\n",
      " - Digital Marketing 101\n"
     ]
    }
   ],
   "source": [
    "# Parent class\n",
    "class Library:\n",
    "    def __init__(self, name):\n",
    "        self.name = name\n",
    "        self.books = []\n",
    "\n",
    "    def add_book(self, book):\n",
    "        self.books.append(book)\n",
    "        print(f'Book \"{book}\" added to the library.')\n",
    "\n",
    "    def display_books(self):\n",
    "        if self.books:\n",
    "            print(f\"Books in {self.name}:\")\n",
    "            for book in self.books:\n",
    "                print(f\" - {book}\")\n",
    "        else:\n",
    "            print(f\"No books are currently available in {self.name}.\")\n",
    "\n",
    "# Child class for a specialized library\n",
    "class DigitalLibrary(Library):\n",
    "    def __init__(self, name):\n",
    "        super().__init__(name)\n",
    "        self.ebooks = []  # Separate list for digital books\n",
    "\n",
    "    def add_ebook(self, ebook):\n",
    "        self.ebooks.append(ebook)\n",
    "        print(f'Ebook \"{ebook}\" added to the digital library.')\n",
    "\n",
    "    def display_books(self):\n",
    "        super().display_books()  # Display physical books using parent method\n",
    "        if self.ebooks:\n",
    "            print(f\"Ebooks in {self.name}:\")\n",
    "            for ebook in self.ebooks:\n",
    "                print(f\" - {ebook}\")\n",
    "        else:\n",
    "            print(f\"No ebooks are currently available in {self.name}.\")\n",
    "\n",
    "# Instantiate the parent class\n",
    "central_library = Library(\"Central Library\")\n",
    "central_library.add_book(\"To Kill a Mockingbird\")\n",
    "central_library.add_book(\"1984\")\n",
    "central_library.display_books()\n",
    "\n",
    "print(\"\\n\" + \"-\"*40 + \"\\n\")\n",
    "\n",
    "# Instantiate the child class\n",
    "digital_library = DigitalLibrary(\"Digital Library\")\n",
    "digital_library.add_book(\"The Great Gatsby\")\n",
    "digital_library.add_ebook(\"Digital Marketing 101\")\n",
    "digital_library.display_books()\n"
   ]
  },
  {
   "cell_type": "markdown",
   "id": "d4d606af-9fa8-4a9f-bd88-16b65922d6eb",
   "metadata": {},
   "source": [
    "# Abstraction"
   ]
  },
  {
   "cell_type": "markdown",
   "id": "12406f94-8d90-4496-861c-7d0a37556b08",
   "metadata": {},
   "source": [
    "Abstraction is an object-oriented programming (OOP) concept that hides the internal implementation details of an object and only exposes the necessary features or functionalities to the user. It simplifies complex systems by breaking them into smaller parts and focusing on essential aspects.\n",
    "\n",
    "In Python, abstraction is achieved using abstract classes and interfaces through the abc module (Abstract Base Classes)."
   ]
  },
  {
   "cell_type": "markdown",
   "id": "e06a168f-661f-4bf1-9e14-a09793a4ee11",
   "metadata": {},
   "source": [
    "```Key Points```:\n",
    "\n",
    "```Abstract Class```:\n",
    "\n",
    "A class that contains one or more abstract methods (methods without an implementation).\n",
    "\n",
    "Cannot be instantiated directly; it serves as a blueprint for other classes.\n",
    "Can include concrete methods (fully implemented methods) alongside abstract ones.\n",
    "\n",
    "```Abstract Method```:\n",
    "\n",
    "Declared in an abstract class using the ```@abstractmethod``` decorator.\n",
    "\n",
    "```Must be implemented in the subclass```."
   ]
  },
  {
   "cell_type": "code",
   "execution_count": 31,
   "id": "8b5ed060-df21-49cf-af7d-5e50ade1ed61",
   "metadata": {},
   "outputs": [
    {
     "name": "stdout",
     "output_type": "stream",
     "text": [
      "Rectangle Area: 20\n",
      "Rectangle Perimeter: 18\n",
      "Circle Area: 28.26\n",
      "Circle Perimeter: 18.84\n"
     ]
    }
   ],
   "source": [
    "from abc import ABC, abstractmethod\n",
    "\n",
    "# Abstract class\n",
    "class Shape(ABC):\n",
    "    @abstractmethod\n",
    "    def area(self):\n",
    "        pass  # Abstract method with no implementation\n",
    "\n",
    "    @abstractmethod\n",
    "    def perimeter(self):\n",
    "        pass  # Abstract method with no implementation\n",
    "\n",
    "# Subclass implementing abstract methods\n",
    "class Rectangle(Shape):\n",
    "    def __init__(self, width, height):\n",
    "        self.width = width\n",
    "        self.height = height\n",
    "\n",
    "    def area(self):\n",
    "        return self.width * self.height\n",
    "\n",
    "    def perimeter(self):\n",
    "        return 2 * (self.width + self.height)\n",
    "\n",
    "# Subclass implementing abstract methods\n",
    "class Circle(Shape):\n",
    "    def __init__(self, radius):\n",
    "        self.radius = radius\n",
    "\n",
    "    def area(self):\n",
    "        return 3.14 * self.radius**2\n",
    "\n",
    "    def perimeter(self):\n",
    "        return 2 * 3.14 * self.radius\n",
    "\n",
    "# Instantiate objects of the subclasses\n",
    "rect = Rectangle(4, 5)\n",
    "circle = Circle(3)\n",
    "\n",
    "print(\"Rectangle Area:\", rect.area())        # Output: Rectangle Area: 20\n",
    "print(\"Rectangle Perimeter:\", rect.perimeter())  # Output: Rectangle Perimeter: 18\n",
    "\n",
    "print(\"Circle Area:\", circle.area())         # Output: Circle Area: 28.26\n",
    "print(\"Circle Perimeter:\", circle.perimeter())   # Output: Circle Perimeter: 18.84\n"
   ]
  },
  {
   "cell_type": "code",
   "execution_count": 32,
   "id": "d8d4c5ec-d8fa-4f04-9b2a-c2b4ace8b604",
   "metadata": {},
   "outputs": [
    {
     "name": "stdout",
     "output_type": "stream",
     "text": [
      "Processing credit card payment of $100\n",
      "Processing PayPal payment of $150\n"
     ]
    }
   ],
   "source": [
    "from abc import ABC, abstractmethod\n",
    "\n",
    "class Payment(ABC):\n",
    "    @abstractmethod\n",
    "    def process_payment(self, amount):\n",
    "        pass\n",
    "\n",
    "class CreditCardPayment(Payment):\n",
    "    def process_payment(self, amount):\n",
    "        print(f\"Processing credit card payment of ${amount}\")\n",
    "\n",
    "class PayPalPayment(Payment):\n",
    "    def process_payment(self, amount):\n",
    "        print(f\"Processing PayPal payment of ${amount}\")\n",
    "\n",
    "# Usage\n",
    "def make_payment(payment_method, amount):\n",
    "    payment_method.process_payment(amount)\n",
    "\n",
    "credit_card = CreditCardPayment()\n",
    "paypal = PayPalPayment()\n",
    "\n",
    "make_payment(credit_card, 100)  # Output: Processing credit card payment of $100\n",
    "make_payment(paypal, 150)       # Output: Processing PayPal payment of $150\n"
   ]
  },
  {
   "cell_type": "markdown",
   "id": "1c0d6af9-ec36-47ff-a1b9-f450491fe644",
   "metadata": {},
   "source": [
    "## Method Overloading :\n",
    "\n",
    "It occurs when we create multiple functions with same name and same no. of arguments in parent class and child class.\n",
    "Function overloading is not supported in Python.\n",
    "Overriding concept can be acheived by using inheritance."
   ]
  },
  {
   "cell_type": "markdown",
   "id": "8cb5a952-f050-4812-9437-99fbfa3168f6",
   "metadata": {},
   "source": [
    "## Constructor Overloading :\n",
    "\n",
    "If we create multiple constructors with same name or arguments it will override previous constructors. This is called constructor overloading.\n",
    "Constructor overloading is not supported in Python.¶"
   ]
  },
  {
   "cell_type": "code",
   "execution_count": 34,
   "id": "7d9d0888-701b-4202-92bc-959f20f451b5",
   "metadata": {},
   "outputs": [],
   "source": [
    "class Sample:\n",
    "\n",
    "    def __init__(self):\n",
    "\n",
    "        print(\"This is first constructor\")\n",
    "\n",
    "    def __init__(self, a):\n",
    "\n",
    "        self.a = a\n",
    "\n",
    "        print(\"This is second constructor\")\n",
    "\n",
    "    def __init__(self, a, b):\n",
    "\n",
    "        self.a = a\n",
    "\n",
    "        self.b = b\n",
    "\n",
    "        print(\"This is third constructor\")"
   ]
  },
  {
   "cell_type": "code",
   "execution_count": 35,
   "id": "e1d5f3af-d529-48ed-ab02-63692747778c",
   "metadata": {},
   "outputs": [
    {
     "ename": "TypeError",
     "evalue": "Sample.__init__() missing 2 required positional arguments: 'a' and 'b'",
     "output_type": "error",
     "traceback": [
      "\u001b[1;31m---------------------------------------------------------------------------\u001b[0m",
      "\u001b[1;31mTypeError\u001b[0m                                 Traceback (most recent call last)",
      "Cell \u001b[1;32mIn[35], line 1\u001b[0m\n\u001b[1;32m----> 1\u001b[0m ob_1 \u001b[38;5;241m=\u001b[39m Sample()\n\u001b[0;32m      3\u001b[0m ob_1 \u001b[38;5;241m=\u001b[39m Sample(\u001b[38;5;241m10\u001b[39m)\n\u001b[0;32m      5\u001b[0m ob_1 \u001b[38;5;241m=\u001b[39m Sample(\u001b[38;5;241m10\u001b[39m, \u001b[38;5;241m20\u001b[39m)\n",
      "\u001b[1;31mTypeError\u001b[0m: Sample.__init__() missing 2 required positional arguments: 'a' and 'b'"
     ]
    }
   ],
   "source": [
    "ob_1 = Sample()\n",
    "\n",
    "ob_1 = Sample(10)\n",
    "\n",
    "ob_1 = Sample(10, 20)"
   ]
  },
  {
   "cell_type": "code",
   "execution_count": 58,
   "id": "bd179b38-97a9-42b8-9961-1378da46fbea",
   "metadata": {},
   "outputs": [
    {
     "name": "stdout",
     "output_type": "stream",
     "text": [
      "name     :a\n",
      "rollno   :10\n",
      "class    :2\n",
      "height   :6\n"
     ]
    }
   ],
   "source": [
    "class Student:\n",
    "    def __init__(s,name,roll_no):\n",
    "        s.name=name\n",
    "        s.roll_no=roll_no\n",
    "    \n",
    "class Class_room(Student):\n",
    "    def __init__(s,name,roll_no,class_no):\n",
    "        super().__init__(name,roll_no)\n",
    "        s.class_no=class_no\n",
    "class Non(Class_room):\n",
    "    def __init__(s,name,roll_no,class_no,height):\n",
    "        super().__init__(name,roll_no,class_no)\n",
    "        s.height=height\n",
    "    def getdetails(s):\n",
    "        print(f'name     :{s.name}')\n",
    "        print(f'rollno   :{s.roll_no}')\n",
    "        print(f'class    :{s.class_no}')\n",
    "        print(f'height   :{s.height}')\n",
    "a=Non('a',10,2,6)\n",
    "a.getdetails()     "
   ]
  },
  {
   "cell_type": "code",
   "execution_count": 51,
   "id": "30f08f46-8490-450e-a0ac-bee63664523b",
   "metadata": {},
   "outputs": [
    {
     "name": "stdout",
     "output_type": "stream",
     "text": [
      "name     : Nitish\n",
      "rollno   : 12\n",
      "class    : 10\n"
     ]
    }
   ],
   "source": [
    "class Student:\n",
    "    def __init__(s, name, roll_no):\n",
    "        s.name = name\n",
    "        s.roll_no = roll_no\n",
    "\n",
    "class Class_room(Student):\n",
    "    def __init__(s, name, roll_no, class_no):\n",
    "        super().__init__(name, roll_no)\n",
    "        s.class_no = class_no\n",
    "\n",
    "    def getdetails(s):\n",
    "        print(f'name     : {s.name}')\n",
    "        print(f'rollno   : {s.roll_no}')\n",
    "        print(f'class    : {s.class_no}')\n",
    "\n",
    "# Create an instance of Class_room\n",
    "a = Class_room('Nitish', 12, 10)\n",
    "\n",
    "# Call the method on the instance\n",
    "a.getdetails()\n"
   ]
  },
  {
   "cell_type": "code",
   "execution_count": 61,
   "id": "21ef8801-80d2-4f65-ba5a-22c62cf65e89",
   "metadata": {},
   "outputs": [],
   "source": [
    "from abc import ABC"
   ]
  },
  {
   "cell_type": "code",
   "execution_count": null,
   "id": "434050d6-c4d9-40ac-ae8b-714b69a6107c",
   "metadata": {},
   "outputs": [],
   "source": []
  }
 ],
 "metadata": {
  "kernelspec": {
   "display_name": "Python 3 (ipykernel)",
   "language": "python",
   "name": "python3"
  },
  "language_info": {
   "codemirror_mode": {
    "name": "ipython",
    "version": 3
   },
   "file_extension": ".py",
   "mimetype": "text/x-python",
   "name": "python",
   "nbconvert_exporter": "python",
   "pygments_lexer": "ipython3",
   "version": "3.12.7"
  }
 },
 "nbformat": 4,
 "nbformat_minor": 5
}
