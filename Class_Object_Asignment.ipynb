{
 "cells": [
  {
   "cell_type": "code",
   "execution_count": null,
   "metadata": {
    "id": "gXQ_OQjp_ajF"
   },
   "outputs": [],
   "source": []
  },
  {
   "cell_type": "markdown",
   "metadata": {
    "id": "UlTyvTnVDRXI"
   },
   "source": [
    "## 1. Create Python class named `Student` and display its type"
   ]
  },
  {
   "cell_type": "code",
   "execution_count": 2,
   "metadata": {},
   "outputs": [
    {
     "name": "stdout",
     "output_type": "stream",
     "text": [
      "<class 'type'>\n"
     ]
    }
   ],
   "source": [
    "class Student:\n",
    "    pass\n",
    "print(type(Student))"
   ]
  },
  {
   "cell_type": "code",
   "execution_count": null,
   "metadata": {
    "colab": {
     "base_uri": "https://localhost:8080/"
    },
    "id": "DCcHnvOSDU9N",
    "outputId": "bc177e1e-656f-4a02-ab9f-a47693dbfdcc"
   },
   "outputs": [
    {
     "name": "stdout",
     "output_type": "stream",
     "text": [
      "<class 'type'>\n"
     ]
    }
   ],
   "source": []
  },
  {
   "cell_type": "markdown",
   "metadata": {
    "id": "nYjL6Efcx6ad"
   },
   "source": [
    "## 2. How to call a variable and function by creating a simple class\n"
   ]
  },
  {
   "cell_type": "code",
   "execution_count": 17,
   "metadata": {
    "colab": {
     "base_uri": "https://localhost:8080/"
    },
    "id": "2cVJl1pTyQtS",
    "outputId": "a490e4f4-11a8-44e4-fc4d-5fefcab06e34"
   },
   "outputs": [
    {
     "name": "stdout",
     "output_type": "stream",
     "text": [
      "This is Variable1\n"
     ]
    },
    {
     "data": {
      "text/plain": [
       "\"I'm from function This is Variable1\""
      ]
     },
     "execution_count": 17,
     "metadata": {},
     "output_type": "execute_result"
    }
   ],
   "source": [
    "class Dog:\n",
    "     \n",
    "    v='This is Variable1'\n",
    "    def __init__(self):\n",
    "        pass\n",
    "    def bark(self):\n",
    "        return f\"I'm from function {Dog.v}\"\n",
    "a=Dog()\n",
    "print(a.v)\n",
    "a.bark()"
   ]
  },
  {
   "cell_type": "markdown",
   "metadata": {
    "id": "Qrn6EsJ7putu"
   },
   "source": [
    "## 3. Create a class with one `static variable` and two `instace variables`"
   ]
  },
  {
   "cell_type": "code",
   "execution_count": 21,
   "metadata": {
    "colab": {
     "base_uri": "https://localhost:8080/"
    },
    "id": "D5z1cympyQwS",
    "outputId": "83f642f9-4867-498f-b8b7-6b39101339f7"
   },
   "outputs": [
    {
     "name": "stdout",
     "output_type": "stream",
     "text": [
      "I am Static variable\n",
      "instance_var1\n",
      "instance_var2\n"
     ]
    }
   ],
   "source": [
    "class Demo():\n",
    "    a='I am Static variable'\n",
    "    def __init__(self,b,c):\n",
    "        self.b='instance_var1'\n",
    "        self.c='instance_var2'\n",
    "    def display(self):\n",
    "        print(self.b)\n",
    "        print(self.c)\n",
    "a=Demo(1,2)\n",
    "print(a.a)\n",
    "a.display()"
   ]
  },
  {
   "cell_type": "markdown",
   "metadata": {
    "id": "m2__2x3B_gub"
   },
   "source": [
    "## 4. Create a `Vehicle` class with max_speed and mileage instance attributes"
   ]
  },
  {
   "cell_type": "code",
   "execution_count": null,
   "metadata": {
    "id": "4M2ggFoC_hqV"
   },
   "outputs": [],
   "source": [
    "# CODE HERE"
   ]
  },
  {
   "cell_type": "code",
   "execution_count": 22,
   "metadata": {
    "colab": {
     "base_uri": "https://localhost:8080/"
    },
    "id": "uTyOnoPN_qVJ",
    "outputId": "e4ed0414-9da1-4196-a802-41b39f455a3f"
   },
   "outputs": [
    {
     "name": "stdout",
     "output_type": "stream",
     "text": [
      "max speed is 240\n",
      "milage is 18\n"
     ]
    }
   ],
   "source": [
    "class Vehicle:\n",
    "    def __init__(s,a,b):\n",
    "        s.a=a\n",
    "        s.b=b\n",
    "    def display(s):\n",
    "        print(f'max speed is {s.a}')\n",
    "        print(f'milage is {s.b}')\n",
    "a=Vehicle(240,18)\n",
    "a.display()"
   ]
  },
  {
   "cell_type": "code",
   "execution_count": null,
   "metadata": {
    "id": "_Pq79YB0_rF2"
   },
   "outputs": [],
   "source": []
  },
  {
   "cell_type": "markdown",
   "metadata": {
    "id": "dGGYG_Sm1N4y"
   },
   "source": [
    "## 5. Create a simple class `Person` with constructer and one argument `name`"
   ]
  },
  {
   "cell_type": "code",
   "execution_count": null,
   "metadata": {
    "id": "zkAdBgQP1bNW"
   },
   "outputs": [],
   "source": [
    "# CODE HERE"
   ]
  },
  {
   "cell_type": "code",
   "execution_count": 24,
   "metadata": {
    "colab": {
     "base_uri": "https://localhost:8080/"
    },
    "id": "i5vQQoIu0X_f",
    "outputId": "2b8f7cd2-cb9d-43f2-afdf-8f20411ef6cc"
   },
   "outputs": [
    {
     "name": "stdout",
     "output_type": "stream",
     "text": [
      "Hello,my name is Ram\n"
     ]
    }
   ],
   "source": [
    "# A Sample class with init method\n",
    "class Person:\n",
    "    def __init__(s,name):\n",
    "        s.name=name\n",
    "    def say_hi(s):\n",
    "        print(f'Hello,my name is {s.name}')\n",
    "   \n",
    "p = Person('Ram')\n",
    "p.say_hi()"
   ]
  },
  {
   "cell_type": "code",
   "execution_count": null,
   "metadata": {
    "id": "JgeHHyrp2h1u"
   },
   "outputs": [],
   "source": []
  },
  {
   "cell_type": "markdown",
   "metadata": {
    "id": "T9AQ6X3i2k6l"
   },
   "source": [
    "## 6. Create a class for `Students` information like `name, rollno, marks` and `school name` with static variable.\n",
    "- create a function for displaying student information\n",
    "- create one more function for getting students marks and percentage "
   ]
  },
  {
   "cell_type": "code",
   "execution_count": null,
   "metadata": {
    "colab": {
     "base_uri": "https://localhost:8080/"
    },
    "id": "cX4Z5_nx2h-O",
    "outputId": "5e032c7a-407b-455b-aef3-84b673a017ae"
   },
   "outputs": [
    {
     "name": "stdout",
     "output_type": "stream",
     "text": [
      "Name: abc, RollNo: 1, Marks: 399, College: DIT\n",
      "Dictionary :  {'name': 'abc', 'rno': 1, 'marks': 399}\n",
      "percentahe of 399 out of 500 is :  79.80000000000001\n"
     ]
    }
   ],
   "source": [
    "class Student:\n",
    "    # CODE HERE"
   ]
  },
  {
   "cell_type": "code",
   "execution_count": 27,
   "metadata": {},
   "outputs": [
    {
     "name": "stdout",
     "output_type": "stream",
     "text": [
      "Student Information:\n",
      "Name       : back\n",
      "Roll No    : 101\n",
      "School Name: Innomatics Research Labs\n",
      "Marks      : {'Math': 95, 'English': 88, 'Science': 92}\n",
      "Total Marks: 275\n",
      "Percentage : 91.67%\n",
      "\n"
     ]
    }
   ],
   "source": [
    "class Student:\n",
    "    # Static variable for school name\n",
    "    school_name = \"Innomatics Research Labs\"\n",
    "\n",
    "    def __init__(self, name, rollno, marks):\n",
    "        # Instance variables for student-specific information\n",
    "        self.name = name\n",
    "        self.rollno = rollno\n",
    "        self.marks = marks  # Dictionary of subjects and their marks\n",
    "\n",
    "    def display_info(self):\n",
    "        \"\"\"\n",
    "        Displays the student's information.\n",
    "        \"\"\"\n",
    "        print(\"Student Information:\")\n",
    "        print(f\"Name       : {self.name}\")\n",
    "        print(f\"Roll No    : {self.rollno}\")\n",
    "        print(f\"School Name: {Student.school_name}\")\n",
    "        print(f\"Marks      : {self.marks}\")\n",
    "\n",
    "    def calculate_percentage(self):\n",
    "        \"\"\"\n",
    "        Calculates and returns the total marks and percentage.\n",
    "        \"\"\"\n",
    "        total_marks = sum(self.marks.values())\n",
    "        percentage = (total_marks / (len(self.marks) * 100)) * 100\n",
    "        return total_marks, percentage\n",
    "\n",
    "\n",
    "student1 = Student(\"back\", 101, {\"Math\": 95, \"English\": 88, \"Science\": 92})\n",
    "\n",
    "student1.display_info()\n",
    "total, percentage = student1.calculate_percentage()\n",
    "print(f\"Total Marks: {total}\")\n",
    "print(f\"Percentage : {percentage:.2f}%\\n\")\n",
    "\n"
   ]
  },
  {
   "cell_type": "markdown",
   "metadata": {
    "id": "x-zGvkOi_9PD"
   },
   "source": [
    "## 7. Create a child class `Bus` that will inherit all of the variables and methods of the `Vehicle` class"
   ]
  },
  {
   "cell_type": "code",
   "execution_count": 35,
   "metadata": {
    "id": "5IppTc73__tp"
   },
   "outputs": [
    {
     "name": "stdout",
     "output_type": "stream",
     "text": [
      "vehicle name : school bus\n",
      " school bus speed : 240\n",
      " school bus milage :18\n"
     ]
    }
   ],
   "source": [
    "class Vehicle:\n",
    "    def __init__(s,a,b):\n",
    "        s.a=a\n",
    "        s.b=b\n",
    "    def display(s):\n",
    "        print(f'max speed is {s.a}')\n",
    "        print(f'milage is {s.b}')\n",
    "\n",
    "class Bus(Vehicle):\n",
    "    def __init__(s,a,b,c):\n",
    "        super().__init__(a,b)\n",
    "        s.c=c\n",
    "    def display(s):\n",
    "        print(f'vehicle name : {s.c}\\n {s.c} speed : {s.a}\\n {s.c} milage :{s.b}')\n",
    "\n",
    "b=Bus(240,18,'school bus')\n",
    "b.display()"
   ]
  },
  {
   "cell_type": "code",
   "execution_count": null,
   "metadata": {
    "colab": {
     "base_uri": "https://localhost:8080/"
    },
    "id": "Qf4ZRcg8ADOq",
    "outputId": "36f05d4e-d177-4b0a-f60d-85df44b22756"
   },
   "outputs": [
    {
     "name": "stdout",
     "output_type": "stream",
     "text": [
      "Vehicle Name: School Bus Speed: 180 Mileage: 12\n"
     ]
    }
   ],
   "source": [
    "class Vehicle:\n",
    "\n",
    "    #CODE HERE"
   ]
  },
  {
   "cell_type": "markdown",
   "metadata": {
    "id": "Cex1VHlicvR0"
   },
   "source": [
    "## 8. Create a class `Employee` with two arguments `name and salary`\n",
    "- create a function which displays the employee information\n",
    "- Print total number of employees "
   ]
  },
  {
   "cell_type": "code",
   "execution_count": 45,
   "metadata": {
    "colab": {
     "base_uri": "https://localhost:8080/"
    },
    "id": "BcTNOVUiAIn7",
    "outputId": "eada07d0-cb16-4b0c-bdca-a1b360ad24b7"
   },
   "outputs": [
    {
     "name": "stdout",
     "output_type": "stream",
     "text": [
      "employee info \n",
      "Name   : Zara\n",
      "Salary : 2000\n",
      "--------------------\n",
      "employee info \n",
      "Name   : Manni\n",
      "Salary : 5000\n",
      "--------------------\n",
      "Total Employee count : 2\n"
     ]
    }
   ],
   "source": [
    "class Employee:\n",
    "   \n",
    "    count=0\n",
    "    def __init__(s,name,salary):\n",
    "        s.name=name\n",
    "        s.salary=salary\n",
    "        Employee.count+=1\n",
    "    def display(s):\n",
    "            print('employee info ')\n",
    "            print(f'Name   : {s.name}')\n",
    "            print(f'Salary : {s.salary}')\n",
    "    @classmethod\n",
    "    def total_emp(cls):\n",
    "            return f'Total Employee count : {cls.count}'\n",
    "a=Employee('Zara',2000)\n",
    "b=Employee('Manni',5000)\n",
    "a.display()\n",
    "print('-'*20)\n",
    "b.display()\n",
    "print('-'*20)\n",
    "print(Employee.total_emp())"
   ]
  },
  {
   "cell_type": "code",
   "execution_count": null,
   "metadata": {
    "id": "BmFF6kFScPGl"
   },
   "outputs": [],
   "source": []
  }
 ],
 "metadata": {
  "colab": {
   "collapsed_sections": [],
   "name": "Class_Object_Asignment.ipynb",
   "provenance": []
  },
  "kernelspec": {
   "display_name": "Python 3 (ipykernel)",
   "language": "python",
   "name": "python3"
  },
  "language_info": {
   "codemirror_mode": {
    "name": "ipython",
    "version": 3
   },
   "file_extension": ".py",
   "mimetype": "text/x-python",
   "name": "python",
   "nbconvert_exporter": "python",
   "pygments_lexer": "ipython3",
   "version": "3.12.7"
  }
 },
 "nbformat": 4,
 "nbformat_minor": 4
}
