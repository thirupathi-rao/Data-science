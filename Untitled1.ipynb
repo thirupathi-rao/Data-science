{
 "cells": [
  {
   "cell_type": "markdown",
   "id": "b1e72497-a5f7-4eb5-b00b-17901180de04",
   "metadata": {},
   "source": [
    "Write a program that takes a list of employee names and a dictionary where the keys are employee names and the values are their performance scores. Use a loop to print a pattern that shows each employee’s name repeated as many times as their score:\n",
    "Example Input:\n",
    "employee_list = [\"Alice\", \"Bob\", \"Charlie\"]  \n",
    "performance_dict = {\"Alice\": 3, \"Bob\": 2, \"Charlie\": 4}  \n",
    "\n",
    "Expected Output:\n",
    "Alice Alice Alice  \n",
    "Bob Bob  \n",
    "Charlie Charlie Charlie Charlie \n",
    "\n",
    "\n",
    "Pattern\n",
    "\n",
    "1  \n",
    "1 1  \n",
    "1 1 2  \n",
    "1 1 2 3  \n",
    "1 1 2 3 5  \n",
    "\n",
    "Convert into dictionary\n",
    "\n",
    "names = [\"Alice\", \"Bob\", \"Charlie\", \"Diana\", \"Ethan\"], scores = [85, 92, 78, 90, 88]\n",
    "\n"
   ]
  },
  {
   "cell_type": "code",
   "execution_count": 2,
   "id": "ebbe7e94-9ffb-4dbd-bf9d-ec4b95c738d3",
   "metadata": {},
   "outputs": [
    {
     "name": "stdout",
     "output_type": "stream",
     "text": [
      "Alice Alice Alice \n",
      "Bob Bob \n",
      "Charlie Charlie Charlie Charlie \n"
     ]
    }
   ],
   "source": [
    "employee_list = [\"Alice\", \"Bob\", \"Charlie\"]  \n",
    "performance_dict = {\"Alice\": 3, \"Bob\": 2, \"Charlie\": 4}  \n",
    "for x,y in performance_dict.items():\n",
    "    print((x+' ')*y)"
   ]
  },
  {
   "cell_type": "code",
   "execution_count": 6,
   "id": "ffd0a0ed-03ce-4c5e-85a3-2485f0040f8e",
   "metadata": {},
   "outputs": [
    {
     "name": "stdout",
     "output_type": "stream",
     "text": [
      "\n",
      "1\n",
      "11\n",
      "112\n",
      "1123\n",
      "11235\n"
     ]
    }
   ],
   "source": [
    "x=[1,1,2,3,5]\n",
    "for i in range(len(x)+1):\n",
    "    if i==0 or i==1:\n",
    "        for j in range(i):\n",
    "            print(x[j],end='')\n",
    "        print()\n",
    "    elif i==2:\n",
    "        for j in range(i):\n",
    "            print(x[j],end='')\n",
    "        print()\n",
    "    elif i==3:\n",
    "        for j in range(i):\n",
    "            print(x[j],end='')\n",
    "        print()\n",
    "    elif i==4:\n",
    "        for j in range(i):\n",
    "            print(x[j],end='')\n",
    "        print()\n",
    "    elif i==5:\n",
    "        for j in range(i):\n",
    "            print(x[j],end='')\n",
    "        print()"
   ]
  },
  {
   "cell_type": "code",
   "execution_count": 2,
   "id": "545eff8d-a281-451a-930e-881aa552e153",
   "metadata": {},
   "outputs": [
    {
     "name": "stdin",
     "output_type": "stream",
     "text": [
      " 10\n"
     ]
    },
    {
     "name": "stdout",
     "output_type": "stream",
     "text": [
      "1\n",
      "11\n",
      "112\n",
      "1123\n",
      "11235\n",
      "112358\n",
      "11235813\n",
      "1123581321\n",
      "112358132134\n",
      "11235813213455\n"
     ]
    }
   ],
   "source": [
    "def fibonocci_series(n):\n",
    "    a,b=0,1\n",
    "    i=0\n",
    "    while i<=n:\n",
    "        i+=1\n",
    "        yield a\n",
    "        a,b=b,a+b\n",
    "a=int(input())\n",
    "x=list(fibonocci_series(a))\n",
    "i=1\n",
    "while i<=a:\n",
    "    j=1\n",
    "    while j<=i:\n",
    "        print(x[j],end='')\n",
    "        j+=1\n",
    "    print()\n",
    "    i+=1\n"
   ]
  },
  {
   "cell_type": "code",
   "execution_count": 4,
   "id": "a4171b64-1e47-4ea3-8732-2a41dee66f43",
   "metadata": {},
   "outputs": [
    {
     "name": "stdout",
     "output_type": "stream",
     "text": [
      "{'Alice': 85, 'Bob': 92, 'Charlie': 78, 'Diana': 90, 'Ethan': 88}\n"
     ]
    }
   ],
   "source": [
    "names = [\"Alice\", \"Bob\", \"Charlie\", \"Diana\", \"Ethan\"]\n",
    "scores = [85, 92, 78, 90, 88]\n",
    "dic={}\n",
    "for i in range(len(names)):\n",
    "    dic[names[i]]=scores[i]\n",
    "print(dic)"
   ]
  },
  {
   "cell_type": "code",
   "execution_count": null,
   "id": "f0fb3fba-809b-4482-9c1d-3777a631cc5e",
   "metadata": {},
   "outputs": [],
   "source": []
  }
 ],
 "metadata": {
  "kernelspec": {
   "display_name": "Python 3 (ipykernel)",
   "language": "python",
   "name": "python3"
  },
  "language_info": {
   "codemirror_mode": {
    "name": "ipython",
    "version": 3
   },
   "file_extension": ".py",
   "mimetype": "text/x-python",
   "name": "python",
   "nbconvert_exporter": "python",
   "pygments_lexer": "ipython3",
   "version": "3.12.7"
  }
 },
 "nbformat": 4,
 "nbformat_minor": 5
}
