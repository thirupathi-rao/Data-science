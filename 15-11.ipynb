{
 "cells": [
  {
   "cell_type": "code",
   "execution_count": null,
   "id": "826824c4-bd99-4cac-9278-567d0df8dd61",
   "metadata": {},
   "outputs": [],
   "source": [
    "Q1. Construct a list with elements from 1000 to 5000 elements inside it ;\n",
    "a. Print the last element.\n",
    "o/p: 5000\n",
    "b. Get slice of 1500 to 2000 elements\n",
    "c. Print list in reverse order\n"
   ]
  },
  {
   "cell_type": "code",
   "execution_count": 5,
   "id": "c004e77d-9af3-4260-87cf-e95f22f15538",
   "metadata": {},
   "outputs": [
    {
     "name": "stdout",
     "output_type": "stream",
     "text": [
      "5000\n",
      "[1500, 1600, 1700, 1800, 1900]\n",
      "[5000, 4900, 4800, 4700, 4600, 4500, 4400, 4300, 4200, 4100, 4000, 3900, 3800, 3700, 3600, 3500, 3400, 3300, 3200, 3100, 3000, 2900, 2800, 2700, 2600, 2500, 2400, 2300, 2200, 2100, 2000, 1900, 1800, 1700, 1600, 1500, 1400, 1300, 1200, 1100, 1000]\n"
     ]
    }
   ],
   "source": [
    "l1=[1000,1100,1200,1300,1400,1500,1600,1700,1800,1900,2000,2100,2200,2300,2400,2500,2600,2700,2800,2900,3000,3100,3200,3300,3400,3500,3600,3700,3800,3900,4000,4100,4200,4300,4400,4500,4600,4700,4800,4900,5000]\n",
    "print(l1[-1])\n",
    "print(l1[5:10])\n",
    "l1.sort(reverse=True)\n",
    "print(l1)"
   ]
  },
  {
   "cell_type": "code",
   "execution_count": null,
   "id": "613c1880-8a1a-4b19-aea2-096e661777ac",
   "metadata": {},
   "outputs": [],
   "source": [
    "Q2. Take list of strings with 5 different words inside it\n",
    "a. Print first element\n",
    "b. Print last element\n",
    "c. Change the first element\n",
    "d. See if it is possible to change the last character only in the last string of the list.\n",
    "e. In the given list, if there are any palindromes, print 'True' otherwise 'False' (no need\n",
    "to use loops)\n",
    "Example : [\"mom\",\"dad\",\"malayalam\",\"python\",\"data\"]\n",
    "For above list o/p is:\n",
    "True\n",
    "True\n",
    "True\n",
    "False\n",
    "False"
   ]
  },
  {
   "cell_type": "code",
   "execution_count": 27,
   "id": "98d51be2-2809-4726-a9bb-a8262f0944a8",
   "metadata": {},
   "outputs": [
    {
     "name": "stdout",
     "output_type": "stream",
     "text": [
      "mom\n",
      "data\n",
      "['yo', 'dad', 'malayalam', 'python', 'data']\n",
      "False\n",
      "True\n",
      "False\n",
      "False\n",
      "True\n"
     ]
    }
   ],
   "source": [
    "l2= [\"mom\",\"dad\",\"malayalam\",\"python\",\"data\"]\n",
    "print(l2[0])\n",
    "print(l2[-1])\n",
    "l2[0]=\"yo\"\n",
    "print(l2)\n",
    "#x=[l2[-1]]\n",
    "#print(x)\n",
    "#x[-1]='y'\n",
    "#l2[-1]=x\n",
    "#we cannot cange a part of element we have to change the element it self \n",
    "for j in (0,4):\n",
    "    s=l2[j]\n",
    "    for i in range(0,int(len(s)/2)):\n",
    "        if s[i]!=s[len(s)-i-1]:\n",
    "            print(\"False\")\n",
    "    print('True')    "
   ]
  },
  {
   "cell_type": "code",
   "execution_count": null,
   "id": "f5bed7e7-e844-48a9-98ab-1506319c3321",
   "metadata": {},
   "outputs": [],
   "source": [
    "Q3. Check on the immutability property of int, float and boolean data types and\n",
    "mutability property of lists."
   ]
  },
  {
   "cell_type": "code",
   "execution_count": 28,
   "id": "0d7baf43-1ad3-4b14-bf55-222a96fc3af4",
   "metadata": {},
   "outputs": [
    {
     "name": "stdout",
     "output_type": "stream",
     "text": [
      "140729393949240\n",
      "140729393949272\n"
     ]
    }
   ],
   "source": [
    "a=5\n",
    "print(id(a))\n",
    "a+=1\n",
    "print(id(a))\n"
   ]
  },
  {
   "cell_type": "code",
   "execution_count": 29,
   "id": "c26001f2-8fb8-44da-8565-e09a9479c9c0",
   "metadata": {},
   "outputs": [
    {
     "name": "stdout",
     "output_type": "stream",
     "text": [
      "2584523295344\n",
      "2584488674800\n"
     ]
    }
   ],
   "source": [
    "a=5.1\n",
    "print(id(a))\n",
    "a+=1\n",
    "print(id(a))"
   ]
  },
  {
   "cell_type": "code",
   "execution_count": 30,
   "id": "cd26b3ec-8cc8-4f85-8265-c47ed98367ee",
   "metadata": {},
   "outputs": [
    {
     "name": "stdout",
     "output_type": "stream",
     "text": [
      "140729392823168\n",
      "140729392823200\n"
     ]
    }
   ],
   "source": [
    "a=True\n",
    "print(id(a))\n",
    "a=False\n",
    "print(id(a))"
   ]
  },
  {
   "cell_type": "code",
   "execution_count": 31,
   "id": "ea3dca96-792b-4bdc-b5e3-ce94c7619e9d",
   "metadata": {},
   "outputs": [
    {
     "name": "stdout",
     "output_type": "stream",
     "text": [
      "2584549786048\n",
      "2584549786048\n"
     ]
    }
   ],
   "source": [
    "a=[1,2,3]\n",
    "print(id(a))\n",
    "a.append(1)\n",
    "print(id(a))"
   ]
  },
  {
   "cell_type": "code",
   "execution_count": null,
   "id": "0058b2f7-6f1d-4133-a341-307236c7a809",
   "metadata": {},
   "outputs": [],
   "source": []
  }
 ],
 "metadata": {
  "kernelspec": {
   "display_name": "Python 3 (ipykernel)",
   "language": "python",
   "name": "python3"
  },
  "language_info": {
   "codemirror_mode": {
    "name": "ipython",
    "version": 3
   },
   "file_extension": ".py",
   "mimetype": "text/x-python",
   "name": "python",
   "nbconvert_exporter": "python",
   "pygments_lexer": "ipython3",
   "version": "3.12.7"
  }
 },
 "nbformat": 4,
 "nbformat_minor": 5
}
