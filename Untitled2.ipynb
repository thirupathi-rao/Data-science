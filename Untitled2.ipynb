{
 "cells": [
  {
   "cell_type": "code",
   "execution_count": 2,
   "id": "3c7c594b-8208-47f9-b117-7facb13adf4e",
   "metadata": {},
   "outputs": [],
   "source": [
    "import numpy as np\n",
    "import pandas as pd\n",
    "\n",
    "data = {\n",
    "    'Category': [\n",
    "        # Array Creation\n",
    "        'Array Creation', 'Array Creation', 'Array Creation', 'Array Creation', \n",
    "        'Array Creation', 'Array Creation', 'Array Creation', 'Array Creation', \n",
    "        'Array Creation', \n",
    "\n",
    "        # Array Manipulation\n",
    "        'Array Manipulation', 'Array Manipulation', 'Array Manipulation', \n",
    "        'Array Manipulation', 'Array Manipulation', 'Array Manipulation', \n",
    "        'Array Manipulation', 'Array Manipulation', 'Array Manipulation', \n",
    "\n",
    "        # Mathematical Functions\n",
    "        'Mathematical Functions', 'Mathematical Functions', 'Mathematical Functions', \n",
    "        'Mathematical Functions', 'Mathematical Functions', 'Mathematical Functions', \n",
    "        'Mathematical Functions', \n",
    "\n",
    "        # Statistical Functions\n",
    "        'Statistical Functions', 'Statistical Functions', 'Statistical Functions', \n",
    "        'Statistical Functions', 'Statistical Functions', \n",
    "\n",
    "        # Linear Algebra\n",
    "        'Linear Algebra', 'Linear Algebra', 'Linear Algebra', 'Linear Algebra', \n",
    "\n",
    "        # Random Sampling\n",
    "        'Random Sampling', 'Random Sampling', 'Random Sampling', 'Random Sampling', \n",
    "        'Random Sampling', \n",
    "\n",
    "        # Utility Functions\n",
    "        'Utility Functions', 'Utility Functions', 'Utility Functions', 'Utility Functions', \n",
    "\n",
    "        # Sorting and Searching\n",
    "        'Sorting and Searching', 'Sorting and Searching', 'Sorting and Searching', \n",
    "\n",
    "        # Set Operations\n",
    "        'Set Operations', 'Set Operations', 'Set Operations'\n",
    "    ],\n",
    "    'Function': [\n",
    "        # Array Creation\n",
    "        'np.array()', 'np.zeros()', 'np.ones()', 'np.empty()', \n",
    "        'np.full()', 'np.arange()', 'np.linspace()', 'np.eye()', 'np.frombuffer()',\n",
    "\n",
    "        # Array Manipulation\n",
    "        'np.reshape()', 'np.ravel()', 'np.transpose()', 'np.concatenate()', \n",
    "        'np.hstack()', 'np.vstack()', 'np.split()', 'np.append()', 'np.insert()',\n",
    "\n",
    "        # Mathematical Functions\n",
    "        'np.add()', 'np.subtract()', 'np.multiply()', \n",
    "        'np.divide()', 'np.power()', 'np.sqrt()', 'np.sin()', \n",
    "\n",
    "        # Statistical Functions\n",
    "        'np.mean()', 'np.median()', 'np.std()', \n",
    "        'np.var()', 'np.percentile()', \n",
    "\n",
    "        # Linear Algebra\n",
    "        'np.dot()', 'np.linalg.inv()', 'np.linalg.eig()', \n",
    "        'np.linalg.det()', \n",
    "\n",
    "        # Random Sampling\n",
    "        'np.random.rand()', 'np.random.randn()', 'np.random.randint()', \n",
    "        'np.random.choice()', 'np.random.seed()', \n",
    "\n",
    "        # Utility Functions\n",
    "        'np.shape()', 'np.size()', 'np.ndim()', 'np.copy()', \n",
    "\n",
    "        # Sorting and Searching\n",
    "        'np.sort()', 'np.argsort()', 'np.searchsorted()', \n",
    "\n",
    "        # Set Operations\n",
    "        'np.unique()', 'np.intersect1d()', 'np.setdiff1d()'\n",
    "    ],\n",
    "    'Syntax Example': [\n",
    "        # Array Creation\n",
    "        'np.array([1, 2, 3])', 'np.zeros(5)', 'np.ones((2, 3))', 'np.empty((2, 2))', \n",
    "        'np.full((2, 2), 5)', 'np.arange(10)', 'np.linspace(0, 1, 5)', 'np.eye(3)', 'np.frombuffer(b\"12345\", dtype=np.uint8)',\n",
    "\n",
    "        # Array Manipulation\n",
    "        'arr.reshape(2, 3)', 'arr.ravel()', 'arr.T', 'np.concatenate((arr1, arr2))', \n",
    "        'np.hstack((arr1, arr2))', 'np.vstack((arr1, arr2))', 'np.split(arr, 3)', 'np.append(arr, [4, 5])', 'np.insert(arr, 1, [1.5])',\n",
    "\n",
    "        # Mathematical Functions\n",
    "        'np.add(arr1, arr2)', 'np.subtract(arr1, arr2)', 'np.multiply(arr1, arr2)', \n",
    "        'np.divide(arr1, arr2)', 'np.power(arr, 2)', 'np.sqrt(arr)', 'np.sin(arr)', \n",
    "\n",
    "        # Statistical Functions\n",
    "        'np.mean(arr)', 'np.median(arr)', 'np.std(arr)', \n",
    "        'np.var(arr)', 'np.percentile(arr, 50)', \n",
    "\n",
    "        # Linear Algebra\n",
    "        'np.dot(arr1, arr2)', 'np.linalg.inv(arr)', 'np.linalg.eig(arr)', \n",
    "        'np.linalg.det(arr)', \n",
    "\n",
    "        # Random Sampling\n",
    "        'np.random.rand(5)', 'np.random.randn(5)', 'np.random.randint(0, 10, 5)', \n",
    "        'np.random.choice([1, 2, 3], 5)', 'np.random.seed(42)', \n",
    "\n",
    "        # Utility Functions\n",
    "        'arr.shape', 'arr.size', 'arr.ndim', 'np.copy(arr)', \n",
    "\n",
    "        # Sorting and Searching\n",
    "        'np.sort(arr)', 'np.argsort(arr)', 'np.searchsorted(arr, 3)', \n",
    "\n",
    "        # Set Operations\n",
    "        'np.unique(arr)', 'np.intersect1d(arr1, arr2)', 'np.setdiff1d(arr1, arr2)'\n",
    "    ],\n",
    "    'Description': [\n",
    "        # Array Creation\n",
    "        'Create an array from a list or tuple.', \n",
    "        'Create an array filled with zeros.', \n",
    "        'Create an array filled with ones.', \n",
    "        'Create an uninitialized array.', \n",
    "        'Create an array filled with a specified value.', \n",
    "        'Create values within a specified range.', \n",
    "        'Create evenly spaced values between two points.', \n",
    "        'Create an identity matrix.', \n",
    "        'Create an array from a buffer.', \n",
    "\n",
    "        # Array Manipulation\n",
    "        'Reshape an array without changing its data.', \n",
    "        'Flatten an array.', \n",
    "        'Transpose the axes of an array.', \n",
    "        'Join arrays along an existing axis.', \n",
    "        'Stack arrays horizontally.', \n",
    "        'Stack arrays vertically.', \n",
    "        'Split an array into multiple sub-arrays.', \n",
    "        'Append values to the end of an array.', \n",
    "        'Insert values into an array at a given position.', \n",
    "\n",
    "        # Mathematical Functions\n",
    "        'Element-wise addition of arrays.', \n",
    "        'Element-wise subtraction of arrays.', \n",
    "        'Element-wise multiplication of arrays.', \n",
    "        'Element-wise division of arrays.', \n",
    "        'Raise array elements to a power.', \n",
    "        'Compute the square root of array elements.', \n",
    "        'Compute the sine of array elements.', \n",
    "\n",
    "        # Statistical Functions\n",
    "        'Compute the mean (average) of elements.', \n",
    "        'Compute the median of elements.', \n",
    "        'Compute the standard deviation of elements.', \n",
    "        'Compute the variance of elements.', \n",
    "        'Compute the percentile of elements.', \n",
    "\n",
    "        # Linear Algebra\n",
    "        'Compute the dot product of two arrays.', \n",
    "        'Compute the inverse of a matrix.', \n",
    "        'Compute eigenvalues and eigenvectors of a matrix.', \n",
    "        'Compute the determinant of a matrix.', \n",
    "\n",
    "        # Random Sampling\n",
    "        'Generate random numbers from a uniform distribution.', \n",
    "        'Generate random numbers from a standard normal distribution.', \n",
    "        'Generate random integers within a range.', \n",
    "        'Randomly select elements from an array.', \n",
    "        'Set the seed for reproducibility of random numbers.',\n",
    "        \n",
    "        # Utility Functions\n",
    "        \"Get the shape of an array.\",\n",
    "        \"Get the total number of elements in an array.\",\n",
    "        \"Get the number of dimensions of an array.\",\n",
    "        \"Create a copy of an array.\",\n",
    "        \n",
    "        # Sorting and Searching\n",
    "        \"Sort the elements of an array.\",\n",
    "        \"Get the indices that would sort an array.\",\n",
    "        \"Find indices where elements should be inserted to maintain order.\",\n",
    "        \n",
    "        # Set Operations\n",
    "        \"Find the unique elements of an array.\",\n",
    "        \"Find the intersection of two arrays.\",\n",
    "        \"Find the set difference of two arrays.\"\n",
    "    ]\n",
    "}\n",
    "\n",
    "df=pd.DataFrame(data)\n",
    "df.to_excel(r'C:\\Users\\dtrri\\bot\\numpy_cheat_sheet_python.xlsx',index=False)"
   ]
  },
  {
   "cell_type": "raw",
   "id": "3c31eac5-a442-40c0-aa7b-0243abc6aad8",
   "metadata": {},
   "source": [
    "# Extended and comprehensive cheat sheet data for NumPy\n",
    "\n",
    "extended_numpy_cheat_sheet = {\n",
    "    \"Category\": [\n",
    "        # Array Creation\n",
    "        \"Array Creation\", \"Array Creation\", \"Array Creation\", \"Array Creation\",\n",
    "        \"Array Creation\", \"Array Creation\", \"Array Creation\", \"Array Creation\",\n",
    "        \n",
    "        # Array Manipulation\n",
    "        \"Array Manipulation\", \"Array Manipulation\", \"Array Manipulation\", \"Array Manipulation\",\n",
    "        \"Array Manipulation\", \"Array Manipulation\", \"Array Manipulation\",\n",
    "\n",
    "        # Mathematical Functions\n",
    "        \"Mathematical Functions\", \"Mathematical Functions\", \"Mathematical Functions\",\n",
    "        \"Mathematical Functions\", \"Mathematical Functions\", \"Mathematical Functions\",\n",
    "        \n",
    "        # Statistical Functions\n",
    "        \"Statistical Functions\", \"Statistical Functions\", \"Statistical Functions\",\n",
    "        \"Statistical Functions\", \"Statistical Functions\",\n",
    "\n",
    "        # Linear Algebra\n",
    "        \"Linear Algebra\", \"Linear Algebra\", \"Linear Algebra\", \"Linear Algebra\",\n",
    "\n",
    "        # Random Sampling\n",
    "        \"Random Sampling\", \"Random Sampling\", \"Random Sampling\", \"Random Sampling\",\n",
    "        \"Random Sampling\",\n",
    "\n",
    "        # Utility Functions\n",
    "        \"Utility Functions\", \"Utility Functions\", \"Utility Functions\", \"Utility Functions\",\n",
    "\n",
    "        # Sorting and Searching\n",
    "        \"Sorting and Searching\", \"Sorting and Searching\", \"Sorting and Searching\",\n",
    "\n",
    "        # Set Operations\n",
    "        \"Set Operations\", \"Set Operations\", \"Set Operations\"\n",
    "    ],\n",
    "    \"Function\": [\n",
    "        # Array Creation\n",
    "        \"np.array()\", \"np.zeros()\", \"np.ones()\", \"np.empty()\",\n",
    "        \"np.full()\", \"np.arange()\", \"np.linspace()\", \"np.eye()\",\n",
    "        \n",
    "        # Array Manipulation\n",
    "        \"np.reshape()\", \"np.ravel()\", \"np.transpose()\", \"np.concatenate()\",\n",
    "        \"np.hstack()\", \"np.vstack()\", \"np.split()\",\n",
    "        \n",
    "        # Mathematical Functions\n",
    "        \"np.add()\", \"np.subtract()\", \"np.multiply()\",\n",
    "        \"np.divide()\", \"np.power()\", \"np.sqrt()\",\n",
    "        \n",
    "        # Statistical Functions\n",
    "        \"np.mean()\", \"np.median()\", \"np.std()\",\n",
    "        \"np.var()\", \"np.percentile()\",\n",
    "        \n",
    "        # Linear Algebra\n",
    "        \"np.dot()\", \"np.linalg.inv()\", \"np.linalg.eig()\",\n",
    "        \"np.linalg.det()\",\n",
    "        \n",
    "        # Random Sampling\n",
    "        \"np.random.rand()\", \"np.random.randn()\", \"np.random.randint()\",\n",
    "        \"np.random.choice()\", \"np.random.seed()\",\n",
    "        \n",
    "        # Utility Functions\n",
    "        \"np.shape()\", \"np.size()\", \"np.ndim()\", \"np.copy()\",\n",
    "        \n",
    "        # Sorting and Searching\n",
    "        \"np.sort()\", \"np.argsort()\", \"np.searchsorted()\",\n",
    "        \n",
    "        # Set Operations\n",
    "        \"np.unique()\", \"np.intersect1d()\", \"np.setdiff1d()\"\n",
    "    ],\n",
    "    \"Description\": [\n",
    "        # Array Creation\n",
    "        \"Create an array from a list or tuple.\",\n",
    "        \"Create an array filled with zeros.\",\n",
    "        \"Create an array filled with ones.\",\n",
    "        \"Create an uninitialized array.\",\n",
    "        \"Create an array filled with a specified value.\",\n",
    "        \"Create values within a specified range.\",\n",
    "        \"Create evenly spaced values between two points.\",\n",
    "        \"Create an identity matrix.\",\n",
    "        \n",
    "        # Array Manipulation\n",
    "        \"Reshape an array without changing its data.\",\n",
    "        \"Flatten an array.\",\n",
    "        \"Transpose the axes of an array.\",\n",
    "        \"Join arrays along an existing axis.\",\n",
    "        \"Stack arrays horizontally.\",\n",
    "        \"Stack arrays vertically.\",\n",
    "        \"Split an array into multiple sub-arrays.\",\n",
    "        \n",
    "        # Mathematical Functions\n",
    "        \"Element-wise addition of arrays.\",\n",
    "        \"Element-wise subtraction of arrays.\",\n",
    "        \"Element-wise multiplication of arrays.\",\n",
    "        \"Element-wise division of arrays.\",\n",
    "        \"Raise array elements to a power.\",\n",
    "        \"Compute the square root of array elements.\",\n",
    "        \n",
    "        # Statistical Functions\n",
    "        \"Compute the mean (average) of elements.\",\n",
    "        \"Compute the median of elements.\",\n",
    "        \"Compute the standard deviation of elements.\",\n",
    "        \"Compute the variance of elements.\",\n",
    "        \"Compute the percentile of elements.\",\n",
    "        \n",
    "        # Linear Algebra\n",
    "        \"Compute the dot product of two arrays.\",\n",
    "        \"Compute the inverse of a matrix.\",\n",
    "        \"Compute eigenvalues and eigenvectors of a matrix.\",\n",
    "        \"Compute the determinant of a matrix.\",\n",
    "        \n",
    "        # Random Sampling\n",
    "        \"Generate random numbers from a uniform distribution.\",\n",
    "        \"Generate random numbers from a standard normal distribution.\",\n",
    "        \"Generate random integers within a range.\",\n",
    "        \"Randomly select elements from an array.\",\n",
    "        \"Set the seed for reproducibility of random numbers.\",\n",
    "        \n",
    "        # Utility Functions\n",
    "        \"Get the shape of an array.\",\n",
    "        \"Get the total number of elements in an array.\",\n",
    "        \"Get the number of dimensions of an array.\",\n",
    "        \"Create a copy of an array.\",\n",
    "        \n",
    "        # Sorting and Searching\n",
    "        \"Sort the elements of an array.\",\n",
    "        \"Get the indices that would sort an array.\",\n",
    "        \"Find indices where elements should be inserted to maintain order.\",\n",
    "        \n",
    "        # Set Operations\n",
    "        \"Find the unique elements of an array.\",\n",
    "        \"Find the intersection of two arrays.\",\n",
    "        \"Find the set difference of two arrays.\"\n",
    "    ]\n",
    "}\n",
    "\n",
    "# Create an extended DataFrame\n",
    "extended_df = pd.DataFrame(extended_numpy_cheat_sheet)\n",
    "\n",
    "# Save the extended cheat sheet as Excel\n",
    "extended_file_path = \"/mnt/data/Extended_NumPy_Cheat_Sheet.xlsx\"\n",
    "extended_df.to_excel(extended_file_path, index=False)\n",
    "\n",
    "extended_file_path\n"
   ]
  },
  {
   "cell_type": "code",
   "execution_count": 1,
   "id": "12edcafe-0cc6-4185-bd87-4db1e107a741",
   "metadata": {},
   "outputs": [],
   "source": [
    "l1=[[1,2,[3]],4,[[5,6],7]]\n",
    "l2=[[1,2,3],[4,5],\"std\",[10]]\n"
   ]
  },
  {
   "cell_type": "code",
   "execution_count": 28,
   "id": "7bc6dd5d-f60c-4adf-965d-07bf779cb3f3",
   "metadata": {},
   "outputs": [],
   "source": [
    "def flatten(x):\n",
    "    l=[]\n",
    "    for i in x: \n",
    "        if type(i)!=str:\n",
    "            try:\n",
    "                for j in i:\n",
    "                    try:\n",
    "                        for k in j:\n",
    "                            l.append(k)\n",
    "                    except:\n",
    "                        l.append(j)\n",
    "            except:\n",
    "                l.append(i)\n",
    "        else:\n",
    "            l.append(i)\n",
    "    return l"
   ]
  },
  {
   "cell_type": "code",
   "execution_count": 29,
   "id": "baf540cb-616c-45a8-a7fe-f33267234a8c",
   "metadata": {},
   "outputs": [
    {
     "data": {
      "text/plain": [
       "[1, 2, 3, 4, 5, 6, 7]"
      ]
     },
     "execution_count": 29,
     "metadata": {},
     "output_type": "execute_result"
    }
   ],
   "source": [
    "flatten(l1)"
   ]
  },
  {
   "cell_type": "code",
   "execution_count": 30,
   "id": "2ec46a36-adaf-4335-8d13-7562162769f4",
   "metadata": {},
   "outputs": [
    {
     "data": {
      "text/plain": [
       "[1, 2, 3, 4, 5, 'std', 10]"
      ]
     },
     "execution_count": 30,
     "metadata": {},
     "output_type": "execute_result"
    }
   ],
   "source": [
    "flatten(l2)"
   ]
  },
  {
   "cell_type": "code",
   "execution_count": 25,
   "id": "35d9c5cf-c6ee-41ea-b00f-2ff8b6400b07",
   "metadata": {},
   "outputs": [
    {
     "data": {
      "text/plain": [
       "True"
      ]
     },
     "execution_count": 25,
     "metadata": {},
     "output_type": "execute_result"
    }
   ],
   "source": [
    "type(\"std\")==str"
   ]
  },
  {
   "cell_type": "code",
   "execution_count": 3,
   "id": "4a2d76b0-56a9-423b-95d1-5bb3ee6364eb",
   "metadata": {},
   "outputs": [],
   "source": [
    "def flatten_list(nested_list):\n",
    "    flat_list = []\n",
    "    \n",
    "    def recursive_flatten(sublist):\n",
    "        for item in sublist:\n",
    "            if isinstance(item, list):\n",
    "                recursive_flatten(item)\n",
    "            else:\n",
    "                flat_list.append(item)\n",
    "    \n",
    "    recursive_flatten(nested_list)\n",
    "    return flat_list\n"
   ]
  },
  {
   "cell_type": "code",
   "execution_count": 4,
   "id": "cceb2347-9f86-4a07-896c-3a847c9afc60",
   "metadata": {},
   "outputs": [
    {
     "data": {
      "text/plain": [
       "[1, 2, 3, 4, 5, 6, 7]"
      ]
     },
     "execution_count": 4,
     "metadata": {},
     "output_type": "execute_result"
    }
   ],
   "source": [
    "flatten_list(l1)"
   ]
  },
  {
   "cell_type": "code",
   "execution_count": 5,
   "id": "67229dfa-20c5-437a-922b-8ca0865a6e8f",
   "metadata": {},
   "outputs": [
    {
     "data": {
      "text/plain": [
       "[1, 2, 3, 4, 5, 'std', 10]"
      ]
     },
     "execution_count": 5,
     "metadata": {},
     "output_type": "execute_result"
    }
   ],
   "source": [
    "flatten_list(l2)"
   ]
  },
  {
   "cell_type": "markdown",
   "id": "ee28c130-7294-4e77-b9aa-0f8683da1a4b",
   "metadata": {},
   "source": [
    "d1={'a': 1,'b': 2}\n",
    "d2={'b': 3,'c': 4}\n",
    "ans={'a': 1,'b': [2,3],'c': 4}\n",
    "\n",
    "create a function that takes 2 dics and return me similar to ans dic\n",
    "\n",
    "use  type hinting and -> while creating function and parameters"
   ]
  },
  {
   "cell_type": "code",
   "execution_count": 1,
   "id": "d11f770f-3b3c-407b-b428-4b4539e1008a",
   "metadata": {},
   "outputs": [],
   "source": [
    "d1={'a': 1,'b': 2}\n",
    "d2={'b': 3,'c': 4}"
   ]
  },
  {
   "cell_type": "code",
   "execution_count": 2,
   "id": "71d53c64-45c1-4fbf-a553-4f43a6c09432",
   "metadata": {},
   "outputs": [
    {
     "data": {
      "text/plain": [
       "2"
      ]
     },
     "execution_count": 2,
     "metadata": {},
     "output_type": "execute_result"
    }
   ],
   "source": [
    "len(d1)"
   ]
  },
  {
   "cell_type": "code",
   "execution_count": 19,
   "id": "435abd1a-ac69-443a-9ff7-4e1e65f6b363",
   "metadata": {},
   "outputs": [],
   "source": [
    "def combine_dict(d1 : dict[str:int],d2 : dict[str:int])->dict[str:int|list[int]]:\n",
    "    d3 = d1.copy()\n",
    "    for key, value in d2.items():\n",
    "        if key in d1.keys():\n",
    "            d3[key]=[d1[key],value]\n",
    "        else:\n",
    "            d3[key]=value\n",
    "    return d3"
   ]
  },
  {
   "cell_type": "code",
   "execution_count": 12,
   "id": "5d6dad93-d5c7-4197-a759-af2dc653592b",
   "metadata": {},
   "outputs": [
    {
     "data": {
      "text/plain": [
       "dict_keys(['a', 'b'])"
      ]
     },
     "execution_count": 12,
     "metadata": {},
     "output_type": "execute_result"
    }
   ],
   "source": [
    " d1.keys()"
   ]
  },
  {
   "cell_type": "code",
   "execution_count": 20,
   "id": "7b338d23-68e8-4684-b525-29c780f4feef",
   "metadata": {},
   "outputs": [
    {
     "data": {
      "text/plain": [
       "{'a': 1, 'b': [2, 3], 'c': 4}"
      ]
     },
     "execution_count": 20,
     "metadata": {},
     "output_type": "execute_result"
    }
   ],
   "source": [
    "combine_dict(d1,d2)"
   ]
  },
  {
   "cell_type": "markdown",
   "id": "ca11e32c-05ed-4d4b-8185-f9e599a3e187",
   "metadata": {},
   "source": [
    "get_dummies, from_dummies, melt,\n",
    "wide_to_long,\n",
    "stack, unstack (multi indexing concept including....)\n",
    "cut, squeeze, explode\n",
    "2 more extra functions ... from pandas docuentatiin explore any two functions which have not been done in class"
   ]
  },
  {
   "cell_type": "markdown",
   "id": "bcb6c5af-b244-4a8a-be28-ea3bb3a4d33e",
   "metadata": {},
   "source": [
    "Try to print reversed \"string\" without using indexing and loops"
   ]
  },
  {
   "cell_type": "code",
   "execution_count": 23,
   "id": "673de354-d7b1-497d-b220-1a26c14427c8",
   "metadata": {},
   "outputs": [],
   "source": [
    "a='hari'\n",
    "b=list(a)"
   ]
  },
  {
   "cell_type": "code",
   "execution_count": 25,
   "id": "caaa84b1-daa3-4d06-8665-9adca1f6a2ac",
   "metadata": {},
   "outputs": [
    {
     "data": {
      "text/plain": [
       "'hari'"
      ]
     },
     "execution_count": 25,
     "metadata": {},
     "output_type": "execute_result"
    }
   ],
   "source": [
    "\"\".join(map(lambda x:x,b))"
   ]
  },
  {
   "cell_type": "code",
   "execution_count": 26,
   "id": "f31e7a08-900e-4f3b-8986-1c262601ba11",
   "metadata": {},
   "outputs": [
    {
     "ename": "NameError",
     "evalue": "name 'reverse' is not defined",
     "output_type": "error",
     "traceback": [
      "\u001b[1;31m---------------------------------------------------------------------------\u001b[0m",
      "\u001b[1;31mNameError\u001b[0m                                 Traceback (most recent call last)",
      "Cell \u001b[1;32mIn[26], line 1\u001b[0m\n\u001b[1;32m----> 1\u001b[0m reverse(a)\n",
      "\u001b[1;31mNameError\u001b[0m: name 'reverse' is not defined"
     ]
    }
   ],
   "source": [
    "reverse(a)"
   ]
  },
  {
   "cell_type": "code",
   "execution_count": 27,
   "id": "1a305bbe-eeae-41bd-8c79-d302f5f4aae9",
   "metadata": {},
   "outputs": [],
   "source": [
    "from collections import deque\n",
    "def reverse(iterable):\n",
    "    d = deque()\n",
    "    d.extendleft(iterable)\n",
    "    return ''.join(d)"
   ]
  },
  {
   "cell_type": "code",
   "execution_count": 28,
   "id": "18336ea1-a03a-4e6c-9522-6b560fbc9db0",
   "metadata": {},
   "outputs": [
    {
     "data": {
      "text/plain": [
       "'irah'"
      ]
     },
     "execution_count": 28,
     "metadata": {},
     "output_type": "execute_result"
    }
   ],
   "source": [
    "reverse(a)"
   ]
  },
  {
   "cell_type": "code",
   "execution_count": 33,
   "id": "26995d4b-8631-433d-8937-8f405895ecc2",
   "metadata": {},
   "outputs": [],
   "source": []
  },
  {
   "cell_type": "code",
   "execution_count": 34,
   "id": "48358ceb-31be-411e-9094-73c02cbf0ffe",
   "metadata": {},
   "outputs": [],
   "source": [
    "from collections import deque\n",
    "\n",
    "def reverse(iterable):\n",
    "    d = deque(iterable)  # Create a deque from the iterable\n",
    "    d.reverse()  # Reverse the deque in-place\n",
    "    return ''.join(d) if isinstance(iterable, str) else list(d) "
   ]
  },
  {
   "cell_type": "code",
   "execution_count": 35,
   "id": "41cd4f95-2baa-4e9d-8e3a-67aa51e9f941",
   "metadata": {},
   "outputs": [
    {
     "data": {
      "text/plain": [
       "'irah'"
      ]
     },
     "execution_count": 35,
     "metadata": {},
     "output_type": "execute_result"
    }
   ],
   "source": [
    "reverse(a)"
   ]
  },
  {
   "cell_type": "code",
   "execution_count": 38,
   "id": "0988259b-a0ff-41d8-b7b1-bb54b47c55c2",
   "metadata": {},
   "outputs": [],
   "source": [
    "deque('hari').reverse()"
   ]
  },
  {
   "cell_type": "code",
   "execution_count": 48,
   "id": "aa5ff2e4-5b4f-40ac-b9f3-54a73e741736",
   "metadata": {},
   "outputs": [],
   "source": [
    "c=list(a)"
   ]
  },
  {
   "cell_type": "code",
   "execution_count": 50,
   "id": "2f1932e7-1499-476f-9469-213d384403a1",
   "metadata": {},
   "outputs": [],
   "source": [
    "c.reverse()"
   ]
  },
  {
   "cell_type": "code",
   "execution_count": 52,
   "id": "62eca9a6-fe21-4438-af86-284c9d536687",
   "metadata": {},
   "outputs": [
    {
     "data": {
      "text/plain": [
       "'irah'"
      ]
     },
     "execution_count": 52,
     "metadata": {},
     "output_type": "execute_result"
    }
   ],
   "source": [
    "''.join(c) #if isinstance(a, str) else list(c)"
   ]
  },
  {
   "cell_type": "code",
   "execution_count": 53,
   "id": "0891366d-2596-4b60-8b4d-6ae7b1b89e81",
   "metadata": {},
   "outputs": [],
   "source": [
    "def reverse (a:str)->str:\n",
    "    b=list(a)\n",
    "    b.reverse()\n",
    "    return ''.join(b)"
   ]
  },
  {
   "cell_type": "code",
   "execution_count": 54,
   "id": "9dec2c42-e8f2-4a6b-acfb-717bde7842e1",
   "metadata": {},
   "outputs": [
    {
     "data": {
      "text/plain": [
       "'irah'"
      ]
     },
     "execution_count": 54,
     "metadata": {},
     "output_type": "execute_result"
    }
   ],
   "source": [
    "reverse('hari')"
   ]
  },
  {
   "cell_type": "code",
   "execution_count": 58,
   "id": "c43cef9c-8063-4239-ac7c-730de6e5fbd0",
   "metadata": {},
   "outputs": [],
   "source": [
    "def reverse(text):\n",
    "    if len(text) <= 1:\n",
    "        return text\n",
    "    print(text[1:]+text[0])\n",
    "    return reverse(text[1:]) + text[0]"
   ]
  },
  {
   "cell_type": "code",
   "execution_count": 59,
   "id": "38b0af76-c8df-4f8f-b4bf-ee32ed9d6bf1",
   "metadata": {},
   "outputs": [
    {
     "name": "stdout",
     "output_type": "stream",
     "text": [
      "arih\n",
      "ria\n",
      "ir\n"
     ]
    },
    {
     "data": {
      "text/plain": [
       "'irah'"
      ]
     },
     "execution_count": 59,
     "metadata": {},
     "output_type": "execute_result"
    }
   ],
   "source": [
    "reverse('hari')"
   ]
  },
  {
   "cell_type": "code",
   "execution_count": null,
   "id": "f28a4eeb-6bdc-4f73-8c8b-486058603f75",
   "metadata": {},
   "outputs": [],
   "source": []
  }
 ],
 "metadata": {
  "kernelspec": {
   "display_name": "Python 3 (ipykernel)",
   "language": "python",
   "name": "python3"
  },
  "language_info": {
   "codemirror_mode": {
    "name": "ipython",
    "version": 3
   },
   "file_extension": ".py",
   "mimetype": "text/x-python",
   "name": "python",
   "nbconvert_exporter": "python",
   "pygments_lexer": "ipython3",
   "version": "3.12.7"
  }
 },
 "nbformat": 4,
 "nbformat_minor": 5
}
