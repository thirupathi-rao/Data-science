{
 "cells": [
  {
   "cell_type": "raw",
   "id": "d0b87dc8-b008-4b2e-8c20-43bb8b18fe11",
   "metadata": {},
   "source": [
    "Neo has a complex matrix script. The matrix script is a  X  grid of strings. It consists of alphanumeric characters, spaces and symbols (!,@,#,$,%,&).\n",
    "\n",
    "Capture.JPG\n",
    "\n",
    "To decode the script, Neo needs to read each column and select only the alphanumeric characters and connect them. Neo reads the column from top to bottom and starts reading from the leftmost column.\n",
    "\n",
    "If there are symbols or spaces between two alphanumeric characters of the decoded script, then Neo replaces them with a single space '' for better readability.\n",
    "\n",
    "Neo feels that there is no need to use 'if' conditions for decoding.\n",
    "\n",
    "Alphanumeric characters consist of: [A-Z, a-z, and 0-9].\n",
    "\n",
    "Input Format\n",
    "\n",
    "The first line contains space-separated integers  (rows) and  (columns) respectively.\n",
    "The next  lines contain the row elements of the matrix script.\n",
    "\n",
    "Constraints\n",
    "\n",
    "\n",
    "Note: A  score will be awarded for using 'if' conditions in your code.\n",
    "\n",
    "Output Format\n",
    "\n",
    "Print the decoded matrix script.\n",
    "\n",
    "Sample Input 0\n",
    "\n",
    "7 3\n",
    "Tsi\n",
    "h%x\n",
    "i #\n",
    "sM \n",
    "$a \n",
    "#t%\n",
    "ir!\n",
    "Sample Output 0\n",
    "\n",
    "This is Matrix#  %!\n",
    "Explanation 0\n",
    "\n",
    "The decoded script is:\n",
    "\n",
    "This$#is% Matrix#  %!\n",
    "Neo replaces the symbols or spaces between two alphanumeric characters with a single space   ' ' for better readability.\n",
    "\n",
    "So, the final decoded script is:\n",
    "\n",
    "This is Matrix#  %!"
   ]
  },
  {
   "cell_type": "code",
   "execution_count": 1,
   "id": "d3d0623b-69c1-4ff6-9642-940c2fa65ada",
   "metadata": {},
   "outputs": [
    {
     "name": "stdin",
     "output_type": "stream",
     "text": [
      " 7 3\n",
      " tsi\n",
      " h%x\n",
      " i #\n",
      " sM \n",
      " $a \n",
      " #t%\n",
      " ir!\n"
     ]
    },
    {
     "name": "stdout",
     "output_type": "stream",
     "text": [
      "this is Matrix#  %!\n"
     ]
    }
   ],
   "source": [
    "import re\n",
    "\n",
    "# Input the matrix dimensions\n",
    "rows, cols = map(int, input().split())\n",
    "\n",
    "# Read the matrix rows\n",
    "matrix = [input() for _ in range(rows)]\n",
    "\n",
    "# Transpose the matrix to read columns as rows\n",
    "decoded_string = ''.join([''.join(row) for row in zip(*matrix)])\n",
    "\n",
    "# Replace non-alphanumeric characters between alphanumeric sequences with a single space\n",
    "cleaned_string = re.sub(r'(?<=\\w)[^A-Za-z0-9]+(?=\\w)', ' ', decoded_string)\n",
    "\n",
    "# Print the result\n",
    "print(cleaned_string)\n"
   ]
  },
  {
   "cell_type": "code",
   "execution_count": null,
   "id": "cc8cb132-c95d-4ff2-bfac-c6868dcfe389",
   "metadata": {},
   "outputs": [],
   "source": [
    "import math\n",
    "import os\n",
    "import random\n",
    "import re\n",
    "import sys\n",
    "\n",
    "# Input the matrix dimensions\n",
    "first_multiple_input = input().rstrip().split()\n",
    "n = int(first_multiple_input[0])  # Number of rows\n",
    "m = int(first_multiple_input[1])  # Number of columns\n",
    "\n",
    "# Read the matrix rows\n",
    "matrix = []\n",
    "for _ in range(n):\n",
    "    matrix_item = input()\n",
    "    matrix.append(matrix_item)\n",
    "\n",
    "# Decode the matrix script\n",
    "# Transpose the matrix to read columns as rows\n",
    "decoded_string = ''.join([''.join(row) for row in zip(*matrix)])\n",
    "\n",
    "# Replace non-alphanumeric characters between alphanumeric sequences with a single space\n",
    "cleaned_string = re.sub(r'(?<=\\w)[^A-Za-z0-9]+(?=\\w)', ' ', decoded_string)\n",
    "\n",
    "# Print the final decoded script\n",
    "print(cleaned_string)\n"
   ]
  },
  {
   "cell_type": "markdown",
   "id": "d6148aa3-4d09-4dc7-bd7f-8e05885bd705",
   "metadata": {},
   "source": [
    "# Explanation:\n",
    "# Input Parsing:\n",
    "\n",
    "- n and m are the number of rows and columns, respectively.\n",
    "- The matrix is populated with n rows of strings.\n",
    "# Decoding Logic:\n",
    "\n",
    "- Use zip(*matrix) to transpose the matrix and read columns as rows.\n",
    "- Concatenate the transposed rows into a single string (decoded_string).\n",
    "#Cleaning the Decoded String:\n",
    "\n",
    "- Apply the regular expression re.sub(r'(?<=\\w)[^A-Za-z0-9]+(?=\\w)', ' ', decoded_string):\n",
    "- Matches non-alphanumeric characters ([^A-Za-z0-9]+) between alphanumeric characters ((?<=\\w) and (?=\\w)).\n",
    "- Replaces them with a single space.\n",
    "# Output:\n",
    "\n",
    "Print the cleaned and decoded script."
   ]
  },
  {
   "cell_type": "code",
   "execution_count": 6,
   "id": "8a72cdfa-c881-4454-be78-8aeb4fe5f9ef",
   "metadata": {},
   "outputs": [
    {
     "data": {
      "text/plain": [
       "[('T', 'h', 'i', 's', '$', '#', 'i'),\n",
       " ('s', '%', ' ', 'M', 'a', 't', 'r'),\n",
       " ('i', 'x', '#', ' ', ' ', '%', '!')]"
      ]
     },
     "execution_count": 6,
     "metadata": {},
     "output_type": "execute_result"
    }
   ],
   "source": [
    "matrix = [\"Tsi\",\n",
    "          \"h%x\",\n",
    "          \"i #\",\n",
    "          \"sM \",\n",
    "          \"$a \",\n",
    "          \"#t%\",\n",
    "          \"ir!\"]\n",
    "\n",
    "'''zip(*matrix) = [\n",
    "    ('T', 'h', 'i', 's', '$', '#', 'i'),  # Column 1\n",
    "    ('s', '%', ' ', 'M', 'a', 't', 'r'),  # Column 2\n",
    "    ('i', 'x', '#', ' ', ' ', '%', '!')   # Column 3\n",
    "]'''\n",
    "list(zip(*matrix))"
   ]
  },
  {
   "cell_type": "code",
   "execution_count": null,
   "id": "b85d545a-b7dc-4f06-9e49-dd08e9f85167",
   "metadata": {},
   "outputs": [],
   "source": []
  }
 ],
 "metadata": {
  "kernelspec": {
   "display_name": "Python 3 (ipykernel)",
   "language": "python",
   "name": "python3"
  },
  "language_info": {
   "codemirror_mode": {
    "name": "ipython",
    "version": 3
   },
   "file_extension": ".py",
   "mimetype": "text/x-python",
   "name": "python",
   "nbconvert_exporter": "python",
   "pygments_lexer": "ipython3",
   "version": "3.12.7"
  }
 },
 "nbformat": 4,
 "nbformat_minor": 5
}
