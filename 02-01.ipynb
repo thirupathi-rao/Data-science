{
 "cells": [
  {
   "cell_type": "markdown",
   "id": "315da14f-b35f-4af1-9a80-aedf27326953",
   "metadata": {},
   "source": [
    "create a class as stats... define user defined methods like mean, median, mode, var, std.... create objects and calculate the values...."
   ]
  },
  {
   "cell_type": "code",
   "execution_count": 40,
   "id": "c6fb2965-e996-4c7b-acde-3bbb2bf0dd6d",
   "metadata": {},
   "outputs": [],
   "source": [
    "class my_stats:\n",
    "    def __init__(s,a):\n",
    "        s.a=a\n",
    "    def my_mean(s):\n",
    "        b=0\n",
    "        c=0\n",
    "        for i in s.a:\n",
    "            b+=i\n",
    "            c+=1\n",
    "        return f'mean of given numbers is {b/c}'\n",
    "    \n",
    "    def my_median(s):\n",
    "        count=0\n",
    "        for i in s.a:\n",
    "            count+=1\n",
    "        a=count//2-1\n",
    "        b=(count//2)\n",
    "        if count%2==0:\n",
    "            return f'median is {(s.a[a]+s.a[b])/2}'\n",
    "        else:\n",
    "            return f'median is {s.a[b]}'\n",
    "    \n",
    "    def my_mode(s):\n",
    "        \n",
    "        d={}\n",
    "        for i in s.a:\n",
    "            if i in d:\n",
    "                d[i]+=1\n",
    "            else:\n",
    "                d[i]=1\n",
    "        max_value=max(d.values())\n",
    "        mode=[i for i,j in d.items() if max_value==j]\n",
    "        return f'mode will be {mode[0]}'\n",
    "    \n",
    "    def my_var(s):\n",
    "        b=0\n",
    "        c=0\n",
    "        for i in s.a:\n",
    "            b+=i\n",
    "            c+=1\n",
    "        m=b/c\n",
    "        a=0\n",
    "        d=0\n",
    "        while d<c:\n",
    "            a+=((s.a[d]-m)**2)\n",
    "            d+=1\n",
    "        v=a/c\n",
    "        return f'varience will be {v}'\n",
    "    \n",
    "    def std_dev(s):\n",
    "        b=0\n",
    "        c=0\n",
    "        for i in s.a:\n",
    "            b+=i\n",
    "            c+=1\n",
    "        m=b/c\n",
    "        a=0\n",
    "        d=0\n",
    "        while d<c:\n",
    "            a+=((s.a[d]-m)**2)\n",
    "            d+=1\n",
    "        v=a/c\n",
    "        s=v**(1/2)\n",
    "        return f'standed deviation will be {s}'\n",
    "        "
   ]
  },
  {
   "cell_type": "code",
   "execution_count": 41,
   "id": "fa50f5bf-cd79-4b22-bef6-94d6e93800f0",
   "metadata": {},
   "outputs": [],
   "source": [
    "c=my_stats([1,2,3,4,5])"
   ]
  },
  {
   "cell_type": "code",
   "execution_count": 42,
   "id": "1d7613be-d68a-423b-992d-d7142b6785d0",
   "metadata": {},
   "outputs": [
    {
     "data": {
      "text/plain": [
       "'mean of given numbers is 3.0'"
      ]
     },
     "execution_count": 42,
     "metadata": {},
     "output_type": "execute_result"
    }
   ],
   "source": [
    "c.my_mean()"
   ]
  },
  {
   "cell_type": "code",
   "execution_count": 43,
   "id": "d0c4d1c4-4d8a-4b26-a9a2-7e0245efd08e",
   "metadata": {},
   "outputs": [
    {
     "data": {
      "text/plain": [
       "'median is 3'"
      ]
     },
     "execution_count": 43,
     "metadata": {},
     "output_type": "execute_result"
    }
   ],
   "source": [
    "c.my_median()"
   ]
  },
  {
   "cell_type": "code",
   "execution_count": 44,
   "id": "d9bd0b38-4ac7-45dc-88b9-f0a419ec09a3",
   "metadata": {},
   "outputs": [
    {
     "data": {
      "text/plain": [
       "'mode will be 1'"
      ]
     },
     "execution_count": 44,
     "metadata": {},
     "output_type": "execute_result"
    }
   ],
   "source": [
    "c.my_mode()"
   ]
  },
  {
   "cell_type": "code",
   "execution_count": 45,
   "id": "2019aa88-8957-4fb6-aaa9-e3a11fb36560",
   "metadata": {},
   "outputs": [
    {
     "data": {
      "text/plain": [
       "'varience will be 2.0'"
      ]
     },
     "execution_count": 45,
     "metadata": {},
     "output_type": "execute_result"
    }
   ],
   "source": [
    "c.my_var()"
   ]
  },
  {
   "cell_type": "code",
   "execution_count": 46,
   "id": "b11fb3ca-f0ac-40d5-933d-6b9f129ee7c8",
   "metadata": {},
   "outputs": [
    {
     "data": {
      "text/plain": [
       "'standed deviation will be 1.4142135623730951'"
      ]
     },
     "execution_count": 46,
     "metadata": {},
     "output_type": "execute_result"
    }
   ],
   "source": [
    "c.std_dev()"
   ]
  },
  {
   "cell_type": "code",
   "execution_count": null,
   "id": "338f0ae8-74c0-481a-a5f1-9da751075897",
   "metadata": {},
   "outputs": [],
   "source": []
  }
 ],
 "metadata": {
  "kernelspec": {
   "display_name": "Python 3 (ipykernel)",
   "language": "python",
   "name": "python3"
  },
  "language_info": {
   "codemirror_mode": {
    "name": "ipython",
    "version": 3
   },
   "file_extension": ".py",
   "mimetype": "text/x-python",
   "name": "python",
   "nbconvert_exporter": "python",
   "pygments_lexer": "ipython3",
   "version": "3.12.7"
  }
 },
 "nbformat": 4,
 "nbformat_minor": 5
}
