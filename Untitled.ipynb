{
 "cells": [
  {
   "cell_type": "code",
   "execution_count": 3,
   "id": "b0616978-cd2b-4775-9592-aeb0b9c8b5b1",
   "metadata": {},
   "outputs": [
    {
     "name": "stdout",
     "output_type": "stream",
     "text": [
      "9\n"
     ]
    },
    {
     "data": {
      "text/plain": [
       "[3, 10, 7, 9, 2, 5]"
      ]
     },
     "execution_count": 3,
     "metadata": {},
     "output_type": "execute_result"
    }
   ],
   "source": [
    "l1=[3,7,9,2,5]\n",
    "print(l1[2])\n",
    "l1.insert(1,10)\n",
    "l1"
   ]
  },
  {
   "cell_type": "code",
   "execution_count": null,
   "id": "01d38d3a-7a10-45bb-b010-c6b0b463c943",
   "metadata": {},
   "outputs": [],
   "source": [
    "t1=(4,8,12,16)\n",
    "#cannot change values in tuple"
   ]
  },
  {
   "cell_type": "code",
   "execution_count": 14,
   "id": "1fa91944-ec0d-4678-9edd-bbc0b65afc91",
   "metadata": {},
   "outputs": [
    {
     "name": "stdout",
     "output_type": "stream",
     "text": [
      "True\n"
     ]
    }
   ],
   "source": [
    "nums=[1,5,9,14]\n",
    "print(5 in nums)"
   ]
  },
  {
   "cell_type": "code",
   "execution_count": 6,
   "id": "fef06b27-d6a4-405a-94d6-4e950f2fd24c",
   "metadata": {},
   "outputs": [
    {
     "data": {
      "text/plain": [
       "[5, 6, 7, 8]"
      ]
     },
     "execution_count": 6,
     "metadata": {},
     "output_type": "execute_result"
    }
   ],
   "source": [
    "l2=[1,2,3,4,5,6,7,8,9,10]\n",
    "l2[4:8]"
   ]
  },
  {
   "cell_type": "code",
   "execution_count": 10,
   "id": "ac247cf6-4e10-4aee-8fc3-a3e314e0b840",
   "metadata": {},
   "outputs": [
    {
     "data": {
      "text/plain": [
       "[1, 2, 3, 4, 5, 6, 7, 8, 26, 2001]"
      ]
     },
     "execution_count": 10,
     "metadata": {},
     "output_type": "execute_result"
    }
   ],
   "source": [
    "l2.insert(8,26)\n",
    "l2.insert(9,2001)\n",
    "l2[:10]"
   ]
  },
  {
   "cell_type": "code",
   "execution_count": 13,
   "id": "d177e169-fe0a-48f4-b4c9-c7a7c3e81456",
   "metadata": {},
   "outputs": [
    {
     "data": {
      "text/plain": [
       "['red', 'green', 'yellow']"
      ]
     },
     "execution_count": 13,
     "metadata": {},
     "output_type": "execute_result"
    }
   ],
   "source": [
    "l3=['red','green','blue']\n",
    "l3.append('yellow')\n",
    "l3.pop(2)\n",
    "l3"
   ]
  },
  {
   "cell_type": "code",
   "execution_count": 16,
   "id": "d4db3bcc-5c08-4bc3-9bf5-770e79d7bcc7",
   "metadata": {},
   "outputs": [
    {
     "name": "stdout",
     "output_type": "stream",
     "text": [
      "60\n",
      "36\n"
     ]
    }
   ],
   "source": [
    "l4=[12,24,36,48,60]\n",
    "print(l4[-1])\n",
    "print(l4[-3])"
   ]
  },
  {
   "cell_type": "code",
   "execution_count": 21,
   "id": "39d8a33a-da87-4911-955f-a58d8da4218a",
   "metadata": {},
   "outputs": [
    {
     "name": "stdout",
     "output_type": "stream",
     "text": [
      "[1, 2, 3, 4, 5, 6]\n",
      "[6, 5, 4, 3, 2, 1]\n"
     ]
    }
   ],
   "source": [
    "l5=[1,2,3]\n",
    "l6=[4,5,6]\n",
    "com_list=l5+l6\n",
    "print(com_list)\n",
    "com_list.sort(reverse=True)\n",
    "print(com_list)"
   ]
  },
  {
   "cell_type": "code",
   "execution_count": 22,
   "id": "7db09720-74c5-46ee-bbfd-d74f04b0051d",
   "metadata": {},
   "outputs": [
    {
     "name": "stdout",
     "output_type": "stream",
     "text": [
      "5\n"
     ]
    }
   ],
   "source": [
    "co_ord=(3,4,5)\n",
    "x=co_ord[0]\n",
    "y=co_ord[1]\n",
    "z=co_ord[2]\n",
    "print(z)"
   ]
  },
  {
   "cell_type": "markdown",
   "id": "b377d83e-4764-4c4c-b936-725e9dcdaf0f",
   "metadata": {},
   "source": [
    "# another day"
   ]
  },
  {
   "cell_type": "code",
   "execution_count": 1,
   "id": "8a2e8ede-b677-42fc-90c2-8d7db5114ef0",
   "metadata": {},
   "outputs": [
    {
     "data": {
      "text/plain": [
       "{'name': ['nick', 'jon', 'mark', 'dan'],\n",
       " 'age': [30, 31, 32, 33],\n",
       " 'place': ['hyd', 'goa', 'ny', 'la']}"
      ]
     },
     "execution_count": 1,
     "metadata": {},
     "output_type": "execute_result"
    }
   ],
   "source": [
    "dic1={'name':['nick','jon','mark','dan'],'age':[30,31,32,33],'place':['hyd','goa','ny','la']}\n",
    "dic1"
   ]
  },
  {
   "cell_type": "code",
   "execution_count": 3,
   "id": "0c685a61-c8dd-4583-9cbd-ef26fa88205c",
   "metadata": {},
   "outputs": [
    {
     "name": "stdout",
     "output_type": "stream",
     "text": [
      "{'name': ['nick', 'jon', 'mark', 'dan'], 'grade': [30, 31, 32, 33], 'age': [16, 16, 16, 15], 'school': 'dps'}\n"
     ]
    }
   ],
   "source": [
    "student={'name':['nick','jon','mark','dan'],'grade':[30,31,32,33],'age':[14,14,15,14]}\n",
    "student['age']=[16,16,16,15]\n",
    "student['school']='dps'\n",
    "print(student)"
   ]
  },
  {
   "cell_type": "code",
   "execution_count": 5,
   "id": "036c5005-385b-4d91-a94c-09ee3c35fc2a",
   "metadata": {},
   "outputs": [
    {
     "data": {
      "text/plain": [
       "True"
      ]
     },
     "execution_count": 5,
     "metadata": {},
     "output_type": "execute_result"
    }
   ],
   "source": [
    "'nick' in student['name']"
   ]
  },
  {
   "cell_type": "code",
   "execution_count": 7,
   "id": "dbfe59ed-05d3-4c4a-a120-e05391a09ed0",
   "metadata": {},
   "outputs": [
    {
     "name": "stdout",
     "output_type": "stream",
     "text": [
      "{'name': ['nick', 'jon', 'mark', 'dan'], 'grade': [30, 31, 32, 33], 'collage': 'mallareddy collage'}\n"
     ]
    }
   ],
   "source": [
    "student.popitem()\n",
    "student['collage']='mallareddy collage'\n",
    "\n",
    "print(student)"
   ]
  },
  {
   "cell_type": "code",
   "execution_count": 17,
   "id": "7b709bc9-95c3-48be-8c45-be9450f09aca",
   "metadata": {},
   "outputs": [
    {
     "name": "stdout",
     "output_type": "stream",
     "text": [
      "{'name': ['nick', 'jon', 'mark', 'dan'], 'grade': [30, 31, 32, 33], 'collage': 'mallareddy collage'}\n"
     ]
    }
   ],
   "source": [
    "student.popitem()\n",
    "student.setdefault('collage','mallareddy collage')\n",
    "\n",
    "print(student)"
   ]
  },
  {
   "cell_type": "code",
   "execution_count": 10,
   "id": "5a2ea649-9a66-422d-af3e-660422a6eec3",
   "metadata": {},
   "outputs": [
    {
     "name": "stdout",
     "output_type": "stream",
     "text": [
      "{'name': 'DTR', 'age': 23, 'blood group': 'o+', 'occupation': 'unemployed', 'city': 'peddapli', 'residence': 'sulthanabad'}\n"
     ]
    }
   ],
   "source": [
    "my={'name':'DTR','age':23,'blood group':'o+'}\n",
    "my2={'occupation':'unemployed','city':'peddapli','residence':'sulthanabad'}\n",
    "combo=my|my2\n",
    "print(combo)"
   ]
  },
  {
   "cell_type": "code",
   "execution_count": 16,
   "id": "4033f22d-fa69-4925-915e-b38de8a9b7f6",
   "metadata": {},
   "outputs": [
    {
     "name": "stdout",
     "output_type": "stream",
     "text": [
      "{'name': 'DTR', 'age': 23, 'blood group': 'o+', 'occupation': 'unemployed', 'city': 'peddapli', 'residence': 'sulthanabad'}\n"
     ]
    }
   ],
   "source": [
    "my={'name':'DTR','age':23,'blood group':'o+'}\n",
    "my2={'occupation':'unemployed','city':'peddapli','residence':'sulthanabad'}\n",
    "combo={**my,**my2}\n",
    "print(combo)"
   ]
  },
  {
   "cell_type": "code",
   "execution_count": 13,
   "id": "e6dbd651-1c0f-4ef6-afb1-9d492970ff33",
   "metadata": {},
   "outputs": [
    {
     "name": "stdout",
     "output_type": "stream",
     "text": [
      "{'mark': 21, 'dan': 22, 'lan': 23}\n"
     ]
    }
   ],
   "source": [
    "l1=['mark','dan','lan']\n",
    "l2=[21,22,23]\n",
    "dic={}\n",
    "for i in range(len(l1)):\n",
    "    dic[l1[i]]=l2[i]\n",
    "print(dic)    \n",
    "    "
   ]
  },
  {
   "cell_type": "code",
   "execution_count": 15,
   "id": "bfb613bc-feca-4192-9fec-a19fae30010b",
   "metadata": {},
   "outputs": [
    {
     "name": "stdout",
     "output_type": "stream",
     "text": [
      "{'mark': [21, 22, 23], 'dan': [21, 22, 23], 'lan': [21, 22, 23]}\n"
     ]
    }
   ],
   "source": [
    "l1=['mark','dan','lan']\n",
    "l2=[21,22,23]\n",
    "x=dict.fromkeys(l1,l2)\n",
    "print(x)"
   ]
  },
  {
   "cell_type": "code",
   "execution_count": null,
   "id": "6adca6c2-be1c-4384-a8ce-4cfc6d25fef9",
   "metadata": {},
   "outputs": [],
   "source": []
  }
 ],
 "metadata": {
  "kernelspec": {
   "display_name": "Python 3 (ipykernel)",
   "language": "python",
   "name": "python3"
  },
  "language_info": {
   "codemirror_mode": {
    "name": "ipython",
    "version": 3
   },
   "file_extension": ".py",
   "mimetype": "text/x-python",
   "name": "python",
   "nbconvert_exporter": "python",
   "pygments_lexer": "ipython3",
   "version": "3.12.7"
  }
 },
 "nbformat": 4,
 "nbformat_minor": 5
}
