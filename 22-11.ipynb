{
 "cells": [
  {
   "cell_type": "code",
   "execution_count": null,
   "id": "b29a0219-e38b-4c3a-992b-cd1c42ffb80d",
   "metadata": {},
   "outputs": [],
   "source": [
    "1. Write a program to count the total number of digits in a number.\n"
   ]
  },
  {
   "cell_type": "code",
   "execution_count": 2,
   "id": "683282fd-d5cf-48c4-b551-b3316da999f5",
   "metadata": {},
   "outputs": [
    {
     "name": "stdin",
     "output_type": "stream",
     "text": [
      "enter a number  666\n"
     ]
    },
    {
     "name": "stdout",
     "output_type": "stream",
     "text": [
      "number of digits in entered number 3\n"
     ]
    }
   ],
   "source": [
    "inp=input('enter a number ')\n",
    "if inp.isdigit():\n",
    "    print('number of digits in entered number',len(inp))\n",
    "else:\n",
    "    print('enter a valid input')"
   ]
  },
  {
   "cell_type": "code",
   "execution_count": null,
   "id": "74fb074a-6863-4f9d-b4e7-674194be0568",
   "metadata": {},
   "outputs": [],
   "source": [
    "2. Write a Python program that accepts a string and calculates the number of digits and\n",
    "letters.\n"
   ]
  },
  {
   "cell_type": "code",
   "execution_count": 3,
   "id": "42f0634d-f962-4be4-85c1-03bf987290fc",
   "metadata": {},
   "outputs": [
    {
     "name": "stdin",
     "output_type": "stream",
     "text": [
      " 234d5f6g78\n"
     ]
    },
    {
     "name": "stdout",
     "output_type": "stream",
     "text": [
      "Number of Digit is 7\n",
      "Number of Alphabets is 3\n"
     ]
    }
   ],
   "source": [
    "x,st=0,input()\n",
    "for i in st:\n",
    "\tif (i.isalpha()):\n",
    "\t\tx+=1\n",
    "print(\"Number of Digit is\", len(st)-x)\n",
    "print(\"Number of Alphabets is\", x)\n"
   ]
  },
  {
   "cell_type": "code",
   "execution_count": null,
   "id": "5d1c8aff-09cb-499b-bdc8-f321436e7d3a",
   "metadata": {},
   "outputs": [],
   "source": []
  },
  {
   "cell_type": "code",
   "execution_count": null,
   "id": "a2e6a97a-2ba1-42e2-9562-f835e1bd33f1",
   "metadata": {},
   "outputs": [],
   "source": []
  },
  {
   "cell_type": "code",
   "execution_count": null,
   "id": "a9f440a3-cd5d-4d4c-9037-34ccafb28d14",
   "metadata": {},
   "outputs": [],
   "source": [
    "3. Write a program to print the below pattern using while loop\n"
   ]
  },
  {
   "cell_type": "code",
   "execution_count": 6,
   "id": "ebb21810-fb0d-4ff1-a729-dee6b8793ce6",
   "metadata": {},
   "outputs": [
    {
     "name": "stdout",
     "output_type": "stream",
     "text": [
      "*\n",
      "**\n",
      "***\n",
      "****\n",
      "*****\n"
     ]
    }
   ],
   "source": [
    "i=1\n",
    "while i<=5:\n",
    "    print('*'*i)\n",
    "    i+=1"
   ]
  },
  {
   "cell_type": "code",
   "execution_count": 16,
   "id": "6a025125-ceb6-42ee-afca-2475c40bfbcd",
   "metadata": {},
   "outputs": [
    {
     "name": "stdout",
     "output_type": "stream",
     "text": [
      "    A\n",
      "   BBB\n",
      "  CCCCC\n",
      " DDDDDDD\n",
      "EEEEEEEEE\n"
     ]
    }
   ],
   "source": [
    "a=('A','B','C','D','E')\n",
    "l1=[]\n",
    "n=4\n",
    "for i in range(1,11):\n",
    "    if i%2==0:\n",
    "        pass\n",
    "    else:\n",
    "        l1.append(i)\n",
    "for i in range (0,5):\n",
    "    print(' '*n+(a[i]*l1[i]))\n",
    "    n-=1"
   ]
  },
  {
   "cell_type": "code",
   "execution_count": 6,
   "id": "1f81ff5f-550c-428e-869b-482e54de2c1d",
   "metadata": {},
   "outputs": [
    {
     "name": "stdout",
     "output_type": "stream",
     "text": [
      "    A\n",
      "   BBB\n",
      "  CCCCC\n",
      " DDDDDDD\n",
      "EEEEEEEEE\n"
     ]
    }
   ],
   "source": [
    "n = 5\n",
    "i = 1\n",
    "while i <= n:\n",
    "    print(' ' * (n - i), end='')\n",
    "    # print character 'A' to 'E' based on the row number\n",
    "    print(chr(64 + i) * (2 * i - 1))\n",
    "    i += 1"
   ]
  },
  {
   "cell_type": "code",
   "execution_count": 20,
   "id": "fe02ea6f-1c31-40dd-8090-6b8f61e24b81",
   "metadata": {},
   "outputs": [
    {
     "name": "stdout",
     "output_type": "stream",
     "text": [
      "     *\n",
      "    **\n",
      "   * *\n",
      "  *  *\n",
      " *   *\n",
      "*    *\n",
      "**************\n"
     ]
    }
   ],
   "source": [
    "n=5\n",
    "for i in range(1,8):\n",
    "    if i==1:\n",
    "        print((' '*n)+('*'*i))\n",
    "        n-=1\n",
    "    elif i==2:\n",
    "        print((' '*n)+('*'*i))\n",
    "        n-=1\n",
    "    elif 2<i<=6:\n",
    "        print((' '*n)+('*'+(' '*(i-2))+'*'))\n",
    "        n-=1\n",
    "    elif 6<i:\n",
    "        print('*'*(i*2))"
   ]
  },
  {
   "cell_type": "code",
   "execution_count": 3,
   "id": "7ffb2c99-96e0-4cf6-88d3-f90ac6ce5477",
   "metadata": {},
   "outputs": [
    {
     "name": "stdout",
     "output_type": "stream",
     "text": [
      "     *\n",
      "    **\n",
      "   * *\n",
      "  *  *\n",
      " *   *\n",
      "*    *\n",
      "**************\n"
     ]
    }
   ],
   "source": [
    "n=5\n",
    "i=1\n",
    "while i<8:\n",
    "    if i==1:\n",
    "        print((' '*n)+('*'*i))\n",
    "        n-=1\n",
    "        i+=1\n",
    "    elif i==2:\n",
    "        print((' '*n)+('*'*i))\n",
    "        n-=1\n",
    "        i+=1\n",
    "    elif 2<i<=6:\n",
    "        print((' '*n)+('*'+(' '*(i-2))+'*'))\n",
    "        n-=1\n",
    "        i+=1\n",
    "    elif 6<i:\n",
    "        print('*'*(i*2))\n",
    "        i+=1"
   ]
  },
  {
   "cell_type": "code",
   "execution_count": 21,
   "id": "010f65ff-e0bf-4651-b931-acfd8d1627d4",
   "metadata": {},
   "outputs": [
    {
     "name": "stdout",
     "output_type": "stream",
     "text": [
      "*\n",
      "**\n",
      "* *\n",
      "*  *\n",
      "*   *\n",
      "*    *\n",
      "**************\n"
     ]
    }
   ],
   "source": [
    "for i in range(1,8):\n",
    "    if i==1 or i==2:\n",
    "        print('*'*i)\n",
    "    elif 2<i<=6:\n",
    "        print('*'+(' '*(i-2))+'*')\n",
    "    elif 6<i:\n",
    "        print('*'*(i*2))"
   ]
  },
  {
   "cell_type": "code",
   "execution_count": 4,
   "id": "dda555ee-f8eb-4b08-98d0-dd30d8b91b65",
   "metadata": {},
   "outputs": [
    {
     "name": "stdout",
     "output_type": "stream",
     "text": [
      "*\n",
      "**\n",
      "* *\n",
      "*  *\n",
      "*   *\n",
      "*    *\n",
      "**************\n"
     ]
    }
   ],
   "source": [
    "i=1\n",
    "while i<8:\n",
    "    if i==1 or i==2:\n",
    "        print('*'*i)\n",
    "        i+=1\n",
    "    elif 2<i<=6:\n",
    "        print('*'+(' '*(i-2))+'*')\n",
    "        i+=1\n",
    "    elif 6<i:\n",
    "        print('*'*(i*2))\n",
    "        i+=1"
   ]
  },
  {
   "cell_type": "code",
   "execution_count": null,
   "id": "f85cf49d-53e7-4c4a-afc3-33f5ce23c1f5",
   "metadata": {},
   "outputs": [],
   "source": [
    "4. Write a program which takes 10 integers as input using loop and print their average value\n",
    "on the screen"
   ]
  },
  {
   "cell_type": "code",
   "execution_count": 5,
   "id": "4d5c4795-9d0f-4032-b9b6-e2334076803d",
   "metadata": {},
   "outputs": [
    {
     "name": "stdin",
     "output_type": "stream",
     "text": [
      "enter a value 5\n",
      "enter a value 5\n",
      "enter a value 5\n",
      "enter a value 5\n",
      "enter a value 5\n",
      "enter a value 5\n",
      "enter a value 5\n",
      "enter a value 5\n",
      "enter a value 5\n",
      "enter a value 5\n"
     ]
    },
    {
     "name": "stdout",
     "output_type": "stream",
     "text": [
      "average of entered values 5.5\n"
     ]
    }
   ],
   "source": [
    "i=1\n",
    "y=0\n",
    "while i<11:\n",
    "    y=y+i\n",
    "    in1=int(input('enter a value'))\n",
    "    i+=1\n",
    "avg=y/10\n",
    "print('average of entered values',avg)\n",
    "    "
   ]
  },
  {
   "cell_type": "code",
   "execution_count": null,
   "id": "d3bfb08f-42da-464d-ad62-ddfc0726e355",
   "metadata": {},
   "outputs": [],
   "source": []
  }
 ],
 "metadata": {
  "kernelspec": {
   "display_name": "Python 3 (ipykernel)",
   "language": "python",
   "name": "python3"
  },
  "language_info": {
   "codemirror_mode": {
    "name": "ipython",
    "version": 3
   },
   "file_extension": ".py",
   "mimetype": "text/x-python",
   "name": "python",
   "nbconvert_exporter": "python",
   "pygments_lexer": "ipython3",
   "version": "3.12.7"
  }
 },
 "nbformat": 4,
 "nbformat_minor": 5
}
