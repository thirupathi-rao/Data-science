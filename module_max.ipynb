{
 "cells": [
  {
   "cell_type": "raw",
   "id": "92d30db3-f259-4365-b4c6-05d52828b9e0",
   "metadata": {},
   "source": [
    "You are given a function f(X) X 2. You are also given K lists. The it list consists\n",
    "of Ni elements.\n",
    "You have to pick one element from each list so that the value from the equation below\n",
    "is maximized:\n",
    "S = (f(X1) +f(X2) + +\n",
    "Xi denotes the element picked from the ith list . Find the maximized value S\n",
    "obtained.\n",
    "% denotes the modulo operator.\n",
    "Note that you need to take exactly one element from each list, not necessarily the\n",
    "largest element. You add the squares of the chosen elements and perform the modulo\n",
    "operation. The maximum value that you can obtain. will be the answer to the problem.\n",
    "Input Format\n",
    "The first line contains 2 space separated integers K and M.\n",
    "The next K lines each contains an integer Ni, denoting the number of elements in\n",
    "the ith list, followed by Ni space separated integers denoting the elements in the list.\n",
    "Constraints\n",
    "1 < M < 1000\n",
    "1 Magnitude of elements in list 109\n",
    "Output Format\n",
    "Output a single integer denoting the value Smar.\n",
    "Sample Input\n",
    "3789\n",
    "5578 9 10\n",
    "Sample Output\n",
    "206\n",
    "Explanation\n",
    "Picking 5 from the ISt list, 9 from the 2nd list and 10 from the 3rd list gives the\n",
    "maximum S value equal to (52 + 92 + = 206."
   ]
  },
  {
   "cell_type": "code",
   "execution_count": 2,
   "id": "5fb9bea8-6a1d-43f0-a1b8-6ea2af3faa88",
   "metadata": {},
   "outputs": [
    {
     "name": "stdout",
     "output_type": "stream",
     "text": [
      "[(2, 3, 5), (2, 3, 5), (2, 3, 7), (2, 3, 8), (2, 3, 9), (2, 3, 10), (2, 7, 5), (2, 7, 5), (2, 7, 7), (2, 7, 8), (2, 7, 9), (2, 7, 10), (2, 8, 5), (2, 8, 5), (2, 8, 7), (2, 8, 8), (2, 8, 9), (2, 8, 10), (2, 9, 5), (2, 9, 5), (2, 9, 7), (2, 9, 8), (2, 9, 9), (2, 9, 10), (5, 3, 5), (5, 3, 5), (5, 3, 7), (5, 3, 8), (5, 3, 9), (5, 3, 10), (5, 7, 5), (5, 7, 5), (5, 7, 7), (5, 7, 8), (5, 7, 9), (5, 7, 10), (5, 8, 5), (5, 8, 5), (5, 8, 7), (5, 8, 8), (5, 8, 9), (5, 8, 10), (5, 9, 5), (5, 9, 5), (5, 9, 7), (5, 9, 8), (5, 9, 9), (5, 9, 10), (4, 3, 5), (4, 3, 5), (4, 3, 7), (4, 3, 8), (4, 3, 9), (4, 3, 10), (4, 7, 5), (4, 7, 5), (4, 7, 7), (4, 7, 8), (4, 7, 9), (4, 7, 10), (4, 8, 5), (4, 8, 5), (4, 8, 7), (4, 8, 8), (4, 8, 9), (4, 8, 10), (4, 9, 5), (4, 9, 5), (4, 9, 7), (4, 9, 8), (4, 9, 9), (4, 9, 10)]\n"
     ]
    },
    {
     "data": {
      "text/plain": [
       "206"
      ]
     },
     "execution_count": 2,
     "metadata": {},
     "output_type": "execute_result"
    }
   ],
   "source": [
    "from itertools import product\n",
    "\n",
    "def maximize_modulo(k, m, lists):\n",
    "    \"\"\"\n",
    "    Maximizes the function S = (f(X1) + f(X2) + ... + f(XK)) % m, \n",
    "    where f(X) = X^2 and Xi is an element picked from the i-th list.\n",
    "    \n",
    "    Args:\n",
    "    - k (int): Number of lists.\n",
    "    - m (int): The modulo value.\n",
    "    - lists (list of lists): Each sublist contains integers.\n",
    "    \n",
    "    Returns:\n",
    "    - int: The maximum value of S.\n",
    "    \"\"\"\n",
    "    # Generate all combinations of one element from each list\n",
    "    all_combinations = list(product(*lists))\n",
    "    print(list(all_combinations))\n",
    "    \n",
    "    # Compute the maximum modulo value\n",
    "    max_value = 0\n",
    "    for combination in all_combinations:\n",
    "        current_sum = sum(x ** 2 for x in combination) % m\n",
    "        max_value = max(max_value, current_sum)\n",
    "    \n",
    "    return max_value\n",
    "\n",
    "# Test case input\n",
    "k = 3\n",
    "m = 1000\n",
    "lists = [\n",
    "    [2, 5, 4],\n",
    "    [3, 7, 8, 9],\n",
    "    [5, 5, 7, 8, 9, 10]\n",
    "]\n",
    "\n",
    "# Run the function\n",
    "maximize_modulo(k, m, lists)\n"
   ]
  },
  {
   "cell_type": "code",
   "execution_count": 3,
   "id": "81836f4b-1100-4a0d-b52f-ec123d54190d",
   "metadata": {},
   "outputs": [
    {
     "data": {
      "text/plain": [
       "206"
      ]
     },
     "execution_count": 3,
     "metadata": {},
     "output_type": "execute_result"
    }
   ],
   "source": [
    "from itertools import product\n",
    "def max_module(k,m,lists):\n",
    "    all_comb=list(product(*lists))\n",
    "    max_value=0\n",
    "    for i in all_comb:\n",
    "        current_sum=sum(x**2 for x in i)\n",
    "        max_value=max(max_value,current_sum)\n",
    "    return max_value\n",
    "lists = [\n",
    "    [2, 5, 4],\n",
    "    [3, 7, 8, 9],\n",
    "    [5, 5, 7, 8, 9, 10]\n",
    "]\n",
    "max_module(3,1000,lists)"
   ]
  },
  {
   "cell_type": "code",
   "execution_count": 10,
   "id": "35e894d9-28f3-4e96-a298-e450e451f99b",
   "metadata": {},
   "outputs": [
    {
     "name": "stdin",
     "output_type": "stream",
     "text": [
      "Enter the number of lists and modulo value (e.g., '3 1000'):  2 24\n",
      "Enter elements of list 1 (space-separated):  3 24 48 96\n",
      "Enter elements of list 2 (space-separated):  4 24 48 96 24\n"
     ]
    },
    {
     "name": "stdout",
     "output_type": "stream",
     "text": [
      "16\n"
     ]
    }
   ],
   "source": [
    "from itertools import product\n",
    "def max_module(k,m,lists):\n",
    "    all_comb=list(product(*lists))\n",
    "    max_value=0\n",
    "    for i in all_comb:\n",
    "        current_sum=sum(x**2 for x in i)%m\n",
    "        max_value=max(max_value,current_sum)\n",
    "    return max_value\n",
    "\n",
    "k, m = map(int, input(\"Enter the number of lists and modulo value (e.g., '3 1000'): \").split())\n",
    "\n",
    "lists = []\n",
    "for i in range(k):\n",
    "    lst = list(map(int, input(f\"Enter elements of list {i + 1} (space-separated): \").split()))\n",
    "    lists.append(lst)\n",
    "print(max_module(k,m,lists))"
   ]
  },
  {
   "cell_type": "code",
   "execution_count": 9,
   "id": "bcb8648c-efc2-4acc-975a-5aca6a1a030c",
   "metadata": {},
   "outputs": [
    {
     "name": "stdin",
     "output_type": "stream",
     "text": [
      "Enter the number of lists and modulo value (e.g., '3 1000'):  2 24\n",
      "Enter elements of list 1 (space-separated):  3 24 48 96\n",
      "Enter elements of list 2 (space-separated):  4 24 48 96 24\n"
     ]
    },
    {
     "name": "stdout",
     "output_type": "stream",
     "text": [
      "0\n"
     ]
    }
   ],
   "source": [
    "\n",
    "def max_module(k,m,lists):\n",
    "   \n",
    "    max_value=0\n",
    "    for i in lists:\n",
    "        current_sum=max(x**2 for x in i)\n",
    "        max_value+=current_sum\n",
    "    return max_value%m\n",
    "\n",
    "k, m = map(int, input(\"Enter the number of lists and modulo value (e.g., '3 1000'): \").split())\n",
    "\n",
    "lists = []\n",
    "for i in range(k):\n",
    "    lst = list(map(int, input(f\"Enter elements of list {i + 1} (space-separated): \").split()))\n",
    "    lists.append(lst)\n",
    "print(max_module(k,m,lists))"
   ]
  },
  {
   "cell_type": "code",
   "execution_count": 7,
   "id": "802dd2fb-7a7c-484d-8d3d-b9aa4dfdf092",
   "metadata": {},
   "outputs": [
    {
     "data": {
      "text/plain": [
       "748"
      ]
     },
     "execution_count": 7,
     "metadata": {},
     "output_type": "execute_result"
    }
   ],
   "source": [
    "((488512261**2)+(625040505**2)+(4553600**2)+(617699202**2)+(932097163**2)+(935903331**2))%767"
   ]
  },
  {
   "cell_type": "code",
   "execution_count": null,
   "id": "8662c881-2252-447a-a5b3-a83b011144e5",
   "metadata": {},
   "outputs": [],
   "source": [
    "Enter the number of lists and modulo value (e.g., '3 1000'):  6 767\n",
    "Enter elements of list 1 (space-separated):  2 488512261 423332742\n",
    "Enter elements of list 2 (space-separated):  2 625040505 443232774\n",
    "Enter elements of list 3 (space-separated):  1 4553600\n",
    "Enter elements of list 4 (space-separated):  4 92134264 617699202 124100179 337650738\n",
    "Enter elements of list 5 (space-separated):  2 778493847 932097163\n",
    "Enter elements of list 6 (space-separated):  5 489894997 496724555 693361712 935903331 518538304\n",
    "766"
   ]
  },
  {
   "cell_type": "code",
   "execution_count": 8,
   "id": "9811301c-fa22-4884-8f08-857283a01962",
   "metadata": {},
   "outputs": [
    {
     "data": {
      "text/plain": [
       "0"
      ]
     },
     "execution_count": 8,
     "metadata": {},
     "output_type": "execute_result"
    }
   ],
   "source": [
    "(2*(96**2))%24"
   ]
  },
  {
   "cell_type": "code",
   "execution_count": null,
   "id": "52ba9f00-b71a-4b0c-b027-8b3f8ea6af8e",
   "metadata": {},
   "outputs": [],
   "source": [
    "2 24\n",
    "3 24 48 96\n",
    "4 24 48 96 24"
   ]
  },
  {
   "cell_type": "code",
   "execution_count": null,
   "id": "a2b1c2eb-f217-4c7f-894e-18ae3298c396",
   "metadata": {},
   "outputs": [],
   "source": [
    "from itertools import product\n",
    "def max_module(k,m,lists):\n",
    "    all_comb=list(product(*lists))\n",
    "    max_value=0\n",
    "    for i in all_comb:\n",
    "        current_sum=sum(x**2 for x in i)%m\n",
    "        max_value=max(max_value,current_sum)\n",
    "    return max_value\n",
    "\n",
    "k, m = map(int, input().split())\n",
    "\n",
    "lists = []\n",
    "for i in range(k):\n",
    "    lst = list(map(int, input().split()))[1:]\n",
    "    lists.append(lst)\n",
    "print(max_module(k,m,lists))"
   ]
  }
 ],
 "metadata": {
  "kernelspec": {
   "display_name": "Python 3 (ipykernel)",
   "language": "python",
   "name": "python3"
  },
  "language_info": {
   "codemirror_mode": {
    "name": "ipython",
    "version": 3
   },
   "file_extension": ".py",
   "mimetype": "text/x-python",
   "name": "python",
   "nbconvert_exporter": "python",
   "pygments_lexer": "ipython3",
   "version": "3.12.7"
  }
 },
 "nbformat": 4,
 "nbformat_minor": 5
}
