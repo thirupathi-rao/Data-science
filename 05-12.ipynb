{
 "cells": [
  {
   "cell_type": "raw",
   "id": "7bf9ff57-d951-439a-bde4-eae7ea32a9f2",
   "metadata": {},
   "source": [
    "Q1.\n",
    "a. Create a text le named \"sample.txt\" with the content \"Hello, File Handling!\". Write\n",
    "a Python program to open the le, read its content, and print it. Now, count the\n",
    "number of words in the le. Print the word count.\n",
    "b. Create a new text le named \"output.txt\" and write three lines of text into the le.\n",
    "Read the lines.\n",
    "Q2.\n",
    "a. Create a text le named \"numbers.txt\" with numbers 1 to 5 each on a new line.\n",
    "Write a Python program to open the le, read its content line by line, and print\n",
    "their sum.\n",
    "b. Write a Python function that opens a le named \"example.txt\", reads its content,\n",
    "and prints the number of occurrences of each unique word in the le. Assume\n",
    "that words are separated by spaces, and ignore punctuation.\n",
    "Q3. Write a Python function that takes a le path as input and prints the total number of\n",
    "lines in the le."
   ]
  },
  {
   "cell_type": "code",
   "execution_count": 24,
   "id": "7211f43f-43c3-4de2-b23f-31f8fbccc95a",
   "metadata": {},
   "outputs": [],
   "source": [
    "with open('sample.txt', 'w') as file:\n",
    "    file.write('Hello, File Handling okay!')"
   ]
  },
  {
   "cell_type": "code",
   "execution_count": 27,
   "id": "86462ab3-61b9-4709-85f7-7ee1e18df3ad",
   "metadata": {},
   "outputs": [
    {
     "name": "stdout",
     "output_type": "stream",
     "text": [
      "Hello, File Handling okay!\n",
      " no.of words in the txt file 4\n"
     ]
    }
   ],
   "source": [
    "with open('sample.txt','r')as s:\n",
    "    a=s.read()\n",
    "    print(a)\n",
    "    x=a.split(' ')\n",
    "    print(f' no.of words in the txt file {len(x)}')"
   ]
  },
  {
   "cell_type": "code",
   "execution_count": 32,
   "id": "d178fbe1-742e-4c57-82e4-29c73acc81ff",
   "metadata": {},
   "outputs": [],
   "source": [
    "with open('output.txt','w') as file:\n",
    "    file.write('first line\\nsecond line\\nthird line\\n')"
   ]
  },
  {
   "cell_type": "code",
   "execution_count": 33,
   "id": "4111c679-094a-4338-9de1-68d85675b9df",
   "metadata": {},
   "outputs": [
    {
     "name": "stdout",
     "output_type": "stream",
     "text": [
      "first line\n",
      "\n",
      "second line\n",
      "\n",
      "third line\n",
      "\n"
     ]
    }
   ],
   "source": [
    "with open('output.txt','r') as file:\n",
    "    l1=file.readline()\n",
    "    l2=file.readline()\n",
    "    l3=file.readline()\n",
    "\n",
    "print(l1)\n",
    "print(l2)\n",
    "print(l3)"
   ]
  },
  {
   "cell_type": "code",
   "execution_count": 34,
   "id": "ad7f47f5-a1fd-425b-b7b5-2bc18617c2eb",
   "metadata": {},
   "outputs": [],
   "source": [
    "with open('numbers.txt', 'w') as file:\n",
    "    file.write('1\\n2\\n3\\n4\\n5')"
   ]
  },
  {
   "cell_type": "code",
   "execution_count": 38,
   "id": "14aa61c3-f443-48ed-b25b-375f035a62e8",
   "metadata": {},
   "outputs": [
    {
     "name": "stdout",
     "output_type": "stream",
     "text": [
      "15\n"
     ]
    }
   ],
   "source": [
    "with open('numbers.txt','r') as file:\n",
    "    x=[]\n",
    "    l1=file.readline()\n",
    "    l2=file.readline()\n",
    "    l3=file.readline()\n",
    "    l4=file.readline()\n",
    "    l5=file.readline()\n",
    "    x.append(int(l1))\n",
    "    x.append(int(l2))\n",
    "    x.append(int(l3))\n",
    "    x.append(int(l4))\n",
    "    x.append(int(l5))\n",
    "print(sum(x))"
   ]
  },
  {
   "cell_type": "code",
   "execution_count": 1,
   "id": "55ff31d2-9c26-4c5e-ab82-ab2856bbbecb",
   "metadata": {},
   "outputs": [],
   "source": [
    "with open('example.txt', 'w') as file:\n",
    "    file.write('Hello,\\n File \\nHandling\\n okay!')"
   ]
  },
  {
   "cell_type": "code",
   "execution_count": 2,
   "id": "196aab05-be72-4bf6-aaeb-263491682b69",
   "metadata": {},
   "outputs": [
    {
     "name": "stdout",
     "output_type": "stream",
     "text": [
      "Word Occurrences:\n",
      "hello: 1\n",
      "file: 1\n",
      "handling: 1\n",
      "okay: 1\n"
     ]
    }
   ],
   "source": [
    "import string\n",
    "\n",
    "def count_word_occurrences(file_name=\"example.txt\"):\n",
    "    try:\n",
    "        # Open and read the file\n",
    "        with open(file_name, 'r') as file:\n",
    "            content = file.read()\n",
    "        \n",
    "        # Remove punctuation and convert text to lowercase\n",
    "        translator = str.maketrans('', '', string.punctuation)\n",
    "        cleaned_content = content.translate(translator).lower()\n",
    "        \n",
    "        # Split the text into words\n",
    "        words = cleaned_content.split()\n",
    "        \n",
    "        # Count occurrences of each unique word\n",
    "        word_count = {}\n",
    "        for word in words:\n",
    "            word_count[word] = word_count.get(word, 0) + 1\n",
    "        \n",
    "        # Print the word counts\n",
    "        print(\"Word Occurrences:\")\n",
    "        for word, count in word_count.items():\n",
    "            print(f\"{word}: {count}\")\n",
    "    \n",
    "    except FileNotFoundError:\n",
    "        print(f\"The file '{file_name}' does not exist.\")\n",
    "    except Exception as e:\n",
    "        print(f\"An error occurred: {e}\")\n",
    "\n",
    "# Call the function\n",
    "count_word_occurrences()\n"
   ]
  },
  {
   "cell_type": "code",
   "execution_count": 3,
   "id": "d2a75861-d317-4a82-97f0-f41c1e77d544",
   "metadata": {},
   "outputs": [
    {
     "name": "stdout",
     "output_type": "stream",
     "text": [
      "Total number of lines in the file 'example.txt': 4\n"
     ]
    }
   ],
   "source": [
    "def count_lines(file_path):\n",
    "    try:\n",
    "        # Open the file in read mode\n",
    "        with open(file_path, 'r') as file:\n",
    "            # Count the lines\n",
    "            line_count = sum(1 for _ in file)\n",
    "        \n",
    "        # Print the total number of lines\n",
    "        print(f\"Total number of lines in the file '{file_path}': {line_count}\")\n",
    "    \n",
    "    except FileNotFoundError:\n",
    "        print(f\"The file '{file_path}' does not exist.\")\n",
    "    except Exception as e:\n",
    "        print(f\"An error occurred: {e}\")\n",
    "\n",
    "# Example usage\n",
    "file_path = \"example.txt\"  # Replace with your file path\n",
    "count_lines(file_path)\n"
   ]
  },
  {
   "cell_type": "code",
   "execution_count": null,
   "id": "0689ec07-6e75-4388-8e09-fd56a48ebfb5",
   "metadata": {},
   "outputs": [],
   "source": []
  }
 ],
 "metadata": {
  "kernelspec": {
   "display_name": "Python 3 (ipykernel)",
   "language": "python",
   "name": "python3"
  },
  "language_info": {
   "codemirror_mode": {
    "name": "ipython",
    "version": 3
   },
   "file_extension": ".py",
   "mimetype": "text/x-python",
   "name": "python",
   "nbconvert_exporter": "python",
   "pygments_lexer": "ipython3",
   "version": "3.12.7"
  }
 },
 "nbformat": 4,
 "nbformat_minor": 5
}
