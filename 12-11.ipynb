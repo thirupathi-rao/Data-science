{
 "cells": [
  {
   "cell_type": "code",
   "execution_count": null,
   "id": "21b357ec-eff8-479b-a680-8ef2eee1cb36",
   "metadata": {},
   "outputs": [],
   "source": [
    "Q1. Write a program to check whether the last digit of a number (entered by user) is\n",
    "divisible by 3 or not.\n"
   ]
  },
  {
   "cell_type": "code",
   "execution_count": 2,
   "id": "cab09bef-ddf4-462f-ba6e-d52562eaddf4",
   "metadata": {},
   "outputs": [
    {
     "name": "stdin",
     "output_type": "stream",
     "text": [
      "enter a number:  6996\n"
     ]
    },
    {
     "name": "stdout",
     "output_type": "stream",
     "text": [
      "entred number is dividibe by 3\n"
     ]
    }
   ],
   "source": [
    "num=int(input('enter a number: '))\n",
    "num=num%10\n",
    "if num%3==0:\n",
    "    print('entred number is dividibe by 3')\n",
    "else:\n",
    "    print('entred number is dividibe by 3')"
   ]
  },
  {
   "cell_type": "code",
   "execution_count": null,
   "id": "7b523d54-a27f-4904-bf12-3b91bd814150",
   "metadata": {},
   "outputs": [],
   "source": [
    "Q2. A company decided to give a bonus of 5% of their salary to employees if his/her\n",
    "years of service is more than 5 years.\n",
    "Ask the user for their salary and years of service and print the net amount of that\n",
    "person.\n"
   ]
  },
  {
   "cell_type": "code",
   "execution_count": 6,
   "id": "7704bdd8-e4f4-4c78-95ee-f9aa1056a6a7",
   "metadata": {},
   "outputs": [
    {
     "name": "stdin",
     "output_type": "stream",
     "text": [
      "entre your salary :  10000\n",
      "enter your years of service :  6\n"
     ]
    },
    {
     "name": "stdout",
     "output_type": "stream",
     "text": [
      "your new salory will be  10500.0\n"
     ]
    }
   ],
   "source": [
    "salary=int(input('entre your salary : '))\n",
    "exp=int(input('enter your years of service : '))\n",
    "if exp>5:\n",
    "    net_amount=salary*0.05\n",
    "    salary=net_amount+salary\n",
    "    print('your new salory will be ',salary)\n",
    "    "
   ]
  },
  {
   "cell_type": "code",
   "execution_count": null,
   "id": "abfd52fc-c87f-4c8a-885d-c966863b24a5",
   "metadata": {},
   "outputs": [],
   "source": [
    "Q3. A school has following rules for grading system:\n",
    "a. Below 25 - F grade\n",
    "b. 25 to 45 - E\n",
    "c. 45 to 50 - D\n",
    "d. 50 to 60 - C\n",
    "e. 60 to 80 - B\n",
    "f. Above 80 - A\n",
    "Ask the user to enter marks and print the corresponding grade."
   ]
  },
  {
   "cell_type": "code",
   "execution_count": 10,
   "id": "73010696-92ee-4dac-bdb8-d9341ea8ff60",
   "metadata": {},
   "outputs": [
    {
     "name": "stdin",
     "output_type": "stream",
     "text": [
      "enter your marks :  25\n"
     ]
    },
    {
     "name": "stdout",
     "output_type": "stream",
     "text": [
      "you got f grade\n"
     ]
    }
   ],
   "source": [
    "marks=int(input('enter your marks : '))\n",
    "if marks<=25:\n",
    "    print('you got f grade')\n",
    "elif 25>marks<=45:\n",
    "    print('you got e grade')\n",
    "elif 45>marks<=50:\n",
    "    print('you got d grade')\n",
    "elif 50>marks<=60:\n",
    "    print('you got c grade')\n",
    "elif 60>marks<=80:\n",
    "    print('you got b grade')\n",
    "elif 80>marks:\n",
    "    print('you got A grade')\n",
    "else:\n",
    "    print(\"enter valid number of marks\")"
   ]
  },
  {
   "cell_type": "code",
   "execution_count": null,
   "id": "3795e3c0-83af-4898-985f-964cce492998",
   "metadata": {},
   "outputs": [],
   "source": [
    "Q4. Write a python program that can tell you if your sugar is normal or not. Normal\n",
    "fasting level sugar range is 80 to 100.\n",
    "Ask the user to enter his fasting sugar level.\n",
    "If it is below 80, then print that sugar is low.\n",
    "If it is above 100, then print that it is high\n",
    "Otherwise print that it is normal.\n"
   ]
  },
  {
   "cell_type": "code",
   "execution_count": 12,
   "id": "071b0957-033a-415c-a27d-0d68a1e4d8bd",
   "metadata": {},
   "outputs": [
    {
     "name": "stdin",
     "output_type": "stream",
     "text": [
      "enter your fasting suger level :  85\n"
     ]
    },
    {
     "name": "stdout",
     "output_type": "stream",
     "text": [
      "your fasting suger level is normal\n"
     ]
    }
   ],
   "source": [
    "suger=int(input('enter your fasting suger level : '))\n",
    "if suger<80:\n",
    "    print(\"your fasting sugar level is low\")\n",
    "elif suger>100:\n",
    "    print('your fasting suger level is high')\n",
    "else:\n",
    "    print('your fasting suger level is normal')"
   ]
  },
  {
   "cell_type": "code",
   "execution_count": null,
   "id": "70782ac9-4f5c-4d7c-b3ba-33cd6bbf4444",
   "metadata": {},
   "outputs": [],
   "source": [
    "Q5. Write a program which will accept a word and a number from the user. Check if the\n",
    "word starts with a vowel and the number is even and write appropriate conditions\n",
    "accordingly (Case sensitivity should not matter)"
   ]
  },
  {
   "cell_type": "code",
   "execution_count": 17,
   "id": "bb9e71c0-1123-482f-9871-9b0d3eddb9fb",
   "metadata": {},
   "outputs": [
    {
     "name": "stdin",
     "output_type": "stream",
     "text": [
      "enter a word  hbjk\n",
      "ente a number  6546\n"
     ]
    },
    {
     "name": "stdout",
     "output_type": "stream",
     "text": [
      "H\n",
      "word does not start with vowel\n",
      "number is even\n"
     ]
    }
   ],
   "source": [
    "word=str(input('enter a word '))\n",
    "num=int(input(\"ente a number \"))\n",
    "word=word.capitalize()\n",
    "print(word[0])\n",
    "if word[0]in('A','E','I','O','U'):\n",
    "        print('word starts with vowel')\n",
    "else:\n",
    "    print('word does not start with vowel')\n",
    "if num%2==0:\n",
    "    print('number is even')\n",
    "else:\n",
    "    print('number is odd')"
   ]
  },
  {
   "cell_type": "code",
   "execution_count": null,
   "id": "d6db6151-436b-41d0-b876-06cf00f56f38",
   "metadata": {},
   "outputs": [],
   "source": [
    "Q6. Take input from the user. Check if a given year is a leap year"
   ]
  },
  {
   "cell_type": "code",
   "execution_count": 23,
   "id": "b676f359-1578-4d92-8e7c-c8ca678b83f9",
   "metadata": {},
   "outputs": [
    {
     "name": "stdin",
     "output_type": "stream",
     "text": [
      "enter a year :  2000\n"
     ]
    },
    {
     "name": "stdout",
     "output_type": "stream",
     "text": [
      "2000 is a leap year\n"
     ]
    }
   ],
   "source": [
    "year=int(input('enter a year : '))\n",
    "if (year % 4 == 0 and year % 100 != 0) or (year % 400 == 0):\n",
    "         print(f'{year} is a leap year')\n",
    "else:\n",
    "    print(f'{year} is not leap year')\n"
   ]
  },
  {
   "cell_type": "code",
   "execution_count": null,
   "id": "3883ce56-096e-4839-8e35-1f2af3af46c8",
   "metadata": {},
   "outputs": [],
   "source": [
    "Given a sentence, determine if it is a statement, question, or exclamation"
   ]
  },
  {
   "cell_type": "code",
   "execution_count": 30,
   "id": "f7eeb414-cd37-46df-9add-73d87baf5c2c",
   "metadata": {},
   "outputs": [
    {
     "name": "stdin",
     "output_type": "stream",
     "text": [
      "enter a sentence  what?\n"
     ]
    },
    {
     "name": "stdout",
     "output_type": "stream",
     "text": [
      "question\n"
     ]
    }
   ],
   "source": [
    "sen=str(input('enter a sentence '))\n",
    "x=len(sen)\n",
    "x=x-1\n",
    "if sen[x]=='.':\n",
    "    print('statement')\n",
    "elif sen[x]=='?':\n",
    "    print('question')\n",
    "elif sen[x]=='!':\n",
    "    print('exlemation')\n",
    "else:\n",
    "    print('unknown type')\n"
   ]
  },
  {
   "cell_type": "code",
   "execution_count": null,
   "id": "04e86041-ab9f-4d1d-bdb2-6d6a1aaaad03",
   "metadata": {},
   "outputs": [],
   "source": []
  }
 ],
 "metadata": {
  "kernelspec": {
   "display_name": "Python 3 (ipykernel)",
   "language": "python",
   "name": "python3"
  },
  "language_info": {
   "codemirror_mode": {
    "name": "ipython",
    "version": 3
   },
   "file_extension": ".py",
   "mimetype": "text/x-python",
   "name": "python",
   "nbconvert_exporter": "python",
   "pygments_lexer": "ipython3",
   "version": "3.12.7"
  }
 },
 "nbformat": 4,
 "nbformat_minor": 5
}
