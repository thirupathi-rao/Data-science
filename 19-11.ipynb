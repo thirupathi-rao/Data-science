{
 "cells": [
  {
   "cell_type": "code",
   "execution_count": null,
   "id": "afbadec6-b086-4abd-92f5-3a0e12819bc2",
   "metadata": {},
   "outputs": [],
   "source": [
    "1. What is a set in Python? How is it different from other data structures like\n",
    "lists or tuples? Explain with examples.\n"
   ]
  },
  {
   "cell_type": "markdown",
   "id": "2d6c54ca-c61e-446e-9854-b5ac306540bb",
   "metadata": {},
   "source": [
    "lists are mutable,ordered,replaceble or changable\n",
    "sets are mutable,unordered,cannot be replaced or changed but we can add remove or add new items\n",
    "tuple immutable,ordered,cannot be replaced or changed"
   ]
  },
  {
   "cell_type": "code",
   "execution_count": 1,
   "id": "d3d7232a-abb6-4287-9dbd-01ac43591f9b",
   "metadata": {},
   "outputs": [
    {
     "data": {
      "text/plain": [
       "[0, 2, 3]"
      ]
     },
     "execution_count": 1,
     "metadata": {},
     "output_type": "execute_result"
    }
   ],
   "source": [
    "l=[1,2,3]\n",
    "l[0]=0\n",
    "l"
   ]
  },
  {
   "cell_type": "code",
   "execution_count": 2,
   "id": "2b5214a6-8e89-493f-9ae1-ecf09485a454",
   "metadata": {},
   "outputs": [
    {
     "data": {
      "text/plain": [
       "{1, 2, 3, 4, 5}"
      ]
     },
     "execution_count": 2,
     "metadata": {},
     "output_type": "execute_result"
    }
   ],
   "source": [
    "s={1,2,3}\n",
    "s2={3,4,5}\n",
    "s.update(s2)\n",
    "s"
   ]
  },
  {
   "cell_type": "code",
   "execution_count": 6,
   "id": "2789a83c-535b-462a-89f4-0fa1d1177e55",
   "metadata": {},
   "outputs": [
    {
     "data": {
      "text/plain": [
       "1"
      ]
     },
     "execution_count": 6,
     "metadata": {},
     "output_type": "execute_result"
    }
   ],
   "source": [
    "t=(1,2,3)\n",
    "t.index(2)\n"
   ]
  },
  {
   "cell_type": "code",
   "execution_count": null,
   "id": "b3ad4b2e-b908-4ce0-8eea-a77137f96ed7",
   "metadata": {},
   "outputs": [],
   "source": [
    "2. What is the difference between set.pop() and list.pop()? Explain with\n",
    "examples.\n"
   ]
  },
  {
   "cell_type": "code",
   "execution_count": 7,
   "id": "91e53890-65c6-464a-89c3-db73db587bda",
   "metadata": {},
   "outputs": [
    {
     "name": "stdout",
     "output_type": "stream",
     "text": [
      "{2, 3}\n"
     ]
    },
    {
     "data": {
      "text/plain": [
       "[1, 2]"
      ]
     },
     "execution_count": 7,
     "metadata": {},
     "output_type": "execute_result"
    }
   ],
   "source": [
    "s={1,2,3}\n",
    "s.pop()\n",
    "print(s)\n",
    "#set.pop will remove random element\n",
    "l=[1,2,3]\n",
    "l.pop()\n",
    "l\n",
    "#list.pop will remove the last element"
   ]
  },
  {
   "cell_type": "code",
   "execution_count": null,
   "id": "077f69fe-6378-4ba5-951a-c566a06354e6",
   "metadata": {},
   "outputs": [],
   "source": [
    "3. Given the set S = {1, 2, 3, 4, 5, 76, 32, 65}, apply all built-in set functions to\n",
    "this example"
   ]
  },
  {
   "cell_type": "code",
   "execution_count": 15,
   "id": "84442d9a-2860-4073-a0ba-90079fba19f8",
   "metadata": {},
   "outputs": [
    {
     "data": {
      "text/plain": [
       "{1, 2, 3, 4, 5, 32, 65, 75, 76}"
      ]
     },
     "execution_count": 15,
     "metadata": {},
     "output_type": "execute_result"
    }
   ],
   "source": [
    "s = {1, 2, 3, 4, 5, 76, 32, 65}\n",
    "a={4,5,6}\n",
    "s.add(75)\n",
    "s\n"
   ]
  },
  {
   "cell_type": "code",
   "execution_count": 16,
   "id": "1eaec8d5-04e8-48f9-bc84-e95ae186e06f",
   "metadata": {},
   "outputs": [
    {
     "data": {
      "text/plain": [
       "{1, 2, 3, 4, 5, 6, 32, 65, 76}"
      ]
     },
     "execution_count": 16,
     "metadata": {},
     "output_type": "execute_result"
    }
   ],
   "source": [
    "s = {1, 2, 3, 4, 5, 76, 32, 65}\n",
    "a={4,5,6}\n",
    "s.update(a)\n",
    "s"
   ]
  },
  {
   "cell_type": "code",
   "execution_count": 23,
   "id": "b66572e2-fec7-40fe-87da-ad69afbef913",
   "metadata": {},
   "outputs": [
    {
     "data": {
      "text/plain": [
       "{1, 2, 3, 4, 5, 32, 76}"
      ]
     },
     "execution_count": 23,
     "metadata": {},
     "output_type": "execute_result"
    }
   ],
   "source": [
    "s = {1, 2, 3, 4, 5, 76, 32, 65}\n",
    "s.discard(65)\n",
    "s"
   ]
  },
  {
   "cell_type": "code",
   "execution_count": 24,
   "id": "fb3e6ae3-6700-4c2d-b97d-0d2d507492a4",
   "metadata": {},
   "outputs": [
    {
     "data": {
      "text/plain": [
       "{1, 2, 3, 4, 5, 32, 76}"
      ]
     },
     "execution_count": 24,
     "metadata": {},
     "output_type": "execute_result"
    }
   ],
   "source": [
    "s = {1, 2, 3, 4, 5, 76, 32, 65}\n",
    "s.remove(65)\n",
    "s"
   ]
  },
  {
   "cell_type": "code",
   "execution_count": 25,
   "id": "7528fa81-e8fe-45e0-9177-fd79d09256ca",
   "metadata": {},
   "outputs": [
    {
     "data": {
      "text/plain": [
       "{1, 2, 3, 4, 5, 76}"
      ]
     },
     "execution_count": 25,
     "metadata": {},
     "output_type": "execute_result"
    }
   ],
   "source": [
    "s.pop()\n",
    "s"
   ]
  },
  {
   "cell_type": "code",
   "execution_count": null,
   "id": "043bcaab-3198-4a6c-8e78-d65f21b8bd81",
   "metadata": {},
   "outputs": [],
   "source": [
    "4. Update the first set with items that don't exist in the second set.\n",
    "s1={150,200,400}\n",
    "s2={200,750,650}\n",
    "Expected output: s1={150,400}"
   ]
  },
  {
   "cell_type": "code",
   "execution_count": 26,
   "id": "d03f9f8a-e591-4fb7-a50b-c5aa1acb713d",
   "metadata": {},
   "outputs": [
    {
     "data": {
      "text/plain": [
       "{150, 400}"
      ]
     },
     "execution_count": 26,
     "metadata": {},
     "output_type": "execute_result"
    }
   ],
   "source": [
    "s1={150,200,400}\n",
    "s2={200,750,650}\n",
    "x=s1.difference(s2)\n",
    "x"
   ]
  },
  {
   "cell_type": "code",
   "execution_count": null,
   "id": "5f54e287-c887-409a-9c5a-834ec99a57ce",
   "metadata": {},
   "outputs": [],
   "source": [
    "5. Define a set S = {apple, banana, cherry, orange}. Use Python set methods to\n",
    "add a new fruit 'grape' to S, remove 'banana' from S, and check the length of\n",
    "S.\n"
   ]
  },
  {
   "cell_type": "code",
   "execution_count": 28,
   "id": "2672edbc-683f-466b-a046-b319bb2f0f35",
   "metadata": {},
   "outputs": [
    {
     "name": "stdout",
     "output_type": "stream",
     "text": [
      "4\n",
      "{'apple', 'orange', ' cherry', 'grape'}\n"
     ]
    }
   ],
   "source": [
    "s = {'apple', 'banana',' cherry', 'orange'}\n",
    "s.add('grape')\n",
    "s.remove('banana')\n",
    "print(len(s))\n",
    "print(s)"
   ]
  },
  {
   "cell_type": "code",
   "execution_count": null,
   "id": "dd385d62-875d-417a-adcc-bf82ba1743a1",
   "metadata": {},
   "outputs": [],
   "source": [
    "6. dict = {“name1_marks” : [34,56,87,89], “name2_marks” : [78,98,54,34],\n",
    "“name3_marks” : [87,65,97,90]} add the marks 97 in “name1_marks”.\n",
    "Expected output : {“name1_marks” : [34,56,87,89, 97], “name2_marks” :\n",
    "[78,98,54,34], “name3_marks” : [87,65,97,90]}"
   ]
  },
  {
   "cell_type": "code",
   "execution_count": 29,
   "id": "188e6f2c-41dc-4759-a516-14e422749794",
   "metadata": {},
   "outputs": [
    {
     "data": {
      "text/plain": [
       "{'name1_marks': [34, 56, 87, 89, 97],\n",
       " 'name2_marks': [78, 98, 54, 34],\n",
       " 'name3_marks': [87, 65, 97, 90]}"
      ]
     },
     "execution_count": 29,
     "metadata": {},
     "output_type": "execute_result"
    }
   ],
   "source": [
    "d1={'name1_marks': [34,56,87,89], 'name2_marks' : [78,98,54,34],'name3_marks' : [87,65,97,90]}\n",
    "d1['name1_marks']=[34,56,87,89,97]\n",
    "d1"
   ]
  },
  {
   "cell_type": "code",
   "execution_count": null,
   "id": "6a955e6d-a7d2-4afe-848b-1297ae25434a",
   "metadata": {},
   "outputs": [],
   "source": [
    "7. Create a dictionary with key-value pairs for a person's name and age.\n",
    "a. Add a new key-value pair \"city\" with the value \"Delhi\" to the person\n",
    "dictionary.\n",
    "b. Remove the last key-value pair from the person dictionary.\n",
    "c. Include {\"Car_color\": \"White\"} in the person's dictionary."
   ]
  },
  {
   "cell_type": "code",
   "execution_count": 31,
   "id": "bbe13eb9-04d0-4717-864f-edc63fd012f8",
   "metadata": {},
   "outputs": [
    {
     "name": "stdout",
     "output_type": "stream",
     "text": [
      "{'name': 'mark', 'age': 26, 'city': 'delhi'}\n",
      "{'name': 'mark', 'age': 26}\n",
      "{'name': 'mark', 'age': 26, 'Car_color': 'White'}\n"
     ]
    }
   ],
   "source": [
    "person={'name':'mark','age':26}\n",
    "person.setdefault('city','delhi')\n",
    "print(person)\n",
    "person.popitem()\n",
    "print(person)\n",
    "person.setdefault(\"Car_color\", \"White\")\n",
    "print(person)"
   ]
  },
  {
   "cell_type": "code",
   "execution_count": null,
   "id": "a7d19530-5c90-44f4-a182-4ff6a9ca33aa",
   "metadata": {},
   "outputs": [],
   "source": [
    "8.\n",
    "Initialize dictionary with default values.\n",
    "Say,\n",
    "employees = ['Kelly', 'Emma']\n",
    "defaults = {\"designation\": 'Developer', \"salary\": 8000}\n",
    "Expected Output:\n",
    "{'Kelly': {'designation': 'Developer', 'salary': 8000}, 'Emma': {'designation':\n",
    "'Developer', 'salary': 8000}}"
   ]
  },
  {
   "cell_type": "code",
   "execution_count": 33,
   "id": "0b4af269-8f33-410e-b52e-546502db9930",
   "metadata": {},
   "outputs": [
    {
     "data": {
      "text/plain": [
       "{'Kelly': {'designation': 'Developer', 'salary': 8000},\n",
       " 'Emma': {'designation': 'Developer', 'salary': 8000}}"
      ]
     },
     "execution_count": 33,
     "metadata": {},
     "output_type": "execute_result"
    }
   ],
   "source": [
    "employees = ['Kelly', 'Emma']\n",
    "defaults = {\"designation\": 'Developer', \"salary\": 8000}\n",
    "x=dict.fromkeys(employees,defaults)\n",
    "x"
   ]
  },
  {
   "cell_type": "code",
   "execution_count": null,
   "id": "b4faf411-6daf-4572-8820-78308aa96570",
   "metadata": {},
   "outputs": [],
   "source": []
  }
 ],
 "metadata": {
  "kernelspec": {
   "display_name": "Python 3 (ipykernel)",
   "language": "python",
   "name": "python3"
  },
  "language_info": {
   "codemirror_mode": {
    "name": "ipython",
    "version": 3
   },
   "file_extension": ".py",
   "mimetype": "text/x-python",
   "name": "python",
   "nbconvert_exporter": "python",
   "pygments_lexer": "ipython3",
   "version": "3.12.7"
  }
 },
 "nbformat": 4,
 "nbformat_minor": 5
}
