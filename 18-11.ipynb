{
 "cells": [
  {
   "cell_type": "code",
   "execution_count": null,
   "id": "2b6daade-0754-41e5-b237-15bf618d0aa4",
   "metadata": {},
   "outputs": [],
   "source": [
    "Q1. You have a list of your favorite Marvel superheroes.\n",
    "heroes=['spider man','thor','hulk','iron man','captain america']\n",
    "Using this list,\n",
    "1.find Length of the list\n",
    "2.Add 'black panther' at the end of this list.\n",
    "3. You realize that you need to add 'black panther' after 'hulk', so remove it from\n",
    "the list first and then add it after 'hulk'.\n",
    "4. Now you don't like thor and hulk because they get angry easily 🙂. So you\n",
    "want to remove thor and hulk from the list and replace them with Doctor Strange\n",
    "(because he is cool).Do that with one line of code.\n",
    "5. Sort the list in alphabetical order."
   ]
  },
  {
   "cell_type": "code",
   "execution_count": 9,
   "id": "e441317d-e53a-4df3-891a-d0a2f03cd881",
   "metadata": {},
   "outputs": [
    {
     "name": "stdout",
     "output_type": "stream",
     "text": [
      "5\n",
      "['spider man', 'thor', 'hulk', 'iron man', 'captain america', 'black panther']\n",
      "['spider man', 'thor', 'hulk', 'black panther', 'iron man', 'captain america']\n",
      "['spider man', 'black panther', 'iron man', 'captain america', 'doctor Strange']\n",
      "['black panther', 'captain america', 'doctor Strange', 'iron man', 'spider man']\n"
     ]
    }
   ],
   "source": [
    "heroes=['spider man','thor','hulk','iron man','captain america']\n",
    "print(len(heroes))\n",
    "heroes.append('black panther')\n",
    "print(heroes)\n",
    "heroes.pop(-1)\n",
    "heroes.insert(3,'black panther')\n",
    "print(heroes)\n",
    "heroes.remove('thor'),heroes.remove('hulk'),heroes.append('doctor Strange')\n",
    "print(heroes)\n",
    "heroes.sort()\n",
    "print(heroes)"
   ]
  },
  {
   "cell_type": "code",
   "execution_count": null,
   "id": "08658e44-31d8-4d09-87ff-82ac1cf3eebb",
   "metadata": {},
   "outputs": [],
   "source": [
    "Q2. Let us say your expense for every month are listed below,\n",
    "January - 2200\n",
    "February - 2350\n",
    "March - 2600\n",
    "April - 2130\n",
    "May - 2190\n",
    "1. Create a list to store the above monthly expenses and using that find out, in\n",
    "Feb, how many dollars you spent extra compared to January?\n",
    "2. Find out your total expense in the first quarter (first three months) of the year.\n",
    "3. Find out if you spent exactly 2000 dollars in any month.\n",
    "4. Say, June month just finished and your expense is 1980 dollars. Add this item\n",
    "to our monthly expense list.\n",
    "5. You returned an item that you bought in the month of April and got a refund of\n",
    "200$. Make a correction to your monthly expense list based on this.\n"
   ]
  },
  {
   "cell_type": "code",
   "execution_count": 20,
   "id": "b714accc-9e32-44ed-8923-1bfefd720a01",
   "metadata": {},
   "outputs": [
    {
     "name": "stdout",
     "output_type": "stream",
     "text": [
      "in feb dollars you spent extra compared to January are 150\n",
      "total expense in the first quarter (first three months) of the year are 7150\n",
      "you didn't spent exactly 2000 dollars in any month\n",
      "['jan', 'feb', 'mar', 'april', 'may', 'june'] [2200, 2350, 2600, 2330, 2190, 1980]\n"
     ]
    }
   ],
   "source": [
    "mo=['jan','feb','mar','april','may']\n",
    "ex=[2200,2350,2600,2130,2190]\n",
    "print('in feb dollars you spent extra compared to January are {}'.format(ex[1]-ex[0]))\n",
    "print('total expense in the first quarter (first three months) of the year are {}'.format(ex[0]+ex[1]+ex[2]))\n",
    "for i in range (0,len(ex)-1):\n",
    "    if i==2000:\n",
    "        print('you spent exactly 2000 dollars in ',mo(i))\n",
    "print(\"you didn't spent exactly 2000 dollars in any month\")\n",
    "mo.append('june'),ex.append(1980)\n",
    "ex[3]=2330\n",
    "print(mo,ex)"
   ]
  },
  {
   "cell_type": "code",
   "execution_count": null,
   "id": "e926d80b-e16e-48f3-8a17-9f7613da7dd3",
   "metadata": {},
   "outputs": [],
   "source": [
    "Q3.\n",
    "a. Write a program to add item 7000 after 6000 in the following Python List:\n",
    "list1 = [10, 20, [300, 400, [5000, 6000], 500], 30, 40]\n",
    "b. Now that you have a nested list from the above output. Write a program to extend it\n",
    "by adding a sublist [\"h\", \"i\", \"j\"] in such a way that output will look like the following list\n",
    "below.\n",
    "Expected Output :\n",
    "[10, 20, [300, 400, [5000, 6000, 7000,\"h\", \"i\", \"j\"], 500], 30, 40]\n",
    "c.Access value 20 from the tuple1 = (\"Orange\", [10, 20, 30], (5, 15, 25))"
   ]
  },
  {
   "cell_type": "code",
   "execution_count": 28,
   "id": "2d4ce854-218d-4ab8-a13e-75680268fd1c",
   "metadata": {},
   "outputs": [
    {
     "name": "stdout",
     "output_type": "stream",
     "text": [
      "[10, 20, [300, 400, [5000, 6000, 7000], 500], 30, 40]\n",
      "[10, 20, [300, 400, [5000, 6000, 7000, 'h', 'i', 'j'], 500], 30, 40]\n",
      "20\n"
     ]
    }
   ],
   "source": [
    "list1 = [10, 20, [300, 400, [5000, 6000], 500], 30, 40]\n",
    "list1[2][2].append(7000)\n",
    "print(list1)\n",
    "list1[2][2].append('h'),list1[2][2].append('i'),list1[2][2].append('j')\n",
    "print(list1)\n",
    "tuple1 = (\"Orange\", [10, 20, 30], (5, 15, 25))\n",
    "print(tuple1[1][1])"
   ]
  },
  {
   "cell_type": "code",
   "execution_count": null,
   "id": "e574990c-543e-4417-bad3-9b408f42c74f",
   "metadata": {},
   "outputs": [],
   "source": [
    "Q4. Difference between List and Tuple with proper example and why to use tuple when\n",
    "we have list?"
   ]
  },
  {
   "cell_type": "code",
   "execution_count": 35,
   "id": "64a688dd-6512-415f-8eb8-974ef4892561",
   "metadata": {},
   "outputs": [
    {
     "name": "stdout",
     "output_type": "stream",
     "text": [
      "[1, 2, 3, 4]\n"
     ]
    }
   ],
   "source": [
    "#we cannot change values in tuple\n",
    "l1=[1,2,3]\n",
    "l1.append(4)\n",
    "print(l1)\n",
    "t1=(1,2,3)\n",
    "#we cannot change in tuple"
   ]
  },
  {
   "cell_type": "code",
   "execution_count": null,
   "id": "3a61bfa0-3b61-4c9a-a6de-b3c4995b962d",
   "metadata": {},
   "outputs": [],
   "source": []
  }
 ],
 "metadata": {
  "kernelspec": {
   "display_name": "Python 3 (ipykernel)",
   "language": "python",
   "name": "python3"
  },
  "language_info": {
   "codemirror_mode": {
    "name": "ipython",
    "version": 3
   },
   "file_extension": ".py",
   "mimetype": "text/x-python",
   "name": "python",
   "nbconvert_exporter": "python",
   "pygments_lexer": "ipython3",
   "version": "3.12.7"
  }
 },
 "nbformat": 4,
 "nbformat_minor": 5
}
