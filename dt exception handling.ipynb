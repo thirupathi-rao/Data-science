{
 "cells": [
  {
   "cell_type": "code",
   "execution_count": null,
   "id": "55c564bd-8b97-4bee-89de-8a5e7406f447",
   "metadata": {},
   "outputs": [],
   "source": [
    "Write a Python program that:\n",
    "1. Prompts the user to enter two numbers.\n",
    "2. Divides the first number by the second number.\n",
    "3. Uses try-except to handle the following exceptions:\n",
    "○ Division by zero\n",
    "○ Invalid input (non-numeric values)\n",
    "4. Print an appropriate message for each exception.\n",
    "Write a program that:\n",
    "1. Opens a file named data.txt for reading.\n",
    "2. Prints the contents of the file.\n",
    "3. Uses exception handling to manage the following:\n",
    "○ File not found\n",
    "○ Any other exception\n",
    "4. Ensures that the file is closed properly using a finally block, regardless of whether an exception\n",
    "occurred."
   ]
  },
  {
   "cell_type": "code",
   "execution_count": 20,
   "id": "ce7dbad9-0083-4ba9-971a-b691a0a3f309",
   "metadata": {},
   "outputs": [
    {
     "name": "stdout",
     "output_type": "stream",
     "text": [
      "0.8333333333333334\n",
      "\n",
      "Error:zero is invalid enter another number \n",
      "\n",
      "Error:unsupported operand type(s) for /: 'int' and 'str'\n"
     ]
    }
   ],
   "source": [
    "def div(a,b):\n",
    "    try:\n",
    "        print(a/b)\n",
    "    except ZeroDivisionError:\n",
    "        print(f'Error:zero is invalid enter another number ')\n",
    "    except ValueError:\n",
    "        print(f'Error:enter a valid number ')\n",
    "    except Exception as e:\n",
    "        print(f'Error:{e}')\n",
    "div(5,6)\n",
    "print()\n",
    "div(5,0)\n",
    "print()\n",
    "div(5,'a')"
   ]
  },
  {
   "cell_type": "code",
   "execution_count": 16,
   "id": "2a95944f-f339-4f50-8fdf-4b6d3c019fa0",
   "metadata": {},
   "outputs": [],
   "source": [
    "with open('data.txt','w') as d:\n",
    "    d.write('i know \\nyou know\\nwhat if i told you \\ni liked you')"
   ]
  },
  {
   "cell_type": "code",
   "execution_count": 17,
   "id": "cbedecd9-9f0a-4eb3-9b25-af418823ae4c",
   "metadata": {},
   "outputs": [
    {
     "name": "stdout",
     "output_type": "stream",
     "text": [
      "i know \n",
      "you know\n",
      "what if i told you \n",
      "i liked you\n"
     ]
    }
   ],
   "source": [
    "try:\n",
    "    with open('data.txt','r') as f:\n",
    "        a=f.read()\n",
    "        print(a)\n",
    "except FileNotFound:\n",
    "    print('Error:the file does not exist')\n",
    "except Exception as e:\n",
    "    print(f'Error:{e}')\n",
    "except:\n",
    "    close('data.txt')"
   ]
  },
  {
   "cell_type": "code",
   "execution_count": null,
   "id": "bfbdd87c-66e3-44d4-82b7-8360937c077d",
   "metadata": {},
   "outputs": [],
   "source": []
  },
  {
   "cell_type": "code",
   "execution_count": null,
   "id": "4fdf7ccb-4a6d-4c9a-98a1-27a6f1f0e988",
   "metadata": {},
   "outputs": [],
   "source": []
  }
 ],
 "metadata": {
  "kernelspec": {
   "display_name": "Python 3 (ipykernel)",
   "language": "python",
   "name": "python3"
  },
  "language_info": {
   "codemirror_mode": {
    "name": "ipython",
    "version": 3
   },
   "file_extension": ".py",
   "mimetype": "text/x-python",
   "name": "python",
   "nbconvert_exporter": "python",
   "pygments_lexer": "ipython3",
   "version": "3.12.7"
  }
 },
 "nbformat": 4,
 "nbformat_minor": 5
}
