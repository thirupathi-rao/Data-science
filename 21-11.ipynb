{
 "cells": [
  {
   "cell_type": "markdown",
   "id": "9265451b-83de-46a7-a68c-c62deeba8fe3",
   "metadata": {},
   "source": [
    "1. Write a program that takes the user's age as input and prints whether they are a child, a\n",
    "teenager, an adult, or a senior.\n",
    "● Child: 0-12 years\n",
    "● Teenager: 13-19 years\n",
    "● Adult: 20-59 years\n",
    "● Senior: 60 years and above"
   ]
  },
  {
   "cell_type": "code",
   "execution_count": 1,
   "id": "081ec9cc-59f9-41b2-9200-080c744e53be",
   "metadata": {},
   "outputs": [
    {
     "name": "stdin",
     "output_type": "stream",
     "text": [
      " 50\n"
     ]
    },
    {
     "name": "stdout",
     "output_type": "stream",
     "text": [
      "you are a adult\n"
     ]
    }
   ],
   "source": [
    "age=input('enter your age')\n",
    "if age.isdigit():\n",
    "    age=int(age)\n",
    "    if 0<age<=12:\n",
    "        print('you are a child')\n",
    "    elif 13<age<=19:\n",
    "        print('you are a teen')\n",
    "    elif 20<age<=59:\n",
    "        print('you are a adult')\n",
    "    elif 60<age:\n",
    "        print('you are a senior')\n",
    "    else:\n",
    "        print('enter a vaild age')\n",
    "else:\n",
    "    print('enter a vaild age')"
   ]
  },
  {
   "cell_type": "code",
   "execution_count": null,
   "id": "fb0d545f-366c-43c2-8a19-b68a9db106f3",
   "metadata": {},
   "outputs": [],
   "source": [
    "2. Write a Python program that checks whether a number entered by the user is even or odd."
   ]
  },
  {
   "cell_type": "code",
   "execution_count": 2,
   "id": "ccc59f15-487d-4515-97f2-f84662186744",
   "metadata": {},
   "outputs": [
    {
     "name": "stdin",
     "output_type": "stream",
     "text": [
      "enter a number 6\n"
     ]
    },
    {
     "name": "stdout",
     "output_type": "stream",
     "text": [
      "it is even number\n"
     ]
    }
   ],
   "source": [
    "n1=input('enter a number')\n",
    "if n1.isdigit():\n",
    "    n1=int(n1)\n",
    "    if n1%2==0:\n",
    "        print('it is even number')\n",
    "    else:\n",
    "        print('it is a odd number')\n",
    "else:\n",
    "    print('enter a valid input')\n",
    "        "
   ]
  },
  {
   "cell_type": "code",
   "execution_count": null,
   "id": "c50042f5-17eb-4372-8b5f-c9c88e5ed294",
   "metadata": {},
   "outputs": [],
   "source": [
    "3. Create a Python program that takes three numbers as input and prints the largest number\n",
    "among them."
   ]
  },
  {
   "cell_type": "code",
   "execution_count": 9,
   "id": "6279ee8b-032a-4038-85a0-a64475d409d7",
   "metadata": {},
   "outputs": [
    {
     "name": "stdin",
     "output_type": "stream",
     "text": [
      " 5\n",
      " 6\n",
      " 3\n"
     ]
    },
    {
     "name": "stdout",
     "output_type": "stream",
     "text": [
      "largest number 6\n"
     ]
    }
   ],
   "source": [
    "a=int(input())\n",
    "b=int(input())\n",
    "c=int(input())\n",
    "x=[a,b,c]\n",
    "x.sort()\n",
    "print('largest number',x[2])"
   ]
  },
  {
   "cell_type": "code",
   "execution_count": null,
   "id": "272229ae-618a-4aca-8f41-7ae615b88a0f",
   "metadata": {},
   "outputs": [],
   "source": [
    "4. Write a program that takes the user's input for a temperature in Celsius and converts it to\n",
    "Fahrenheit. If the temperature is below freezing (32°F), print a warning that it’s freezing"
   ]
  },
  {
   "cell_type": "code",
   "execution_count": 17,
   "id": "e4c019a4-8b43-4084-9710-88984ac8277c",
   "metadata": {},
   "outputs": [
    {
     "name": "stdin",
     "output_type": "stream",
     "text": [
      "input for a temperature in Celsius  0\n"
     ]
    },
    {
     "name": "stdout",
     "output_type": "stream",
     "text": [
      "warning it’s freezing\n"
     ]
    }
   ],
   "source": [
    "temp=input('input for a temperature in Celsius ')\n",
    "if temp.isdigit():\n",
    "    temp=int(temp)\n",
    "    fah=(temp*1.8)+32\n",
    "    if fah<=32:\n",
    "        print('warning it’s freezing')\n",
    "    else:\n",
    "        print(f'converted {temp} to Fahrenheit {fah}')\n",
    "else:\n",
    "    print('enter valid input')"
   ]
  },
  {
   "cell_type": "code",
   "execution_count": null,
   "id": "7323bfae-4efe-446b-9f45-1bf378b8b42c",
   "metadata": {},
   "outputs": [],
   "source": [
    "5. Create a program that simulates a simple ATM. It should prompt the user for a withdrawal\n",
    "amount and check if the amount is available in their account. If the amount is greater than the\n",
    "balance, display an error message. Otherwise, deduct the amount and display the remaining\n",
    "balance"
   ]
  },
  {
   "cell_type": "code",
   "execution_count": 18,
   "id": "f05b0f24-fb7a-4898-ba8e-b27d128a3b38",
   "metadata": {},
   "outputs": [
    {
     "name": "stdin",
     "output_type": "stream",
     "text": [
      "enter amount you want to withdraw  9966\n"
     ]
    },
    {
     "name": "stdout",
     "output_type": "stream",
     "text": [
      "9966 is deducted your remaining balance will be 90034\n"
     ]
    }
   ],
   "source": [
    "w_a=int(input('enter amount you want to withdraw '))\n",
    "bal=100000\n",
    "w_d=bal-w_a\n",
    "if w_d<0:\n",
    "    print('your balance is 100000,you can only withdraw this amount')\n",
    "else:\n",
    "    print(f'{w_a} is deducted your remaining balance will be {w_d}')"
   ]
  },
  {
   "cell_type": "code",
   "execution_count": null,
   "id": "ab25fae0-464f-4034-8222-aae6f4436ff8",
   "metadata": {},
   "outputs": [],
   "source": []
  }
 ],
 "metadata": {
  "kernelspec": {
   "display_name": "Python 3 (ipykernel)",
   "language": "python",
   "name": "python3"
  },
  "language_info": {
   "codemirror_mode": {
    "name": "ipython",
    "version": 3
   },
   "file_extension": ".py",
   "mimetype": "text/x-python",
   "name": "python",
   "nbconvert_exporter": "python",
   "pygments_lexer": "ipython3",
   "version": "3.12.7"
  }
 },
 "nbformat": 4,
 "nbformat_minor": 5
}
