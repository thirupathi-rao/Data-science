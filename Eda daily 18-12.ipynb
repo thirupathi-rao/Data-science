{
 "cells": [
  {
   "cell_type": "markdown",
   "id": "f5b083a9-b9a5-49fa-8713-590cfd4efbbc",
   "metadata": {},
   "source": [
    "Q1.\n",
    "a. Generate five NumPy arrays of different dimensions using arange().\n",
    "b. Determine the datatype, shape, size, and dimensions of those arrays."
   ]
  },
  {
   "cell_type": "code",
   "execution_count": 1,
   "id": "bfeb64fa-4a6c-472b-a3d9-e1a6267c1466",
   "metadata": {},
   "outputs": [],
   "source": [
    "import numpy as np"
   ]
  },
  {
   "cell_type": "code",
   "execution_count": 19,
   "id": "391e028b-8ee1-4f7e-a0b9-3dbb4733f411",
   "metadata": {},
   "outputs": [
    {
     "name": "stdout",
     "output_type": "stream",
     "text": [
      "[[ 0  1  2  3  4  5]\n",
      " [ 6  7  8  9 10 11]]\n",
      "type : <class 'numpy.ndarray'>\n",
      "dimensions : 2\n",
      "shape :(2, 6)\n",
      "type of elements : int32\n",
      "size : 12\n"
     ]
    }
   ],
   "source": [
    "a=np.arange(12).reshape(2,6)\n",
    "print(a)\n",
    "print(f'type : {type(a)}')\n",
    "print(f'dimensions : {a.ndim}')\n",
    "print(f'shape :{a.shape}')\n",
    "print(f'type of elements : {a.dtype}')\n",
    "print(f'size : {a.size}')"
   ]
  },
  {
   "cell_type": "code",
   "execution_count": 20,
   "id": "2043df82-1044-4f0e-a8b9-1a536732f363",
   "metadata": {},
   "outputs": [
    {
     "name": "stdout",
     "output_type": "stream",
     "text": [
      "[[ 0  1  2  3]\n",
      " [ 4  5  6  7]\n",
      " [ 8  9 10 11]]\n",
      "type : <class 'numpy.ndarray'>\n",
      "dimensions : 2\n",
      "shape :(3, 4)\n",
      "type of elements : int32\n",
      "size : 12\n"
     ]
    }
   ],
   "source": [
    "a=np.arange(12).reshape(3,4)\n",
    "print(a)\n",
    "print(f'type : {type(a)}')\n",
    "print(f'dimensions : {a.ndim}')\n",
    "print(f'shape :{a.shape}')\n",
    "print(f'type of elements : {a.dtype}')\n",
    "print(f'size : {a.size}')"
   ]
  },
  {
   "cell_type": "code",
   "execution_count": 21,
   "id": "bfbabe9a-6317-4e0d-99aa-1650c40e2d06",
   "metadata": {},
   "outputs": [
    {
     "name": "stdout",
     "output_type": "stream",
     "text": [
      "[[ 0  1]\n",
      " [ 2  3]\n",
      " [ 4  5]\n",
      " [ 6  7]\n",
      " [ 8  9]\n",
      " [10 11]]\n",
      "type : <class 'numpy.ndarray'>\n",
      "dimensions : 2\n",
      "shape :(6, 2)\n",
      "type of elements : int32\n",
      "size : 12\n"
     ]
    }
   ],
   "source": [
    "a=np.arange(12).reshape(6,2)\n",
    "print(a)\n",
    "print(f'type : {type(a)}')\n",
    "print(f'dimensions : {a.ndim}')\n",
    "print(f'shape :{a.shape}')\n",
    "print(f'type of elements : {a.dtype}')\n",
    "print(f'size : {a.size}')"
   ]
  },
  {
   "cell_type": "code",
   "execution_count": 22,
   "id": "bff8695d-1ec6-4f0c-8311-24c801d0feb0",
   "metadata": {},
   "outputs": [
    {
     "name": "stdout",
     "output_type": "stream",
     "text": [
      "[[ 0  1  2]\n",
      " [ 3  4  5]\n",
      " [ 6  7  8]\n",
      " [ 9 10 11]]\n",
      "type : <class 'numpy.ndarray'>\n",
      "dimensions : 2\n",
      "shape :(4, 3)\n",
      "type of elements : int32\n",
      "size : 12\n"
     ]
    }
   ],
   "source": [
    "a=np.arange(0,12).reshape(4,3)\n",
    "print(a)\n",
    "print(f'type : {type(a)}')\n",
    "print(f'dimensions : {a.ndim}')\n",
    "print(f'shape :{a.shape}')\n",
    "print(f'type of elements : {a.dtype}')\n",
    "print(f'size : {a.size}')"
   ]
  },
  {
   "cell_type": "code",
   "execution_count": 23,
   "id": "b9c7be19-037e-4b91-b7f5-1a253da5a006",
   "metadata": {},
   "outputs": [
    {
     "name": "stdout",
     "output_type": "stream",
     "text": [
      "[[ 0]\n",
      " [ 1]\n",
      " [ 2]\n",
      " [ 3]\n",
      " [ 4]\n",
      " [ 5]\n",
      " [ 6]\n",
      " [ 7]\n",
      " [ 8]\n",
      " [ 9]\n",
      " [10]\n",
      " [11]]\n",
      "type : <class 'numpy.ndarray'>\n",
      "dimensions : 2\n",
      "shape :(12, 1)\n",
      "type of elements : int32\n",
      "size : 12\n"
     ]
    }
   ],
   "source": [
    "a=np.arange(12).reshape(12,1)\n",
    "print(a)\n",
    "print(f'type : {type(a)}')\n",
    "print(f'dimensions : {a.ndim}')\n",
    "print(f'shape :{a.shape}')\n",
    "print(f'type of elements : {a.dtype}')\n",
    "print(f'size : {a.size}')"
   ]
  },
  {
   "cell_type": "markdown",
   "id": "acc45c3a-d09f-4556-85e8-5a829129564f",
   "metadata": {},
   "source": [
    "Q2.\n",
    "a. Generate five NumPy arrays of different dimensions using np.array().\n",
    "b. Determine the datatype, shape, size, and dimensions of those arrays."
   ]
  },
  {
   "cell_type": "code",
   "execution_count": 24,
   "id": "21daa697-e978-4aa8-9663-9387938e9bb6",
   "metadata": {},
   "outputs": [
    {
     "name": "stdout",
     "output_type": "stream",
     "text": [
      "[1 2 3]\n",
      "type : <class 'numpy.ndarray'>\n",
      "dimensions : 1\n",
      "shape :(3,)\n",
      "type of elements : int32\n",
      "size : 3\n"
     ]
    }
   ],
   "source": [
    "a=np.array([1,2,3])\n",
    "print(a)\n",
    "print(f'type : {type(a)}')\n",
    "print(f'dimensions : {a.ndim}')\n",
    "print(f'shape :{a.shape}')\n",
    "print(f'type of elements : {a.dtype}')\n",
    "print(f'size : {a.size}')"
   ]
  },
  {
   "cell_type": "code",
   "execution_count": 25,
   "id": "9d8d1dc4-64e4-4b8f-b19f-3039e0c29fe2",
   "metadata": {},
   "outputs": [
    {
     "name": "stdout",
     "output_type": "stream",
     "text": [
      "[[1 2 3]]\n",
      "type : <class 'numpy.ndarray'>\n",
      "dimensions : 2\n",
      "shape :(1, 3)\n",
      "type of elements : int32\n",
      "size : 3\n"
     ]
    }
   ],
   "source": [
    "a=np.array([[1,2,3]])\n",
    "print(a)\n",
    "print(f'type : {type(a)}')\n",
    "print(f'dimensions : {a.ndim}')\n",
    "print(f'shape :{a.shape}')\n",
    "print(f'type of elements : {a.dtype}')\n",
    "print(f'size : {a.size}')"
   ]
  },
  {
   "cell_type": "code",
   "execution_count": 26,
   "id": "f0816479-65d8-463b-9478-7d7f9546e730",
   "metadata": {},
   "outputs": [
    {
     "name": "stdout",
     "output_type": "stream",
     "text": [
      "[[1 2 3]\n",
      " [4 5 6]]\n",
      "type : <class 'numpy.ndarray'>\n",
      "dimensions : 2\n",
      "shape :(2, 3)\n",
      "type of elements : int32\n",
      "size : 6\n"
     ]
    }
   ],
   "source": [
    "a=np.array([[1,2,3],[4,5,6]])\n",
    "print(a)\n",
    "print(f'type : {type(a)}')\n",
    "print(f'dimensions : {a.ndim}')\n",
    "print(f'shape :{a.shape}')\n",
    "print(f'type of elements : {a.dtype}')\n",
    "print(f'size : {a.size}')"
   ]
  },
  {
   "cell_type": "code",
   "execution_count": 27,
   "id": "9b699e76-3253-4a02-b3d7-dea76fad169c",
   "metadata": {},
   "outputs": [
    {
     "name": "stdout",
     "output_type": "stream",
     "text": [
      "[[1 2 3]\n",
      " [4 5 6]\n",
      " [7 8 9]]\n",
      "type : <class 'numpy.ndarray'>\n",
      "dimensions : 2\n",
      "shape :(3, 3)\n",
      "type of elements : int32\n",
      "size : 9\n"
     ]
    }
   ],
   "source": [
    "a=np.array([[1,2,3],[4,5,6],[7,8,9]])\n",
    "print(a)\n",
    "print(f'type : {type(a)}')\n",
    "print(f'dimensions : {a.ndim}')\n",
    "print(f'shape :{a.shape}')\n",
    "print(f'type of elements : {a.dtype}')\n",
    "print(f'size : {a.size}')"
   ]
  },
  {
   "cell_type": "code",
   "execution_count": 28,
   "id": "05f99ab7-a409-4097-bad1-34ebadbb910b",
   "metadata": {},
   "outputs": [
    {
     "name": "stdout",
     "output_type": "stream",
     "text": [
      "[[[1 2 3]\n",
      "  [4 5 6]]\n",
      "\n",
      " [[1 2 3]\n",
      "  [4 5 6]]\n",
      "\n",
      " [[1 2 3]\n",
      "  [4 5 6]]]\n",
      "type : <class 'numpy.ndarray'>\n",
      "dimensions : 3\n",
      "shape :(3, 2, 3)\n",
      "type of elements : int32\n",
      "size : 18\n"
     ]
    }
   ],
   "source": [
    "a=np.array([[[1,2,3],[4,5,6]],[[1,2,3],[4,5,6]],[[1,2,3],[4,5,6]]])\n",
    "print(a)\n",
    "print(f'type : {type(a)}')\n",
    "print(f'dimensions : {a.ndim}')\n",
    "print(f'shape :{a.shape}')\n",
    "print(f'type of elements : {a.dtype}')\n",
    "print(f'size : {a.size}')"
   ]
  },
  {
   "cell_type": "code",
   "execution_count": null,
   "id": "ff2e58e8-8702-48a2-a9a2-34145edb1d7a",
   "metadata": {},
   "outputs": [],
   "source": []
  }
 ],
 "metadata": {
  "kernelspec": {
   "display_name": "Python 3 (ipykernel)",
   "language": "python",
   "name": "python3"
  },
  "language_info": {
   "codemirror_mode": {
    "name": "ipython",
    "version": 3
   },
   "file_extension": ".py",
   "mimetype": "text/x-python",
   "name": "python",
   "nbconvert_exporter": "python",
   "pygments_lexer": "ipython3",
   "version": "3.12.7"
  }
 },
 "nbformat": 4,
 "nbformat_minor": 5
}
