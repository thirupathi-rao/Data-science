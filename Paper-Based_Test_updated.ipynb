{
 "cells": [
  {
   "cell_type": "markdown",
   "id": "4621601f",
   "metadata": {},
   "source": [
    "### Q1. Take input from the user. Write a function that stutters that word as if someone is struggling to read it. The first two letters are repeated twice with an ellipsis ... and space after each, and then the word is pronounced with a question mark ?.\n",
    "\n",
    "**Examples:**\n",
    "\n",
    "stutter(\"incredible\") **➞ Output:**  \"in... in... incredible?\"\n",
    "\n",
    "stutter(\"enthusiastic\") **➞ Output:** \"en... en... enthusiastic?\"\n",
    "\n",
    "stutter(\"outstanding\") **➞ Output:** \"ou... ou... outstanding?\"\n",
    "\n",
    "**Hint :** Assume all input is in lower case and at least two characters long.\n"
   ]
  },
  {
   "cell_type": "code",
   "execution_count": 4,
   "id": "cc43434c",
   "metadata": {},
   "outputs": [
    {
     "name": "stdout",
     "output_type": "stream",
     "text": [
      "in... in... incredible?\n",
      "en... en... enthusiastic?\n",
      "ou... ou... outstanding?\n"
     ]
    }
   ],
   "source": [
    "def stutter(a):\n",
    "    print(f\"{a[:2]}... {a[:2]}... {a}?\")\n",
    "stutter(\"incredible\") \n",
    "stutter(\"enthusiastic\") \n",
    "stutter(\"outstanding\")     "
   ]
  },
  {
   "cell_type": "code",
   "execution_count": 3,
   "id": "029c6fb0",
   "metadata": {},
   "outputs": [
    {
     "name": "stdout",
     "output_type": "stream",
     "text": [
      "in... in... incredible?\n",
      "en... en... enthusiastic?\n",
      "ou... ou... outstanding?\n"
     ]
    }
   ],
   "source": [
    "stutter(\"incredible\") \n",
    "stutter(\"enthusiastic\") \n",
    "stutter(\"outstanding\") \n",
    "\n",
    "#Expected Output:"
   ]
  },
  {
   "cell_type": "markdown",
   "id": "4114af0c",
   "metadata": {},
   "source": []
  },
  {
   "cell_type": "markdown",
   "id": "9b58af16",
   "metadata": {},
   "source": [
    "### Q2. Create a function that replaces all the vowels in a string with a specified character.   \n",
    "\n",
    "**Examples:**\n",
    "\n",
    "replace_vowels(\"the aardvark\", \"#\") **➞ Output:** `\"th# ##rdv#rk\"`\n",
    "\n",
    "replace_vowels(\"minnie mouse\", \"?\") **➞ Output:** `\"m?nn?? m??s?\"`\n",
    "\n",
    "replace_vowels(\"shakespeare\", \"*\") **➞ Output:** `\"sh*k*sp**r*\"`\n"
   ]
  },
  {
   "cell_type": "code",
   "execution_count": 7,
   "id": "f6befcfc",
   "metadata": {},
   "outputs": [
    {
     "name": "stdout",
     "output_type": "stream",
     "text": [
      "th# ##rdv#rk\n",
      "m?nn?? m??s?\n",
      "sh*k*sp**r*\n"
     ]
    }
   ],
   "source": [
    "def replace_vowels(a,b):\n",
    "    c=''\n",
    "    for i in a:\n",
    "        if i in 'aeiou':\n",
    "            c+=b\n",
    "        else:\n",
    "            c+=i\n",
    "    print(c)\n",
    "replace_vowels(\"the aardvark\", \"#\") \n",
    "replace_vowels(\"minnie mouse\", \"?\") \n",
    "replace_vowels(\"shakespeare\", \"*\")             "
   ]
  },
  {
   "cell_type": "code",
   "execution_count": 10,
   "id": "fb8b50d0",
   "metadata": {},
   "outputs": [
    {
     "name": "stdout",
     "output_type": "stream",
     "text": [
      "th# ##rdv#rk\n",
      "m?nn?? m??s?\n",
      "sh*k*sp**r*\n"
     ]
    }
   ],
   "source": [
    "replace_vowels(\"the aardvark\", \"#\") \n",
    "replace_vowels(\"minnie mouse\", \"?\") \n",
    "replace_vowels(\"shakespeare\", \"*\") \n",
    "\n",
    "#Expected Output:"
   ]
  },
  {
   "cell_type": "markdown",
   "id": "ffe82cb4",
   "metadata": {},
   "source": []
  },
  {
   "cell_type": "markdown",
   "id": "c6d93fa5",
   "metadata": {},
   "source": []
  },
  {
   "cell_type": "markdown",
   "id": "5da6a1ed",
   "metadata": {},
   "source": [
    "### Q3. Write a Python program to create a class representing a shopping cart. Include methods for adding and removing items, and calculating the total price. The expected output of the program is given below:\n"
   ]
  },
  {
   "cell_type": "code",
   "execution_count": 5,
   "id": "f62a97b8",
   "metadata": {},
   "outputs": [],
   "source": [
    "class shopping_cart:\n",
    "    dict1={}\n",
    "    def __init__(s):\n",
    "        s.name=''\n",
    "        s.quantity=0\n",
    "    @classmethod\n",
    "    def add_to_cart(cls,name,quantity):\n",
    "        cls.dict1[name]=quantity\n",
    "    def total_quantity(s):\n",
    "        total_quantity=sum(dict1.values())\n",
    "    def dispaly(s):\n",
    "        print('Current Items in Cart:')\n",
    "        print(shopping_cart.dict1)\n",
    "        for i,j in shopping_cart.dict1.items():\n",
    "            print(f'{i} : {j}')\n",
    "        print(f'total_quantity : {sum(shopping_cart.dict1.values())}')\n",
    "    def remove_items(s):\n",
    "        a=input('Enter which item to remove : ')\n",
    "        if a in shopping_cart.dict1.keys():\n",
    "            shopping_cart.dict1.pop(a)\n",
    "        else:\n",
    "            print(f'{a} is not present in current cart')\n",
    "        print('Current Items in Cart:')\n",
    "        for i,j in shopping_cart.dict1.items():\n",
    "            print(f'{i} : {j}')\n",
    "        print(f'total_quantity : {sum(shopping_cart.dict1.values())}')\n",
    "\n",
    "\n",
    "        "
   ]
  },
  {
   "cell_type": "code",
   "execution_count": 7,
   "id": "e8dcf34e-bca5-4dd6-90c6-b3d6117080d1",
   "metadata": {
    "scrolled": true
   },
   "outputs": [
    {
     "name": "stdin",
     "output_type": "stream",
     "text": [
      "Do you want to add items in cart (yes or no only) :  yes\n",
      "Enter item :  papaya\n",
      "Enter quantity : 100\n",
      "Do you want to add items in cart (yes or no only) :  yes\n"
     ]
    },
    {
     "name": "stdout",
     "output_type": "stream",
     "text": [
      "--------------------\n"
     ]
    },
    {
     "name": "stdin",
     "output_type": "stream",
     "text": [
      "Enter item :  guva\n",
      "Enter quantity : 200\n",
      "Do you want to add items in cart (yes or no only) :  yes\n"
     ]
    },
    {
     "name": "stdout",
     "output_type": "stream",
     "text": [
      "--------------------\n"
     ]
    },
    {
     "name": "stdin",
     "output_type": "stream",
     "text": [
      "Enter item :  orange\n",
      "Enter quantity : 150\n",
      "Do you want to add items in cart (yes or no only) :  no\n"
     ]
    },
    {
     "name": "stdout",
     "output_type": "stream",
     "text": [
      "--------------------\n",
      "Current Items in Cart:\n",
      "{'papaya': 100, 'guva': 200, 'orange': 150}\n",
      "papaya : 100\n",
      "guva : 200\n",
      "orange : 150\n",
      "total_quantity : 450\n",
      "--------------------\n"
     ]
    },
    {
     "name": "stdin",
     "output_type": "stream",
     "text": [
      "Enter which item to remove :  orange\n"
     ]
    },
    {
     "name": "stdout",
     "output_type": "stream",
     "text": [
      "Current Items in Cart:\n",
      "papaya : 100\n",
      "guva : 200\n",
      "total_quantity : 300\n",
      "--------------------\n"
     ]
    }
   ],
   "source": [
    "fruits=shopping_cart()\n",
    "a=input('Do you want to add items in cart (yes or no only) : ')\n",
    "while a=='yes':\n",
    "    b=input('Enter item : ')\n",
    "    c=int(input('Enter quantity :'))\n",
    "    fruits.add_to_cart(b,c)\n",
    "    a=input('Do you want to add items in cart (yes or no only) : ')\n",
    "    print('-'*20)\n",
    "fruits.dispaly()\n",
    "print('-'*20)\n",
    "fruits.remove_items()\n",
    "print('-'*20)"
   ]
  },
  {
   "cell_type": "code",
   "execution_count": 18,
   "id": "1b1c0f4f",
   "metadata": {},
   "outputs": [
    {
     "name": "stdout",
     "output_type": "stream",
     "text": [
      "Current Items in Cart:\n",
      "PAPAYA - 100\n",
      "GUAVA - 200\n",
      "ORANGE - 150\n",
      "Total Quantity: 450 \n",
      "\n",
      "Enter which item to remove: orange\n",
      "\n",
      "Updated Items in Cart after removing ORANGE:\n",
      "PAPAYA - 100\n",
      "GUAVA - 200\n",
      "Total Quantity: 300\n"
     ]
    }
   ],
   "source": [
    "#Expected Output:"
   ]
  },
  {
   "cell_type": "markdown",
   "id": "e10608f1",
   "metadata": {},
   "source": []
  },
  {
   "cell_type": "markdown",
   "id": "e9076888",
   "metadata": {},
   "source": [
    "### Q4. WAP to print the following pattern:"
   ]
  },
  {
   "cell_type": "code",
   "execution_count": 15,
   "id": "b6b4a2e9",
   "metadata": {},
   "outputs": [
    {
     "name": "stdout",
     "output_type": "stream",
     "text": [
      "    A\n",
      "   ABC\n",
      "  ABCDE\n",
      " ABCDEFG\n",
      "ABCDEFGHI\n"
     ]
    }
   ],
   "source": [
    "n = 5 \n",
    "for i in range(1, n + 1):\n",
    "    print(\" \" * (n - i), end=\"\")\n",
    "    for j in range(1, 2 * i):\n",
    "        print(chr(64 + j), end=\"\")\n",
    "    print()\n"
   ]
  },
  {
   "cell_type": "code",
   "execution_count": null,
   "id": "9d2210ca",
   "metadata": {},
   "outputs": [],
   "source": [
    "    A\n",
    "   ABC\n",
    "  ABCDE\n",
    " ABCDEFG\n",
    "ABCDEFGHI"
   ]
  }
 ],
 "metadata": {
  "kernelspec": {
   "display_name": "Python 3 (ipykernel)",
   "language": "python",
   "name": "python3"
  },
  "language_info": {
   "codemirror_mode": {
    "name": "ipython",
    "version": 3
   },
   "file_extension": ".py",
   "mimetype": "text/x-python",
   "name": "python",
   "nbconvert_exporter": "python",
   "pygments_lexer": "ipython3",
   "version": "3.12.7"
  }
 },
 "nbformat": 4,
 "nbformat_minor": 5
}
