{
 "cells": [
  {
   "cell_type": "code",
   "execution_count": 1,
   "id": "ca89f8e7-c041-44b0-98a1-2a81548e2e35",
   "metadata": {},
   "outputs": [],
   "source": [
    "import pandas as pd\n",
    "import numpy as np"
   ]
  },
  {
   "cell_type": "code",
   "execution_count": 8,
   "id": "aff7a751-1e8b-4baa-a3a7-cc4f134b674a",
   "metadata": {},
   "outputs": [],
   "source": [
    "df_food_data=pd.read_csv(r\"C:\\Users\\dtrri\\bot\\food_data.csv\")"
   ]
  },
  {
   "cell_type": "code",
   "execution_count": 9,
   "id": "e3410f88-1c6c-409c-9e3f-e9afc98441b7",
   "metadata": {},
   "outputs": [],
   "source": [
    "df=df_food_data.copy()"
   ]
  },
  {
   "cell_type": "code",
   "execution_count": 10,
   "id": "7a9798b4-9af6-4e07-889e-e385ec105723",
   "metadata": {},
   "outputs": [
    {
     "data": {
      "text/html": [
       "<div>\n",
       "<style scoped>\n",
       "    .dataframe tbody tr th:only-of-type {\n",
       "        vertical-align: middle;\n",
       "    }\n",
       "\n",
       "    .dataframe tbody tr th {\n",
       "        vertical-align: top;\n",
       "    }\n",
       "\n",
       "    .dataframe thead th {\n",
       "        text-align: right;\n",
       "    }\n",
       "</style>\n",
       "<table border=\"1\" class=\"dataframe\">\n",
       "  <thead>\n",
       "    <tr style=\"text-align: right;\">\n",
       "      <th></th>\n",
       "      <th>GPA</th>\n",
       "      <th>Gender</th>\n",
       "      <th>breakfast</th>\n",
       "      <th>calories_day</th>\n",
       "      <th>coffee</th>\n",
       "      <th>comfort_food</th>\n",
       "      <th>cuisine</th>\n",
       "      <th>eating_changes_coded1</th>\n",
       "      <th>father_education</th>\n",
       "      <th>father_profession</th>\n",
       "      <th>fav_cuisine</th>\n",
       "      <th>fav_cuisine_coded</th>\n",
       "      <th>fav_food</th>\n",
       "      <th>fries</th>\n",
       "      <th>fruit_day</th>\n",
       "      <th>marital_status</th>\n",
       "      <th>mother_education</th>\n",
       "      <th>mother_profession</th>\n",
       "    </tr>\n",
       "  </thead>\n",
       "  <tbody>\n",
       "    <tr>\n",
       "      <th>0</th>\n",
       "      <td>2.4</td>\n",
       "      <td>2</td>\n",
       "      <td>1</td>\n",
       "      <td>NaN</td>\n",
       "      <td>1</td>\n",
       "      <td>none</td>\n",
       "      <td>NaN</td>\n",
       "      <td>1</td>\n",
       "      <td>5.0</td>\n",
       "      <td>profesor</td>\n",
       "      <td>Arabic cuisine</td>\n",
       "      <td>3</td>\n",
       "      <td>1.0</td>\n",
       "      <td>2</td>\n",
       "      <td>5</td>\n",
       "      <td>1.0</td>\n",
       "      <td>1.0</td>\n",
       "      <td>unemployed</td>\n",
       "    </tr>\n",
       "    <tr>\n",
       "      <th>1</th>\n",
       "      <td>3.654</td>\n",
       "      <td>1</td>\n",
       "      <td>1</td>\n",
       "      <td>3.0</td>\n",
       "      <td>2</td>\n",
       "      <td>chocolate, chips, ice cream</td>\n",
       "      <td>1.0</td>\n",
       "      <td>2</td>\n",
       "      <td>2.0</td>\n",
       "      <td>Self employed</td>\n",
       "      <td>Italian</td>\n",
       "      <td>1</td>\n",
       "      <td>1.0</td>\n",
       "      <td>1</td>\n",
       "      <td>4</td>\n",
       "      <td>2.0</td>\n",
       "      <td>4.0</td>\n",
       "      <td>Nurse RN</td>\n",
       "    </tr>\n",
       "    <tr>\n",
       "      <th>2</th>\n",
       "      <td>3.3</td>\n",
       "      <td>1</td>\n",
       "      <td>1</td>\n",
       "      <td>4.0</td>\n",
       "      <td>2</td>\n",
       "      <td>frozen yogurt, pizza, fast food</td>\n",
       "      <td>3.0</td>\n",
       "      <td>3</td>\n",
       "      <td>2.0</td>\n",
       "      <td>owns business</td>\n",
       "      <td>italian</td>\n",
       "      <td>1</td>\n",
       "      <td>3.0</td>\n",
       "      <td>1</td>\n",
       "      <td>5</td>\n",
       "      <td>2.0</td>\n",
       "      <td>2.0</td>\n",
       "      <td>owns business</td>\n",
       "    </tr>\n",
       "    <tr>\n",
       "      <th>3</th>\n",
       "      <td>3.2</td>\n",
       "      <td>1</td>\n",
       "      <td>1</td>\n",
       "      <td>3.0</td>\n",
       "      <td>2</td>\n",
       "      <td>Pizza, Mac and cheese, ice cream</td>\n",
       "      <td>2.0</td>\n",
       "      <td>3</td>\n",
       "      <td>2.0</td>\n",
       "      <td>Mechanic</td>\n",
       "      <td>Turkish</td>\n",
       "      <td>3</td>\n",
       "      <td>1.0</td>\n",
       "      <td>2</td>\n",
       "      <td>4</td>\n",
       "      <td>2.0</td>\n",
       "      <td>4.0</td>\n",
       "      <td>Special Education Teacher</td>\n",
       "    </tr>\n",
       "    <tr>\n",
       "      <th>4</th>\n",
       "      <td>3.5</td>\n",
       "      <td>1</td>\n",
       "      <td>1</td>\n",
       "      <td>2.0</td>\n",
       "      <td>2</td>\n",
       "      <td>Ice cream, chocolate, chips</td>\n",
       "      <td>2.0</td>\n",
       "      <td>4</td>\n",
       "      <td>4.0</td>\n",
       "      <td>IT</td>\n",
       "      <td>Italian</td>\n",
       "      <td>1</td>\n",
       "      <td>3.0</td>\n",
       "      <td>1</td>\n",
       "      <td>4</td>\n",
       "      <td>1.0</td>\n",
       "      <td>5.0</td>\n",
       "      <td>Substance Abuse Conselor</td>\n",
       "    </tr>\n",
       "    <tr>\n",
       "      <th>...</th>\n",
       "      <td>...</td>\n",
       "      <td>...</td>\n",
       "      <td>...</td>\n",
       "      <td>...</td>\n",
       "      <td>...</td>\n",
       "      <td>...</td>\n",
       "      <td>...</td>\n",
       "      <td>...</td>\n",
       "      <td>...</td>\n",
       "      <td>...</td>\n",
       "      <td>...</td>\n",
       "      <td>...</td>\n",
       "      <td>...</td>\n",
       "      <td>...</td>\n",
       "      <td>...</td>\n",
       "      <td>...</td>\n",
       "      <td>...</td>\n",
       "      <td>...</td>\n",
       "    </tr>\n",
       "    <tr>\n",
       "      <th>122</th>\n",
       "      <td>3</td>\n",
       "      <td>1</td>\n",
       "      <td>1</td>\n",
       "      <td>2.0</td>\n",
       "      <td>2</td>\n",
       "      <td>Pizza / Wings / Cheesecake</td>\n",
       "      <td>NaN</td>\n",
       "      <td>3</td>\n",
       "      <td>5.0</td>\n",
       "      <td>Doctor</td>\n",
       "      <td>Mexican Food</td>\n",
       "      <td>2</td>\n",
       "      <td>1.0</td>\n",
       "      <td>1</td>\n",
       "      <td>4</td>\n",
       "      <td>1.0</td>\n",
       "      <td>2.0</td>\n",
       "      <td>Public Health Advisor</td>\n",
       "    </tr>\n",
       "    <tr>\n",
       "      <th>123</th>\n",
       "      <td>3.882</td>\n",
       "      <td>1</td>\n",
       "      <td>1</td>\n",
       "      <td>NaN</td>\n",
       "      <td>1</td>\n",
       "      <td>rice, potato, seaweed soup</td>\n",
       "      <td>NaN</td>\n",
       "      <td>3</td>\n",
       "      <td>5.0</td>\n",
       "      <td>CEO of company</td>\n",
       "      <td>Korean</td>\n",
       "      <td>4</td>\n",
       "      <td>1.0</td>\n",
       "      <td>1</td>\n",
       "      <td>4</td>\n",
       "      <td>1.0</td>\n",
       "      <td>1.0</td>\n",
       "      <td>Real Estate manageer</td>\n",
       "    </tr>\n",
       "    <tr>\n",
       "      <th>124</th>\n",
       "      <td>3</td>\n",
       "      <td>2</td>\n",
       "      <td>1</td>\n",
       "      <td>4.0</td>\n",
       "      <td>1</td>\n",
       "      <td>Mac n Cheese, Lasagna, Pizza</td>\n",
       "      <td>1.0</td>\n",
       "      <td>8</td>\n",
       "      <td>3.0</td>\n",
       "      <td>Store manager at Giant Eagle</td>\n",
       "      <td>Italian</td>\n",
       "      <td>1</td>\n",
       "      <td>3.0</td>\n",
       "      <td>1</td>\n",
       "      <td>5</td>\n",
       "      <td>1.0</td>\n",
       "      <td>2.0</td>\n",
       "      <td>Receptionist for a medical supply company</td>\n",
       "    </tr>\n",
       "    <tr>\n",
       "      <th>125</th>\n",
       "      <td>3.9</td>\n",
       "      <td>1</td>\n",
       "      <td>1</td>\n",
       "      <td>NaN</td>\n",
       "      <td>2</td>\n",
       "      <td>Chocolates, pizza, and Ritz.</td>\n",
       "      <td>3.0</td>\n",
       "      <td>5</td>\n",
       "      <td>4.0</td>\n",
       "      <td>Journalist</td>\n",
       "      <td>HISPANIC CUISINE.</td>\n",
       "      <td>2</td>\n",
       "      <td>1.0</td>\n",
       "      <td>1</td>\n",
       "      <td>3</td>\n",
       "      <td>2.0</td>\n",
       "      <td>3.0</td>\n",
       "      <td>House-wife</td>\n",
       "    </tr>\n",
       "    <tr>\n",
       "      <th>126</th>\n",
       "      <td>3.9</td>\n",
       "      <td>1</td>\n",
       "      <td>1</td>\n",
       "      <td>NaN</td>\n",
       "      <td>2</td>\n",
       "      <td>Chocolates, pizza, and Ritz.</td>\n",
       "      <td>3.0</td>\n",
       "      <td>5</td>\n",
       "      <td>4.0</td>\n",
       "      <td>Journalist</td>\n",
       "      <td>HISPANIC CUISINE.</td>\n",
       "      <td>2</td>\n",
       "      <td>1.0</td>\n",
       "      <td>1</td>\n",
       "      <td>3</td>\n",
       "      <td>2.0</td>\n",
       "      <td>3.0</td>\n",
       "      <td>House-wife</td>\n",
       "    </tr>\n",
       "  </tbody>\n",
       "</table>\n",
       "<p>127 rows × 18 columns</p>\n",
       "</div>"
      ],
      "text/plain": [
       "       GPA  Gender  breakfast  calories_day  coffee  \\\n",
       "0      2.4       2          1           NaN       1   \n",
       "1    3.654       1          1           3.0       2   \n",
       "2      3.3       1          1           4.0       2   \n",
       "3      3.2       1          1           3.0       2   \n",
       "4      3.5       1          1           2.0       2   \n",
       "..     ...     ...        ...           ...     ...   \n",
       "122      3       1          1           2.0       2   \n",
       "123  3.882       1          1           NaN       1   \n",
       "124      3       2          1           4.0       1   \n",
       "125    3.9       1          1           NaN       2   \n",
       "126    3.9       1          1           NaN       2   \n",
       "\n",
       "                         comfort_food  cuisine eating_changes_coded1  \\\n",
       "0                                none      NaN                     1   \n",
       "1         chocolate, chips, ice cream      1.0                     2   \n",
       "2     frozen yogurt, pizza, fast food      3.0                     3   \n",
       "3    Pizza, Mac and cheese, ice cream      2.0                     3   \n",
       "4        Ice cream, chocolate, chips       2.0                     4   \n",
       "..                                ...      ...                   ...   \n",
       "122        Pizza / Wings / Cheesecake      NaN                     3   \n",
       "123        rice, potato, seaweed soup      NaN                     3   \n",
       "124      Mac n Cheese, Lasagna, Pizza      1.0                     8   \n",
       "125      Chocolates, pizza, and Ritz.      3.0                     5   \n",
       "126      Chocolates, pizza, and Ritz.      3.0                     5   \n",
       "\n",
       "     father_education             father_profession        fav_cuisine  \\\n",
       "0                 5.0                     profesor      Arabic cuisine   \n",
       "1                 2.0                Self employed             Italian   \n",
       "2                 2.0                 owns business            italian   \n",
       "3                 2.0                     Mechanic            Turkish    \n",
       "4                 4.0                            IT           Italian    \n",
       "..                ...                           ...                ...   \n",
       "122               5.0                        Doctor       Mexican Food   \n",
       "123               5.0                CEO of company             Korean   \n",
       "124               3.0  Store manager at Giant Eagle            Italian   \n",
       "125               4.0                    Journalist  HISPANIC CUISINE.   \n",
       "126               4.0                    Journalist  HISPANIC CUISINE.   \n",
       "\n",
       "    fav_cuisine_coded  fav_food  fries  fruit_day  marital_status  \\\n",
       "0                   3       1.0      2          5             1.0   \n",
       "1                   1       1.0      1          4             2.0   \n",
       "2                   1       3.0      1          5             2.0   \n",
       "3                   3       1.0      2          4             2.0   \n",
       "4                   1       3.0      1          4             1.0   \n",
       "..                ...       ...    ...        ...             ...   \n",
       "122                 2       1.0      1          4             1.0   \n",
       "123                 4       1.0      1          4             1.0   \n",
       "124                 1       3.0      1          5             1.0   \n",
       "125                 2       1.0      1          3             2.0   \n",
       "126                 2       1.0      1          3             2.0   \n",
       "\n",
       "     mother_education                          mother_profession  \n",
       "0                 1.0                                 unemployed  \n",
       "1                 4.0                                  Nurse RN   \n",
       "2                 2.0                              owns business  \n",
       "3                 4.0                  Special Education Teacher  \n",
       "4                 5.0                   Substance Abuse Conselor  \n",
       "..                ...                                        ...  \n",
       "122               2.0                     Public Health Advisor   \n",
       "123               1.0                       Real Estate manageer  \n",
       "124               2.0  Receptionist for a medical supply company  \n",
       "125               3.0                                 House-wife  \n",
       "126               3.0                                 House-wife  \n",
       "\n",
       "[127 rows x 18 columns]"
      ]
     },
     "execution_count": 10,
     "metadata": {},
     "output_type": "execute_result"
    }
   ],
   "source": [
    "df"
   ]
  },
  {
   "cell_type": "code",
   "execution_count": 11,
   "id": "39b81c5e-c4a5-41de-8752-0de7f5152d42",
   "metadata": {},
   "outputs": [
    {
     "name": "stdout",
     "output_type": "stream",
     "text": [
      "<class 'pandas.core.frame.DataFrame'>\n",
      "RangeIndex: 127 entries, 0 to 126\n",
      "Data columns (total 18 columns):\n",
      " #   Column                 Non-Null Count  Dtype  \n",
      "---  ------                 --------------  -----  \n",
      " 0   GPA                    125 non-null    object \n",
      " 1   Gender                 127 non-null    int64  \n",
      " 2   breakfast              127 non-null    int64  \n",
      " 3   calories_day           106 non-null    float64\n",
      " 4   coffee                 127 non-null    int64  \n",
      " 5   comfort_food           126 non-null    object \n",
      " 6   cuisine                110 non-null    float64\n",
      " 7   eating_changes_coded1  127 non-null    object \n",
      " 8   father_education       126 non-null    float64\n",
      " 9   father_profession      124 non-null    object \n",
      " 10  fav_cuisine            124 non-null    object \n",
      " 11  fav_cuisine_coded      127 non-null    object \n",
      " 12  fav_food               125 non-null    float64\n",
      " 13  fries                  127 non-null    int64  \n",
      " 14  fruit_day              127 non-null    int64  \n",
      " 15  marital_status         126 non-null    float64\n",
      " 16  mother_education       124 non-null    float64\n",
      " 17  mother_profession      122 non-null    object \n",
      "dtypes: float64(6), int64(5), object(7)\n",
      "memory usage: 18.0+ KB\n"
     ]
    }
   ],
   "source": [
    "df.info()"
   ]
  },
  {
   "cell_type": "markdown",
   "id": "c225f552-5335-4216-a9f7-cad341857b43",
   "metadata": {},
   "source": [
    "## duplicate handeling"
   ]
  },
  {
   "cell_type": "code",
   "execution_count": 12,
   "id": "761897fc-572d-48af-9c66-c20eb6d2ee4e",
   "metadata": {},
   "outputs": [
    {
     "data": {
      "text/plain": [
       "4"
      ]
     },
     "execution_count": 12,
     "metadata": {},
     "output_type": "execute_result"
    }
   ],
   "source": [
    "df.duplicated().sum()"
   ]
  },
  {
   "cell_type": "code",
   "execution_count": 15,
   "id": "2e3a7161-ef23-48c3-8882-340b22ad6af6",
   "metadata": {},
   "outputs": [],
   "source": [
    "df.drop_duplicates(inplace=True)"
   ]
  },
  {
   "cell_type": "code",
   "execution_count": 16,
   "id": "3deaad51-a41d-4b00-91ed-d2748e45b0d5",
   "metadata": {},
   "outputs": [
    {
     "data": {
      "text/html": [
       "<div>\n",
       "<style scoped>\n",
       "    .dataframe tbody tr th:only-of-type {\n",
       "        vertical-align: middle;\n",
       "    }\n",
       "\n",
       "    .dataframe tbody tr th {\n",
       "        vertical-align: top;\n",
       "    }\n",
       "\n",
       "    .dataframe thead th {\n",
       "        text-align: right;\n",
       "    }\n",
       "</style>\n",
       "<table border=\"1\" class=\"dataframe\">\n",
       "  <thead>\n",
       "    <tr style=\"text-align: right;\">\n",
       "      <th></th>\n",
       "      <th>GPA</th>\n",
       "      <th>Gender</th>\n",
       "      <th>breakfast</th>\n",
       "      <th>calories_day</th>\n",
       "      <th>coffee</th>\n",
       "      <th>comfort_food</th>\n",
       "      <th>cuisine</th>\n",
       "      <th>eating_changes_coded1</th>\n",
       "      <th>father_education</th>\n",
       "      <th>father_profession</th>\n",
       "      <th>fav_cuisine</th>\n",
       "      <th>fav_cuisine_coded</th>\n",
       "      <th>fav_food</th>\n",
       "      <th>fries</th>\n",
       "      <th>fruit_day</th>\n",
       "      <th>marital_status</th>\n",
       "      <th>mother_education</th>\n",
       "      <th>mother_profession</th>\n",
       "    </tr>\n",
       "  </thead>\n",
       "  <tbody>\n",
       "    <tr>\n",
       "      <th>0</th>\n",
       "      <td>2.4</td>\n",
       "      <td>2</td>\n",
       "      <td>1</td>\n",
       "      <td>NaN</td>\n",
       "      <td>1</td>\n",
       "      <td>none</td>\n",
       "      <td>NaN</td>\n",
       "      <td>1</td>\n",
       "      <td>5.0</td>\n",
       "      <td>profesor</td>\n",
       "      <td>Arabic cuisine</td>\n",
       "      <td>3</td>\n",
       "      <td>1.0</td>\n",
       "      <td>2</td>\n",
       "      <td>5</td>\n",
       "      <td>1.0</td>\n",
       "      <td>1.0</td>\n",
       "      <td>unemployed</td>\n",
       "    </tr>\n",
       "    <tr>\n",
       "      <th>1</th>\n",
       "      <td>3.654</td>\n",
       "      <td>1</td>\n",
       "      <td>1</td>\n",
       "      <td>3.0</td>\n",
       "      <td>2</td>\n",
       "      <td>chocolate, chips, ice cream</td>\n",
       "      <td>1.0</td>\n",
       "      <td>2</td>\n",
       "      <td>2.0</td>\n",
       "      <td>Self employed</td>\n",
       "      <td>Italian</td>\n",
       "      <td>1</td>\n",
       "      <td>1.0</td>\n",
       "      <td>1</td>\n",
       "      <td>4</td>\n",
       "      <td>2.0</td>\n",
       "      <td>4.0</td>\n",
       "      <td>Nurse RN</td>\n",
       "    </tr>\n",
       "    <tr>\n",
       "      <th>2</th>\n",
       "      <td>3.3</td>\n",
       "      <td>1</td>\n",
       "      <td>1</td>\n",
       "      <td>4.0</td>\n",
       "      <td>2</td>\n",
       "      <td>frozen yogurt, pizza, fast food</td>\n",
       "      <td>3.0</td>\n",
       "      <td>3</td>\n",
       "      <td>2.0</td>\n",
       "      <td>owns business</td>\n",
       "      <td>italian</td>\n",
       "      <td>1</td>\n",
       "      <td>3.0</td>\n",
       "      <td>1</td>\n",
       "      <td>5</td>\n",
       "      <td>2.0</td>\n",
       "      <td>2.0</td>\n",
       "      <td>owns business</td>\n",
       "    </tr>\n",
       "    <tr>\n",
       "      <th>3</th>\n",
       "      <td>3.2</td>\n",
       "      <td>1</td>\n",
       "      <td>1</td>\n",
       "      <td>3.0</td>\n",
       "      <td>2</td>\n",
       "      <td>Pizza, Mac and cheese, ice cream</td>\n",
       "      <td>2.0</td>\n",
       "      <td>3</td>\n",
       "      <td>2.0</td>\n",
       "      <td>Mechanic</td>\n",
       "      <td>Turkish</td>\n",
       "      <td>3</td>\n",
       "      <td>1.0</td>\n",
       "      <td>2</td>\n",
       "      <td>4</td>\n",
       "      <td>2.0</td>\n",
       "      <td>4.0</td>\n",
       "      <td>Special Education Teacher</td>\n",
       "    </tr>\n",
       "    <tr>\n",
       "      <th>4</th>\n",
       "      <td>3.5</td>\n",
       "      <td>1</td>\n",
       "      <td>1</td>\n",
       "      <td>2.0</td>\n",
       "      <td>2</td>\n",
       "      <td>Ice cream, chocolate, chips</td>\n",
       "      <td>2.0</td>\n",
       "      <td>4</td>\n",
       "      <td>4.0</td>\n",
       "      <td>IT</td>\n",
       "      <td>Italian</td>\n",
       "      <td>1</td>\n",
       "      <td>3.0</td>\n",
       "      <td>1</td>\n",
       "      <td>4</td>\n",
       "      <td>1.0</td>\n",
       "      <td>5.0</td>\n",
       "      <td>Substance Abuse Conselor</td>\n",
       "    </tr>\n",
       "    <tr>\n",
       "      <th>...</th>\n",
       "      <td>...</td>\n",
       "      <td>...</td>\n",
       "      <td>...</td>\n",
       "      <td>...</td>\n",
       "      <td>...</td>\n",
       "      <td>...</td>\n",
       "      <td>...</td>\n",
       "      <td>...</td>\n",
       "      <td>...</td>\n",
       "      <td>...</td>\n",
       "      <td>...</td>\n",
       "      <td>...</td>\n",
       "      <td>...</td>\n",
       "      <td>...</td>\n",
       "      <td>...</td>\n",
       "      <td>...</td>\n",
       "      <td>...</td>\n",
       "      <td>...</td>\n",
       "    </tr>\n",
       "    <tr>\n",
       "      <th>121</th>\n",
       "      <td>3.5</td>\n",
       "      <td>1</td>\n",
       "      <td>1</td>\n",
       "      <td>4.0</td>\n",
       "      <td>2</td>\n",
       "      <td>wine. mac and cheese, pizza, ice cream</td>\n",
       "      <td>1.0</td>\n",
       "      <td>3</td>\n",
       "      <td>4.0</td>\n",
       "      <td>Accountant</td>\n",
       "      <td>Italian</td>\n",
       "      <td>1</td>\n",
       "      <td>1.0</td>\n",
       "      <td>1</td>\n",
       "      <td>5</td>\n",
       "      <td>1.0</td>\n",
       "      <td>3.0</td>\n",
       "      <td>Radiological Technician</td>\n",
       "    </tr>\n",
       "    <tr>\n",
       "      <th>122</th>\n",
       "      <td>3</td>\n",
       "      <td>1</td>\n",
       "      <td>1</td>\n",
       "      <td>2.0</td>\n",
       "      <td>2</td>\n",
       "      <td>Pizza / Wings / Cheesecake</td>\n",
       "      <td>NaN</td>\n",
       "      <td>3</td>\n",
       "      <td>5.0</td>\n",
       "      <td>Doctor</td>\n",
       "      <td>Mexican Food</td>\n",
       "      <td>2</td>\n",
       "      <td>1.0</td>\n",
       "      <td>1</td>\n",
       "      <td>4</td>\n",
       "      <td>1.0</td>\n",
       "      <td>2.0</td>\n",
       "      <td>Public Health Advisor</td>\n",
       "    </tr>\n",
       "    <tr>\n",
       "      <th>123</th>\n",
       "      <td>3.882</td>\n",
       "      <td>1</td>\n",
       "      <td>1</td>\n",
       "      <td>NaN</td>\n",
       "      <td>1</td>\n",
       "      <td>rice, potato, seaweed soup</td>\n",
       "      <td>NaN</td>\n",
       "      <td>3</td>\n",
       "      <td>5.0</td>\n",
       "      <td>CEO of company</td>\n",
       "      <td>Korean</td>\n",
       "      <td>4</td>\n",
       "      <td>1.0</td>\n",
       "      <td>1</td>\n",
       "      <td>4</td>\n",
       "      <td>1.0</td>\n",
       "      <td>1.0</td>\n",
       "      <td>Real Estate manageer</td>\n",
       "    </tr>\n",
       "    <tr>\n",
       "      <th>124</th>\n",
       "      <td>3</td>\n",
       "      <td>2</td>\n",
       "      <td>1</td>\n",
       "      <td>4.0</td>\n",
       "      <td>1</td>\n",
       "      <td>Mac n Cheese, Lasagna, Pizza</td>\n",
       "      <td>1.0</td>\n",
       "      <td>8</td>\n",
       "      <td>3.0</td>\n",
       "      <td>Store manager at Giant Eagle</td>\n",
       "      <td>Italian</td>\n",
       "      <td>1</td>\n",
       "      <td>3.0</td>\n",
       "      <td>1</td>\n",
       "      <td>5</td>\n",
       "      <td>1.0</td>\n",
       "      <td>2.0</td>\n",
       "      <td>Receptionist for a medical supply company</td>\n",
       "    </tr>\n",
       "    <tr>\n",
       "      <th>125</th>\n",
       "      <td>3.9</td>\n",
       "      <td>1</td>\n",
       "      <td>1</td>\n",
       "      <td>NaN</td>\n",
       "      <td>2</td>\n",
       "      <td>Chocolates, pizza, and Ritz.</td>\n",
       "      <td>3.0</td>\n",
       "      <td>5</td>\n",
       "      <td>4.0</td>\n",
       "      <td>Journalist</td>\n",
       "      <td>HISPANIC CUISINE.</td>\n",
       "      <td>2</td>\n",
       "      <td>1.0</td>\n",
       "      <td>1</td>\n",
       "      <td>3</td>\n",
       "      <td>2.0</td>\n",
       "      <td>3.0</td>\n",
       "      <td>House-wife</td>\n",
       "    </tr>\n",
       "  </tbody>\n",
       "</table>\n",
       "<p>123 rows × 18 columns</p>\n",
       "</div>"
      ],
      "text/plain": [
       "       GPA  Gender  breakfast  calories_day  coffee  \\\n",
       "0      2.4       2          1           NaN       1   \n",
       "1    3.654       1          1           3.0       2   \n",
       "2      3.3       1          1           4.0       2   \n",
       "3      3.2       1          1           3.0       2   \n",
       "4      3.5       1          1           2.0       2   \n",
       "..     ...     ...        ...           ...     ...   \n",
       "121    3.5       1          1           4.0       2   \n",
       "122      3       1          1           2.0       2   \n",
       "123  3.882       1          1           NaN       1   \n",
       "124      3       2          1           4.0       1   \n",
       "125    3.9       1          1           NaN       2   \n",
       "\n",
       "                                comfort_food  cuisine eating_changes_coded1  \\\n",
       "0                                       none      NaN                     1   \n",
       "1                chocolate, chips, ice cream      1.0                     2   \n",
       "2            frozen yogurt, pizza, fast food      3.0                     3   \n",
       "3           Pizza, Mac and cheese, ice cream      2.0                     3   \n",
       "4               Ice cream, chocolate, chips       2.0                     4   \n",
       "..                                       ...      ...                   ...   \n",
       "121  wine. mac and cheese, pizza, ice cream       1.0                     3   \n",
       "122               Pizza / Wings / Cheesecake      NaN                     3   \n",
       "123               rice, potato, seaweed soup      NaN                     3   \n",
       "124             Mac n Cheese, Lasagna, Pizza      1.0                     8   \n",
       "125             Chocolates, pizza, and Ritz.      3.0                     5   \n",
       "\n",
       "     father_education             father_profession        fav_cuisine  \\\n",
       "0                 5.0                     profesor      Arabic cuisine   \n",
       "1                 2.0                Self employed             Italian   \n",
       "2                 2.0                 owns business            italian   \n",
       "3                 2.0                     Mechanic            Turkish    \n",
       "4                 4.0                            IT           Italian    \n",
       "..                ...                           ...                ...   \n",
       "121               4.0                   Accountant            Italian    \n",
       "122               5.0                        Doctor       Mexican Food   \n",
       "123               5.0                CEO of company             Korean   \n",
       "124               3.0  Store manager at Giant Eagle            Italian   \n",
       "125               4.0                    Journalist  HISPANIC CUISINE.   \n",
       "\n",
       "    fav_cuisine_coded  fav_food  fries  fruit_day  marital_status  \\\n",
       "0                   3       1.0      2          5             1.0   \n",
       "1                   1       1.0      1          4             2.0   \n",
       "2                   1       3.0      1          5             2.0   \n",
       "3                   3       1.0      2          4             2.0   \n",
       "4                   1       3.0      1          4             1.0   \n",
       "..                ...       ...    ...        ...             ...   \n",
       "121                 1       1.0      1          5             1.0   \n",
       "122                 2       1.0      1          4             1.0   \n",
       "123                 4       1.0      1          4             1.0   \n",
       "124                 1       3.0      1          5             1.0   \n",
       "125                 2       1.0      1          3             2.0   \n",
       "\n",
       "     mother_education                          mother_profession  \n",
       "0                 1.0                                 unemployed  \n",
       "1                 4.0                                  Nurse RN   \n",
       "2                 2.0                              owns business  \n",
       "3                 4.0                  Special Education Teacher  \n",
       "4                 5.0                   Substance Abuse Conselor  \n",
       "..                ...                                        ...  \n",
       "121               3.0                   Radiological Technician   \n",
       "122               2.0                     Public Health Advisor   \n",
       "123               1.0                       Real Estate manageer  \n",
       "124               2.0  Receptionist for a medical supply company  \n",
       "125               3.0                                 House-wife  \n",
       "\n",
       "[123 rows x 18 columns]"
      ]
     },
     "execution_count": 16,
     "metadata": {},
     "output_type": "execute_result"
    }
   ],
   "source": [
    "df"
   ]
  },
  {
   "cell_type": "code",
   "execution_count": 17,
   "id": "c09fb305-a052-4256-9b28-847202f6b4d2",
   "metadata": {},
   "outputs": [
    {
     "name": "stdout",
     "output_type": "stream",
     "text": [
      "<class 'pandas.core.frame.DataFrame'>\n",
      "Index: 123 entries, 0 to 125\n",
      "Data columns (total 18 columns):\n",
      " #   Column                 Non-Null Count  Dtype  \n",
      "---  ------                 --------------  -----  \n",
      " 0   GPA                    121 non-null    object \n",
      " 1   Gender                 123 non-null    int64  \n",
      " 2   breakfast              123 non-null    int64  \n",
      " 3   calories_day           104 non-null    float64\n",
      " 4   coffee                 123 non-null    int64  \n",
      " 5   comfort_food           122 non-null    object \n",
      " 6   cuisine                106 non-null    float64\n",
      " 7   eating_changes_coded1  123 non-null    object \n",
      " 8   father_education       122 non-null    float64\n",
      " 9   father_profession      120 non-null    object \n",
      " 10  fav_cuisine            120 non-null    object \n",
      " 11  fav_cuisine_coded      123 non-null    object \n",
      " 12  fav_food               121 non-null    float64\n",
      " 13  fries                  123 non-null    int64  \n",
      " 14  fruit_day              123 non-null    int64  \n",
      " 15  marital_status         122 non-null    float64\n",
      " 16  mother_education       120 non-null    float64\n",
      " 17  mother_profession      118 non-null    object \n",
      "dtypes: float64(6), int64(5), object(7)\n",
      "memory usage: 18.3+ KB\n"
     ]
    }
   ],
   "source": [
    "df.info()"
   ]
  },
  {
   "cell_type": "markdown",
   "id": "076a755c-c81f-4774-949e-477408c45f81",
   "metadata": {},
   "source": []
  },
  {
   "cell_type": "code",
   "execution_count": 25,
   "id": "c816b614-ea52-4006-ad66-fd8985ec0125",
   "metadata": {},
   "outputs": [],
   "source": [
    "import re\n",
    "def remove_invalid_symbols(string):\n",
    "    return re.sub(r'[^\\W\\S]', np.nan, string)"
   ]
  },
  {
   "cell_type": "code",
   "execution_count": 22,
   "id": "5c0efcf8-1fd2-4f00-935f-49b6d11ba7a2",
   "metadata": {},
   "outputs": [
    {
     "data": {
      "text/html": [
       "<div>\n",
       "<style scoped>\n",
       "    .dataframe tbody tr th:only-of-type {\n",
       "        vertical-align: middle;\n",
       "    }\n",
       "\n",
       "    .dataframe tbody tr th {\n",
       "        vertical-align: top;\n",
       "    }\n",
       "\n",
       "    .dataframe thead th {\n",
       "        text-align: right;\n",
       "    }\n",
       "</style>\n",
       "<table border=\"1\" class=\"dataframe\">\n",
       "  <thead>\n",
       "    <tr style=\"text-align: right;\">\n",
       "      <th></th>\n",
       "      <th>Gender</th>\n",
       "      <th>breakfast</th>\n",
       "      <th>calories_day</th>\n",
       "      <th>coffee</th>\n",
       "      <th>cuisine</th>\n",
       "      <th>father_education</th>\n",
       "      <th>fav_food</th>\n",
       "      <th>fries</th>\n",
       "      <th>fruit_day</th>\n",
       "      <th>marital_status</th>\n",
       "      <th>mother_education</th>\n",
       "    </tr>\n",
       "  </thead>\n",
       "  <tbody>\n",
       "    <tr>\n",
       "      <th>count</th>\n",
       "      <td>1.230000e+02</td>\n",
       "      <td>123.000000</td>\n",
       "      <td>104.000000</td>\n",
       "      <td>123.000000</td>\n",
       "      <td>106.000000</td>\n",
       "      <td>122.000000</td>\n",
       "      <td>121.000000</td>\n",
       "      <td>123.000000</td>\n",
       "      <td>123.000000</td>\n",
       "      <td>122.000000</td>\n",
       "      <td>120.000000</td>\n",
       "    </tr>\n",
       "    <tr>\n",
       "      <th>mean</th>\n",
       "      <td>8.362049e+03</td>\n",
       "      <td>1.113821</td>\n",
       "      <td>3.038462</td>\n",
       "      <td>4114.195122</td>\n",
       "      <td>1.396226</td>\n",
       "      <td>3.483607</td>\n",
       "      <td>1.710744</td>\n",
       "      <td>1.089431</td>\n",
       "      <td>4.211382</td>\n",
       "      <td>1.491803</td>\n",
       "      <td>3.433333</td>\n",
       "    </tr>\n",
       "    <tr>\n",
       "      <th>std</th>\n",
       "      <td>9.018223e+04</td>\n",
       "      <td>0.318893</td>\n",
       "      <td>0.637396</td>\n",
       "      <td>30887.281453</td>\n",
       "      <td>0.982506</td>\n",
       "      <td>1.200782</td>\n",
       "      <td>0.907726</td>\n",
       "      <td>0.286532</td>\n",
       "      <td>0.925522</td>\n",
       "      <td>0.549168</td>\n",
       "      <td>1.179185</td>\n",
       "    </tr>\n",
       "    <tr>\n",
       "      <th>min</th>\n",
       "      <td>1.000000e+00</td>\n",
       "      <td>1.000000</td>\n",
       "      <td>2.000000</td>\n",
       "      <td>1.000000</td>\n",
       "      <td>1.000000</td>\n",
       "      <td>1.000000</td>\n",
       "      <td>1.000000</td>\n",
       "      <td>1.000000</td>\n",
       "      <td>1.000000</td>\n",
       "      <td>1.000000</td>\n",
       "      <td>1.000000</td>\n",
       "    </tr>\n",
       "    <tr>\n",
       "      <th>25%</th>\n",
       "      <td>1.000000e+00</td>\n",
       "      <td>1.000000</td>\n",
       "      <td>3.000000</td>\n",
       "      <td>2.000000</td>\n",
       "      <td>1.000000</td>\n",
       "      <td>2.000000</td>\n",
       "      <td>1.000000</td>\n",
       "      <td>1.000000</td>\n",
       "      <td>4.000000</td>\n",
       "      <td>1.000000</td>\n",
       "      <td>2.000000</td>\n",
       "    </tr>\n",
       "    <tr>\n",
       "      <th>50%</th>\n",
       "      <td>1.000000e+00</td>\n",
       "      <td>1.000000</td>\n",
       "      <td>3.000000</td>\n",
       "      <td>2.000000</td>\n",
       "      <td>1.000000</td>\n",
       "      <td>4.000000</td>\n",
       "      <td>1.000000</td>\n",
       "      <td>1.000000</td>\n",
       "      <td>4.000000</td>\n",
       "      <td>1.000000</td>\n",
       "      <td>4.000000</td>\n",
       "    </tr>\n",
       "    <tr>\n",
       "      <th>75%</th>\n",
       "      <td>2.000000e+00</td>\n",
       "      <td>1.000000</td>\n",
       "      <td>3.000000</td>\n",
       "      <td>2.000000</td>\n",
       "      <td>1.000000</td>\n",
       "      <td>4.000000</td>\n",
       "      <td>3.000000</td>\n",
       "      <td>1.000000</td>\n",
       "      <td>5.000000</td>\n",
       "      <td>2.000000</td>\n",
       "      <td>4.000000</td>\n",
       "    </tr>\n",
       "    <tr>\n",
       "      <th>max</th>\n",
       "      <td>1.000001e+06</td>\n",
       "      <td>2.000000</td>\n",
       "      <td>4.000000</td>\n",
       "      <td>283731.000000</td>\n",
       "      <td>6.000000</td>\n",
       "      <td>5.000000</td>\n",
       "      <td>3.000000</td>\n",
       "      <td>2.000000</td>\n",
       "      <td>5.000000</td>\n",
       "      <td>4.000000</td>\n",
       "      <td>5.000000</td>\n",
       "    </tr>\n",
       "  </tbody>\n",
       "</table>\n",
       "</div>"
      ],
      "text/plain": [
       "             Gender   breakfast  calories_day         coffee     cuisine  \\\n",
       "count  1.230000e+02  123.000000    104.000000     123.000000  106.000000   \n",
       "mean   8.362049e+03    1.113821      3.038462    4114.195122    1.396226   \n",
       "std    9.018223e+04    0.318893      0.637396   30887.281453    0.982506   \n",
       "min    1.000000e+00    1.000000      2.000000       1.000000    1.000000   \n",
       "25%    1.000000e+00    1.000000      3.000000       2.000000    1.000000   \n",
       "50%    1.000000e+00    1.000000      3.000000       2.000000    1.000000   \n",
       "75%    2.000000e+00    1.000000      3.000000       2.000000    1.000000   \n",
       "max    1.000001e+06    2.000000      4.000000  283731.000000    6.000000   \n",
       "\n",
       "       father_education    fav_food       fries   fruit_day  marital_status  \\\n",
       "count        122.000000  121.000000  123.000000  123.000000      122.000000   \n",
       "mean           3.483607    1.710744    1.089431    4.211382        1.491803   \n",
       "std            1.200782    0.907726    0.286532    0.925522        0.549168   \n",
       "min            1.000000    1.000000    1.000000    1.000000        1.000000   \n",
       "25%            2.000000    1.000000    1.000000    4.000000        1.000000   \n",
       "50%            4.000000    1.000000    1.000000    4.000000        1.000000   \n",
       "75%            4.000000    3.000000    1.000000    5.000000        2.000000   \n",
       "max            5.000000    3.000000    2.000000    5.000000        4.000000   \n",
       "\n",
       "       mother_education  \n",
       "count        120.000000  \n",
       "mean           3.433333  \n",
       "std            1.179185  \n",
       "min            1.000000  \n",
       "25%            2.000000  \n",
       "50%            4.000000  \n",
       "75%            4.000000  \n",
       "max            5.000000  "
      ]
     },
     "execution_count": 22,
     "metadata": {},
     "output_type": "execute_result"
    }
   ],
   "source": [
    "df.describe()"
   ]
  },
  {
   "cell_type": "code",
   "execution_count": 23,
   "id": "66e5b8e6-35d9-41fa-93f8-d1dbc296e44b",
   "metadata": {},
   "outputs": [
    {
     "data": {
      "text/plain": [
       "Index(['GPA', 'Gender', 'breakfast', 'calories_day', 'coffee', 'comfort_food',\n",
       "       'cuisine', 'eating_changes_coded1', 'father_education',\n",
       "       'father_profession', 'fav_cuisine', 'fav_cuisine_coded', 'fav_food',\n",
       "       'fries', 'fruit_day', 'marital_status', 'mother_education',\n",
       "       'mother_profession'],\n",
       "      dtype='object')"
      ]
     },
     "execution_count": 23,
     "metadata": {},
     "output_type": "execute_result"
    }
   ],
   "source": [
    "df.columns"
   ]
  },
  {
   "cell_type": "markdown",
   "id": "8c358249-b40c-420f-b41c-e6add0fa9ed6",
   "metadata": {},
   "source": [
    "## gpa invalid values and null handeling ->mean"
   ]
  },
  {
   "cell_type": "code",
   "execution_count": 24,
   "id": "07343b8a-553a-4627-aad9-ce538ac386b1",
   "metadata": {},
   "outputs": [
    {
     "data": {
      "text/plain": [
       "array(['2.4', '3.654', '3.3', '3.2', '3.5', '2.25', '3.8', '3.904', '3.4',\n",
       "       '3.6', '3.1', nan, '4', '2.2', '3.87', '3.7', '3.9', '2.8', '3',\n",
       "       '3.65', '3.89', '2.9', '3.605', '3.83', '3.292', '3.35',\n",
       "       'Personal ', '2.6', '3.67', '3.73', '2.71', '3.68', '3.75', '3.92',\n",
       "       'Unknown', '3.77', '3.63', '3.882'], dtype=object)"
      ]
     },
     "execution_count": 24,
     "metadata": {},
     "output_type": "execute_result"
    }
   ],
   "source": [
    "df['GPA'].unique()"
   ]
  },
  {
   "cell_type": "code",
   "execution_count": 31,
   "id": "d151ce0a-8748-4f04-8a04-7cc0c379c9c7",
   "metadata": {},
   "outputs": [],
   "source": [
    "df['GPA'].replace(['Personal ','Unknown'],np.nan,inplace=True)"
   ]
  },
  {
   "cell_type": "code",
   "execution_count": 32,
   "id": "eb2e41bd-b6de-4f2e-b035-04688fe90bb0",
   "metadata": {},
   "outputs": [
    {
     "data": {
      "text/plain": [
       "array(['2.4', '3.654', '3.3', '3.2', '3.5', '2.25', '3.8', '3.904', '3.4',\n",
       "       '3.6', '3.1', nan, '4', '2.2', '3.87', '3.7', '3.9', '2.8', '3',\n",
       "       '3.65', '3.89', '2.9', '3.605', '3.83', '3.292', '3.35', '2.6',\n",
       "       '3.67', '3.73', '2.71', '3.68', '3.75', '3.92', '3.77', '3.63',\n",
       "       '3.882'], dtype=object)"
      ]
     },
     "execution_count": 32,
     "metadata": {},
     "output_type": "execute_result"
    }
   ],
   "source": [
    "df['GPA'].unique()"
   ]
  },
  {
   "cell_type": "code",
   "execution_count": 110,
   "id": "d4938bc0-cfa5-4022-9c0f-27c819aa7b8c",
   "metadata": {},
   "outputs": [],
   "source": [
    "df['GPA']=df['GPA'].astype(float)"
   ]
  },
  {
   "cell_type": "code",
   "execution_count": 111,
   "id": "dc9880f2-471a-44c2-bb00-607008caea66",
   "metadata": {},
   "outputs": [],
   "source": [
    "df['GPA']=df['GPA'].fillna(df['GPA'].mean())"
   ]
  },
  {
   "cell_type": "code",
   "execution_count": 112,
   "id": "1b6dbce3-f078-4693-bc6a-e9a37f33458e",
   "metadata": {},
   "outputs": [
    {
     "data": {
      "text/plain": [
       "0"
      ]
     },
     "execution_count": 112,
     "metadata": {},
     "output_type": "execute_result"
    }
   ],
   "source": [
    "df['GPA'].isnull().sum()"
   ]
  },
  {
   "cell_type": "markdown",
   "id": "82f39c03-2471-4cf5-bdcd-bea24ef56c00",
   "metadata": {},
   "source": [
    "## gender invalid values -> mode"
   ]
  },
  {
   "cell_type": "code",
   "execution_count": 33,
   "id": "39bb42b2-7e2e-4c5a-a8d0-c78f8060d463",
   "metadata": {},
   "outputs": [
    {
     "data": {
      "text/plain": [
       "array([      2,       1,   28362, 1000001], dtype=int64)"
      ]
     },
     "execution_count": 33,
     "metadata": {},
     "output_type": "execute_result"
    }
   ],
   "source": [
    "df['Gender'].unique()"
   ]
  },
  {
   "cell_type": "code",
   "execution_count": 37,
   "id": "7a5192e9-fc7a-40b1-9a39-98274e449d1f",
   "metadata": {},
   "outputs": [],
   "source": [
    "df['Gender']=df['Gender'].replace([28362,1000001],np.nan)"
   ]
  },
  {
   "cell_type": "code",
   "execution_count": 38,
   "id": "29e5b76a-d6ae-43c9-bd7e-8d12e2306a2b",
   "metadata": {},
   "outputs": [
    {
     "data": {
      "text/plain": [
       "array([ 2.,  1., nan])"
      ]
     },
     "execution_count": 38,
     "metadata": {},
     "output_type": "execute_result"
    }
   ],
   "source": [
    "df['Gender'].unique()"
   ]
  },
  {
   "cell_type": "code",
   "execution_count": 107,
   "id": "9a88dcb9-b4d9-4895-aa59-ae829901e807",
   "metadata": {},
   "outputs": [],
   "source": [
    "df['Gender']=df['Gender'].fillna(df['Gender'].mode()[0])"
   ]
  },
  {
   "cell_type": "code",
   "execution_count": 108,
   "id": "419c9d45-0ca6-4291-a051-4328bc703db0",
   "metadata": {},
   "outputs": [
    {
     "data": {
      "text/plain": [
       "array([2., 1.])"
      ]
     },
     "execution_count": 108,
     "metadata": {},
     "output_type": "execute_result"
    }
   ],
   "source": [
    "df['Gender'].unique()"
   ]
  },
  {
   "cell_type": "markdown",
   "id": "722b57c0-1a86-4c6c-bb1f-305b84ad0d56",
   "metadata": {},
   "source": [
    "## checking breakfast invalid values"
   ]
  },
  {
   "cell_type": "code",
   "execution_count": 39,
   "id": "837c188b-d108-48fd-8407-34709fc68221",
   "metadata": {},
   "outputs": [
    {
     "data": {
      "text/plain": [
       "array([1, 2], dtype=int64)"
      ]
     },
     "execution_count": 39,
     "metadata": {},
     "output_type": "execute_result"
    }
   ],
   "source": [
    "df['breakfast'].unique()"
   ]
  },
  {
   "cell_type": "markdown",
   "id": "d86bd625-db0b-484f-aff4-26e329413f4d",
   "metadata": {},
   "source": [
    "## checking 'calories_day' invalid values and null handeling -> mean"
   ]
  },
  {
   "cell_type": "code",
   "execution_count": 40,
   "id": "d61c2847-3039-4d00-970a-99cd8e88fd39",
   "metadata": {},
   "outputs": [
    {
     "data": {
      "text/plain": [
       "array([nan,  3.,  4.,  2.])"
      ]
     },
     "execution_count": 40,
     "metadata": {},
     "output_type": "execute_result"
    }
   ],
   "source": [
    "df['calories_day'].unique()"
   ]
  },
  {
   "cell_type": "code",
   "execution_count": 105,
   "id": "06a41786-9f9f-4051-bf38-b05234889c6c",
   "metadata": {},
   "outputs": [],
   "source": [
    "df['calories_day']=df['calories_day'].fillna(df['calories_day'].mean())"
   ]
  },
  {
   "cell_type": "code",
   "execution_count": 106,
   "id": "2386c054-3f58-4525-8527-246ab6f8c92d",
   "metadata": {},
   "outputs": [
    {
     "data": {
      "text/plain": [
       "array([3.03846154, 3.        , 4.        , 2.        ])"
      ]
     },
     "execution_count": 106,
     "metadata": {},
     "output_type": "execute_result"
    }
   ],
   "source": [
    "df['calories_day'].unique()"
   ]
  },
  {
   "cell_type": "markdown",
   "id": "17633021-644c-47b6-be67-a54fbd8a3e15",
   "metadata": {},
   "source": [
    "## checking 'coffee' invalid values and null handeling -> mode"
   ]
  },
  {
   "cell_type": "code",
   "execution_count": 41,
   "id": "44e490cd-b0dc-48b3-bebe-903d85a98b4b",
   "metadata": {},
   "outputs": [
    {
     "data": {
      "text/plain": [
       "array([     1,      2,  10001,  18372, 283731, 193732], dtype=int64)"
      ]
     },
     "execution_count": 41,
     "metadata": {},
     "output_type": "execute_result"
    }
   ],
   "source": [
    "df['coffee'].unique()"
   ]
  },
  {
   "cell_type": "code",
   "execution_count": 42,
   "id": "07a16e8c-6edc-4d07-98dd-03dd8a17e67a",
   "metadata": {},
   "outputs": [],
   "source": [
    "df['coffee']=df['coffee'].replace([10001,18372,283731,193732],np.nan)"
   ]
  },
  {
   "cell_type": "code",
   "execution_count": 43,
   "id": "8163b101-82b7-43b2-a15d-78813d821ea4",
   "metadata": {},
   "outputs": [
    {
     "data": {
      "text/plain": [
       "array([ 1.,  2., nan])"
      ]
     },
     "execution_count": 43,
     "metadata": {},
     "output_type": "execute_result"
    }
   ],
   "source": [
    "df['coffee'].unique()"
   ]
  },
  {
   "cell_type": "code",
   "execution_count": 103,
   "id": "9f9dcf58-905e-4612-99d4-10af6a945bd9",
   "metadata": {},
   "outputs": [],
   "source": [
    "df['coffee']=df['coffee'].fillna(df['coffee'].mode()[0])"
   ]
  },
  {
   "cell_type": "code",
   "execution_count": 104,
   "id": "44492fa8-a5e4-4c3a-8378-b13bb3af0c43",
   "metadata": {},
   "outputs": [
    {
     "data": {
      "text/plain": [
       "0"
      ]
     },
     "execution_count": 104,
     "metadata": {},
     "output_type": "execute_result"
    }
   ],
   "source": [
    "df['coffee'].isnull().sum()"
   ]
  },
  {
   "cell_type": "markdown",
   "id": "d883e0a1-1860-4608-ba7f-761581be26a9",
   "metadata": {},
   "source": [
    "## 'comfort_food' invalid values and null handeling ->mode"
   ]
  },
  {
   "cell_type": "code",
   "execution_count": 44,
   "id": "263365be-7347-4e24-9355-ebf7f0baf441",
   "metadata": {},
   "outputs": [
    {
     "data": {
      "text/plain": [
       "array(['none', 'chocolate, chips, ice cream',\n",
       "       'frozen yogurt, pizza, fast food',\n",
       "       'Pizza, Mac and cheese, ice cream', 'Ice cream, chocolate, chips ',\n",
       "       'Candy, brownies and soda.',\n",
       "       'Chocolate, ice cream, french fries, pretzels',\n",
       "       'Ice cream, cheeseburgers, chips.', 'Donuts, ice cream, chips',\n",
       "       'Mac and cheese, chocolate, and pasta ',\n",
       "       'Pasta, grandma homemade chocolate cake anything homemade ',\n",
       "       'chocolate, pasta, soup, chips, popcorn',\n",
       "       'Cookies, popcorn, and chips', 'ice cream, cake, chocolate',\n",
       "       'Pizza, fruit, spaghetti, chicken and Potatoes  ',\n",
       "       'cookies, donuts, candy bars', 'Saltfish, Candy and Kit Kat ',\n",
       "       'chips, cookies, ice cream', 'Chocolate, ice crea ',\n",
       "       'pizza, wings, Chinese', 'Fast food, pizza, subs',\n",
       "       'chocolate, sweets, ice cream', 'burgers, chips, cookies',\n",
       "       'Chilli, soup, pot pie', 'Soup, pasta, brownies, cake',\n",
       "       'chocolate, ice cream/milkshake, cookies',\n",
       "       'Chips, ice cream, microwaveable foods ',\n",
       "       'Chicken fingers, pizza ', 'cookies, hot chocolate, beef jerky',\n",
       "       'Tomato soup, pizza, Fritos, Meatball sub, Dr. Pepper',\n",
       "       'cookies, mac-n-cheese, brownies, french fries, ',\n",
       "       'chips and dip, pepsi, ',\n",
       "       \"Grandma's Chinese, Peruvian food from back home, and sushi\",\n",
       "       'Ice cream, cookies,  Chinese food, and chicken nuggets ',\n",
       "       'french fries, chips, ice cream',\n",
       "       'mac n cheese, peanut butter and banana sandwich, omelet',\n",
       "       'pizza, doughnuts, mcdonalds ', 'chocolate, chips, candy',\n",
       "       'chocolate, popcorn, ice cream',\n",
       "       \"Candy\\rPop\\rChocolate \\rChipotle \\rMoe's \",\n",
       "       'Pizza, Ice cream, fries, cereal, cookies  ',\n",
       "       'Ice cream, chocolate, twizzlers ',\n",
       "       'ice cream, cookie dough, cookies, cheese',\n",
       "       'ice cream, cereal, and salt and vinegar chips ',\n",
       "       'Potato chips, ice cream, chocolate, cookies',\n",
       "       'Mac and cheese, fried chicken, cornbread ',\n",
       "       'popcorn, chips, candy, & fries ',\n",
       "       'Chex-mix, Wegmans cookies, Cheez-Its ', 'pizza, ice cream, chips',\n",
       "       'fried chicken. mashed potatoes, mac and cheese',\n",
       "       'Popcorn, Chex Mix, Pizza', 'Burger',\n",
       "       'Pizza, chocolate, and ice cream ',\n",
       "       'fries, chips, fried chicken, pizza, grapes',\n",
       "       'peanut butter sandwich, pretzals, garlic bread',\n",
       "       'chips, dip, fries, pizza', 'Pizza, Ice Cream, Chicken Wings',\n",
       "       'Pizza chocolate chips bagels ice Capps ',\n",
       "       'Chocolate, ice cream, pasta',\n",
       "       'Mac n Cheese. Chips and salsa. Ice cream. ',\n",
       "       'peanut butter, dessets, pretzels. ',\n",
       "       'Macaroons, truffles, peanut butter n chocolate ice cream',\n",
       "       'ice cream, cookies, ice cream',\n",
       "       'carrots and ranch, pretzels, dark chocolate ',\n",
       "       'cookies, nutella, ice cream, coffee, fruit ', 'mac and cheese',\n",
       "       'Chocolate, Popcorn, Icecream',\n",
       "       'Chips, Mac and cheese, pizza, French fries ',\n",
       "       'Pizza, burritos, slim jims',\n",
       "       'Broccoli, spaghetti squash, quinoa, and grilled chicken',\n",
       "       'Chocolate, ice cream, cookie dough',\n",
       "       'pizza, pretzels, fruit snacks, deli sandwhich',\n",
       "       'Chips, ice cream', 'Doritos, mac and cheese, ice cream', nan,\n",
       "       'mac and cheese, potato soup, ice cream, chips and cheese',\n",
       "       'chocolate, pizza, and mashed potatoes', 'Pizza cookies steak ',\n",
       "       'chocolate, fruit, and ice cream', 'Chips sweets popcorn',\n",
       "       'Cookies, burgers, chicken noodle soup, ice cream',\n",
       "       'cake, French fries, chicken nuggets', 'pizza, ice cream, cookies',\n",
       "       'Mashed potatoes, pasta', 'Pasta dishes, Cheesecake, Pancakes',\n",
       "       'Chinese food, moes, sponge candy, homemade lasagne ',\n",
       "       'pizza, pasta, mac and cheese',\n",
       "       'Little Debbie snacks, donuts, pizza',\n",
       "       'carrots, plantain chips, almonds, popcorn ',\n",
       "       'chips, ice cream, fruit snacks',\n",
       "       'Macaroni and cheese, chicken noodle soup, pizza',\n",
       "       'Chocolate, Chips, Ice cream, French Fires, Pizza',\n",
       "       'Mac and cheese, lasagna, Chinese food ',\n",
       "       'candy, Chinese, mcdonalds',\n",
       "       'Ice cream, cake, pop, pizza, and milkshakes.',\n",
       "       'Mac and Cheese, Pizza, Ice Cream and French Fries ',\n",
       "       'Soup, pasta, cake',\n",
       "       'mac & cheese, frosted brownies, chicken nuggs',\n",
       "       'watermelon, grapes, ice cream',\n",
       "       'macaroni and cheese, stuffed peppers, hamburgers, french fries',\n",
       "       'Pizza, mashed potatoes, spaghetti',\n",
       "       \"dark chocolate, terra chips, reese's cups(dark chocolate), and bread/crackers with cottage cheese\",\n",
       "       'Chips, chocolate, ,mozzarella sticks ', 'ice cream, chips, candy',\n",
       "       'Pizza, soda, chocolate brownie, chicken tikka masala and butter naan ',\n",
       "       'Chocolate, Pasta, Cookies', 'Candy, salty snacks, toast',\n",
       "       'Mac in cheese, pizza, mozzarella sticks ',\n",
       "       'Ice-cream, pizza, chocolate', 'snacks, chips, ',\n",
       "       'Chocolate, Ice cream, pizza', 'ice cream, pizza, Chinese food ',\n",
       "       'Burgers, indian and korean food\\r',\n",
       "       'chocolate bar, ice cream, pretzels, potato chips and protein bars.',\n",
       "       'Ice cream, chocolate, pizza, cucumber ',\n",
       "       'Noodle ( any kinds of noodle), Tuna sandwich, and Egg.\\r',\n",
       "       'Chinese, chips, cake', 'chips, rice, chicken curry,',\n",
       "       'wine. mac and cheese, pizza, ice cream ',\n",
       "       'Pizza / Wings / Cheesecake', 'rice, potato, seaweed soup',\n",
       "       'Mac n Cheese, Lasagna, Pizza', 'Chocolates, pizza, and Ritz.'],\n",
       "      dtype=object)"
      ]
     },
     "execution_count": 44,
     "metadata": {},
     "output_type": "execute_result"
    }
   ],
   "source": [
    "df['comfort_food'].unique()"
   ]
  },
  {
   "cell_type": "code",
   "execution_count": 100,
   "id": "0f3325fe-ab08-4c55-ad34-ea95ab68ec95",
   "metadata": {},
   "outputs": [
    {
     "data": {
      "text/plain": [
       "1"
      ]
     },
     "execution_count": 100,
     "metadata": {},
     "output_type": "execute_result"
    }
   ],
   "source": [
    "df['comfort_food'].isnull().sum()"
   ]
  },
  {
   "cell_type": "code",
   "execution_count": 101,
   "id": "8379e543-d46d-476b-a671-c6388183076d",
   "metadata": {},
   "outputs": [],
   "source": [
    "df['comfort_food']=df['comfort_food'].fillna(df['comfort_food'].mode()[0])"
   ]
  },
  {
   "cell_type": "code",
   "execution_count": 102,
   "id": "9c0d8f9c-58c4-497a-a9a7-090d622e7bf7",
   "metadata": {},
   "outputs": [
    {
     "data": {
      "text/plain": [
       "0"
      ]
     },
     "execution_count": 102,
     "metadata": {},
     "output_type": "execute_result"
    }
   ],
   "source": [
    "df['comfort_food'].isnull().sum()"
   ]
  },
  {
   "cell_type": "markdown",
   "id": "e3263c5b-c4a6-4512-9f89-47f989ccd529",
   "metadata": {},
   "source": [
    "## 'cuisine' invalid values and null handeling"
   ]
  },
  {
   "cell_type": "code",
   "execution_count": 99,
   "id": "1e610499-f074-4a2b-8214-a3c3f9b9e090",
   "metadata": {},
   "outputs": [
    {
     "data": {
      "text/plain": [
       "array([nan,  1.,  3.,  2.,  6.,  4.,  5.])"
      ]
     },
     "execution_count": 99,
     "metadata": {},
     "output_type": "execute_result"
    }
   ],
   "source": [
    "df['cuisine'].unique()"
   ]
  },
  {
   "cell_type": "code",
   "execution_count": 115,
   "id": "1ed9c3b9-c9a1-4ef9-96d5-2adbe86bf473",
   "metadata": {},
   "outputs": [
    {
     "data": {
      "text/plain": [
       "17"
      ]
     },
     "execution_count": 115,
     "metadata": {},
     "output_type": "execute_result"
    }
   ],
   "source": [
    "df['cuisine'].isnull().sum()"
   ]
  },
  {
   "cell_type": "code",
   "execution_count": 116,
   "id": "ee4e3488-3a7c-426d-953f-ba3a97433f14",
   "metadata": {},
   "outputs": [],
   "source": [
    "df['cuisine']=df['cuisine'].fillna(df['cuisine'].mode()[0])"
   ]
  },
  {
   "cell_type": "code",
   "execution_count": 117,
   "id": "8fdc5d6b-cc38-498c-9e65-46c45ecf741e",
   "metadata": {},
   "outputs": [
    {
     "data": {
      "text/plain": [
       "0"
      ]
     },
     "execution_count": 117,
     "metadata": {},
     "output_type": "execute_result"
    }
   ],
   "source": [
    "df['cuisine'].isnull().sum()"
   ]
  },
  {
   "cell_type": "markdown",
   "id": "68028ec3-88b7-4c59-bdd6-fce4e208eb89",
   "metadata": {},
   "source": [
    "## 'eating_changes_coded1' invalid values and null handeling"
   ]
  },
  {
   "cell_type": "code",
   "execution_count": 46,
   "id": "60d451a0-20ae-4f73-9df2-6eb75e624e75",
   "metadata": {},
   "outputs": [
    {
     "data": {
      "text/plain": [
       "array(['1', '2', '3', '4', '5', '8', 'Four', '6', '7', '9', '10', '11',\n",
       "       '12', '13'], dtype=object)"
      ]
     },
     "execution_count": 46,
     "metadata": {},
     "output_type": "execute_result"
    }
   ],
   "source": [
    "df['eating_changes_coded1'].unique()"
   ]
  },
  {
   "cell_type": "code",
   "execution_count": 96,
   "id": "c6d7bc67-5645-4e1b-84a5-8f8f89415cfe",
   "metadata": {},
   "outputs": [],
   "source": [
    "df['eating_changes_coded1']=df['eating_changes_coded1'].replace(['Four'],4)"
   ]
  },
  {
   "cell_type": "code",
   "execution_count": 97,
   "id": "8cf47eba-6d28-4680-b0f3-2bbc3a29abce",
   "metadata": {},
   "outputs": [],
   "source": [
    "df['eating_changes_coded1']=df['eating_changes_coded1'].astype(int)"
   ]
  },
  {
   "cell_type": "code",
   "execution_count": 98,
   "id": "82e4ee45-6eca-449e-9140-69e1a3c36b3e",
   "metadata": {},
   "outputs": [
    {
     "data": {
      "text/plain": [
       "array([ 1,  2,  3,  4,  5,  8,  6,  7,  9, 10, 11, 12, 13])"
      ]
     },
     "execution_count": 98,
     "metadata": {},
     "output_type": "execute_result"
    }
   ],
   "source": [
    "df['eating_changes_coded1'].unique()"
   ]
  },
  {
   "cell_type": "markdown",
   "id": "7227305e-e970-4479-af89-29ec606b4f8d",
   "metadata": {},
   "source": [
    "## father_education invalid values and null handeling ->mode"
   ]
  },
  {
   "cell_type": "code",
   "execution_count": 47,
   "id": "9ad63f81-19d2-46df-951a-cb7670f76dc2",
   "metadata": {},
   "outputs": [
    {
     "data": {
      "text/plain": [
       "array([ 5.,  2.,  4.,  1.,  3., nan])"
      ]
     },
     "execution_count": 47,
     "metadata": {},
     "output_type": "execute_result"
    }
   ],
   "source": [
    "df['father_education'].unique()"
   ]
  },
  {
   "cell_type": "code",
   "execution_count": 94,
   "id": "548c660d-6c17-48e7-8a2f-e593a2003707",
   "metadata": {},
   "outputs": [],
   "source": [
    "df['father_education']=df['father_education'].fillna(df['father_education'].mode()[0])"
   ]
  },
  {
   "cell_type": "code",
   "execution_count": 95,
   "id": "62f68193-632b-4274-9131-064896341d25",
   "metadata": {},
   "outputs": [
    {
     "data": {
      "text/plain": [
       "0"
      ]
     },
     "execution_count": 95,
     "metadata": {},
     "output_type": "execute_result"
    }
   ],
   "source": [
    "df['father_education'].isnull().sum()"
   ]
  },
  {
   "cell_type": "markdown",
   "id": "d1dc298c-1b04-4d1a-8afb-15d9e26ee29a",
   "metadata": {},
   "source": [
    "## father_profession invalid  values and null handeling ->mode"
   ]
  },
  {
   "cell_type": "code",
   "execution_count": 48,
   "id": "f21a846b-d42a-45d9-a25e-3d564143bcaa",
   "metadata": {},
   "outputs": [
    {
     "data": {
      "text/plain": [
       "array(['profesor ', 'Self employed ', 'owns business', 'Mechanic ', 'IT',\n",
       "       'T', 'Assembler ', 'Business guy', 'High School Principal',\n",
       "       'commissioner of erie county ', 'Idk', 'Home Marker ',\n",
       "       'Shirt designer ', 'business owner', 'Commidity trader ',\n",
       "       'Hockey Coach', 'C', 'self employed construction ', 'Engineer',\n",
       "       'architect', 'CFO', 'European logistics director ', 'accountant ',\n",
       "       'Commercial Real Estate', 'Manager at Pepsi', 'VP of ',\n",
       "       'Beverage and Food Sales', 'Dentist ', 'Electrical Engineer',\n",
       "       'Radio Telecommunications Manager', nan, 'deceased', 'Lawyer',\n",
       "       'landscaping ', 'Vice President of a company',\n",
       "       'Owns his own promotional company ', 'Optometrist ',\n",
       "       'Construction ', 'Biohemical Waste Elimination',\n",
       "       'Corporate Manager ', 'Small business owner ', 'Welder',\n",
       "       'Design Engineer', 'Unknown ', 'Banker', 'subcontractor ',\n",
       "       'small business owner ', 'House Appraiser', 'not sure', 'Fireman',\n",
       "       'President of Automotive company ', 'UPS driver ',\n",
       "       'HVAC Professional', 'Sergeant correctional officer',\n",
       "       'union worker', 'Salesman', 'Owns his business',\n",
       "       'Physical Therapist', 'Insurance ', 'Construction management ',\n",
       "       'Dead beat ', 'police force', 'VP of GNC',\n",
       "       'Owner of New York Lunch', 'Dentist', 'mechanic ',\n",
       "       'Sales Manager ', 'Retired - Bus Driver', 'Transportation ',\n",
       "       'Police Officer', 'Risk Manager', 'Supervisor', 'retire',\n",
       "       'car salesman', 'dairy farmer', 'Dairy Farmer ', 'self employed',\n",
       "       'Contract negotiations', 'Police Officer ',\n",
       "       'Works for Kirila Fire', 'Realtor', 'Solar Engineering ',\n",
       "       'Service Technition', 'engineer ', 'handyman', 'cross-guard ',\n",
       "       'Project manager', 'Teacher', 'T$', 'Senior Manager',\n",
       "       'information systems architect', 'Delivery Man For Fritolay',\n",
       "       'Business Owner', 'Beacon Light ', 'salesman',\n",
       "       'Mechanical Engineer', 'GE Salesman', 'Ford Plant employee',\n",
       "       'Clinical Researcher', 'Retired ', 'Sales',\n",
       "       'School Library Media Specialist ', 'Retired',\n",
       "       'Mechanical Engineer ', 'Politician', 'Pharmaceutical',\n",
       "       'Business Man', 'His own business', 'HVAC technician ',\n",
       "       'United Nations', 'Accountant ', 'Doctor', 'CEO of company',\n",
       "       'Store manager at Giant Eagle', 'Journalist'], dtype=object)"
      ]
     },
     "execution_count": 48,
     "metadata": {},
     "output_type": "execute_result"
    }
   ],
   "source": [
    "df['father_profession'].unique()"
   ]
  },
  {
   "cell_type": "code",
   "execution_count": 51,
   "id": "240ebee1-1c94-45a6-808d-8530c720b77e",
   "metadata": {},
   "outputs": [],
   "source": [
    "df['father_profession']=df['father_profession'].replace(['T','Idk','C','VP of ','Unknown ','not sure','Dead beat ','T$'],np.nan)"
   ]
  },
  {
   "cell_type": "code",
   "execution_count": 91,
   "id": "dda8ed74-26fe-43f7-911b-30a13644ecab",
   "metadata": {},
   "outputs": [
    {
     "data": {
      "text/plain": [
       "11"
      ]
     },
     "execution_count": 91,
     "metadata": {},
     "output_type": "execute_result"
    }
   ],
   "source": [
    "df['father_profession'].isnull().sum()"
   ]
  },
  {
   "cell_type": "code",
   "execution_count": 92,
   "id": "c56229df-7763-4c6b-ba1e-430ce7600eb1",
   "metadata": {},
   "outputs": [],
   "source": [
    "df['father_profession']=df['father_profession'].fillna(df['father_profession'].mode()[0])"
   ]
  },
  {
   "cell_type": "code",
   "execution_count": 93,
   "id": "6d9b1432-6ee9-47d1-8ed4-5dd5d27ec752",
   "metadata": {},
   "outputs": [
    {
     "data": {
      "text/plain": [
       "0"
      ]
     },
     "execution_count": 93,
     "metadata": {},
     "output_type": "execute_result"
    }
   ],
   "source": [
    "df['father_profession'].isnull().sum()"
   ]
  },
  {
   "cell_type": "markdown",
   "id": "02111686-9207-49fd-847b-762260744535",
   "metadata": {},
   "source": [
    "## 'fav_cuisine' invalid values null handeling -> mode"
   ]
  },
  {
   "cell_type": "code",
   "execution_count": 55,
   "id": "0698c67d-e8f9-4934-9bf7-b71e113854d3",
   "metadata": {},
   "outputs": [
    {
     "data": {
      "text/plain": [
       "array(['Arabic cuisine', 'Italian', 'italian', 'Turkish ', 'Italian ',\n",
       "       'African', 'Thai', 'Anything american style.', 'Seafood',\n",
       "       'Orange chicken and chow mani noodles ', 'Chinese ',\n",
       "       'italian food', 'Jamaican ', 'American or Italian ', 'Chicken ',\n",
       "       'Mexican', 'Indian', 'italian ', nan, 'Chinese', \"don't have one\",\n",
       "       'Italian food ', 'Mexican ', 'Italian/German',\n",
       "       'Indian food - samosas are amazing', 'mexican', 'Spanish',\n",
       "       'French', 'American or Italian', 'Italian or Chinese ', 'chinese',\n",
       "       'Thai food', 'Greek', 'Asian ', 'American', 'All ',\n",
       "       'Sub sandwhiches', 'Wraps ', \"Chinese cuisine (General Tso's)\",\n",
       "       'American ', 'Lean', 'american ', 'Japanese',\n",
       "       'Any type of Colombian cuisine', 'Mexican cuisine', 'Chinese food',\n",
       "       'mac and cheese', 'Authentic Chinese and Vietnamese food ',\n",
       "       'italian and chinese', 'Barbecue ', 'lebanese or greek', 'sushi',\n",
       "       'Indian food', 'Nepali',\n",
       "       'I really love italian food and thai food', 'I', 'Korean',\n",
       "       'I do not like cuisine', 'Vietnamese cuisine', 'Mexican Food',\n",
       "       'HISPANIC CUISINE.'], dtype=object)"
      ]
     },
     "execution_count": 55,
     "metadata": {},
     "output_type": "execute_result"
    }
   ],
   "source": [
    "df['fav_cuisine'].unique()"
   ]
  },
  {
   "cell_type": "code",
   "execution_count": 56,
   "id": "80e51a40-08b1-4ae6-b4ed-cb38bbe23ec5",
   "metadata": {},
   "outputs": [],
   "source": [
    "df['fav_cuisine']=df['fav_cuisine'].replace(['I'],np.nan)"
   ]
  },
  {
   "cell_type": "code",
   "execution_count": 88,
   "id": "d569657c-3616-4bc7-9077-a448816c5cf6",
   "metadata": {},
   "outputs": [
    {
     "data": {
      "text/plain": [
       "4"
      ]
     },
     "execution_count": 88,
     "metadata": {},
     "output_type": "execute_result"
    }
   ],
   "source": [
    "df['fav_cuisine'].isnull().sum()"
   ]
  },
  {
   "cell_type": "code",
   "execution_count": 89,
   "id": "59e93426-14dd-4525-bcbd-d7d8e30816f0",
   "metadata": {},
   "outputs": [],
   "source": [
    "df['fav_cuisine']=df['fav_cuisine'].fillna(df['fav_cuisine'].mode()[0])"
   ]
  },
  {
   "cell_type": "code",
   "execution_count": 90,
   "id": "35a40beb-b2af-4ef0-b2be-e8ac1b7bae8c",
   "metadata": {},
   "outputs": [
    {
     "data": {
      "text/plain": [
       "0"
      ]
     },
     "execution_count": 90,
     "metadata": {},
     "output_type": "execute_result"
    }
   ],
   "source": [
    "df['fav_cuisine'].isnull().sum()"
   ]
  },
  {
   "cell_type": "markdown",
   "id": "7aec0b13-2e69-4cfe-a5a1-07b756715369",
   "metadata": {},
   "source": [
    "## fav_cuisine_coded invalid values null handeling"
   ]
  },
  {
   "cell_type": "code",
   "execution_count": 57,
   "id": "001593fc-9ccd-4f4c-a48d-b41e8b83115d",
   "metadata": {},
   "outputs": [
    {
     "data": {
      "text/plain": [
       "array(['3', '1', '6', '4', '5', 'Seven', '2', '8', '0', 'One'],\n",
       "      dtype=object)"
      ]
     },
     "execution_count": 57,
     "metadata": {},
     "output_type": "execute_result"
    }
   ],
   "source": [
    "df['fav_cuisine_coded'].unique()"
   ]
  },
  {
   "cell_type": "code",
   "execution_count": 58,
   "id": "f05ed20c-98e5-458c-99d3-b10417838343",
   "metadata": {},
   "outputs": [],
   "source": [
    "df['fav_cuisine_coded']=df['fav_cuisine_coded'].replace('Seven',7)"
   ]
  },
  {
   "cell_type": "code",
   "execution_count": 59,
   "id": "6fce51a4-d238-4bf8-bdc9-1b0d394b34b2",
   "metadata": {},
   "outputs": [],
   "source": [
    "df['fav_cuisine_coded']=df['fav_cuisine_coded'].replace('One',1)"
   ]
  },
  {
   "cell_type": "code",
   "execution_count": 63,
   "id": "bdf0e972-3d95-4ac0-8278-6b9a44f57136",
   "metadata": {},
   "outputs": [],
   "source": [
    "df['fav_cuisine_coded']=df['fav_cuisine_coded'].astype(int)"
   ]
  },
  {
   "cell_type": "code",
   "execution_count": 64,
   "id": "6e5696f0-c8e3-4e58-be65-51a0aa9c4cc1",
   "metadata": {},
   "outputs": [
    {
     "data": {
      "text/plain": [
       "array([3, 1, 6, 4, 5, 7, 2, 8, 0])"
      ]
     },
     "execution_count": 64,
     "metadata": {},
     "output_type": "execute_result"
    }
   ],
   "source": [
    "df['fav_cuisine_coded'].unique()"
   ]
  },
  {
   "cell_type": "markdown",
   "id": "681b743c-f4b7-486f-b504-f306624a5363",
   "metadata": {},
   "source": [
    "## 'fav_food' invalid values and null handeling ->mode"
   ]
  },
  {
   "cell_type": "code",
   "execution_count": 65,
   "id": "f3b9e611-1a37-44cd-b233-4e6156b56fe4",
   "metadata": {},
   "outputs": [
    {
     "data": {
      "text/plain": [
       "array([ 1.,  3.,  2., nan])"
      ]
     },
     "execution_count": 65,
     "metadata": {},
     "output_type": "execute_result"
    }
   ],
   "source": [
    "df['fav_food'].unique()"
   ]
  },
  {
   "cell_type": "code",
   "execution_count": 86,
   "id": "55b48537-90a1-40dd-addd-5b6e713950b1",
   "metadata": {},
   "outputs": [],
   "source": [
    "df['fav_food']=df['fav_food'].fillna(df['fav_food'].mode()[0])"
   ]
  },
  {
   "cell_type": "code",
   "execution_count": 87,
   "id": "6e16a7fd-e897-4882-8cc0-7300da779547",
   "metadata": {},
   "outputs": [
    {
     "data": {
      "text/plain": [
       "array([1., 3., 2.])"
      ]
     },
     "execution_count": 87,
     "metadata": {},
     "output_type": "execute_result"
    }
   ],
   "source": [
    "df['fav_food'].unique()"
   ]
  },
  {
   "cell_type": "code",
   "execution_count": 66,
   "id": "11ef9d82-b46e-4ba6-b553-5d0f51b1d573",
   "metadata": {},
   "outputs": [
    {
     "data": {
      "text/plain": [
       "Index(['GPA', 'Gender', 'breakfast', 'calories_day', 'coffee', 'comfort_food',\n",
       "       'cuisine', 'eating_changes_coded1', 'father_education',\n",
       "       'father_profession', 'fav_cuisine', 'fav_cuisine_coded', 'fav_food',\n",
       "       'fries', 'fruit_day', 'marital_status', 'mother_education',\n",
       "       'mother_profession'],\n",
       "      dtype='object')"
      ]
     },
     "execution_count": 66,
     "metadata": {},
     "output_type": "execute_result"
    }
   ],
   "source": [
    "df.columns"
   ]
  },
  {
   "cell_type": "markdown",
   "id": "03c672c9-82c0-46ed-93dd-428551fce7b4",
   "metadata": {},
   "source": [
    "## 'fries' invalid values and null handeling"
   ]
  },
  {
   "cell_type": "code",
   "execution_count": 67,
   "id": "2e6c8540-8972-47fd-8fb6-a75754102e20",
   "metadata": {},
   "outputs": [
    {
     "data": {
      "text/plain": [
       "array([2, 1], dtype=int64)"
      ]
     },
     "execution_count": 67,
     "metadata": {},
     "output_type": "execute_result"
    }
   ],
   "source": [
    "df['fries'].unique()"
   ]
  },
  {
   "cell_type": "markdown",
   "id": "ed1fc805-506e-4d1d-b3b3-478faabd70ce",
   "metadata": {},
   "source": [
    "## fruit_day invalid values and null handeling"
   ]
  },
  {
   "cell_type": "code",
   "execution_count": 68,
   "id": "039d5a80-ab65-4fa2-bf9a-34b5b920ca03",
   "metadata": {},
   "outputs": [
    {
     "data": {
      "text/plain": [
       "array([5, 4, 2, 3, 1], dtype=int64)"
      ]
     },
     "execution_count": 68,
     "metadata": {},
     "output_type": "execute_result"
    }
   ],
   "source": [
    "df['fruit_day'].unique()"
   ]
  },
  {
   "cell_type": "markdown",
   "id": "2ab295a9-b20d-4457-b32d-145017195019",
   "metadata": {},
   "source": [
    "## marital_status invalid values and null handeling -> mode"
   ]
  },
  {
   "cell_type": "code",
   "execution_count": 69,
   "id": "cb719070-1f74-43dc-96ec-ebd558adbbe9",
   "metadata": {},
   "outputs": [
    {
     "data": {
      "text/plain": [
       "array([ 1.,  2.,  4., nan])"
      ]
     },
     "execution_count": 69,
     "metadata": {},
     "output_type": "execute_result"
    }
   ],
   "source": [
    "df['marital_status'].unique()"
   ]
  },
  {
   "cell_type": "code",
   "execution_count": 82,
   "id": "d4adfc8a-b380-4b9b-9630-1f6af61b8e13",
   "metadata": {},
   "outputs": [],
   "source": [
    "df['marital_status']=df['marital_status'].fillna(df['marital_status'].mode()[0])"
   ]
  },
  {
   "cell_type": "code",
   "execution_count": 83,
   "id": "98c80c6e-1b3d-44da-afe8-b5c2dc45710f",
   "metadata": {},
   "outputs": [
    {
     "data": {
      "text/plain": [
       "array([1., 2., 4.])"
      ]
     },
     "execution_count": 83,
     "metadata": {},
     "output_type": "execute_result"
    }
   ],
   "source": [
    "df['marital_status'].unique()"
   ]
  },
  {
   "cell_type": "markdown",
   "id": "a1abb80d-78fc-4340-954a-c18e0b8dd170",
   "metadata": {},
   "source": [
    "## mother_education invalid  and null handeling -> mode"
   ]
  },
  {
   "cell_type": "code",
   "execution_count": 70,
   "id": "4ea28bee-6831-40fd-a270-e085251e1b39",
   "metadata": {},
   "outputs": [
    {
     "data": {
      "text/plain": [
       "array([ 1.,  4.,  2.,  5.,  3., nan])"
      ]
     },
     "execution_count": 70,
     "metadata": {},
     "output_type": "execute_result"
    }
   ],
   "source": [
    "df['mother_education'].unique()"
   ]
  },
  {
   "cell_type": "code",
   "execution_count": 80,
   "id": "cef64136-6a4b-45b7-9b73-676150bfc23f",
   "metadata": {},
   "outputs": [],
   "source": [
    "df['mother_education']=df['mother_education'].fillna(df['mother_education'].mode()[0])"
   ]
  },
  {
   "cell_type": "code",
   "execution_count": 81,
   "id": "c18f3753-be41-4ae1-9f90-09a522b3469d",
   "metadata": {},
   "outputs": [
    {
     "data": {
      "text/plain": [
       "array([1., 4., 2., 5., 3.])"
      ]
     },
     "execution_count": 81,
     "metadata": {},
     "output_type": "execute_result"
    }
   ],
   "source": [
    "df['mother_education'].unique()"
   ]
  },
  {
   "cell_type": "markdown",
   "id": "d969c6ae-62b3-49ec-b83d-05f6da647bb4",
   "metadata": {},
   "source": [
    "## mother_profession invalid values and null handeling -> mode"
   ]
  },
  {
   "cell_type": "code",
   "execution_count": 71,
   "id": "400f1b9d-4979-4a85-b618-d9ee384020a0",
   "metadata": {},
   "outputs": [
    {
     "data": {
      "text/plain": [
       "array(['unemployed', 'Nurse RN ', 'owns business',\n",
       "       'Special Education Teacher', 'Substance Abuse Conselor',\n",
       "       'Hair Braider', 'Journalist', 'cook', 'Elementary School Teacher',\n",
       "       'Pharmaceutical rep', 'Chidos Cleaners', '10',\n",
       "       'Child care provider ', 'business owner', 'Charity worker',\n",
       "       'Librarian', 'Police', 'stay at home mom', 'Daycare provider',\n",
       "       'physical therapist', 'Teacher', 'House wife', 'Underwiriter ',\n",
       "       'Beautician ', 'Unemployed', 'Medical biller',\n",
       "       'Doctors Billing Assiant ', 'Dentist ', 'Air Traffic Controller',\n",
       "       'Strategic Planning and Programs Manager', 'teacher', 'management',\n",
       "       'Lawyer', 'stylist', 'Works in retail', 'Homemaker ',\n",
       "       'Head of Human Resouces', 'Accountant', 'Marketing Analyst',\n",
       "       'Middle school teacher', 'Art teacher ', 'Account Clerical ',\n",
       "       'Caretaker', 'Secretary', 'Registered Nurse', 'telemarketer ',\n",
       "       'nurse', 'Banker', 'Office assistant', 'Stay home', 'Unemployed ',\n",
       "       'Counseling, Teaching, Geologist, Psychic', 'factory worker',\n",
       "       'Nurse', 'Sales', 'Elementary School Principal',\n",
       "       'Real Estate Agent ', 'X-ray tech', 'Respiratory Therapist',\n",
       "       'Legal assistant', 'dietitian ', 'CNA ', 'Periodontist',\n",
       "       'business', 'school teacher', 'Homemaker', 'Stay-At-Home Mom',\n",
       "       'Social Services', 'Runs a Daycare', 'Customer Service',\n",
       "       'Treasurer', nan, 'RN', 'program director',\n",
       "       'Programs coordinator ', 'self employed', 'none',\n",
       "       'Legal Secretary', 'secretary ',\n",
       "       'works in Loans department in First National Bank', 'Janitor',\n",
       "       'Yoga Instructor ', 'Sales Manager at Business First',\n",
       "       'principal ', 'home cleaner', 'A teacher ', 'Secretary ',\n",
       "       'Customer Service Representative ', 'Stay at home mother',\n",
       "       'Special Ed Teacher', 'Accountant ', 'certified accountant',\n",
       "       'social worker', 'Substitute Secretary', 'Insurance Coordinator',\n",
       "       'Supervisor', 'Travel Agent', 'Real Estate',\n",
       "       'School Library Media Specialist ', 'Deceased',\n",
       "       'Fourth Grade Teacher ', 'Works in WWF, world wild life fund',\n",
       "       'Business Woman', 'Her own business',\n",
       "       'Grieveance coordinator of the SCI albion prison ',\n",
       "       'Radiological Technician ', 'Public Health Advisor ',\n",
       "       'Real Estate manageer',\n",
       "       'Receptionist for a medical supply company', 'House-wife'],\n",
       "      dtype=object)"
      ]
     },
     "execution_count": 71,
     "metadata": {},
     "output_type": "execute_result"
    }
   ],
   "source": [
    "df['mother_profession'].unique()"
   ]
  },
  {
   "cell_type": "code",
   "execution_count": 72,
   "id": "f9b71bab-67ae-45c5-ba76-6db06af67531",
   "metadata": {},
   "outputs": [],
   "source": [
    "df['mother_profession']=df['mother_profession'].replace(['10'],np.nan)"
   ]
  },
  {
   "cell_type": "code",
   "execution_count": 78,
   "id": "e6f7b9c6-2f79-4368-87e0-53770e94543a",
   "metadata": {},
   "outputs": [],
   "source": [
    "df['mother_profession']=df['mother_profession'].fillna(df['mother_profession'].mode()[0])"
   ]
  },
  {
   "cell_type": "code",
   "execution_count": 79,
   "id": "69bd3513-ca79-4b47-be0d-c6702b2628a6",
   "metadata": {},
   "outputs": [
    {
     "data": {
      "text/plain": [
       "array(['unemployed', 'Nurse RN ', 'owns business',\n",
       "       'Special Education Teacher', 'Substance Abuse Conselor',\n",
       "       'Hair Braider', 'Journalist', 'cook', 'Elementary School Teacher',\n",
       "       'Pharmaceutical rep', 'Chidos Cleaners', 'Secretary',\n",
       "       'Child care provider ', 'business owner', 'Charity worker',\n",
       "       'Librarian', 'Police', 'stay at home mom', 'Daycare provider',\n",
       "       'physical therapist', 'Teacher', 'House wife', 'Underwiriter ',\n",
       "       'Beautician ', 'Unemployed', 'Medical biller',\n",
       "       'Doctors Billing Assiant ', 'Dentist ', 'Air Traffic Controller',\n",
       "       'Strategic Planning and Programs Manager', 'teacher', 'management',\n",
       "       'Lawyer', 'stylist', 'Works in retail', 'Homemaker ',\n",
       "       'Head of Human Resouces', 'Accountant', 'Marketing Analyst',\n",
       "       'Middle school teacher', 'Art teacher ', 'Account Clerical ',\n",
       "       'Caretaker', 'Registered Nurse', 'telemarketer ', 'nurse',\n",
       "       'Banker', 'Office assistant', 'Stay home', 'Unemployed ',\n",
       "       'Counseling, Teaching, Geologist, Psychic', 'factory worker',\n",
       "       'Nurse', 'Sales', 'Elementary School Principal',\n",
       "       'Real Estate Agent ', 'X-ray tech', 'Respiratory Therapist',\n",
       "       'Legal assistant', 'dietitian ', 'CNA ', 'Periodontist',\n",
       "       'business', 'school teacher', 'Homemaker', 'Stay-At-Home Mom',\n",
       "       'Social Services', 'Runs a Daycare', 'Customer Service',\n",
       "       'Treasurer', 'RN', 'program director', 'Programs coordinator ',\n",
       "       'self employed', 'none', 'Legal Secretary', 'secretary ',\n",
       "       'works in Loans department in First National Bank', 'Janitor',\n",
       "       'Yoga Instructor ', 'Sales Manager at Business First',\n",
       "       'principal ', 'home cleaner', 'A teacher ', 'Secretary ',\n",
       "       'Customer Service Representative ', 'Stay at home mother',\n",
       "       'Special Ed Teacher', 'Accountant ', 'certified accountant',\n",
       "       'social worker', 'Substitute Secretary', 'Insurance Coordinator',\n",
       "       'Supervisor', 'Travel Agent', 'Real Estate',\n",
       "       'School Library Media Specialist ', 'Deceased',\n",
       "       'Fourth Grade Teacher ', 'Works in WWF, world wild life fund',\n",
       "       'Business Woman', 'Her own business',\n",
       "       'Grieveance coordinator of the SCI albion prison ',\n",
       "       'Radiological Technician ', 'Public Health Advisor ',\n",
       "       'Real Estate manageer',\n",
       "       'Receptionist for a medical supply company', 'House-wife'],\n",
       "      dtype=object)"
      ]
     },
     "execution_count": 79,
     "metadata": {},
     "output_type": "execute_result"
    }
   ],
   "source": [
    "df['mother_profession'].unique()"
   ]
  },
  {
   "cell_type": "markdown",
   "id": "bceed988-ef42-4f05-aa64-b8db7770dc36",
   "metadata": {},
   "source": [
    "# cleaned data"
   ]
  },
  {
   "cell_type": "code",
   "execution_count": 118,
   "id": "da597d63-4b63-455b-b965-8276bcdd434f",
   "metadata": {},
   "outputs": [
    {
     "data": {
      "text/html": [
       "<div>\n",
       "<style scoped>\n",
       "    .dataframe tbody tr th:only-of-type {\n",
       "        vertical-align: middle;\n",
       "    }\n",
       "\n",
       "    .dataframe tbody tr th {\n",
       "        vertical-align: top;\n",
       "    }\n",
       "\n",
       "    .dataframe thead th {\n",
       "        text-align: right;\n",
       "    }\n",
       "</style>\n",
       "<table border=\"1\" class=\"dataframe\">\n",
       "  <thead>\n",
       "    <tr style=\"text-align: right;\">\n",
       "      <th></th>\n",
       "      <th>GPA</th>\n",
       "      <th>Gender</th>\n",
       "      <th>breakfast</th>\n",
       "      <th>calories_day</th>\n",
       "      <th>coffee</th>\n",
       "      <th>comfort_food</th>\n",
       "      <th>cuisine</th>\n",
       "      <th>eating_changes_coded1</th>\n",
       "      <th>father_education</th>\n",
       "      <th>father_profession</th>\n",
       "      <th>fav_cuisine</th>\n",
       "      <th>fav_cuisine_coded</th>\n",
       "      <th>fav_food</th>\n",
       "      <th>fries</th>\n",
       "      <th>fruit_day</th>\n",
       "      <th>marital_status</th>\n",
       "      <th>mother_education</th>\n",
       "      <th>mother_profession</th>\n",
       "    </tr>\n",
       "  </thead>\n",
       "  <tbody>\n",
       "    <tr>\n",
       "      <th>0</th>\n",
       "      <td>2.400</td>\n",
       "      <td>2.0</td>\n",
       "      <td>1</td>\n",
       "      <td>3.038462</td>\n",
       "      <td>1.0</td>\n",
       "      <td>none</td>\n",
       "      <td>1.0</td>\n",
       "      <td>1</td>\n",
       "      <td>5.0</td>\n",
       "      <td>profesor</td>\n",
       "      <td>Arabic cuisine</td>\n",
       "      <td>3</td>\n",
       "      <td>1.0</td>\n",
       "      <td>2</td>\n",
       "      <td>5</td>\n",
       "      <td>1.0</td>\n",
       "      <td>1.0</td>\n",
       "      <td>unemployed</td>\n",
       "    </tr>\n",
       "    <tr>\n",
       "      <th>1</th>\n",
       "      <td>3.654</td>\n",
       "      <td>1.0</td>\n",
       "      <td>1</td>\n",
       "      <td>3.000000</td>\n",
       "      <td>2.0</td>\n",
       "      <td>chocolate, chips, ice cream</td>\n",
       "      <td>1.0</td>\n",
       "      <td>2</td>\n",
       "      <td>2.0</td>\n",
       "      <td>Self employed</td>\n",
       "      <td>Italian</td>\n",
       "      <td>1</td>\n",
       "      <td>1.0</td>\n",
       "      <td>1</td>\n",
       "      <td>4</td>\n",
       "      <td>2.0</td>\n",
       "      <td>4.0</td>\n",
       "      <td>Nurse RN</td>\n",
       "    </tr>\n",
       "    <tr>\n",
       "      <th>2</th>\n",
       "      <td>3.300</td>\n",
       "      <td>1.0</td>\n",
       "      <td>1</td>\n",
       "      <td>4.000000</td>\n",
       "      <td>2.0</td>\n",
       "      <td>frozen yogurt, pizza, fast food</td>\n",
       "      <td>3.0</td>\n",
       "      <td>3</td>\n",
       "      <td>2.0</td>\n",
       "      <td>owns business</td>\n",
       "      <td>italian</td>\n",
       "      <td>1</td>\n",
       "      <td>3.0</td>\n",
       "      <td>1</td>\n",
       "      <td>5</td>\n",
       "      <td>2.0</td>\n",
       "      <td>2.0</td>\n",
       "      <td>owns business</td>\n",
       "    </tr>\n",
       "    <tr>\n",
       "      <th>3</th>\n",
       "      <td>3.200</td>\n",
       "      <td>1.0</td>\n",
       "      <td>1</td>\n",
       "      <td>3.000000</td>\n",
       "      <td>2.0</td>\n",
       "      <td>Pizza, Mac and cheese, ice cream</td>\n",
       "      <td>2.0</td>\n",
       "      <td>3</td>\n",
       "      <td>2.0</td>\n",
       "      <td>Mechanic</td>\n",
       "      <td>Turkish</td>\n",
       "      <td>3</td>\n",
       "      <td>1.0</td>\n",
       "      <td>2</td>\n",
       "      <td>4</td>\n",
       "      <td>2.0</td>\n",
       "      <td>4.0</td>\n",
       "      <td>Special Education Teacher</td>\n",
       "    </tr>\n",
       "    <tr>\n",
       "      <th>4</th>\n",
       "      <td>3.500</td>\n",
       "      <td>1.0</td>\n",
       "      <td>1</td>\n",
       "      <td>2.000000</td>\n",
       "      <td>2.0</td>\n",
       "      <td>Ice cream, chocolate, chips</td>\n",
       "      <td>2.0</td>\n",
       "      <td>4</td>\n",
       "      <td>4.0</td>\n",
       "      <td>IT</td>\n",
       "      <td>Italian</td>\n",
       "      <td>1</td>\n",
       "      <td>3.0</td>\n",
       "      <td>1</td>\n",
       "      <td>4</td>\n",
       "      <td>1.0</td>\n",
       "      <td>5.0</td>\n",
       "      <td>Substance Abuse Conselor</td>\n",
       "    </tr>\n",
       "    <tr>\n",
       "      <th>...</th>\n",
       "      <td>...</td>\n",
       "      <td>...</td>\n",
       "      <td>...</td>\n",
       "      <td>...</td>\n",
       "      <td>...</td>\n",
       "      <td>...</td>\n",
       "      <td>...</td>\n",
       "      <td>...</td>\n",
       "      <td>...</td>\n",
       "      <td>...</td>\n",
       "      <td>...</td>\n",
       "      <td>...</td>\n",
       "      <td>...</td>\n",
       "      <td>...</td>\n",
       "      <td>...</td>\n",
       "      <td>...</td>\n",
       "      <td>...</td>\n",
       "      <td>...</td>\n",
       "    </tr>\n",
       "    <tr>\n",
       "      <th>121</th>\n",
       "      <td>3.500</td>\n",
       "      <td>1.0</td>\n",
       "      <td>1</td>\n",
       "      <td>4.000000</td>\n",
       "      <td>2.0</td>\n",
       "      <td>wine. mac and cheese, pizza, ice cream</td>\n",
       "      <td>1.0</td>\n",
       "      <td>3</td>\n",
       "      <td>4.0</td>\n",
       "      <td>Accountant</td>\n",
       "      <td>Italian</td>\n",
       "      <td>1</td>\n",
       "      <td>1.0</td>\n",
       "      <td>1</td>\n",
       "      <td>5</td>\n",
       "      <td>1.0</td>\n",
       "      <td>3.0</td>\n",
       "      <td>Radiological Technician</td>\n",
       "    </tr>\n",
       "    <tr>\n",
       "      <th>122</th>\n",
       "      <td>3.000</td>\n",
       "      <td>1.0</td>\n",
       "      <td>1</td>\n",
       "      <td>2.000000</td>\n",
       "      <td>2.0</td>\n",
       "      <td>Pizza / Wings / Cheesecake</td>\n",
       "      <td>1.0</td>\n",
       "      <td>3</td>\n",
       "      <td>5.0</td>\n",
       "      <td>Doctor</td>\n",
       "      <td>Mexican Food</td>\n",
       "      <td>2</td>\n",
       "      <td>1.0</td>\n",
       "      <td>1</td>\n",
       "      <td>4</td>\n",
       "      <td>1.0</td>\n",
       "      <td>2.0</td>\n",
       "      <td>Public Health Advisor</td>\n",
       "    </tr>\n",
       "    <tr>\n",
       "      <th>123</th>\n",
       "      <td>3.882</td>\n",
       "      <td>1.0</td>\n",
       "      <td>1</td>\n",
       "      <td>3.038462</td>\n",
       "      <td>1.0</td>\n",
       "      <td>rice, potato, seaweed soup</td>\n",
       "      <td>1.0</td>\n",
       "      <td>3</td>\n",
       "      <td>5.0</td>\n",
       "      <td>CEO of company</td>\n",
       "      <td>Korean</td>\n",
       "      <td>4</td>\n",
       "      <td>1.0</td>\n",
       "      <td>1</td>\n",
       "      <td>4</td>\n",
       "      <td>1.0</td>\n",
       "      <td>1.0</td>\n",
       "      <td>Real Estate manageer</td>\n",
       "    </tr>\n",
       "    <tr>\n",
       "      <th>124</th>\n",
       "      <td>3.000</td>\n",
       "      <td>2.0</td>\n",
       "      <td>1</td>\n",
       "      <td>4.000000</td>\n",
       "      <td>1.0</td>\n",
       "      <td>Mac n Cheese, Lasagna, Pizza</td>\n",
       "      <td>1.0</td>\n",
       "      <td>8</td>\n",
       "      <td>3.0</td>\n",
       "      <td>Store manager at Giant Eagle</td>\n",
       "      <td>Italian</td>\n",
       "      <td>1</td>\n",
       "      <td>3.0</td>\n",
       "      <td>1</td>\n",
       "      <td>5</td>\n",
       "      <td>1.0</td>\n",
       "      <td>2.0</td>\n",
       "      <td>Receptionist for a medical supply company</td>\n",
       "    </tr>\n",
       "    <tr>\n",
       "      <th>125</th>\n",
       "      <td>3.900</td>\n",
       "      <td>1.0</td>\n",
       "      <td>1</td>\n",
       "      <td>3.038462</td>\n",
       "      <td>2.0</td>\n",
       "      <td>Chocolates, pizza, and Ritz.</td>\n",
       "      <td>3.0</td>\n",
       "      <td>5</td>\n",
       "      <td>4.0</td>\n",
       "      <td>Journalist</td>\n",
       "      <td>HISPANIC CUISINE.</td>\n",
       "      <td>2</td>\n",
       "      <td>1.0</td>\n",
       "      <td>1</td>\n",
       "      <td>3</td>\n",
       "      <td>2.0</td>\n",
       "      <td>3.0</td>\n",
       "      <td>House-wife</td>\n",
       "    </tr>\n",
       "  </tbody>\n",
       "</table>\n",
       "<p>123 rows × 18 columns</p>\n",
       "</div>"
      ],
      "text/plain": [
       "       GPA  Gender  breakfast  calories_day  coffee  \\\n",
       "0    2.400     2.0          1      3.038462     1.0   \n",
       "1    3.654     1.0          1      3.000000     2.0   \n",
       "2    3.300     1.0          1      4.000000     2.0   \n",
       "3    3.200     1.0          1      3.000000     2.0   \n",
       "4    3.500     1.0          1      2.000000     2.0   \n",
       "..     ...     ...        ...           ...     ...   \n",
       "121  3.500     1.0          1      4.000000     2.0   \n",
       "122  3.000     1.0          1      2.000000     2.0   \n",
       "123  3.882     1.0          1      3.038462     1.0   \n",
       "124  3.000     2.0          1      4.000000     1.0   \n",
       "125  3.900     1.0          1      3.038462     2.0   \n",
       "\n",
       "                                comfort_food  cuisine  eating_changes_coded1  \\\n",
       "0                                       none      1.0                      1   \n",
       "1                chocolate, chips, ice cream      1.0                      2   \n",
       "2            frozen yogurt, pizza, fast food      3.0                      3   \n",
       "3           Pizza, Mac and cheese, ice cream      2.0                      3   \n",
       "4               Ice cream, chocolate, chips       2.0                      4   \n",
       "..                                       ...      ...                    ...   \n",
       "121  wine. mac and cheese, pizza, ice cream       1.0                      3   \n",
       "122               Pizza / Wings / Cheesecake      1.0                      3   \n",
       "123               rice, potato, seaweed soup      1.0                      3   \n",
       "124             Mac n Cheese, Lasagna, Pizza      1.0                      8   \n",
       "125             Chocolates, pizza, and Ritz.      3.0                      5   \n",
       "\n",
       "     father_education             father_profession        fav_cuisine  \\\n",
       "0                 5.0                     profesor      Arabic cuisine   \n",
       "1                 2.0                Self employed             Italian   \n",
       "2                 2.0                 owns business            italian   \n",
       "3                 2.0                     Mechanic            Turkish    \n",
       "4                 4.0                            IT           Italian    \n",
       "..                ...                           ...                ...   \n",
       "121               4.0                   Accountant            Italian    \n",
       "122               5.0                        Doctor       Mexican Food   \n",
       "123               5.0                CEO of company             Korean   \n",
       "124               3.0  Store manager at Giant Eagle            Italian   \n",
       "125               4.0                    Journalist  HISPANIC CUISINE.   \n",
       "\n",
       "     fav_cuisine_coded  fav_food  fries  fruit_day  marital_status  \\\n",
       "0                    3       1.0      2          5             1.0   \n",
       "1                    1       1.0      1          4             2.0   \n",
       "2                    1       3.0      1          5             2.0   \n",
       "3                    3       1.0      2          4             2.0   \n",
       "4                    1       3.0      1          4             1.0   \n",
       "..                 ...       ...    ...        ...             ...   \n",
       "121                  1       1.0      1          5             1.0   \n",
       "122                  2       1.0      1          4             1.0   \n",
       "123                  4       1.0      1          4             1.0   \n",
       "124                  1       3.0      1          5             1.0   \n",
       "125                  2       1.0      1          3             2.0   \n",
       "\n",
       "     mother_education                          mother_profession  \n",
       "0                 1.0                                 unemployed  \n",
       "1                 4.0                                  Nurse RN   \n",
       "2                 2.0                              owns business  \n",
       "3                 4.0                  Special Education Teacher  \n",
       "4                 5.0                   Substance Abuse Conselor  \n",
       "..                ...                                        ...  \n",
       "121               3.0                   Radiological Technician   \n",
       "122               2.0                     Public Health Advisor   \n",
       "123               1.0                       Real Estate manageer  \n",
       "124               2.0  Receptionist for a medical supply company  \n",
       "125               3.0                                 House-wife  \n",
       "\n",
       "[123 rows x 18 columns]"
      ]
     },
     "execution_count": 118,
     "metadata": {},
     "output_type": "execute_result"
    }
   ],
   "source": [
    "df"
   ]
  },
  {
   "cell_type": "code",
   "execution_count": 119,
   "id": "d37bf04a-39f2-4fd5-8297-12782673b07b",
   "metadata": {},
   "outputs": [
    {
     "name": "stdout",
     "output_type": "stream",
     "text": [
      "<class 'pandas.core.frame.DataFrame'>\n",
      "Index: 123 entries, 0 to 125\n",
      "Data columns (total 18 columns):\n",
      " #   Column                 Non-Null Count  Dtype  \n",
      "---  ------                 --------------  -----  \n",
      " 0   GPA                    123 non-null    float64\n",
      " 1   Gender                 123 non-null    float64\n",
      " 2   breakfast              123 non-null    int64  \n",
      " 3   calories_day           123 non-null    float64\n",
      " 4   coffee                 123 non-null    float64\n",
      " 5   comfort_food           123 non-null    object \n",
      " 6   cuisine                123 non-null    float64\n",
      " 7   eating_changes_coded1  123 non-null    int32  \n",
      " 8   father_education       123 non-null    float64\n",
      " 9   father_profession      123 non-null    object \n",
      " 10  fav_cuisine            123 non-null    object \n",
      " 11  fav_cuisine_coded      123 non-null    int32  \n",
      " 12  fav_food               123 non-null    float64\n",
      " 13  fries                  123 non-null    int64  \n",
      " 14  fruit_day              123 non-null    int64  \n",
      " 15  marital_status         123 non-null    float64\n",
      " 16  mother_education       123 non-null    float64\n",
      " 17  mother_profession      123 non-null    object \n",
      "dtypes: float64(9), int32(2), int64(3), object(4)\n",
      "memory usage: 17.3+ KB\n"
     ]
    }
   ],
   "source": [
    "df.info()"
   ]
  },
  {
   "cell_type": "code",
   "execution_count": null,
   "id": "ef47e2a0-3143-4c87-9788-4c53f8548577",
   "metadata": {},
   "outputs": [],
   "source": []
  }
 ],
 "metadata": {
  "kernelspec": {
   "display_name": "Python 3 (ipykernel)",
   "language": "python",
   "name": "python3"
  },
  "language_info": {
   "codemirror_mode": {
    "name": "ipython",
    "version": 3
   },
   "file_extension": ".py",
   "mimetype": "text/x-python",
   "name": "python",
   "nbconvert_exporter": "python",
   "pygments_lexer": "ipython3",
   "version": "3.12.7"
  }
 },
 "nbformat": 4,
 "nbformat_minor": 5
}
