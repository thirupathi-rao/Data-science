{
 "cells": [
  {
   "cell_type": "code",
   "execution_count": null,
   "id": "75764307-0d31-49ae-bbee-742615707bcd",
   "metadata": {},
   "outputs": [],
   "source": [
    "Q1.\n",
    "a. Explain copy, deep copy in sets with examples.\n",
    "b. Explain about frozen sets with examples. And also explore different operations it has\n",
    "with examples."
   ]
  },
  {
   "cell_type": "code",
   "execution_count": 23,
   "id": "021e1c54-d1c3-4d35-bcf5-a223c093bea3",
   "metadata": {},
   "outputs": [
    {
     "name": "stdout",
     "output_type": "stream",
     "text": [
      "{1, 2, (1, 2), 3, frozenset({5, 6})}\n",
      "{1, 2, 3, (1, 2), frozenset({5, 6})}\n"
     ]
    }
   ],
   "source": [
    "import copy as cpy\n",
    "a={1,2,(1,2),3, frozenset({5, 6})}\n",
    "b=copy.deepcopy(a)\n",
    "print(b)\n",
    "c=a.copy()\n",
    "print(c)"
   ]
  },
  {
   "cell_type": "code",
   "execution_count": 9,
   "id": "b1635f3a-e0c1-4e27-97d8-dd6ac4f69cd5",
   "metadata": {
    "collapsed": true,
    "jupyter": {
     "outputs_hidden": true
    }
   },
   "outputs": [
    {
     "name": "stdout",
     "output_type": "stream",
     "text": [
      "Original Set: {1, 2, (3, 4), 7, frozenset({5, 6})}\n",
      "Deep Copied Set: {1, frozenset({5, 6}), 2, (3, 4)}\n"
     ]
    }
   ],
   "source": [
    "import copy\n",
    "\n",
    "# Original set containing a mutable object (list)\n",
    "original_set = {1, 2, (3, 4), frozenset({5, 6})}\n",
    "\n",
    "# Creating a deep copy\n",
    "deep_copied_set = copy.deepcopy(original_set)\n",
    "\n",
    "# Modifying the original set\n",
    "original_set.add(7)\n",
    "\n",
    "print(\"Original Set:\", original_set)          # Output: {1, 2, (3, 4), frozenset({5, 6}), 7}\n",
    "print(\"Deep Copied Set:\", deep_copied_set)    # Output: {1, 2, (3, 4), frozenset({5, 6})}\n"
   ]
  },
  {
   "cell_type": "markdown",
   "id": "820f8caa-001c-4f53-8637-c1830de171e4",
   "metadata": {},
   "source": [
    "A frozenset in Python is an immutable version of a set. Once a frozenset is created, you cannot add or remove elements from it. This immutability makes frozensets hashable, allowing them to be used as keys in dictionaries or as elements in other sets"
   ]
  },
  {
   "cell_type": "code",
   "execution_count": 13,
   "id": "f0ed98e1-ae51-4fb2-80ed-ff3fecc2e372",
   "metadata": {},
   "outputs": [
    {
     "name": "stdout",
     "output_type": "stream",
     "text": [
      "Frozenset: frozenset({1, 2, 3, 4, 5})\n"
     ]
    }
   ],
   "source": [
    "# Creating a frozenset\n",
    "my_frozenset = frozenset([1, 2, 3, 4, 5])\n",
    "\n",
    "print(\"Frozenset:\", my_frozenset)  # Output: frozenset({1, 2, 3, 4, 5})"
   ]
  },
  {
   "cell_type": "code",
   "execution_count": 14,
   "id": "40ea9013-b870-42a7-b846-a589ca47793d",
   "metadata": {},
   "outputs": [
    {
     "name": "stdout",
     "output_type": "stream",
     "text": [
      "True\n",
      "False\n"
     ]
    }
   ],
   "source": [
    "#Membership Testing: You can check if an element is in a frozenset.\n",
    "print(3 in my_frozenset)  # Output: True\n",
    "print(6 in my_frozenset)  # Output: False"
   ]
  },
  {
   "cell_type": "code",
   "execution_count": 15,
   "id": "9482188d-33b3-46d5-a664-c228f3572a9a",
   "metadata": {},
   "outputs": [
    {
     "name": "stdout",
     "output_type": "stream",
     "text": [
      "Union: frozenset({1, 2, 3, 4, 5, 6, 7})\n"
     ]
    }
   ],
   "source": [
    "#Union: You can create a new frozenset that is the union of two frozensets.\n",
    "\n",
    "another_frozenset = frozenset([4, 5, 6, 7])\n",
    "union_frozenset = my_frozenset.union(another_frozenset)\n",
    "\n",
    "print(\"Union:\", union_frozenset)  # Output: frozenset({1, 2, 3, 4, 5, 6, 7})\n"
   ]
  },
  {
   "cell_type": "code",
   "execution_count": 16,
   "id": "d81e8cf0-f7bc-44f6-8bb1-fa9aae0ea03e",
   "metadata": {},
   "outputs": [
    {
     "name": "stdout",
     "output_type": "stream",
     "text": [
      "Intersection: frozenset({4, 5})\n"
     ]
    }
   ],
   "source": [
    "#Intersection: You can find the intersection of two frozensets.\n",
    "\n",
    "intersection_frozenset = my_frozenset.intersection(another_frozenset)\n",
    "\n",
    "print(\"Intersection:\", intersection_frozenset)  # Output: frozenset({4, 5})"
   ]
  },
  {
   "cell_type": "code",
   "execution_count": 17,
   "id": "78b624a0-97c6-40b4-b391-53f5b825fb82",
   "metadata": {},
   "outputs": [
    {
     "name": "stdout",
     "output_type": "stream",
     "text": [
      "Difference: frozenset({1, 2, 3})\n"
     ]
    }
   ],
   "source": [
    "#Difference: You can find the difference between two frozensets.\n",
    "\n",
    "difference_frozenset = my_frozenset.difference(another_frozenset)\n",
    "\n",
    "print(\"Difference:\", difference_frozenset)  # Output: frozenset({1, 2, 3})"
   ]
  },
  {
   "cell_type": "code",
   "execution_count": 18,
   "id": "9dd8b6e6-67d5-4677-b8fd-75cc830e469b",
   "metadata": {},
   "outputs": [
    {
     "name": "stdout",
     "output_type": "stream",
     "text": [
      "Symmetric Difference: frozenset({1, 2, 3, 6, 7})\n"
     ]
    }
   ],
   "source": [
    "#Symmetric Difference: You can find the symmetric difference between two frozensets.\n",
    "\n",
    "symmetric_difference_frozenset = my_frozenset.symmetric_difference(another_frozenset)\n",
    "\n",
    "print(\"Symmetric Difference:\", symmetric_difference_frozenset)  # Output: frozenset({1, 2, 3, 6, 7})"
   ]
  },
  {
   "cell_type": "code",
   "execution_count": 19,
   "id": "f3e1ce9e-77a1-46cf-b377-7570c59dace4",
   "metadata": {},
   "outputs": [
    {
     "name": "stdout",
     "output_type": "stream",
     "text": [
      "True\n",
      "True\n"
     ]
    }
   ],
   "source": [
    "#Subset and Superset: You can check if one frozenset is a subset or superset of another.\n",
    "\n",
    "subset_frozenset = frozenset([1, 2])\n",
    "print(subset_frozenset.issubset(my_frozenset))  # Output: True\n",
    "print(my_frozenset.issuperset(subset_frozenset))  # Output: True"
   ]
  },
  {
   "cell_type": "code",
   "execution_count": 20,
   "id": "9511bebe-514a-4a43-9679-0b22187dec23",
   "metadata": {},
   "outputs": [
    {
     "name": "stdout",
     "output_type": "stream",
     "text": [
      "Length of frozenset: 5\n"
     ]
    }
   ],
   "source": [
    "#Length: You can get the number of elements in a frozenset.\n",
    "\n",
    "print(\"Length of frozenset:\", len(my_frozenset))  # Output: 5"
   ]
  },
  {
   "cell_type": "code",
   "execution_count": 21,
   "id": "39aa6129-c709-4724-8601-441ad563147c",
   "metadata": {},
   "outputs": [
    {
     "name": "stdout",
     "output_type": "stream",
     "text": [
      "Regular Set: {1, 2, 3, 4, 5}\n"
     ]
    }
   ],
   "source": [
    "#Conversion to Other Types: You can convert a frozenset back to a regular set or other data types.\n",
    "\n",
    "regular_set = set(my_frozenset)\n",
    "print(\"Regular Set:\", regular_set)  # Output: {1, 2, 3, 4, 5}"
   ]
  },
  {
   "cell_type": "markdown",
   "id": "56defb6e-860c-4aae-8ce7-054d6ffc7913",
   "metadata": {},
   "source": [
    "Q2.\n",
    "a. Take a single element in list, tuple, set and convert all to ‘single item’ dictionary using\n",
    "‘dict’ function.\n",
    "b. Take multiple elements in list, tuple, set and convert all to ‘multiple items’ dictionary\n",
    "using ‘dict’ function."
   ]
  },
  {
   "cell_type": "code",
   "execution_count": 24,
   "id": "6b502bc7-800d-4508-b765-83dbdf03bfa8",
   "metadata": {},
   "outputs": [
    {
     "data": {
      "text/plain": [
       "{'riles': ([1], 2, {3})}"
      ]
     },
     "execution_count": 24,
     "metadata": {},
     "output_type": "execute_result"
    }
   ],
   "source": [
    "a=[1]\n",
    "b=(2)\n",
    "c={3}\n",
    "d={}\n",
    "d['riles']=a,b,c\n",
    "d"
   ]
  },
  {
   "cell_type": "code",
   "execution_count": 26,
   "id": "4a1b6ae8-ae58-4c3a-a425-b89477215eac",
   "metadata": {},
   "outputs": [
    {
     "data": {
      "text/plain": [
       "{'nal': [1, 2, 3], 'val': (2, 3, 4), 'bal': {5, 6, 7}}"
      ]
     },
     "execution_count": 26,
     "metadata": {},
     "output_type": "execute_result"
    }
   ],
   "source": [
    "a=[1,2,3]\n",
    "b=(2,3,4)\n",
    "c={5,6,7}\n",
    "d={}\n",
    "d['nal']=a\n",
    "d['val']=b\n",
    "d['bal']=c\n",
    "d"
   ]
  },
  {
   "cell_type": "code",
   "execution_count": null,
   "id": "23a9ecc3-58a7-4622-b866-fb59515c3251",
   "metadata": {},
   "outputs": [],
   "source": [
    "Q3. Create a dictionary with key-value pairs for a person's name and age.\n",
    "a. Add a new key-value pair \"city\" with the value \"Delhi\" to the person dictionary.\n",
    "b. Remove the last key-value pair from the person dictionary.\n",
    "c. Include {\"Car_color\": \"White\"} in the person's dictionary."
   ]
  },
  {
   "cell_type": "code",
   "execution_count": 29,
   "id": "fabfdc53-abdf-48e7-893d-83a392efee5d",
   "metadata": {},
   "outputs": [
    {
     "name": "stdout",
     "output_type": "stream",
     "text": [
      "{'name': ['val', 'bal', 'gal'], 'age': [36, 40, 65]}\n",
      "{'name': ['val', 'bal', 'gal'], 'age': [36, 40, 65], 'city': 'delhi'}\n",
      "{'name': ['val', 'bal', 'gal'], 'age': [36, 40, 65]}\n",
      "{'name': ['val', 'bal', 'gal'], 'age': [36, 40, 65], 'Car_color': 'White'}\n"
     ]
    }
   ],
   "source": [
    "d={'name':['val','bal','gal'],'age':[36,40,65]}\n",
    "print(d)\n",
    "d['city']='delhi'\n",
    "print(d)\n",
    "d.popitem()\n",
    "print(d)\n",
    "d[\"Car_color\"]=\"White\"\n",
    "print(d)\n"
   ]
  },
  {
   "cell_type": "code",
   "execution_count": null,
   "id": "8fd89501-21de-4e63-9bfe-6938bb2967a5",
   "metadata": {},
   "outputs": [],
   "source": [
    "Q4.\n",
    "a. Sort the above person's dictionary by its keys.\n",
    "b. Remove ‘car_color’ from this dictionary.\n",
    "c. Clear all key-value pairs from the above dictionary.\n",
    "d. Print list of all the values in the dictionary. Also print a list of all the keys."
   ]
  },
  {
   "cell_type": "code",
   "execution_count": 32,
   "id": "84989eb1-7012-4e9f-ba48-b45a70c1da32",
   "metadata": {},
   "outputs": [
    {
     "name": "stdout",
     "output_type": "stream",
     "text": [
      "['bal', 'gal', 'val']\n",
      "{'name': ['bal', 'gal', 'val'], 'age': [36, 40, 65]}\n",
      "dict_values([['bal', 'gal', 'val'], [36, 40, 65]])\n",
      "dict_keys(['name', 'age'])\n",
      "{}\n"
     ]
    }
   ],
   "source": [
    "d['name'].sort()\n",
    "print(d['name'])\n",
    "d.pop('Car_color')\n",
    "print(d)\n",
    "print(d.values())\n",
    "print(d.keys())\n",
    "d.clear()\n",
    "print(d)\n"
   ]
  },
  {
   "cell_type": "code",
   "execution_count": null,
   "id": "1ca24b14-4939-4650-9461-ed6f223683a4",
   "metadata": {},
   "outputs": [],
   "source": []
  }
 ],
 "metadata": {
  "kernelspec": {
   "display_name": "Python 3 (ipykernel)",
   "language": "python",
   "name": "python3"
  },
  "language_info": {
   "codemirror_mode": {
    "name": "ipython",
    "version": 3
   },
   "file_extension": ".py",
   "mimetype": "text/x-python",
   "name": "python",
   "nbconvert_exporter": "python",
   "pygments_lexer": "ipython3",
   "version": "3.12.7"
  }
 },
 "nbformat": 4,
 "nbformat_minor": 5
}
