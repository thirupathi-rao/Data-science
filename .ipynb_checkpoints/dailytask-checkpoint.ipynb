{
 "cells": [
  {
   "cell_type": "markdown",
   "id": "d3a332fc-df8f-4a07-bd51-fccae64c5eaf",
   "metadata": {},
   "source": [
    "Q1. Create different variables to store Your name,Your age, Your parents name.a. print name.b. Create more variables needed for a Biodata.c. Now print your whole Bio data using above variables."
   ]
  },
  {
   "cell_type": "code",
   "execution_count": 11,
   "id": "b29d8f07-ee1f-47d6-9e89-6e60e69cb12b",
   "metadata": {},
   "outputs": [
    {
     "name": "stdout",
     "output_type": "stream",
     "text": [
      "name  thirupathi\n",
      "age  23\n",
      "parent g....\n",
      "mobile no  8xxxxxxxxx\n"
     ]
    }
   ],
   "source": [
    "name= 'thirupathi'\n",
    "age='23'\n",
    "parnets_name= 'g....'\n",
    "mobile_no= \"8xxxxxxxxx\"\n",
    "print(\"name \",name)\n",
    "print(\"age \",age)\n",
    "print(\"parent\",parnets_name)\n",
    "print(\"mobile no \",mobile_no)\n"
   ]
  },
  {
   "cell_type": "markdown",
   "id": "720911c8-f830-47a7-a3fd-aa3e53472bd1",
   "metadata": {},
   "source": [
    "Q2.Create two variables.One to store your First name and another one to store your surname. Now print your name such that the surname prints first."
   ]
  },
  {
   "cell_type": "code",
   "execution_count": 4,
   "id": "e78f47c0-c76d-4153-b2a7-16a01066e56a",
   "metadata": {},
   "outputs": [
    {
     "name": "stdout",
     "output_type": "stream",
     "text": [
      "dugyala thirupathi\n"
     ]
    }
   ],
   "source": [
    "a=\"thirupathi\"\n",
    "b=\"dugyala\"\n",
    "print(b,a)"
   ]
  },
  {
   "cell_type": "markdown",
   "id": "2cbefcc0-fe22-4656-bd3a-b0523082e9da",
   "metadata": {},
   "source": [
    "Q3.a. Write rules on how to create a variable in markdown cell using text formatting.\n",
    "\n",
    "It should start with 'Letters' or 'underscores'a\n",
    "It cannot start with 'numbers'\n",
    "Variables are case-sensitive\n",
    "Cannot contain certain keywords like (if,else,etc)\n",
    "Assigning a variable should be done using = symbol"
   ]
  },
  {
   "cell_type": "markdown",
   "id": "581cef96-915e-4b5c-adf2-0fb42097f57d",
   "metadata": {},
   "source": [
    "Q3.B. print type of the below variables:1.a=4.5 2.b=\"innomatics\"3.c=100 4.d= True"
   ]
  },
  {
   "cell_type": "code",
   "execution_count": 2,
   "id": "8ae84ef2-79ba-48e4-b63a-2f316048da37",
   "metadata": {},
   "outputs": [
    {
     "name": "stdout",
     "output_type": "stream",
     "text": [
      "<class 'float'>\n",
      "<class 'str'>\n",
      "<class 'int'>\n",
      "<class 'bool'>\n"
     ]
    }
   ],
   "source": [
    "a=4.5\n",
    "b=\"Innomatics\"\n",
    "c =100\n",
    "d=True\n",
    "print(type(a))\n",
    "print(type(b))\n",
    "print(type(c))\n",
    "print(type(d))"
   ]
  },
  {
   "cell_type": "code",
   "execution_count": null,
   "id": "e730008f-0046-4fda-8dde-84894c978df4",
   "metadata": {},
   "outputs": [],
   "source": []
  }
 ],
 "metadata": {
  "kernelspec": {
   "display_name": "Python 3 (ipykernel)",
   "language": "python",
   "name": "python3"
  },
  "language_info": {
   "codemirror_mode": {
    "name": "ipython",
    "version": 3
   },
   "file_extension": ".py",
   "mimetype": "text/x-python",
   "name": "python",
   "nbconvert_exporter": "python",
   "pygments_lexer": "ipython3",
   "version": "3.12.7"
  }
 },
 "nbformat": 4,
 "nbformat_minor": 5
}
