{
 "cells": [
  {
   "cell_type": "raw",
   "id": "dec32441-43f3-4bb2-835f-2b4c097d1cfd",
   "metadata": {},
   "source": [
    "Question:\n",
    "Create a class Dog with the following attributes and methods:\n",
    "● Attributes: name, breed, and age.\n",
    "● Methods:\n",
    "1. bark(): Prints \"Woof! Woof!\"\n",
    "2. get_info(): Returns a string containing the dog's name, breed, and age.\n",
    "Create an object of the Dog class and call its methods to demonstrate the functionality.\n"
   ]
  },
  {
   "cell_type": "code",
   "execution_count": 5,
   "id": "056d1d5b-cf63-458c-a25a-fe82c2519302",
   "metadata": {},
   "outputs": [],
   "source": [
    "class Dog:\n",
    "    def __init__(self,name,bread,age):\n",
    "        self.name=name\n",
    "        self.bread=bread\n",
    "        self.age=age\n",
    "    def bark(self):\n",
    "        print(\"Woof! Woof!\")\n",
    "    def getinfo(self):\n",
    "        print(f'{self.name} is at the age of {self.age} years is from {self.bread} bread')\n",
    "        "
   ]
  },
  {
   "cell_type": "code",
   "execution_count": 9,
   "id": "b83301ce-e5e3-4439-a911-b2406701641b",
   "metadata": {},
   "outputs": [
    {
     "name": "stdout",
     "output_type": "stream",
     "text": [
      "Woof! Woof!\n",
      "\n",
      "tommy is at the age of 6 years is from lab bread\n"
     ]
    }
   ],
   "source": [
    "a=Dog('tommy','lab','6')\n",
    "a.bark()\n",
    "print()\n",
    "a.getinfo()"
   ]
  },
  {
   "cell_type": "raw",
   "id": "16a76955-5341-4161-a3d6-bc9745e82523",
   "metadata": {},
   "source": [
    "Question:\n",
    "Design a class Student with the following attributes and methods:\n",
    "● Attributes: name, roll_number, marks.\n",
    "● Methods:\n",
    "1. set_details(): Accepts and sets the student's details.\n",
    "2. display_details(): Displays the student's details in a formatted manner.\n",
    "3. is_passed(): Checks if the marks are greater than or equal to 40.\n",
    "Create multiple objects for students and check if they have passed.\n"
   ]
  },
  {
   "cell_type": "code",
   "execution_count": 18,
   "id": "36e45094-a760-4fd7-a36f-3bf4540235cf",
   "metadata": {},
   "outputs": [],
   "source": [
    "class Student:\n",
    "    def __init__(self):\n",
    "        self.name=''\n",
    "        self.rollnumber=0\n",
    "        self.marks=0\n",
    "    \n",
    "    def set_details(self):\n",
    "        self.name = input(\"Enter the student's name: \")\n",
    "        self.roll_number = int(input(\"Enter the roll number: \"))\n",
    "        self.marks = float(input(\"Enter the marks: \"))\n",
    "    \n",
    "    def display_details(self):\n",
    "        print(f\"\\nStudent Details:\")\n",
    "        print(f\"Name         : {self.name}\")\n",
    "        print(f\"Roll Number  : {self.roll_number}\")\n",
    "        print(f\"Marks        : {self.marks:.2f}\")\n",
    "    \n",
    "    def is_passed(self):\n",
    "        return self.marks>35\n",
    "\n"
   ]
  },
  {
   "cell_type": "code",
   "execution_count": 19,
   "id": "09a00a76-7597-4f85-af18-c673c4ee7e44",
   "metadata": {},
   "outputs": [
    {
     "name": "stdin",
     "output_type": "stream",
     "text": [
      "Enter the number of students:  2\n"
     ]
    },
    {
     "name": "stdout",
     "output_type": "stream",
     "text": [
      "\n",
      "Entering details for Student 1:\n"
     ]
    },
    {
     "name": "stdin",
     "output_type": "stream",
     "text": [
      "Enter the student's name:  tom\n",
      "Enter the roll number:  1\n",
      "Enter the marks:  21\n"
     ]
    },
    {
     "name": "stdout",
     "output_type": "stream",
     "text": [
      "\n",
      "Entering details for Student 2:\n"
     ]
    },
    {
     "name": "stdin",
     "output_type": "stream",
     "text": [
      "Enter the student's name:  boy\n",
      "Enter the roll number:  2\n",
      "Enter the marks:  45\n"
     ]
    },
    {
     "name": "stdout",
     "output_type": "stream",
     "text": [
      "\n",
      "Summary of Students:\n",
      "\n",
      "Student Details:\n",
      "Name         : tom\n",
      "Roll Number  : 1\n",
      "Marks        : 21.00\n",
      "Status       : Failed\n",
      "\n",
      "\n",
      "Student Details:\n",
      "Name         : boy\n",
      "Roll Number  : 2\n",
      "Marks        : 45.00\n",
      "Status       : Passed\n",
      "\n"
     ]
    }
   ],
   "source": [
    "if __name__=='__main__':\n",
    "    num_students = int(input(\"Enter the number of students: \"))\n",
    "    students = []\n",
    "\n",
    "    for i in range(num_students):\n",
    "        print(f\"\\nEntering details for Student {i+1}:\")\n",
    "        student = Student()\n",
    "        student.set_details()\n",
    "        students.append(student)\n",
    "\n",
    "    print(\"\\nSummary of Students:\")\n",
    "    for student in students:\n",
    "        student.display_details()\n",
    "        if student.is_passed():\n",
    "            print(f\"Status       : Passed\\n\")\n",
    "        else:\n",
    "            print(f\"Status       : Failed\\n\")"
   ]
  },
  {
   "cell_type": "code",
   "execution_count": null,
   "id": "97b86314-aaab-4d1d-802f-830519db166e",
   "metadata": {},
   "outputs": [],
   "source": []
  },
  {
   "cell_type": "raw",
   "id": "038653c5-58eb-4e23-a105-c27009230faa",
   "metadata": {},
   "source": [
    "Question:\n",
    "Write a class Employee with the following attributes and methods:\n",
    "● Attributes: name, employee_id, salary.\n",
    "● Methods:\n",
    "1. give_raise(amount): Increases the employee's salary by the given amount.\n",
    "2. display_info(): Prints the employee's name, ID, and updated salary.\n",
    "Create two objects of the Employee class and give a raise to one of them. Display their information.\n"
   ]
  },
  {
   "cell_type": "code",
   "execution_count": 26,
   "id": "c9e4924d-a43c-4db5-9275-68ebe02c9113",
   "metadata": {},
   "outputs": [],
   "source": [
    "class Employee:\n",
    "    def __init__(self):\n",
    "        self.name=''\n",
    "        self.id=0\n",
    "        self.salary=0\n",
    "        self.exp=0\n",
    "    \n",
    "    def set_details(self):\n",
    "        self.name = input(\"Enter the student's name: \")\n",
    "        self.id = int(input(\"Enter the id: \"))\n",
    "        self.salary = float(input(\"Enter the salary: \"))\n",
    "        self.exp=int(input('Enter your experience in number of years: '))\n",
    "    \n",
    "    def display_details(self):\n",
    "        print(f\"\\nEmployee Details:\")\n",
    "        print(f\"Name         : {self.name}\")\n",
    "        print(f\"id           : {self.id}\")\n",
    "        print(f\"salary       : {self.salary:.2f}\")\n",
    "        print(f'experiance   :{self.exp}')\n",
    "    \n",
    "    def is_passed(self):\n",
    "        return self.exp>2"
   ]
  },
  {
   "cell_type": "code",
   "execution_count": 29,
   "id": "795d0a36-eef3-460f-839a-c52551bc98f4",
   "metadata": {},
   "outputs": [
    {
     "name": "stdin",
     "output_type": "stream",
     "text": [
      "Enter number of employees:  2\n"
     ]
    },
    {
     "name": "stdout",
     "output_type": "stream",
     "text": [
      "enter the details of the employee \n"
     ]
    },
    {
     "name": "stdin",
     "output_type": "stream",
     "text": [
      "Enter the student's name:  a\n",
      "Enter the id:  1\n",
      "Enter the salary:  10000\n",
      "Enter your experience in number of years:  1\n"
     ]
    },
    {
     "name": "stdout",
     "output_type": "stream",
     "text": [
      "enter the details of the employee \n"
     ]
    },
    {
     "name": "stdin",
     "output_type": "stream",
     "text": [
      "Enter the student's name:  b\n",
      "Enter the id:  2\n",
      "Enter the salary:  50000\n",
      "Enter your experience in number of years:  5\n"
     ]
    },
    {
     "name": "stdout",
     "output_type": "stream",
     "text": [
      "\n",
      "Employee Details:\n",
      "Name         : a\n",
      "id           : 1\n",
      "salary       : 10000.00\n",
      "experiance   :1\n",
      "Status       : Did not gets a raise\n",
      "\n",
      "\n",
      "Employee Details:\n",
      "Name         : b\n",
      "id           : 2\n",
      "salary       : 50000.00\n",
      "experiance   :5\n",
      "Status       : Gets a raise in salary of 5% that is 2500.0\n",
      "\n"
     ]
    }
   ],
   "source": [
    "if __name__=='__main__':\n",
    "    num_employees=int(input('Enter number of employees: '))\n",
    "    emp=[]\n",
    "    for i in range(num_employees):\n",
    "        print('enter the details of the employee ')\n",
    "        e=Employee()\n",
    "        e.set_details()\n",
    "        emp.append(e)\n",
    "    for e in emp:\n",
    "        e.display_details()\n",
    "        if e.is_passed():\n",
    "            print(f\"Status       : Gets a raise in salary of 5% that is {e.salary*0.05}\\n\")\n",
    "        else:\n",
    "            print(f\"Status       : Did not gets a raise\\n\")\n",
    "    "
   ]
  },
  {
   "cell_type": "code",
   "execution_count": null,
   "id": "b082ceef-89d3-4cb1-96be-f2219166b0a6",
   "metadata": {},
   "outputs": [],
   "source": []
  },
  {
   "cell_type": "raw",
   "id": "7e9011ea-26e2-4792-b82d-8325fb7fedec",
   "metadata": {},
   "source": [
    "Question:\n",
    "Define a class Car with the following:\n",
    "● Attributes: make, model, year, speed (default to 0).\n",
    "● Methods:\n",
    "1. accelerate(amount): Increases the speed by the given amount.\n",
    "2. brake(amount): Decreases the speed by the given amount but ensures it doesn't go below 0.\n",
    "3. display_speed(): Prints the current speed.\n",
    "Create a Car object and test all its methods."
   ]
  },
  {
   "cell_type": "code",
   "execution_count": 34,
   "id": "2a695f8c-be84-4e36-913e-a30ac25ef85d",
   "metadata": {},
   "outputs": [],
   "source": [
    "class Car:\n",
    "    def __init__(self,maker,model,year):\n",
    "        self.maker=maker\n",
    "        self.model=model\n",
    "        self.year=year\n",
    "        self.inspeed=0\n",
    "        self.outspeed=0\n",
    "    def display_details(self):\n",
    "        print(f'maker              :{self.maker}')\n",
    "        print(f'model              :{self.maker}')\n",
    "        print(f'manufacture year   :{self.year}')\n",
    "    def accelerate(self):\n",
    "        self.inspeed=int(input('Enter the speed you want to accelerate to in km/h: '))\n",
    "    def brake(self):\n",
    "        self.outspeed=int(input('Enter the speed you want to decerse in km/h : '))\n",
    "    def display_speed(self):\n",
    "        a=self.inspeed-self.outspeed\n",
    "        if a>0:\n",
    "            print(f'current spped of the car will be {a} km/h')\n",
    "        else:\n",
    "            print('current spped of the car will be 0 km/h')"
   ]
  },
  {
   "cell_type": "code",
   "execution_count": 35,
   "id": "a3e75b23-5421-417f-af07-05dd6fe93579",
   "metadata": {},
   "outputs": [
    {
     "name": "stdout",
     "output_type": "stream",
     "text": [
      "maker              :lambo\n",
      "model              :lambo\n",
      "manufacture year   :2019\n"
     ]
    },
    {
     "name": "stdin",
     "output_type": "stream",
     "text": [
      "Enter the speed you want to accelerate to in km/h:  200\n",
      "Enter the speed you want to decerse in km/h :  100\n"
     ]
    },
    {
     "name": "stdout",
     "output_type": "stream",
     "text": [
      "current spped of the car will be 100 km/h\n"
     ]
    }
   ],
   "source": [
    "a=Car('lambo','sian',2019)\n",
    "a.display_details()\n",
    "a.accelerate()\n",
    "a.brake()\n",
    "a.display_speed()"
   ]
  },
  {
   "cell_type": "code",
   "execution_count": null,
   "id": "3c0e5df6-dbed-45aa-8c0d-7b98c3f7b1f6",
   "metadata": {},
   "outputs": [],
   "source": []
  }
 ],
 "metadata": {
  "kernelspec": {
   "display_name": "Python 3 (ipykernel)",
   "language": "python",
   "name": "python3"
  },
  "language_info": {
   "codemirror_mode": {
    "name": "ipython",
    "version": 3
   },
   "file_extension": ".py",
   "mimetype": "text/x-python",
   "name": "python",
   "nbconvert_exporter": "python",
   "pygments_lexer": "ipython3",
   "version": "3.12.7"
  }
 },
 "nbformat": 4,
 "nbformat_minor": 5
}
