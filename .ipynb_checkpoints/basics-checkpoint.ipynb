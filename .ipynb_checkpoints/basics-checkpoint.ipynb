{
 "cells": [
  {
   "cell_type": "code",
   "execution_count": 1,
   "id": "1faa7a9a-56c2-4ec9-a2a8-e61febb11120",
   "metadata": {},
   "outputs": [
    {
     "ename": "NameError",
     "evalue": "name 'comment' is not defined",
     "output_type": "error",
     "traceback": [
      "\u001b[1;31m---------------------------------------------------------------------------\u001b[0m",
      "\u001b[1;31mNameError\u001b[0m                                 Traceback (most recent call last)",
      "Cell \u001b[1;32mIn[1], line 1\u001b[0m\n\u001b[1;32m----> 1\u001b[0m comment\n",
      "\u001b[1;31mNameError\u001b[0m: name 'comment' is not defined"
     ]
    }
   ],
   "source": [
    "comment # or ''' ''''(multy line)"
   ]
  },
  {
   "cell_type": "code",
   "execution_count": null,
   "id": "a12f0676-ce78-4987-8488-f1c9db1869dd",
   "metadata": {},
   "outputs": [],
   "source": [
    "!python --version"
   ]
  },
  {
   "cell_type": "code",
   "execution_count": null,
   "id": "321cee24-1cac-4a74-bf00-5a340845ea06",
   "metadata": {},
   "outputs": [],
   "source": [
    ": suuuuu...."
   ]
  },
  {
   "cell_type": "code",
   "execution_count": null,
   "id": "145e783e-7cbf-44f1-aecc-b3fb4c10084f",
   "metadata": {},
   "outputs": [],
   "source": [
    "controll if elif else for while break continue pass match case"
   ]
  },
  {
   "cell_type": "code",
   "execution_count": null,
   "id": "db940ceb-88c3-481c-adba-f102762fb3b2",
   "metadata": {},
   "outputs": [],
   "source": [
    "exception handeling try except finally raise assert with as "
   ]
  },
  {
   "cell_type": "code",
   "execution_count": null,
   "id": "d55ef5cb-9162-43f4-be1b-9fcef9e036e4",
   "metadata": {},
   "outputs": [],
   "source": [
    "fuction def return lambda yield class"
   ]
  },
  {
   "cell_type": "code",
   "execution_count": null,
   "id": "aaf99489-9356-4c06-b82a-627d40af8af7",
   "metadata": {},
   "outputs": [],
   "source": [
    "boolean and comparison True False None (cap 1st letter) and or not is in"
   ]
  },
  {
   "cell_type": "code",
   "execution_count": null,
   "id": "df36a022-dc08-4647-8b3a-57ac500d28de",
   "metadata": {},
   "outputs": [],
   "source": [
    "import from as (module management keywords)"
   ]
  },
  {
   "cell_type": "code",
   "execution_count": null,
   "id": "9ff1cb8d-7815-4092-aa77-f9d8b6e6e4bf",
   "metadata": {},
   "outputs": [],
   "source": [
    "oops class self init "
   ]
  },
  {
   "cell_type": "code",
   "execution_count": null,
   "id": "c4637893-9151-4dae-a997-8840d77867e9",
   "metadata": {},
   "outputs": [],
   "source": [
    "import keyword (libery)"
   ]
  },
  {
   "cell_type": "code",
   "execution_count": null,
   "id": "808830b3-3304-48c1-829d-07874364eb19",
   "metadata": {},
   "outputs": [],
   "source": [
    "'''assign 3 variables and add them'''\n",
    "#happy birthday to you and i assigned and added 3 numbers\n",
    "n1,n2,n3=1,2,3\n",
    "print(n1+n2+n3)"
   ]
  },
  {
   "cell_type": "code",
   "execution_count": null,
   "id": "e370c766-1e28-43f2-9d42-d085af93a064",
   "metadata": {},
   "outputs": [],
   "source": [
    "'''take two numbers and find sum,diff,product divi,floor div,reminder and store results'''\n",
    "n1,n2=4,2\n",
    "print(n1+n2,n1-n2,n1*n3,n1/n2,n1//n2,n1%n2)"
   ]
  },
  {
   "cell_type": "code",
   "execution_count": null,
   "id": "5256b540-b40e-44e6-822c-1666c00e4a34",
   "metadata": {},
   "outputs": [],
   "source": [
    "'''assign vaue 2 to a variavle it exponents of order(2,3,4,5) and store them in respective variable'''\n",
    "#used for loop to do the above assigned work\n",
    "n1=2\n",
    "b=(2,3,4,5)\n",
    "for i in b:\n",
    "    x=n1**i\n",
    "    print(f\"if {n1} has an exponentiol as {i} result will be {x}\")"
   ]
  },
  {
   "cell_type": "markdown",
   "id": "8a2bec89-8fa9-4d54-9288-eb0b28cc5452",
   "metadata": {},
   "source": [
    "#**operators**"
   ]
  },
  {
   "cell_type": "raw",
   "id": "4a777c96-84b9-45b1-a96c-91b9371d9d51",
   "metadata": {},
   "source": [
    "ARTHEMATIC (+,-,*,/,%.//,**)\n",
    "LOGICAL (and,or,not)\n",
    "bitwise (&,!,^,-,==,<<,>>)\n",
    "membership(in,notin)\n",
    "identifier(is)\n",
    "assignment(+=,-=,....)\n"
   ]
  },
  {
   "cell_type": "code",
   "execution_count": null,
   "id": "e9efabb3-233f-4527-b998-82f1d26eacd8",
   "metadata": {},
   "outputs": [],
   "source": [
    "a=True\n",
    "b=False\n",
    "print(a and b)\n",
    "print(a or b)\n",
    "print(not a)"
   ]
  },
  {
   "cell_type": "code",
   "execution_count": null,
   "id": "5dd377ea-90ec-4e3d-96ee-303d816f1b3a",
   "metadata": {},
   "outputs": [],
   "source": [
    "#type conversion\n",
    "a=1\n",
    "b=1.7\n",
    "c=True\n",
    "d='1'\n",
    "print(int(b),round(b),int(d),str(c),float(a))"
   ]
  },
  {
   "cell_type": "code",
   "execution_count": null,
   "id": "9f457036-3a8d-4fb8-959e-a46ec6a35dda",
   "metadata": {},
   "outputs": [],
   "source": [
    "x=int(input('happy birthday :'))"
   ]
  },
  {
   "cell_type": "code",
   "execution_count": null,
   "id": "831ff7c4-21fe-4bf2-a93b-61734c9fe391",
   "metadata": {},
   "outputs": [],
   "source": [
    "#conditional statement\n",
    "if,if-else,elif,nested if and if-else,elif ladder"
   ]
  },
  {
   "cell_type": "code",
   "execution_count": null,
   "id": "35f1837c-5cb1-4efd-bfb5-a5e241e7b8fb",
   "metadata": {},
   "outputs": [],
   "source": []
  },
  {
   "cell_type": "code",
   "execution_count": null,
   "id": "6861cba1-d1a8-4d01-a737-fd296bf151f2",
   "metadata": {},
   "outputs": [],
   "source": [
    "if (1>5):\n",
    "    hdsadfkl\n",
    "elif(2>3):\n",
    "    dgfsjk\n",
    "else:\n",
    "    print('bot')"
   ]
  },
  {
   "cell_type": "code",
   "execution_count": null,
   "id": "ba7aef3e-73e8-40f8-adf9-3fc81c513d60",
   "metadata": {},
   "outputs": [],
   "source": [
    "if (1<=1):\n",
    "    print(\"1\")\n",
    "    if (2==2):\n",
    "        print(2)\n",
    "        if (3==3):\n",
    "            print(3)\n",
    "            if(4==4):\n",
    "                print(4)\n",
    "else:\n",
    "    print('bot')"
   ]
  },
  {
   "cell_type": "code",
   "execution_count": null,
   "id": "91db8e52-f657-4e0f-bc04-b728e40c86c3",
   "metadata": {},
   "outputs": [],
   "source": [
    "x='dfjf'\n",
    "x"
   ]
  },
  {
   "cell_type": "code",
   "execution_count": null,
   "id": "72583902-a7e2-4408-baa4-9b79a4ee66f1",
   "metadata": {},
   "outputs": [],
   "source": [
    "print('hkljahsf',end='-')\n",
    "print('kjasfhk')"
   ]
  },
  {
   "cell_type": "code",
   "execution_count": null,
   "id": "124bf07a-6738-4fb6-b670-ff3e84e76505",
   "metadata": {},
   "outputs": [],
   "source": [
    "#concatination of strings\n",
    "s1=str(input())\n",
    "s2='happy childerns day'\n",
    "#adding\n",
    "print(s1+' '+s2)\n",
    "#multi\n",
    "print((s1+' ')*5)"
   ]
  },
  {
   "cell_type": "code",
   "execution_count": null,
   "id": "523258f4-26dd-4bad-8f8f-46d763ceee08",
   "metadata": {},
   "outputs": [],
   "source": [
    "from IPython import display\n",
    "display.Image(\"./Screenshot 2024-11-14 095940.png\")"
   ]
  },
  {
   "cell_type": "code",
   "execution_count": null,
   "id": "deae8054-1db3-4bbb-972c-01f90ea27071",
   "metadata": {},
   "outputs": [],
   "source": [
    "st1='string'\n",
    "print(st1[0:])\n",
    "print(st1.index('g'))"
   ]
  },
  {
   "cell_type": "code",
   "execution_count": null,
   "id": "b6da6063-336a-4b36-bc48-a80fb0906b11",
   "metadata": {},
   "outputs": [],
   "source": [
    "st1='dtrrrrrr'\n",
    "print(len(st1))\n",
    "print(st1.upper())\n",
    "print(st1.lower())\n",
    "print(st1.count('r'))\n",
    "print(st1.capitalize())\n",
    "print(st1.title())\n",
    "print(st1.split( ))\n",
    "print(st1.join('r'))\n",
    "print(st1.replace('r','q'))\n",
    "print(st1.strip(\"r\"))\n",
    "print(st1.isdigit())\n",
    "print(st1.isalpha())\n",
    "print(st1.find('r'))#index number is shown\n",
    "\n",
    "print(st1.startswith('n'))\n",
    "print(st1.endswith('f'))\n",
    "print(st1.replace('t',''))"
   ]
  },
  {
   "cell_type": "code",
   "execution_count": null,
   "id": "3cdd515c-bd72-4b83-9beb-cf9c8751c58c",
   "metadata": {},
   "outputs": [],
   "source": [
    "txt = \"welcome to the jungle\"\n",
    "\n",
    "x = txt.split()\n",
    "\n",
    "print(x)"
   ]
  },
  {
   "cell_type": "code",
   "execution_count": null,
   "id": "f65a7835-5baf-43af-843c-0085a2a11a3d",
   "metadata": {},
   "outputs": [],
   "source": [
    "dd=('sdf','dsf','fsd')\n",
    "print(\" \".join(dd))"
   ]
  },
  {
   "cell_type": "code",
   "execution_count": null,
   "id": "84cc3c67-c2bc-443a-83e8-1ba8f7b26f6c",
   "metadata": {},
   "outputs": [],
   "source": [
    "#format\n",
    "x,y=123,456\n",
    "print('jai {} jai {}'.format('nitish','69'))\n",
    "print('jai {1} jai {0}'.format('nitish','69'))\n",
    "print(f'jam {x} fruit {y}')"
   ]
  },
  {
   "cell_type": "code",
   "execution_count": null,
   "id": "50634427-cf64-4c88-99d4-492597149fa0",
   "metadata": {},
   "outputs": [],
   "source": [
    "#bold text\n",
    "print('\\033[1m DTR \\033[0m')"
   ]
  },
  {
   "cell_type": "code",
   "execution_count": null,
   "id": "124c5d1c-98cc-40e3-9ab3-fde8573f8093",
   "metadata": {},
   "outputs": [],
   "source": [
    "#strings with points cannot be converted into int\n",
    "x='10.3'\n",
    "x=float(x)\n",
    "print(type(x))\n"
   ]
  },
  {
   "cell_type": "code",
   "execution_count": null,
   "id": "fc6482aa-2b25-490c-8073-415e13fbb59c",
   "metadata": {},
   "outputs": [],
   "source": [
    "x='10.3'\n",
    "x=int(x)\n",
    "print(type(x))"
   ]
  },
  {
   "cell_type": "markdown",
   "id": "c61595fe-7681-4604-8c52-7d71119e3bad",
   "metadata": {},
   "source": [
    "# list"
   ]
  },
  {
   "cell_type": "code",
   "execution_count": null,
   "id": "4d442691-3374-4aac-b85c-fd48b88b9a99",
   "metadata": {},
   "outputs": [],
   "source": [
    "l1=[1,2,[11,22,[1,2,3,4,5],33,44,55],3,4,5]\n",
    "l1[2][2][0]"
   ]
  },
  {
   "cell_type": "code",
   "execution_count": null,
   "id": "f785b20b-20c6-44bf-8c37-26f38e7c5ae5",
   "metadata": {},
   "outputs": [],
   "source": [
    "l1[2:5][0:2]"
   ]
  },
  {
   "cell_type": "code",
   "execution_count": null,
   "id": "e222bf62-7e44-41d8-be2b-2d1c78a7561f",
   "metadata": {},
   "outputs": [],
   "source": [
    "l1[2:5]"
   ]
  },
  {
   "cell_type": "code",
   "execution_count": null,
   "id": "1e1b152f-b87f-42b3-b32e-465d982a11b3",
   "metadata": {},
   "outputs": [],
   "source": [
    "l1.append(69)\n",
    "l1"
   ]
  },
  {
   "cell_type": "code",
   "execution_count": 19,
   "id": "e4781009-dc6b-4ef3-ac24-15fd712a878e",
   "metadata": {},
   "outputs": [],
   "source": [
    "list1=[1,2,3,4,5]\n",
    "l2=[1,23,4]"
   ]
  },
  {
   "cell_type": "code",
   "execution_count": 20,
   "id": "7257f614-ec37-4c08-ad82-681547a69943",
   "metadata": {},
   "outputs": [
    {
     "data": {
      "text/plain": [
       "[1, 2, 3, 4, 5]"
      ]
     },
     "execution_count": 20,
     "metadata": {},
     "output_type": "execute_result"
    }
   ],
   "source": [
    "list1"
   ]
  },
  {
   "cell_type": "code",
   "execution_count": 22,
   "id": "9681fd1f-8255-49e9-ac01-2ea2927b8d1a",
   "metadata": {},
   "outputs": [
    {
     "data": {
      "text/plain": [
       "[1, 2, 3, 4, 5]"
      ]
     },
     "execution_count": 22,
     "metadata": {},
     "output_type": "execute_result"
    }
   ],
   "source": [
    "x=list1.copy()\n",
    "x"
   ]
  },
  {
   "cell_type": "code",
   "execution_count": 23,
   "id": "66465494-1d06-4c1f-85c5-c8dca6d98994",
   "metadata": {},
   "outputs": [
    {
     "name": "stdout",
     "output_type": "stream",
     "text": [
      "first list[1, 2, 3, 4, 5],second list [1, 23, 4] combined list [1, 2, 3, 4, 5, 1, 23, 4]\n"
     ]
    }
   ],
   "source": [
    "list1=[1,2,3,4,5]\n",
    "l2=[1,23,4]\n",
    "\n",
    "x=list1.copy()\n",
    "if x==list1:\n",
    "    x.extend(l2)\n",
    "print(f'first list{list1},second list {l2} combined list {x}')"
   ]
  },
  {
   "cell_type": "code",
   "execution_count": 31,
   "id": "26b427bc-ae2b-4ee7-9e0f-ebb35adab55a",
   "metadata": {},
   "outputs": [
    {
     "name": "stdout",
     "output_type": "stream",
     "text": [
      "1\n"
     ]
    },
    {
     "data": {
      "text/plain": [
       "[1, 90, 3, 4, 5, 6]"
      ]
     },
     "execution_count": 31,
     "metadata": {},
     "output_type": "execute_result"
    }
   ],
   "source": [
    "l1=[1,2,3,4,5,6]\n",
    "x=l1.index(2)\n",
    "print(x)\n",
    "l1[x]=90\n",
    "l1"
   ]
  },
  {
   "cell_type": "code",
   "execution_count": 32,
   "id": "faaddea4-cd8b-49c2-96b7-f1a24e869a8a",
   "metadata": {},
   "outputs": [
    {
     "data": {
      "text/plain": [
       "[1, 2, 3, [4, 60, 6], 7]"
      ]
     },
     "execution_count": 32,
     "metadata": {},
     "output_type": "execute_result"
    }
   ],
   "source": [
    "l1=[1,2,3,[4,5,6],7]\n",
    "l1[3][1]=60\n",
    "l1"
   ]
  },
  {
   "cell_type": "code",
   "execution_count": 34,
   "id": "65507ffb-cf70-4808-becf-47d8bb06bb82",
   "metadata": {},
   "outputs": [
    {
     "data": {
      "text/plain": [
       "[60]"
      ]
     },
     "execution_count": 34,
     "metadata": {},
     "output_type": "execute_result"
    }
   ],
   "source": [
    "l1[3][1:2]\n"
   ]
  },
  {
   "cell_type": "code",
   "execution_count": 3,
   "id": "3104201e-60f9-46e7-b3df-c9319bec2bf0",
   "metadata": {},
   "outputs": [
    {
     "data": {
      "text/plain": [
       "[1, 2, 3, 44, 4]"
      ]
     },
     "execution_count": 3,
     "metadata": {},
     "output_type": "execute_result"
    }
   ],
   "source": [
    "list1=[1,2,3,4]\n",
    "list1.insert(3,44)\n",
    "list1"
   ]
  },
  {
   "cell_type": "code",
   "execution_count": 4,
   "id": "a827b952-1daa-4e04-8a4a-953f5b21f253",
   "metadata": {},
   "outputs": [
    {
     "data": {
      "text/plain": [
       "[1, 2, 3, 4]"
      ]
     },
     "execution_count": 4,
     "metadata": {},
     "output_type": "execute_result"
    }
   ],
   "source": [
    "list1.pop(3)\n",
    "list1"
   ]
  },
  {
   "cell_type": "code",
   "execution_count": 6,
   "id": "88e5ca3a-b192-4ded-972c-4819185ffdeb",
   "metadata": {},
   "outputs": [
    {
     "data": {
      "text/plain": [
       "[22, 23, 24, 25]"
      ]
     },
     "execution_count": 6,
     "metadata": {},
     "output_type": "execute_result"
    }
   ],
   "source": [
    "list2=[21,22,23,24,25]\n",
    "list2.remove(21)\n",
    "list2"
   ]
  },
  {
   "cell_type": "code",
   "execution_count": 7,
   "id": "005677ec-d162-4f5e-9dd7-6d031c435d5c",
   "metadata": {},
   "outputs": [
    {
     "data": {
      "text/plain": [
       "[]"
      ]
     },
     "execution_count": 7,
     "metadata": {},
     "output_type": "execute_result"
    }
   ],
   "source": [
    "list2.clear()\n",
    "list2"
   ]
  },
  {
   "cell_type": "code",
   "execution_count": 9,
   "id": "abaeb9e9-aef1-49fc-a6ba-009b0db84d69",
   "metadata": {},
   "outputs": [
    {
     "ename": "NameError",
     "evalue": "name 'list2' is not defined",
     "output_type": "error",
     "traceback": [
      "\u001b[1;31m---------------------------------------------------------------------------\u001b[0m",
      "\u001b[1;31mNameError\u001b[0m                                 Traceback (most recent call last)",
      "Cell \u001b[1;32mIn[9], line 1\u001b[0m\n\u001b[1;32m----> 1\u001b[0m \u001b[38;5;28;01mdel\u001b[39;00m list2\n\u001b[0;32m      2\u001b[0m list2\n",
      "\u001b[1;31mNameError\u001b[0m: name 'list2' is not defined"
     ]
    }
   ],
   "source": [
    "del list2\n",
    "list2"
   ]
  },
  {
   "cell_type": "code",
   "execution_count": null,
   "id": "c96b11d5-c495-4492-b6fa-262459981652",
   "metadata": {},
   "outputs": [],
   "source": [
    "list2=[5,6,7,[1,2,3],8,9]\n",
    "list3=list2.copy()\n",
    "#won't work for nested list or won't replicate a nested list"
   ]
  },
  {
   "cell_type": "code",
   "execution_count": null,
   "id": "694c2b4a-3dc3-44ae-87b0-6cc39e99c3fd",
   "metadata": {},
   "outputs": [],
   "source": [
    "import copy as cpy\n",
    "list4=list2.deepcopy()"
   ]
  },
  {
   "cell_type": "code",
   "execution_count": 10,
   "id": "a5be35f0-a322-4c9a-a683-eb965b1f4e7d",
   "metadata": {},
   "outputs": [
    {
     "data": {
      "text/plain": [
       "[3, 2, 1]"
      ]
     },
     "execution_count": 10,
     "metadata": {},
     "output_type": "execute_result"
    }
   ],
   "source": [
    "list1=[1,2,3]\n",
    "list1.reverse()\n",
    "list1"
   ]
  },
  {
   "cell_type": "code",
   "execution_count": null,
   "id": "10fda8f5-f491-4a88-976f-92cd999ac972",
   "metadata": {},
   "outputs": [],
   "source": [
    "#shows the first occurens of the number\n",
    "list1.index()"
   ]
  },
  {
   "cell_type": "code",
   "execution_count": null,
   "id": "66b43400-dee7-4c9e-b890-34770470ac31",
   "metadata": {},
   "outputs": [],
   "source": [
    "list1.sort()#accending,\n",
    "list1.sort(reverse=True)#deccending shift tab to see"
   ]
  },
  {
   "cell_type": "code",
   "execution_count": null,
   "id": "b97cfc19-93d6-4a1c-a126-fd2b3abf63a8",
   "metadata": {},
   "outputs": [],
   "source": [
    "set_1={1,2,3}"
   ]
  },
  {
   "cell_type": "code",
   "execution_count": 2,
   "id": "6a3feb5a-e934-406d-b0ee-462a43217528",
   "metadata": {},
   "outputs": [
    {
     "data": {
      "text/plain": [
       "{1, 3, 22}"
      ]
     },
     "execution_count": 2,
     "metadata": {},
     "output_type": "execute_result"
    }
   ],
   "source": [
    "s1=set([1,1,22,3])\n",
    "s1"
   ]
  },
  {
   "cell_type": "code",
   "execution_count": 3,
   "id": "2927f619-c21f-44ee-97d9-bc518c97b56f",
   "metadata": {},
   "outputs": [
    {
     "data": {
      "text/plain": [
       "{1, 3, 4, 22}"
      ]
     },
     "execution_count": 3,
     "metadata": {},
     "output_type": "execute_result"
    }
   ],
   "source": [
    "s1.add(4)\n",
    "s1"
   ]
  },
  {
   "cell_type": "code",
   "execution_count": 4,
   "id": "22fd7486-f0f6-4c96-9f2c-f92ca7e5dcec",
   "metadata": {},
   "outputs": [
    {
     "data": {
      "text/plain": [
       "{1, 2, 3, 4, 5, 6, 22}"
      ]
     },
     "execution_count": 4,
     "metadata": {},
     "output_type": "execute_result"
    }
   ],
   "source": [
    "s2={5,2,6}\n",
    "s1.update(s2)\n",
    "s1"
   ]
  },
  {
   "cell_type": "code",
   "execution_count": 6,
   "id": "30755cc2-2c3d-41dc-bec9-ba3a70624356",
   "metadata": {},
   "outputs": [
    {
     "data": {
      "text/plain": [
       "{1, 2, 3, 4, 5, 6, 22}"
      ]
     },
     "execution_count": 6,
     "metadata": {},
     "output_type": "execute_result"
    }
   ],
   "source": [
    "s3=s1.copy()\n",
    "s3"
   ]
  },
  {
   "cell_type": "code",
   "execution_count": 16,
   "id": "a7848942-2e7e-43ea-ad0a-790c2a41af61",
   "metadata": {},
   "outputs": [
    {
     "ename": "TypeError",
     "evalue": "'<' not supported between instances of 'int' and 'str'",
     "output_type": "error",
     "traceback": [
      "\u001b[1;31m---------------------------------------------------------------------------\u001b[0m",
      "\u001b[1;31mTypeError\u001b[0m                                 Traceback (most recent call last)",
      "Cell \u001b[1;32mIn[16], line 2\u001b[0m\n\u001b[0;32m      1\u001b[0m s4\u001b[38;5;241m=\u001b[39m{\u001b[38;5;124m'\u001b[39m\u001b[38;5;124mdad\u001b[39m\u001b[38;5;124m'\u001b[39m,\u001b[38;5;124m'\u001b[39m\u001b[38;5;124mmad\u001b[39m\u001b[38;5;124m'\u001b[39m,\u001b[38;5;124m'\u001b[39m\u001b[38;5;124map\u001b[39m\u001b[38;5;124m'\u001b[39m,\u001b[38;5;241m44\u001b[39m,\u001b[38;5;241m33\u001b[39m,\u001b[38;5;241m22\u001b[39m}\n\u001b[1;32m----> 2\u001b[0m \u001b[38;5;28mprint\u001b[39m(\u001b[38;5;28msorted\u001b[39m(s4))\n",
      "\u001b[1;31mTypeError\u001b[0m: '<' not supported between instances of 'int' and 'str'"
     ]
    }
   ],
   "source": [
    "s4={'dad','mad','ap',44,33,22}\n",
    "print(sorted(s4))"
   ]
  },
  {
   "cell_type": "code",
   "execution_count": 20,
   "id": "a37321aa-dee3-427b-b2b7-4e921e733cbb",
   "metadata": {},
   "outputs": [
    {
     "name": "stdout",
     "output_type": "stream",
     "text": [
      "{'ap', 'dad', 'mad'}\n"
     ]
    }
   ],
   "source": [
    "s4={'dad','mad','ap'}\n",
    "s4=set(sorted(s4))\n",
    "print(s4)"
   ]
  },
  {
   "cell_type": "code",
   "execution_count": 12,
   "id": "138218c5-780c-4d28-a607-e809651707fd",
   "metadata": {},
   "outputs": [
    {
     "data": {
      "text/plain": [
       "{1, 2, 3, 4, 5, 6}"
      ]
     },
     "execution_count": 12,
     "metadata": {},
     "output_type": "execute_result"
    }
   ],
   "source": [
    "#remove will show error if element is not there discord will not\n",
    "s3.remove(22)\n",
    "s3"
   ]
  },
  {
   "cell_type": "code",
   "execution_count": 15,
   "id": "053711d0-4fd4-4bf5-8192-d4420106112e",
   "metadata": {},
   "outputs": [
    {
     "data": {
      "text/plain": [
       "{1, 2, 3, 4, 5, 6}"
      ]
     },
     "execution_count": 15,
     "metadata": {},
     "output_type": "execute_result"
    }
   ],
   "source": [
    "s3.discard(22)\n",
    "s3"
   ]
  },
  {
   "cell_type": "code",
   "execution_count": 21,
   "id": "ff5dadc5-38f6-406e-af43-4ec2d5c61bcb",
   "metadata": {},
   "outputs": [
    {
     "data": {
      "text/plain": [
       "{2, 3, 4, 5, 6}"
      ]
     },
     "execution_count": 21,
     "metadata": {},
     "output_type": "execute_result"
    }
   ],
   "source": [
    "s3.pop()#first element will be taken\n",
    "s3"
   ]
  },
  {
   "cell_type": "code",
   "execution_count": 22,
   "id": "f1756635-9f66-4abd-ac33-a3a00f46cb81",
   "metadata": {},
   "outputs": [
    {
     "data": {
      "text/plain": [
       "{3, 4, 5, 6}"
      ]
     },
     "execution_count": 22,
     "metadata": {},
     "output_type": "execute_result"
    }
   ],
   "source": [
    "s3.pop()\n",
    "s3"
   ]
  },
  {
   "cell_type": "code",
   "execution_count": 24,
   "id": "5fed1399-0a9f-4c76-bd49-4aefa808f0ba",
   "metadata": {},
   "outputs": [
    {
     "name": "stdout",
     "output_type": "stream",
     "text": [
      "{3, 4, 5, 6}\n",
      "{3, 4, 5, 6}\n",
      "{3, 4, 5, 6}\n"
     ]
    }
   ],
   "source": [
    "s3.union(s2)\n",
    "print(s3)\n",
    "s3.intersection(s2)\n",
    "print(s3)\n",
    "s3.difference(s2)\n",
    "print(s3)"
   ]
  },
  {
   "cell_type": "code",
   "execution_count": 25,
   "id": "eec8861e-b9c0-441b-9a8c-f0c715d592fc",
   "metadata": {},
   "outputs": [
    {
     "data": {
      "text/plain": [
       "7"
      ]
     },
     "execution_count": 25,
     "metadata": {},
     "output_type": "execute_result"
    }
   ],
   "source": [
    "len(s1)"
   ]
  },
  {
   "cell_type": "code",
   "execution_count": 26,
   "id": "dda0d274-2524-4b43-8ad4-f5ebbcbc81c8",
   "metadata": {},
   "outputs": [
    {
     "data": {
      "text/plain": [
       "1"
      ]
     },
     "execution_count": 26,
     "metadata": {},
     "output_type": "execute_result"
    }
   ],
   "source": [
    "min(s1)"
   ]
  },
  {
   "cell_type": "code",
   "execution_count": 27,
   "id": "3b86d366-2d1e-4cc1-981d-a21330dc50e8",
   "metadata": {},
   "outputs": [
    {
     "data": {
      "text/plain": [
       "22"
      ]
     },
     "execution_count": 27,
     "metadata": {},
     "output_type": "execute_result"
    }
   ],
   "source": [
    "max(s1)"
   ]
  },
  {
   "cell_type": "code",
   "execution_count": 28,
   "id": "027aee3c-69fa-4ba1-8e19-b58544d7e182",
   "metadata": {},
   "outputs": [
    {
     "data": {
      "text/plain": [
       "43"
      ]
     },
     "execution_count": 28,
     "metadata": {},
     "output_type": "execute_result"
    }
   ],
   "source": [
    "sum(s1)"
   ]
  },
  {
   "cell_type": "code",
   "execution_count": 29,
   "id": "f935c5b3-821c-4955-b14b-b11b177c8d42",
   "metadata": {},
   "outputs": [
    {
     "data": {
      "text/plain": [
       "True"
      ]
     },
     "execution_count": 29,
     "metadata": {},
     "output_type": "execute_result"
    }
   ],
   "source": [
    "1 in s1"
   ]
  },
  {
   "cell_type": "code",
   "execution_count": 30,
   "id": "8b87c429-eaba-4eb1-8e44-45d810a16f3b",
   "metadata": {},
   "outputs": [
    {
     "data": {
      "text/plain": [
       "False"
      ]
     },
     "execution_count": 30,
     "metadata": {},
     "output_type": "execute_result"
    }
   ],
   "source": [
    "2 not in s1"
   ]
  },
  {
   "cell_type": "markdown",
   "id": "ed6c273c-407b-4d4a-9d67-81b74a671193",
   "metadata": {},
   "source": [
    "# dict"
   ]
  },
  {
   "cell_type": "code",
   "execution_count": 2,
   "id": "1010a184-9acd-40bd-a4a6-7ec90453373e",
   "metadata": {},
   "outputs": [
    {
     "data": {
      "text/plain": [
       "2"
      ]
     },
     "execution_count": 2,
     "metadata": {},
     "output_type": "execute_result"
    }
   ],
   "source": [
    "dict1={'a':1,'b':2}\n",
    "dic2={'bb':[1,2,3],'b':'c'}\n",
    "dic2['bb'][1]"
   ]
  },
  {
   "cell_type": "code",
   "execution_count": 7,
   "id": "8a7edb81-386d-436a-9810-3c8a411d9cfa",
   "metadata": {},
   "outputs": [
    {
     "data": {
      "text/plain": [
       "{'a': 1, 'b': 2, 'c': 3}"
      ]
     },
     "execution_count": 7,
     "metadata": {},
     "output_type": "execute_result"
    }
   ],
   "source": [
    "dict1['c']=3\n",
    "dict1"
   ]
  },
  {
   "cell_type": "code",
   "execution_count": 15,
   "id": "52524ec2-474e-4785-9737-fa79a65cfede",
   "metadata": {},
   "outputs": [
    {
     "data": {
      "text/plain": [
       "{'b': 2, 'c': 3, 'a': 1.0}"
      ]
     },
     "execution_count": 15,
     "metadata": {},
     "output_type": "execute_result"
    }
   ],
   "source": [
    "dict1['a']=1.0\n",
    "dict1"
   ]
  },
  {
   "cell_type": "code",
   "execution_count": 38,
   "id": "43d20611-a2f7-451e-b95f-6784b34e5c37",
   "metadata": {},
   "outputs": [],
   "source": [
    "dict1.get('e')#if element is not present will not show error "
   ]
  },
  {
   "cell_type": "code",
   "execution_count": 16,
   "id": "829d002f-f5b0-401a-ba35-9b64f7af8583",
   "metadata": {},
   "outputs": [
    {
     "name": "stdout",
     "output_type": "stream",
     "text": [
      "dict_keys(['b', 'c', 'a'])\n",
      "dict_values([2, 3, 1.0])\n",
      "dict_items([('b', 2), ('c', 3), ('a', 1.0)])\n"
     ]
    }
   ],
   "source": [
    "print(dict1.keys())\n",
    "print(dict1.values())\n",
    "print(dict1.items())\n"
   ]
  },
  {
   "cell_type": "code",
   "execution_count": 4,
   "id": "18930751-e2ba-4aec-b9c3-9553bb458ad9",
   "metadata": {},
   "outputs": [
    {
     "data": {
      "text/plain": [
       "2"
      ]
     },
     "execution_count": 4,
     "metadata": {},
     "output_type": "execute_result"
    }
   ],
   "source": [
    "len(dict1)"
   ]
  },
  {
   "cell_type": "code",
   "execution_count": 5,
   "id": "78b5da37-018f-4bd0-a17d-ab4f24a4f949",
   "metadata": {},
   "outputs": [
    {
     "data": {
      "text/plain": [
       "True"
      ]
     },
     "execution_count": 5,
     "metadata": {},
     "output_type": "execute_result"
    }
   ],
   "source": [
    "'a' in dict1"
   ]
  },
  {
   "cell_type": "code",
   "execution_count": 6,
   "id": "df39aade-e325-43da-8035-9ca6b444d089",
   "metadata": {},
   "outputs": [
    {
     "data": {
      "text/plain": [
       "True"
      ]
     },
     "execution_count": 6,
     "metadata": {},
     "output_type": "execute_result"
    }
   ],
   "source": [
    "d1={'a':1,'b':2,'c':3}\n",
    "d2={'b':2,'a':1,'c':3}\n",
    "d1==d2"
   ]
  },
  {
   "cell_type": "code",
   "execution_count": 13,
   "id": "847241b0-681f-43c8-8864-ed7e9a980a7c",
   "metadata": {},
   "outputs": [
    {
     "name": "stdout",
     "output_type": "stream",
     "text": [
      "{'b': 2, 'c': 3}\n"
     ]
    }
   ],
   "source": [
    "dict1.pop('a')\n",
    "print(dict1)"
   ]
  },
  {
   "cell_type": "code",
   "execution_count": 19,
   "id": "87ca06d1-f4ba-4bf0-b36b-eed68d7e35d1",
   "metadata": {},
   "outputs": [
    {
     "data": {
      "text/plain": [
       "{'a': 1, 's': 2, 'c': 3}"
      ]
     },
     "execution_count": 19,
     "metadata": {},
     "output_type": "execute_result"
    }
   ],
   "source": [
    "#pop last item\n",
    "d4={'a':1,'s':2,'c':3,'d':4}\n",
    "d4.popitem()\n",
    "d4"
   ]
  },
  {
   "cell_type": "code",
   "execution_count": 24,
   "id": "318112d0-b6ff-46a4-9cd8-c8a1f90bc5cf",
   "metadata": {},
   "outputs": [],
   "source": [
    "d4={'a':1,'s':2,'c':3,'d':4}\n",
    "del d4['s']\n"
   ]
  },
  {
   "cell_type": "code",
   "execution_count": 25,
   "id": "beeed5bb-5373-46ff-833c-517c9c8d40a2",
   "metadata": {},
   "outputs": [
    {
     "data": {
      "text/plain": [
       "{'a': 1, 'c': 3, 'd': 4}"
      ]
     },
     "execution_count": 25,
     "metadata": {},
     "output_type": "execute_result"
    }
   ],
   "source": [
    "d4"
   ]
  },
  {
   "cell_type": "code",
   "execution_count": 27,
   "id": "a855acd7-5e48-40fe-933d-da6056a72920",
   "metadata": {},
   "outputs": [
    {
     "data": {
      "text/plain": [
       "{'a': [1, 2, 3, 4], 's': [1, 2, 3, 4], 'd': [1, 2, 3, 4]}"
      ]
     },
     "execution_count": 27,
     "metadata": {},
     "output_type": "execute_result"
    }
   ],
   "source": [
    "keys=['a','s','d']\n",
    "values=[1,2,3,4]\n",
    "di=dict.fromkeys(keys,values)\n",
    "di"
   ]
  },
  {
   "cell_type": "code",
   "execution_count": 28,
   "id": "3f2f5015-511c-4309-9a32-25ebc82ccfc7",
   "metadata": {},
   "outputs": [
    {
     "data": {
      "text/plain": [
       "{'a': [2, 3, 4], 's': [1, 2, 3, 4], 'd': [1, 2, 3, 4]}"
      ]
     },
     "execution_count": 28,
     "metadata": {},
     "output_type": "execute_result"
    }
   ],
   "source": [
    "di['a']=[2,3,4]\n",
    "di"
   ]
  },
  {
   "cell_type": "code",
   "execution_count": 30,
   "id": "5a254f24-9c52-4196-b492-8876a22ccc1b",
   "metadata": {},
   "outputs": [
    {
     "name": "stdout",
     "output_type": "stream",
     "text": [
      "{'a': 1, 'b': 2, 'c': 3}\n"
     ]
    }
   ],
   "source": [
    "#if same kkeys first dic keys will be replaced by dic2 keys\n",
    "d11={'a':1,'b':3}\n",
    "d12={'b':2,'c':3}\n",
    "d11.update(d12)\n",
    "print(d11)"
   ]
  },
  {
   "cell_type": "code",
   "execution_count": 32,
   "id": "9d306521-7f58-426a-907f-224641da6013",
   "metadata": {},
   "outputs": [
    {
     "name": "stdout",
     "output_type": "stream",
     "text": [
      "{'orange': 1, 'apple': 2, 'some': 3, 'i dont know': 4, 'valorent': 5, 'wuwa': 6}\n"
     ]
    }
   ],
   "source": [
    "#to update but not modifing the dic's  ** 3.5+\n",
    "fruit={'orange':1,'apple':2}\n",
    "veg={'some':3,'i dont know':4}\n",
    "games={'valorent':5,'wuwa':6}\n",
    "unpacked_dic={**fruit,**veg,**games}\n",
    "print(unpacked_dic)"
   ]
  },
  {
   "cell_type": "code",
   "execution_count": 33,
   "id": "a5ce9662-d23f-45d0-a399-a70bc0d5abc1",
   "metadata": {},
   "outputs": [
    {
     "name": "stdout",
     "output_type": "stream",
     "text": [
      "{'orange': 1, 'apple': 3, 'i dont know': 4, 'valorent': 5, 'wuwa': 6}\n"
     ]
    }
   ],
   "source": [
    "fruit={'orange':1,'apple':2}\n",
    "veg={'apple':3,'i dont know':4}\n",
    "games={'valorent':5,'wuwa':6}\n",
    "unpacked_dic={**fruit,**veg,**games}  #right one replace the leftone for dupe keys\n",
    "print(unpacked_dic)"
   ]
  },
  {
   "cell_type": "code",
   "execution_count": 36,
   "id": "98eb762b-2e78-416f-b6d9-fa2bffc7f493",
   "metadata": {},
   "outputs": [
    {
     "name": "stdout",
     "output_type": "stream",
     "text": [
      "{'orange': 1, 'apple': 3, 'i dont know': 4, 'valorent': 5, 'wuwa': 6}\n"
     ]
    }
   ],
   "source": [
    "# | is or operation\n",
    "fruit={'orange':1,'apple':2}\n",
    "veg={'apple':3,'i dont know':4}\n",
    "games={'valorent':5,'wuwa':6}\n",
    "unpacked_dic=fruit|veg|games  #right one replace the leftone for dupe keys\n",
    "print(unpacked_dic)"
   ]
  },
  {
   "cell_type": "code",
   "execution_count": null,
   "id": "ae71fd5e-e47d-4511-8727-63ac022c7a1b",
   "metadata": {},
   "outputs": [],
   "source": [
    "#we can add a item to dict\n",
    "student.setdefault('collage','mallareddy collage')\n",
    "\n",
    "print(student)"
   ]
  },
  {
   "cell_type": "code",
   "execution_count": 24,
   "id": "fdfa87d8-848e-4513-9c53-dc5f79bca0a4",
   "metadata": {},
   "outputs": [
    {
     "name": "stdin",
     "output_type": "stream",
     "text": [
      " 50\n"
     ]
    },
    {
     "name": "stdout",
     "output_type": "stream",
     "text": [
      "d grade\n"
     ]
    }
   ],
   "source": [
    "marks=int(input())\n",
    "if 0<marks and marks<100:\n",
    "    if marks<=35:\n",
    "        print('f grade')\n",
    "    elif 35<marks<=40:\n",
    "        print('e grade')\n",
    "    elif 40<marks<=50:\n",
    "        print('d grade')\n",
    "    elif 50<marks<=60:\n",
    "        print('c grade')\n",
    "    elif 60<marks<=70:\n",
    "        print('b grade')\n",
    "    elif 70<marks<=80:\n",
    "        print('a grade')\n",
    "    elif 80<marks<=90:\n",
    "        print('a+ grade')\n",
    "    elif 90<marks:\n",
    "        print('distinction')  \n",
    "else:\n",
    "    print('enter the valid marks')"
   ]
  },
  {
   "cell_type": "code",
   "execution_count": 35,
   "id": "19b2c0f4-70d0-43ad-a912-df2675a33899",
   "metadata": {},
   "outputs": [
    {
     "name": "stdin",
     "output_type": "stream",
     "text": [
      " 2\n",
      " a\n",
      " 55\n",
      " 66\n",
      " 77\n"
     ]
    },
    {
     "name": "stdout",
     "output_type": "stream",
     "text": [
      "{'a': [55, 66, 77]}\n"
     ]
    },
    {
     "name": "stdin",
     "output_type": "stream",
     "text": [
      " b\n",
      " 66\n",
      " 66\n",
      " 66\n"
     ]
    },
    {
     "name": "stdout",
     "output_type": "stream",
     "text": [
      "{'a': [55, 66, 77], 'b': [66, 66, 66]}\n",
      "{'a': [55, 66, 77], 'b': [66, 66, 66]}\n"
     ]
    }
   ],
   "source": [
    "numofstu=int(input())\n",
    "d={}\n",
    "for i in range(0,numofstu):\n",
    "    per=str(input())\n",
    "    phy=int(input())\n",
    "    che=int(input())\n",
    "    mat=int(input())\n",
    "    \n",
    "    if (50<phy<=100)and(50<che<=100)and(50<mat<=100):\n",
    "        d[per]=[phy,che,mat]\n",
    "        d.update(d)\n",
    "        print(d)\n",
    "        \n",
    "    else:\n",
    "        print('bot')\n",
    "print(d)"
   ]
  },
  {
   "cell_type": "code",
   "execution_count": null,
   "id": "19c4345d-3316-49ea-922b-a5839f74003b",
   "metadata": {},
   "outputs": [],
   "source": [
    "d[per]['phy']=(phy)\n",
    "    d[per]['che']=(che)\n",
    "    d[per]['mat']=(mat)"
   ]
  },
  {
   "cell_type": "code",
   "execution_count": 1,
   "id": "9393d74b-a852-4c02-b678-657137c55521",
   "metadata": {},
   "outputs": [
    {
     "name": "stdin",
     "output_type": "stream",
     "text": [
      " mumbai\n"
     ]
    },
    {
     "name": "stdout",
     "output_type": "stream",
     "text": [
      "india\n"
     ]
    },
    {
     "name": "stdin",
     "output_type": "stream",
     "text": [
      " dhaka\n"
     ]
    },
    {
     "name": "stdout",
     "output_type": "stream",
     "text": [
      "bang\n",
      "not\n"
     ]
    }
   ],
   "source": [
    "india=['mumbai','bangalore','chennai','delhi']\n",
    "pak=['lahore','karachi','islamabad']\n",
    "bangla=['dhaka','khulna','rangpur']\n",
    "x=[]\n",
    "for i in range(0,2):\n",
    "    city=input()\n",
    "    if city in india:\n",
    "        x.append(1)\n",
    "        print('india')\n",
    "    elif city  in pak:\n",
    "        x.append(2)\n",
    "        print('pak')\n",
    "    elif city in bangla:\n",
    "        x.append(13)\n",
    "        print('bang')\n",
    "    else:\n",
    "        print('valid name')\n",
    "\n",
    "if x[0]==x[1]:\n",
    "    print('both are in same country')\n",
    "else:\n",
    "    print('both cities are not in same country')"
   ]
  },
  {
   "cell_type": "code",
   "execution_count": 4,
   "id": "c462a9d8-08e5-4130-81e7-9aa8d770ce57",
   "metadata": {},
   "outputs": [
    {
     "name": "stdin",
     "output_type": "stream",
     "text": [
      "enter your name:  10\n"
     ]
    },
    {
     "name": "stdout",
     "output_type": "stream",
     "text": [
      "enter a valid name\n"
     ]
    }
   ],
   "source": [
    "name=input('enter your name: ')\n",
    "if name.isalpha():\n",
    "    marks=int(input('enter tour marks: '))\n",
    "    if 0<marks<160:\n",
    "        if 97>marks:\n",
    "            print('nice try')\n",
    "        elif 97<marks<113:\n",
    "            print('qualified for level-1 job interview ')\n",
    "        elif 133<marks:\n",
    "            print('qualified for level-1 and level-2 job to get a level-2 job you need to take a mains examination for qualification')\n",
    "    else:\n",
    "        print('enter valid marks')\n",
    "else:\n",
    "    print('enter a valid name')"
   ]
  },
  {
   "cell_type": "code",
   "execution_count": 15,
   "id": "05b579be-d4f0-4a09-b3d7-fd91cc3ed06c",
   "metadata": {},
   "outputs": [
    {
     "name": "stdin",
     "output_type": "stream",
     "text": [
      "enter age: hjfkh\n"
     ]
    },
    {
     "name": "stdout",
     "output_type": "stream",
     "text": [
      "enter a age\n"
     ]
    }
   ],
   "source": [
    "age=input('enter age:')\n",
    "tick=1000\n",
    "if age.isdigit():\n",
    "    age=int(age)\n",
    "    if 0<age:\n",
    "        if age<=5:\n",
    "            print('free ticket')\n",
    "        elif 5<age<=12:\n",
    "            print('50% discount ticket prize is {} '.format(tick*0.5))\n",
    "        elif 12<age<=18:\n",
    "            print('25% discount ticket prize is {} '.format(tick*0.75))\n",
    "        elif 18<age:\n",
    "             print('full ticket is {}'.format(tick))\n",
    "    else:\n",
    "        print('enter a valid age')\n",
    "else:\n",
    "    print('enter a age')\n"
   ]
  },
  {
   "cell_type": "code",
   "execution_count": 20,
   "id": "589a7ed7-0be1-4b9b-bb05-bf7478454f66",
   "metadata": {},
   "outputs": [
    {
     "name": "stdin",
     "output_type": "stream",
     "text": [
      " 5\n",
      " 5\n",
      " 6\n"
     ]
    },
    {
     "name": "stdout",
     "output_type": "stream",
     "text": [
      "isoselecs triangle\n"
     ]
    }
   ],
   "source": [
    "a=int(input())\n",
    "b=int(input())\n",
    "c=int(input())\n",
    "if (a + b >= c) or (a + c >= b) or (b + c >= a) :\n",
    "    if a==b==c:\n",
    "        print('equilateral triangle')\n",
    "    elif a==b!=c or a==c!=b or b==c!=a:\n",
    "        print('isoselecs triangle')\n",
    "    elif a!=b!=c:\n",
    "        print('scalene triangle')\n",
    "    elif ((a**2)==(b**2)+(c**2))   or ((b**2)==(a**2)+(c**2)) or((c**2)==(a**2)+(b**2)):\n",
    "        print('right angle triangle')\n",
    "else:\n",
    "    print('it not a triangle where i live')"
   ]
  },
  {
   "cell_type": "code",
   "execution_count": 11,
   "id": "dff195e7-051f-483c-97c5-be0dfb048eaa",
   "metadata": {},
   "outputs": [
    {
     "name": "stdin",
     "output_type": "stream",
     "text": [
      " 6\n"
     ]
    },
    {
     "name": "stdout",
     "output_type": "stream",
     "text": [
      "      \n",
      "     **\n",
      "    ****\n",
      "   ******\n",
      "  ********\n",
      " **********\n"
     ]
    }
   ],
   "source": [
    "x=int(input())\n",
    "i=0\n",
    "n=x-1\n",
    "while(i<x):\n",
    "    print(' '*(n),'*'*(i*2))\n",
    "    i+=1\n",
    "    n-=1"
   ]
  },
  {
   "cell_type": "code",
   "execution_count": 15,
   "id": "8312fd43-b11e-4d8c-81fd-950c6b753f63",
   "metadata": {},
   "outputs": [
    {
     "name": "stdout",
     "output_type": "stream",
     "text": [
      "1\n",
      "2\n",
      "3\n",
      "4\n",
      "6\n",
      "7\n",
      "8\n",
      "9\n"
     ]
    }
   ],
   "source": [
    "x=0\n",
    "while x>=0:\n",
    "    if x==5:\n",
    "        x+=1\n",
    "        continue\n",
    "    elif x==10:\n",
    "        break\n",
    "    elif x>0:\n",
    "        print(x)\n",
    "        x+=1\n",
    "    elif x==0:\n",
    "        x+=1\n",
    "        continue"
   ]
  },
  {
   "cell_type": "code",
   "execution_count": null,
   "id": "072f9dc3-6587-4e52-944d-4980fa2e5fe5",
   "metadata": {},
   "outputs": [],
   "source": [
    "x=0\n",
    "while x>=0:\n",
    "    if x==5:\n",
    "        x+=1\n",
    "        continue\n",
    "    elif x==10:\n",
    "        break\n",
    "    elif x>0:\n",
    "        print(x)\n",
    "        x+=1\n",
    "    elif x==0:\n",
    "        pass#pass will skip code it is considered place holder"
   ]
  },
  {
   "cell_type": "code",
   "execution_count": null,
   "id": "f25e2e58-8f56-4993-b17e-eb6a82024c48",
   "metadata": {},
   "outputs": [],
   "source": []
  },
  {
   "cell_type": "code",
   "execution_count": 20,
   "id": "9b04a1e0-4ba1-42a4-b6ba-e2c299f63c7f",
   "metadata": {},
   "outputs": [
    {
     "name": "stdout",
     "output_type": "stream",
     "text": [
      "1\n",
      "3\n",
      "5\n"
     ]
    }
   ],
   "source": [
    "a=[1,2,3,4,5]\n",
    "for i in range(0,len(a),2):\n",
    "    print(a[i])"
   ]
  },
  {
   "cell_type": "code",
   "execution_count": 5,
   "id": "ee3f8204-714f-4c39-8aae-9099a3f85c5e",
   "metadata": {},
   "outputs": [
    {
     "name": "stdout",
     "output_type": "stream",
     "text": [
      "orange\n",
      "1\n",
      "apple\n",
      "2\n"
     ]
    }
   ],
   "source": [
    "fruit={'orange':1,'apple':2}\n",
    "for i,j in fruit.items():\n",
    "    print(i)\n",
    "    print(j)"
   ]
  },
  {
   "cell_type": "code",
   "execution_count": 6,
   "id": "caa39cd9-a7a2-4b52-92a0-7fc18fa18034",
   "metadata": {},
   "outputs": [
    {
     "name": "stdout",
     "output_type": "stream",
     "text": [
      "even [2, 4, 6, 8, 10]\n",
      "odd [1, 3, 5, 7, 9]\n"
     ]
    }
   ],
   "source": [
    "a=[1,2,3,4,5,6,7,8,9,10]\n",
    "eve=[]\n",
    "odd=[]\n",
    "for i in a:\n",
    "    if i%2==0:\n",
    "        eve.append(i)\n",
    "    else:\n",
    "        odd.append(i)\n",
    "print(f'even {eve}')\n",
    "print(f'odd {odd}')"
   ]
  },
  {
   "cell_type": "code",
   "execution_count": 10,
   "id": "d4260726-b62c-46d1-bccb-53b34a3426dd",
   "metadata": {},
   "outputs": [
    {
     "name": "stdin",
     "output_type": "stream",
     "text": [
      " 10\n"
     ]
    },
    {
     "name": "stdout",
     "output_type": "stream",
     "text": [
      "1\n",
      "2\n",
      "3\n",
      "4\n",
      "5\n",
      "6\n",
      "7\n",
      "8\n",
      "9\n",
      "10\n"
     ]
    }
   ],
   "source": [
    "n = int(input())\n",
    "i=1\n",
    "while i<=n:\n",
    "    print(i)\n",
    "    \n",
    "    if i==n:\n",
    "        break\n",
    "    else:\n",
    "        i+=1\n",
    "    "
   ]
  },
  {
   "cell_type": "code",
   "execution_count": 11,
   "id": "f9229648-f7c3-4a9d-aced-b665c0edcd8d",
   "metadata": {},
   "outputs": [
    {
     "name": "stdout",
     "output_type": "stream",
     "text": [
      "Banana\n",
      "Apple\n",
      "Banana\n",
      "Apple\n",
      "Banana\n",
      "Apple\n",
      "Banana\n",
      "Apple\n",
      "Banana\n",
      "Apple\n",
      "Banana\n",
      "Apple\n",
      "Banana\n",
      "Apple\n",
      "Banana\n",
      "Apple\n",
      "Banana\n",
      "Apple\n",
      "Banana\n",
      "Apple\n"
     ]
    }
   ],
   "source": [
    "a=[1,2,3,4,5,6,7,8,9,10,11,12,13,14,15,16,17,18,19,20]\n",
    "\n",
    "for i in a:\n",
    "    if i%2==0:\n",
    "        print('Apple')\n",
    "    else:\n",
    "        print('Banana')\n"
   ]
  },
  {
   "cell_type": "code",
   "execution_count": 17,
   "id": "8e809c21-43d2-4eb0-8451-3b51db893c31",
   "metadata": {},
   "outputs": [
    {
     "name": "stdout",
     "output_type": "stream",
     "text": [
      "[16, 20, 24, 28, 32, 36, 40, 44, 48, 52, 56, 60, 64, 68, 72, 76, 80, 84, 88, 92, 96, 100, 104, 108, 112, 116, 120, 124, 128, 132, 136, 140, 144, 148, 152, 156, 160, 164, 168, 172, 176, 180, 184, 188, 192, 196, 200, 204, 208, 212, 216, 220, 224, 228, 232, 236, 240, 244, 248]\n"
     ]
    }
   ],
   "source": [
    "l1=list(range(14,248+1))\n",
    "l2=[]\n",
    "for i in l1:\n",
    "    if i%4==0:\n",
    "        l2.append(i)\n",
    "print(l2)   "
   ]
  },
  {
   "cell_type": "code",
   "execution_count": 33,
   "id": "7c914369-7867-46b9-8c86-2853775d04f6",
   "metadata": {},
   "outputs": [
    {
     "name": "stdout",
     "output_type": "stream",
     "text": [
      "[33, 34, 35, 36, 37, 38, 39, 40, 41, 42, 43, 44, 45, 46, 47, 48, 49, 50, 51, 52, 53, 54, 55, 56, 57, 58, 59, 60, 61, 62, 63, 64, 65, 66, 67, 68, 69, 70, 71, 72, 73, 74, 75, 76, 77, 78, 79, 80, 81, 82, 83, 84, 85, 86, 87, 88, 89, 90, 91, 92, 93, 94, 95, 96, 97, 98, 99, 100]\n"
     ]
    }
   ],
   "source": [
    "l1=list(range(33,100+1))\n",
    "l2=[]\n",
    "l2.clear()\n",
    "for i in l1:\n",
    "        i%3==0\n",
    "        l2.append(i)\n",
    "\n",
    "print(l2)   "
   ]
  },
  {
   "cell_type": "code",
   "execution_count": 34,
   "id": "536daa72-61da-47cf-a93c-13fc0fd627fa",
   "metadata": {},
   "outputs": [
    {
     "data": {
      "text/plain": [
       "[33,\n",
       " 36,\n",
       " 39,\n",
       " 42,\n",
       " 45,\n",
       " 48,\n",
       " 51,\n",
       " 54,\n",
       " 57,\n",
       " 60,\n",
       " 63,\n",
       " 66,\n",
       " 69,\n",
       " 72,\n",
       " 75,\n",
       " 78,\n",
       " 81,\n",
       " 84,\n",
       " 87,\n",
       " 90,\n",
       " 93,\n",
       " 96,\n",
       " 99]"
      ]
     },
     "execution_count": 34,
     "metadata": {},
     "output_type": "execute_result"
    }
   ],
   "source": [
    "l1=list(range(33,100+1,3))\n",
    "l1"
   ]
  },
  {
   "cell_type": "code",
   "execution_count": 42,
   "id": "8ff47f36-0d31-458a-a6db-30d1e5199954",
   "metadata": {},
   "outputs": [
    {
     "name": "stdout",
     "output_type": "stream",
     "text": [
      "210\n",
      "10.5\n",
      "[1, 4, 9, 16, 25, 36, 49, 64, 81, 100, 121, 144, 169, 196, 225, 256, 289, 324, 361, 400]\n"
     ]
    }
   ],
   "source": [
    "l1=list(range(1,20+1))\n",
    "y=0\n",
    "for i in l1:\n",
    "    y=y+i\n",
    "print(y)\n",
    "mean=y/len(l1)\n",
    "print(mean)\n",
    "l2=[]\n",
    "for i in l1:\n",
    "    l2.append(i**2)\n",
    "print(l2)    \n",
    "    "
   ]
  },
  {
   "cell_type": "code",
   "execution_count": 41,
   "id": "42eb44bd-605e-4c2a-967b-eec8c7df9e36",
   "metadata": {},
   "outputs": [
    {
     "name": "stdin",
     "output_type": "stream",
     "text": [
      " 10\n",
      " 20\n",
      " 0\n"
     ]
    },
    {
     "name": "stdout",
     "output_type": "stream",
     "text": [
      "30\n"
     ]
    }
   ],
   "source": [
    "n1=int(input())\n",
    "n2=0\n",
    "while type(n1)==int:\n",
    "    n2+=n1\n",
    "    n1=int(input())\n",
    "    if n1==0:\n",
    "        print(n2)\n",
    "        break"
   ]
  },
  {
   "cell_type": "code",
   "execution_count": 69,
   "id": "9ba1893e-719e-4c13-89dd-c1317dc6e4d2",
   "metadata": {},
   "outputs": [
    {
     "name": "stdin",
     "output_type": "stream",
     "text": [
      " 7\n"
     ]
    },
    {
     "name": "stdout",
     "output_type": "stream",
     "text": [
      "prime\n"
     ]
    }
   ],
   "source": [
    "in1=int(input())\n",
    "if in1>1:\n",
    "    for i in range(2,(in1//2)+1):\n",
    "        if in1%i==0:\n",
    "            print('not prime')\n",
    "            break\n",
    "    else:\n",
    "        print('prime') \n",
    "else:\n",
    "    print('not prime')\n",
    "    "
   ]
  },
  {
   "cell_type": "code",
   "execution_count": 5,
   "id": "faeab52e-99a2-4b44-8508-6671a5ad17b5",
   "metadata": {},
   "outputs": [
    {
     "name": "stdout",
     "output_type": "stream",
     "text": [
      "1 2 3 \n",
      "4 5 6 \n",
      "7 8 9 \n"
     ]
    }
   ],
   "source": [
    "numbers = [1, 2, 3, 4, 5, 6, 7, 8, 9]\n",
    "rows = 3\n",
    "cols = 3\n",
    "for i in range(rows):\n",
    "    for j in range(cols):\n",
    "        print(numbers[i * cols + j], end=\" \")\n",
    "    print()"
   ]
  },
  {
   "cell_type": "code",
   "execution_count": 7,
   "id": "868561dd-aa1d-488b-8f02-766c123a987f",
   "metadata": {},
   "outputs": [
    {
     "name": "stdin",
     "output_type": "stream",
     "text": [
      "enter the rows for matrix  5\n",
      "enter the cols for matrix  6\n"
     ]
    },
    {
     "name": "stdout",
     "output_type": "stream",
     "text": [
      "\n",
      "0 1 2 3 4 5 \n",
      "6 7 8 9 10 11 \n",
      "12 13 14 15 16 17 \n",
      "18 19 20 21 22 23 \n",
      "24 25 26 27 28 29 \n"
     ]
    }
   ],
   "source": [
    "rows = int(input('enter the rows for matrix '))\n",
    "cols = int(input('enter the cols for matrix '))\n",
    "numbers = list(range(rows*cols))\n",
    "print()\n",
    "for i in range(rows):\n",
    "    for j in range(cols):\n",
    "        print(numbers[i * cols + j], end=\" \")\n",
    "    print()"
   ]
  },
  {
   "cell_type": "code",
   "execution_count": 8,
   "id": "bea14991-843b-4acc-a43d-7279fa2c55b9",
   "metadata": {},
   "outputs": [
    {
     "name": "stdin",
     "output_type": "stream",
     "text": [
      "enter the rows for matrix  6\n",
      "enter the cols for matrix  6\n"
     ]
    },
    {
     "name": "stdout",
     "output_type": "stream",
     "text": [
      "\n",
      "0 1 2 3 4 5 \n",
      "6 7 8 9 10 11 \n",
      "12 13 14 15 16 17 \n",
      "18 19 20 21 22 23 \n",
      "24 25 26 27 28 29 \n",
      "30 31 32 33 34 35 \n"
     ]
    }
   ],
   "source": [
    "rows = int(input('enter the rows for matrix '))\n",
    "cols = int(input('enter the cols for matrix '))\n",
    "numbers = list(range(rows*cols))\n",
    "print()\n",
    "i=0\n",
    "while i<rows:\n",
    "    j=0\n",
    "    while j<cols:\n",
    "        print(numbers[i*cols+j],end=' ')\n",
    "        j+=1\n",
    "    print()\n",
    "    i+=1"
   ]
  },
  {
   "cell_type": "code",
   "execution_count": 12,
   "id": "a9d6279f-4a73-4601-ba5f-78345b6c9354",
   "metadata": {},
   "outputs": [
    {
     "name": "stdin",
     "output_type": "stream",
     "text": [
      "Enter the starting range : 5\n",
      "Enter the ending range : 20\n"
     ]
    },
    {
     "name": "stdout",
     "output_type": "stream",
     "text": [
      "\n",
      "5 is a prime number.\n",
      "7 is a prime number.\n",
      "11 is a prime number.\n",
      "13 is a prime number.\n",
      "17 is a prime number.\n",
      "19 is a prime number.\n"
     ]
    }
   ],
   "source": [
    "start = int(input('Enter the starting range :'))\n",
    "end = int(input('Enter the ending range :'))\n",
    "if (start < 0) or (end < 0):\n",
    "    print('\\nYou entered negative values for start and end. Prime numbers are calculated only for positive integers.')\n",
    "else:\n",
    "    print()\n",
    "    while start <= end:\n",
    "        is_prime = True\n",
    "        i = 2\n",
    "        while i < start:\n",
    "            if start % i == 0:\n",
    "                is_prime = False\n",
    "                break\n",
    "            i += 1\n",
    "        if is_prime:\n",
    "            print(f\"{start} is a prime number.\")\n",
    "        start += 1"
   ]
  },
  {
   "cell_type": "code",
   "execution_count": 22,
   "id": "fa9c33af-9e08-4958-a585-adeaaebf5c2b",
   "metadata": {},
   "outputs": [
    {
     "name": "stdin",
     "output_type": "stream",
     "text": [
      "enter a time for my ...  2\n"
     ]
    },
    {
     "name": "stdout",
     "output_type": "stream",
     "text": [
      "00:00\r"
     ]
    }
   ],
   "source": [
    "import time\n",
    "mins=int(input('enter a time for my ... '))\n",
    "mins-=1\n",
    "while mins>=0:\n",
    "    sec=59\n",
    "    while sec>=0:\n",
    "        print(f'{mins:02}:{sec:02}',end=\"\\r\")\n",
    "        sec-=1\n",
    "        time.sleep(1)\n",
    "    mins-=1"
   ]
  },
  {
   "cell_type": "code",
   "execution_count": null,
   "id": "82579fbb-439d-45d8-a6b6-e25b9631eda0",
   "metadata": {},
   "outputs": [],
   "source": []
  },
  {
   "cell_type": "code",
   "execution_count": 16,
   "id": "8ae5d88f-b955-4666-8d4d-afd63126648f",
   "metadata": {},
   "outputs": [
    {
     "name": "stdin",
     "output_type": "stream",
     "text": [
      "Enter countdown minutes : 0\n"
     ]
    },
    {
     "name": "stdout",
     "output_type": "stream",
     "text": [
      "Countdown : \u001b[1;32m00:00\u001b[0m\r"
     ]
    }
   ],
   "source": [
    "import time\n",
    "minutes = int(input('Enter countdown minutes :'))\n",
    "while minutes >= 0:\n",
    "    seconds = 59\n",
    "    while seconds >= 0:\n",
    "        print(f\"Countdown : \\033[1;32m{minutes:02}:{seconds:02}\\033[0m\", end = '\\r')#'\\r' will be use to rewrite the same output\n",
    "        seconds -= 1\n",
    "        time.sleep(1)\n",
    "    minutes -= 1"
   ]
  },
  {
   "cell_type": "code",
   "execution_count": 29,
   "id": "2f00d5cb-46af-44dd-80da-21251d9897e7",
   "metadata": {},
   "outputs": [
    {
     "name": "stdin",
     "output_type": "stream",
     "text": [
      " 5\n"
     ]
    },
    {
     "name": "stdout",
     "output_type": "stream",
     "text": [
      "1 \n",
      "1 2 \n",
      "1 2 3 \n",
      "1 2 3 4 \n",
      "1 2 3 4 5 \n"
     ]
    }
   ],
   "source": [
    "i=1\n",
    "num=int(input())\n",
    "while i<=num:\n",
    "    j=1\n",
    "    while j<=i:\n",
    "        print(j,end=' ')\n",
    "        j+=1\n",
    "    print()\n",
    "    i+=1"
   ]
  },
  {
   "cell_type": "code",
   "execution_count": 33,
   "id": "c0b88925-00d7-416a-9521-0deb890c1e2b",
   "metadata": {},
   "outputs": [
    {
     "name": "stdin",
     "output_type": "stream",
     "text": [
      " 5\n"
     ]
    },
    {
     "name": "stdout",
     "output_type": "stream",
     "text": [
      " 1  2  3  4  5 \n",
      " 2  4  6  8 10 \n",
      " 3  6  9 12 15 \n",
      " 4  8 12 16 20 \n",
      " 5 10 15 20 25 \n"
     ]
    }
   ],
   "source": [
    "num=int(input())\n",
    "i=1\n",
    "while i<=num:\n",
    "    j=1\n",
    "    while j<=num:\n",
    "        print(f'{(i*j):2}',end=' ')\n",
    "        j+=1\n",
    "    print()\n",
    "    i+=1"
   ]
  },
  {
   "cell_type": "code",
   "execution_count": 30,
   "id": "6c57a046-26e5-49aa-b732-e4d4550cbf0c",
   "metadata": {},
   "outputs": [
    {
     "name": "stdin",
     "output_type": "stream",
     "text": [
      " 5\n"
     ]
    },
    {
     "name": "stdout",
     "output_type": "stream",
     "text": [
      "1 4 9 16 25 "
     ]
    }
   ],
   "source": [
    "num=int(input())\n",
    "i=1\n",
    "while i<=num:\n",
    "    print(i*i,end=' ')\n",
    "    i+=1"
   ]
  },
  {
   "cell_type": "code",
   "execution_count": 31,
   "id": "51f152ab-a8ab-4fe6-9248-95127e58e90f",
   "metadata": {},
   "outputs": [
    {
     "name": "stdout",
     "output_type": "stream",
     "text": [
      "    1 \n",
      "   1 1 \n",
      "  1 2 1 \n",
      " 1 3 3 1 \n",
      "1 4 6 4 1 \n"
     ]
    }
   ],
   "source": [
    "def print_pascal_triangle(n):\n",
    "    triangle = [[1 for _ in range(i+1)] for i in range(n)]\n",
    "    for i in range(2, n):\n",
    "        for j in range(1, i):\n",
    "            triangle[i][j] = triangle[i-1][j-1] + triangle[i-1][j]\n",
    "    for row in triangle:\n",
    "        print(' ' * (n - len(row)), end='')\n",
    "        for num in row:\n",
    "            print(num, end=' ')\n",
    "        print()\n",
    "\n",
    "# Example usage:\n",
    "print_pascal_triangle(5)"
   ]
  },
  {
   "cell_type": "code",
   "execution_count": 32,
   "id": "4dfc6b26-4c93-4ee6-8707-71204a4e702a",
   "metadata": {},
   "outputs": [
    {
     "name": "stdout",
     "output_type": "stream",
     "text": [
      "      1\n",
      "     1 1\n",
      "    1 2 1\n",
      "   1 3 3 1\n",
      "  1 4 6 4 1\n"
     ]
    }
   ],
   "source": [
    "# Print Pascal's Triangle in Python\n",
    "\n",
    "# input n\n",
    "n = 5\n",
    "\n",
    "for i in range(1, n+1):\n",
    "    for j in range(0, n-i+1):\n",
    "        print(' ', end='')\n",
    "\n",
    "    # first element is always 1\n",
    "    C = 1\n",
    "    for j in range(1, i+1):\n",
    "\n",
    "        # first value in a line is always 1\n",
    "        print(' ', C, sep='', end='')\n",
    "\n",
    "        # using Binomial Coefficient\n",
    "        C = C * (i - j) // j\n",
    "    print()"
   ]
  },
  {
   "cell_type": "markdown",
   "id": "bd152faf-babe-453b-a542-0cafae8e2cd1",
   "metadata": {},
   "source": [
    "# list comprihension"
   ]
  },
  {
   "cell_type": "code",
   "execution_count": 2,
   "id": "7e72564b-0981-4f58-ad07-4b8adfa6abc8",
   "metadata": {},
   "outputs": [
    {
     "data": {
      "text/plain": [
       "[4, 8, 12, 16, 20, 24, 28, 32, 36, 40]"
      ]
     },
     "execution_count": 2,
     "metadata": {},
     "output_type": "execute_result"
    }
   ],
   "source": [
    "b=[i for i in range(1,42) if i%4==0]\n",
    "b"
   ]
  },
  {
   "cell_type": "code",
   "execution_count": 4,
   "id": "d7766d57-9641-496f-a566-31ef6eddcd44",
   "metadata": {},
   "outputs": [
    {
     "data": {
      "text/plain": [
       "['fuk u',\n",
       " 'fuk u',\n",
       " 'fuk u',\n",
       " 4,\n",
       " 'fuk u',\n",
       " 'fuk u',\n",
       " 'fuk u',\n",
       " 8,\n",
       " 'fuk u',\n",
       " 'fuk u',\n",
       " 'fuk u',\n",
       " 12,\n",
       " 'fuk u',\n",
       " 'fuk u',\n",
       " 'fuk u',\n",
       " 16,\n",
       " 'fuk u',\n",
       " 'fuk u',\n",
       " 'fuk u',\n",
       " 20,\n",
       " 'fuk u',\n",
       " 'fuk u',\n",
       " 'fuk u',\n",
       " 24,\n",
       " 'fuk u',\n",
       " 'fuk u',\n",
       " 'fuk u',\n",
       " 28,\n",
       " 'fuk u',\n",
       " 'fuk u',\n",
       " 'fuk u',\n",
       " 32,\n",
       " 'fuk u',\n",
       " 'fuk u',\n",
       " 'fuk u',\n",
       " 36,\n",
       " 'fuk u',\n",
       " 'fuk u',\n",
       " 'fuk u',\n",
       " 40,\n",
       " 'fuk u']"
      ]
     },
     "execution_count": 4,
     "metadata": {},
     "output_type": "execute_result"
    }
   ],
   "source": [
    "b=[i if i%4==0 else 'fuk u' for i in range(1,42)]\n",
    "b"
   ]
  },
  {
   "cell_type": "code",
   "execution_count": 7,
   "id": "3bb6aa56-1398-4c00-a4a7-3fca3845649d",
   "metadata": {},
   "outputs": [
    {
     "name": "stdin",
     "output_type": "stream",
     "text": [
      " 5\n"
     ]
    },
    {
     "data": {
      "text/plain": [
       "[1, 1, 2, 1, 2, 3, 1, 2, 3, 4, 1, 2, 3, 4, 5]"
      ]
     },
     "execution_count": 7,
     "metadata": {},
     "output_type": "execute_result"
    }
   ],
   "source": [
    "n=int(input())\n",
    "l1=[j for i in range(1,n+1) for j in range (1,i+1)]\n",
    "l1"
   ]
  },
  {
   "cell_type": "code",
   "execution_count": 14,
   "id": "de6abdb6-c8c2-421e-82ca-2eef45500aeb",
   "metadata": {},
   "outputs": [
    {
     "name": "stdin",
     "output_type": "stream",
     "text": [
      " 5\n"
     ]
    },
    {
     "data": {
      "text/plain": [
       "[1, 1, 1, 3, 1, 3, 1, 3, 5]"
      ]
     },
     "execution_count": 14,
     "metadata": {},
     "output_type": "execute_result"
    }
   ],
   "source": [
    "n=int(input())\n",
    "l1=[j for i in range(1,n+1) for j in range (1,i+1) if j%2!=0 ]\n",
    "l1"
   ]
  },
  {
   "cell_type": "code",
   "execution_count": 13,
   "id": "5536b4a8-034e-41ee-8399-f46495a86ab4",
   "metadata": {},
   "outputs": [
    {
     "name": "stdin",
     "output_type": "stream",
     "text": [
      " 5\n"
     ]
    },
    {
     "data": {
      "text/plain": [
       "[1, 1, '2|4', 1, '2|4', 3, 1, '2|4', 3, '2|4', 1, '2|4', 3, '2|4', 5]"
      ]
     },
     "execution_count": 13,
     "metadata": {},
     "output_type": "execute_result"
    }
   ],
   "source": [
    "n=int(input())\n",
    "l1=[j if j%2!=0 else '2|4' for i in range(1,n+1) for j in range (1,i+1)]\n",
    "l1"
   ]
  },
  {
   "cell_type": "markdown",
   "id": "fe4781c3-5beb-4c1f-82f6-4a91fa1fe0cd",
   "metadata": {},
   "source": [
    "# dic comprihension"
   ]
  },
  {
   "cell_type": "code",
   "execution_count": 18,
   "id": "fddee352-ab9b-4089-93ac-580f05f9461a",
   "metadata": {},
   "outputs": [
    {
     "data": {
      "text/plain": [
       "{'dan': 'dan', 'dan1': 'dan', 'dan2': 'dan', 'dan3': 'da dan', 'dan4': 'dan'}"
      ]
     },
     "execution_count": 18,
     "metadata": {},
     "output_type": "execute_result"
    }
   ],
   "source": [
    "dic={'dan':90,'dan1':80,'dan2':70,'dan3':11,'dan4':164}\n",
    "dic1={x:'dan' if y%2==0 else 'da dan' for x,y in dic.items()}\n",
    "dic1"
   ]
  },
  {
   "cell_type": "code",
   "execution_count": 20,
   "id": "db4815fd-3393-457f-bd27-bb90a802b6fa",
   "metadata": {},
   "outputs": [
    {
     "data": {
      "text/plain": [
       "['hello', 'world', 'python', 'comprehen', 'joyboy']"
      ]
     },
     "execution_count": 20,
     "metadata": {},
     "output_type": "execute_result"
    }
   ],
   "source": [
    " l1=['hello','world','python','comprehen','list','car','bus','man','lan','can','joyboy']\n",
    "l2=[i for i in l1 if len(i)>=5]\n",
    "l2"
   ]
  },
  {
   "cell_type": "code",
   "execution_count": 26,
   "id": "6f7f1e15-eeb9-4dab-8085-56b5d6fed228",
   "metadata": {},
   "outputs": [
    {
     "name": "stdout",
     "output_type": "stream",
     "text": [
      "{'A': 1, 'B': 2, 'C': 3, 'D': 4, 'E': 5, 'F': 6, 'G': 7, 'H': 8, 'I': 9, 'J': 10, 'K': 11, 'L': 12, 'M': 13, 'N': 14, 'O': 15, 'P': 16, 'Q': 17, 'R': 18, 'S': 19, 'T': 20, 'U': 21, 'V': 22, 'W': 23, 'X': 24, 'Y': 25, 'Z': 26}\n"
     ]
    },
    {
     "data": {
      "text/plain": [
       "{'A': 1,\n",
       " 'B': 4,\n",
       " 'C': 9,\n",
       " 'D': 16,\n",
       " 'E': 25,\n",
       " 'F': 36,\n",
       " 'G': 49,\n",
       " 'H': 64,\n",
       " 'I': 81,\n",
       " 'J': 100,\n",
       " 'K': 121,\n",
       " 'L': 144,\n",
       " 'M': 169,\n",
       " 'N': 196,\n",
       " 'O': 225,\n",
       " 'P': 256,\n",
       " 'Q': 289,\n",
       " 'R': 324,\n",
       " 'S': 361,\n",
       " 'T': 400,\n",
       " 'U': 441,\n",
       " 'V': 484,\n",
       " 'W': 529,\n",
       " 'X': 576,\n",
       " 'Y': 625,\n",
       " 'Z': 676}"
      ]
     },
     "execution_count": 26,
     "metadata": {},
     "output_type": "execute_result"
    }
   ],
   "source": [
    "theDict ={chr(y):y-64 for y in range(65,91)}\n",
    "print (theDict)\n",
    "\n",
    "dic2={x:y**2 for x,y in theDict.items()}\n",
    "dic2"
   ]
  },
  {
   "cell_type": "code",
   "execution_count": 1,
   "id": "3a9c452f-ce34-4797-bd28-97c7b3030d24",
   "metadata": {},
   "outputs": [
    {
     "name": "stdout",
     "output_type": "stream",
     "text": [
      "ABCDEFGHIJKLMNOPQRSTUVWXYZ"
     ]
    }
   ],
   "source": [
    "for y in range(65,91):\n",
    "    print(chr(y),end='') "
   ]
  },
  {
   "cell_type": "code",
   "execution_count": 3,
   "id": "198741f8-d62f-46ef-a17e-641858efa34b",
   "metadata": {},
   "outputs": [
    {
     "data": {
      "text/plain": [
       "'\\x02'"
      ]
     },
     "execution_count": 3,
     "metadata": {},
     "output_type": "execute_result"
    }
   ],
   "source": [
    "chr(2)"
   ]
  },
  {
   "cell_type": "code",
   "execution_count": 4,
   "id": "85c22f7c-7bd4-4bea-9b8a-596de5d85b91",
   "metadata": {},
   "outputs": [],
   "source": [
    "def goodboy(x):\n",
    "    print(f'{x} is a good boy')"
   ]
  },
  {
   "cell_type": "code",
   "execution_count": 6,
   "id": "b699738b-07ed-4b99-8b6e-1e959a49c576",
   "metadata": {},
   "outputs": [
    {
     "name": "stdout",
     "output_type": "stream",
     "text": [
      "fossil is a good boy\n"
     ]
    }
   ],
   "source": [
    "goodboy('fossil')"
   ]
  },
  {
   "cell_type": "code",
   "execution_count": 17,
   "id": "6fc3ba9b-f659-4e0c-8e25-eebcec553b94",
   "metadata": {},
   "outputs": [],
   "source": [
    "def sum1(x,y):\n",
    "    return (x+y),(x*y),(x-y)# for multy return it will form a tuple"
   ]
  },
  {
   "cell_type": "code",
   "execution_count": 18,
   "id": "f217020f-85f2-45a9-a7cc-b6e39fac6834",
   "metadata": {},
   "outputs": [],
   "source": [
    "a=sum1(4,5)"
   ]
  },
  {
   "cell_type": "code",
   "execution_count": 19,
   "id": "81dad437-6299-4551-842f-99c33a8f767b",
   "metadata": {},
   "outputs": [
    {
     "data": {
      "text/plain": [
       "(97, 2310, -13)"
      ]
     },
     "execution_count": 19,
     "metadata": {},
     "output_type": "execute_result"
    }
   ],
   "source": [
    "sum1(42,55)"
   ]
  },
  {
   "cell_type": "code",
   "execution_count": 10,
   "id": "5229e44d-1f03-47d3-92e4-a63aa621e035",
   "metadata": {},
   "outputs": [
    {
     "data": {
      "text/plain": [
       "9"
      ]
     },
     "execution_count": 10,
     "metadata": {},
     "output_type": "execute_result"
    }
   ],
   "source": [
    "a"
   ]
  },
  {
   "cell_type": "code",
   "execution_count": 11,
   "id": "2c0a1eb2-ae77-43f5-bee0-77c3145447cc",
   "metadata": {},
   "outputs": [],
   "source": [
    "b=sum1(10,11)"
   ]
  },
  {
   "cell_type": "code",
   "execution_count": 12,
   "id": "8f512eb0-f96e-4916-b621-2b61d690bf5b",
   "metadata": {},
   "outputs": [
    {
     "data": {
      "text/plain": [
       "21"
      ]
     },
     "execution_count": 12,
     "metadata": {},
     "output_type": "execute_result"
    }
   ],
   "source": [
    "b"
   ]
  },
  {
   "cell_type": "code",
   "execution_count": 20,
   "id": "7345cd23-ec56-4276-bf2c-69ce205e6969",
   "metadata": {},
   "outputs": [
    {
     "name": "stdout",
     "output_type": "stream",
     "text": [
      "97\n",
      "2310\n",
      "-13\n"
     ]
    }
   ],
   "source": [
    "a,b,c=sum1(42,55)\n",
    "print(a)\n",
    "print(b)\n",
    "print(c)"
   ]
  },
  {
   "cell_type": "code",
   "execution_count": 22,
   "id": "b32ac1da-6260-4803-b4f3-9fb27ca15f39",
   "metadata": {},
   "outputs": [
    {
     "data": {
      "text/plain": [
       "5"
      ]
     },
     "execution_count": 22,
     "metadata": {},
     "output_type": "execute_result"
    }
   ],
   "source": [
    "def nana(a,b=0,c=0,d=0):\n",
    "    return a+b+c+d\n",
    "nana(5)"
   ]
  },
  {
   "cell_type": "code",
   "execution_count": 23,
   "id": "9b22e198-a0cf-4a85-a54f-b1a04805f113",
   "metadata": {},
   "outputs": [
    {
     "data": {
      "text/plain": [
       "180"
      ]
     },
     "execution_count": 23,
     "metadata": {},
     "output_type": "execute_result"
    }
   ],
   "source": [
    "nana(b=10,a=50,c=60,d=60)"
   ]
  },
  {
   "cell_type": "markdown",
   "id": "e03b90dd-cc44-4e9d-9566-4ea1aa124aa5",
   "metadata": {},
   "source": [
    "# multy input functions"
   ]
  },
  {
   "cell_type": "code",
   "execution_count": 1,
   "id": "02d8a5bd-c993-4771-908d-eb6467705c3a",
   "metadata": {},
   "outputs": [
    {
     "data": {
      "text/plain": [
       "55"
      ]
     },
     "execution_count": 1,
     "metadata": {},
     "output_type": "execute_result"
    }
   ],
   "source": [
    "def sums(*n):\n",
    "    return sum(n)\n",
    "sums(1,2,3,4,5,6,7,8,9,10)"
   ]
  },
  {
   "cell_type": "code",
   "execution_count": 5,
   "id": "2d3428bf-e224-48b3-88fe-e1b2c4e15a0f",
   "metadata": {},
   "outputs": [
    {
     "name": "stdout",
     "output_type": "stream",
     "text": [
      "name=sanji\n",
      "trait=bot\n"
     ]
    }
   ],
   "source": [
    "def nuns(**k):\n",
    "    for x,y in k.items():\n",
    "        print(f'{x}={y}')\n",
    "nuns(name='sanji',trait='bot')"
   ]
  },
  {
   "cell_type": "code",
   "execution_count": 8,
   "id": "0109e06a-4573-48a0-9bf2-de07c849833c",
   "metadata": {},
   "outputs": [
    {
     "name": "stdout",
     "output_type": "stream",
     "text": [
      "{'name': 'dandadan', 'time': 22, 'fku': 'okarun'}\n"
     ]
    }
   ],
   "source": [
    "def da(**na):\n",
    "    dic1={'name':'dan','time':22}\n",
    "    dic1.update(na)\n",
    "    print(dic1)\n",
    "da(name='dandadan',fku='okarun')\n",
    "  \n"
   ]
  },
  {
   "cell_type": "code",
   "execution_count": 12,
   "id": "15c1bd9e-826f-4e09-8b38-f7ec6048ff6c",
   "metadata": {},
   "outputs": [
    {
     "name": "stdout",
     "output_type": "stream",
     "text": [
      "1\n",
      "20\n"
     ]
    }
   ],
   "source": [
    "a=1\n",
    "b=10\n",
    "def haha(*n):\n",
    "    global b #global is a keyword that can make any variable global \n",
    "    b=20\n",
    "haha(1)\n",
    "print(a)\n",
    "print(b)"
   ]
  },
  {
   "cell_type": "code",
   "execution_count": 14,
   "id": "300d4467-e83b-452d-9341-0486b79b0fa0",
   "metadata": {},
   "outputs": [
    {
     "name": "stdout",
     "output_type": "stream",
     "text": [
      "1\n",
      "10\n"
     ]
    }
   ],
   "source": [
    "a=1\n",
    "b=10\n",
    "def haha(*n):\n",
    "    #global is a keyword that can make any variable global \n",
    "    b=20\n",
    "haha(1)\n",
    "print(a)\n",
    "print(b)"
   ]
  },
  {
   "cell_type": "code",
   "execution_count": 22,
   "id": "0a875359-37ff-4a7f-846c-a97cff23bc15",
   "metadata": {},
   "outputs": [
    {
     "name": "stdout",
     "output_type": "stream",
     "text": [
      "1\n",
      "10\n"
     ]
    }
   ],
   "source": [
    "a=1\n",
    "def haha(*n):\n",
    "    b=20\n",
    "    def nana():\n",
    "        nonlocal b # nonlocal will take the variable of the before layer\n",
    "        b=b//2\n",
    "    nana()\n",
    "    return b\n",
    "haha(1)\n",
    "print(a)\n",
    "print(b)"
   ]
  },
  {
   "cell_type": "code",
   "execution_count": 23,
   "id": "8faaa9f3-3122-46b2-90ad-0c1f872bb40f",
   "metadata": {
    "scrolled": true
   },
   "outputs": [
    {
     "ename": "UnboundLocalError",
     "evalue": "cannot access local variable 'b' where it is not associated with a value",
     "output_type": "error",
     "traceback": [
      "\u001b[1;31m---------------------------------------------------------------------------\u001b[0m",
      "\u001b[1;31mUnboundLocalError\u001b[0m                         Traceback (most recent call last)",
      "Cell \u001b[1;32mIn[23], line 8\u001b[0m\n\u001b[0;32m      6\u001b[0m     nana()\n\u001b[0;32m      7\u001b[0m     \u001b[38;5;28;01mreturn\u001b[39;00m b\n\u001b[1;32m----> 8\u001b[0m haha()\n\u001b[0;32m      9\u001b[0m \u001b[38;5;28mprint\u001b[39m(a)\n\u001b[0;32m     10\u001b[0m \u001b[38;5;28mprint\u001b[39m(b)\n",
      "Cell \u001b[1;32mIn[23], line 6\u001b[0m, in \u001b[0;36mhaha\u001b[1;34m()\u001b[0m\n\u001b[0;32m      4\u001b[0m \u001b[38;5;28;01mdef\u001b[39;00m \u001b[38;5;21mnana\u001b[39m():\n\u001b[0;32m      5\u001b[0m     b\u001b[38;5;241m=\u001b[39mb\u001b[38;5;241m/\u001b[39m\u001b[38;5;241m/\u001b[39m\u001b[38;5;241m2\u001b[39m \u001b[38;5;66;03m# without nonlocal b cannot be accessed in the inner function\u001b[39;00m\n\u001b[1;32m----> 6\u001b[0m nana()\n\u001b[0;32m      7\u001b[0m \u001b[38;5;28;01mreturn\u001b[39;00m b\n",
      "Cell \u001b[1;32mIn[23], line 5\u001b[0m, in \u001b[0;36mhaha.<locals>.nana\u001b[1;34m()\u001b[0m\n\u001b[0;32m      4\u001b[0m \u001b[38;5;28;01mdef\u001b[39;00m \u001b[38;5;21mnana\u001b[39m():\n\u001b[1;32m----> 5\u001b[0m     b\u001b[38;5;241m=\u001b[39mb\u001b[38;5;241m/\u001b[39m\u001b[38;5;241m/\u001b[39m\u001b[38;5;241m2\u001b[39m\n",
      "\u001b[1;31mUnboundLocalError\u001b[0m: cannot access local variable 'b' where it is not associated with a value"
     ]
    }
   ],
   "source": [
    "a=1\n",
    "def haha():\n",
    "    b=20\n",
    "    def nana():\n",
    "        b=b//2 # without nonlocal b cannot be accessed in the inner function\n",
    "    nana()\n",
    "    return b\n",
    "haha()\n",
    "print(a)\n",
    "print(b)"
   ]
  },
  {
   "cell_type": "markdown",
   "id": "2e45cf3f-d855-4419-b5f7-80172c39965d",
   "metadata": {},
   "source": [
    "# yield and return"
   ]
  },
  {
   "cell_type": "code",
   "execution_count": 28,
   "id": "22abe667-b7a7-49b8-adf0-9b0a0ccc5d90",
   "metadata": {},
   "outputs": [
    {
     "data": {
      "text/plain": [
       "[0, 1, 2, 3, 4, 5, 6, 7, 8, 9]"
      ]
     },
     "execution_count": 28,
     "metadata": {},
     "output_type": "execute_result"
    }
   ],
   "source": [
    "def ja():\n",
    "    for i in range(10):\n",
    "        yield i # it is use to genetare output not returning 1 result\n",
    "list(ja())"
   ]
  },
  {
   "cell_type": "code",
   "execution_count": 29,
   "id": "59e570c2-bdaa-4378-81a4-f61d42831038",
   "metadata": {},
   "outputs": [
    {
     "data": {
      "text/plain": [
       "0"
      ]
     },
     "execution_count": 29,
     "metadata": {},
     "output_type": "execute_result"
    }
   ],
   "source": [
    "def ja():\n",
    "    for i in range(10):\n",
    "        return i \n",
    "ja()"
   ]
  },
  {
   "cell_type": "markdown",
   "id": "b7c8c377-5c94-401a-9d48-aeb468f29604",
   "metadata": {},
   "source": [
    "# fibonocci series"
   ]
  },
  {
   "cell_type": "code",
   "execution_count": 34,
   "id": "f4c365d9-f841-40de-a68b-bbe7e21e343c",
   "metadata": {},
   "outputs": [
    {
     "data": {
      "text/plain": [
       "[0, 1, 1, 2, 3, 5, 8, 13, 21, 34, 55]"
      ]
     },
     "execution_count": 34,
     "metadata": {},
     "output_type": "execute_result"
    }
   ],
   "source": [
    "def fibonocci_series(n):\n",
    "    a,b=0,1\n",
    "    i=0\n",
    "    while i<=n:\n",
    "        i+=1\n",
    "        yield a\n",
    "        a,b=b,a+b\n",
    "list(fibonocci_series(10))"
   ]
  },
  {
   "cell_type": "code",
   "execution_count": 42,
   "id": "198e5f75-b774-4b14-99e6-b8f69eb6fcfb",
   "metadata": {
    "scrolled": true
   },
   "outputs": [
    {
     "name": "stdin",
     "output_type": "stream",
     "text": [
      " 100\n"
     ]
    },
    {
     "data": {
      "text/plain": [
       "[0,\n",
       " 1,\n",
       " 1,\n",
       " 2,\n",
       " 3,\n",
       " 5,\n",
       " 8,\n",
       " 13,\n",
       " 21,\n",
       " 34,\n",
       " 55,\n",
       " 89,\n",
       " 144,\n",
       " 233,\n",
       " 377,\n",
       " 610,\n",
       " 987,\n",
       " 1597,\n",
       " 2584,\n",
       " 4181,\n",
       " 6765,\n",
       " 10946,\n",
       " 17711,\n",
       " 28657,\n",
       " 46368,\n",
       " 75025,\n",
       " 121393,\n",
       " 196418,\n",
       " 317811,\n",
       " 514229,\n",
       " 832040,\n",
       " 1346269,\n",
       " 2178309,\n",
       " 3524578,\n",
       " 5702887,\n",
       " 9227465,\n",
       " 14930352,\n",
       " 24157817,\n",
       " 39088169,\n",
       " 63245986,\n",
       " 102334155,\n",
       " 165580141,\n",
       " 267914296,\n",
       " 433494437,\n",
       " 701408733,\n",
       " 1134903170,\n",
       " 1836311903,\n",
       " 2971215073,\n",
       " 4807526976,\n",
       " 7778742049,\n",
       " 12586269025,\n",
       " 20365011074,\n",
       " 32951280099,\n",
       " 53316291173,\n",
       " 86267571272,\n",
       " 139583862445,\n",
       " 225851433717,\n",
       " 365435296162,\n",
       " 591286729879,\n",
       " 956722026041,\n",
       " 1548008755920,\n",
       " 2504730781961,\n",
       " 4052739537881,\n",
       " 6557470319842,\n",
       " 10610209857723,\n",
       " 17167680177565,\n",
       " 27777890035288,\n",
       " 44945570212853,\n",
       " 72723460248141,\n",
       " 117669030460994,\n",
       " 190392490709135,\n",
       " 308061521170129,\n",
       " 498454011879264,\n",
       " 806515533049393,\n",
       " 1304969544928657,\n",
       " 2111485077978050,\n",
       " 3416454622906707,\n",
       " 5527939700884757,\n",
       " 8944394323791464,\n",
       " 14472334024676221,\n",
       " 23416728348467685,\n",
       " 37889062373143906,\n",
       " 61305790721611591,\n",
       " 99194853094755497,\n",
       " 160500643816367088,\n",
       " 259695496911122585,\n",
       " 420196140727489673,\n",
       " 679891637638612258,\n",
       " 1100087778366101931,\n",
       " 1779979416004714189,\n",
       " 2880067194370816120,\n",
       " 4660046610375530309,\n",
       " 7540113804746346429,\n",
       " 12200160415121876738,\n",
       " 19740274219868223167,\n",
       " 31940434634990099905,\n",
       " 51680708854858323072,\n",
       " 83621143489848422977,\n",
       " 135301852344706746049,\n",
       " 218922995834555169026,\n",
       " 354224848179261915075]"
      ]
     },
     "execution_count": 42,
     "metadata": {},
     "output_type": "execute_result"
    }
   ],
   "source": [
    "def fibonocci_series(n):\n",
    "    x=[]\n",
    "    a,b=0,1\n",
    "    i=0\n",
    "    while i<=n:\n",
    "        i+=1\n",
    "        x.append(a)\n",
    "        a,b=b,a+b\n",
    "    return x\n",
    "n=int(input())\n",
    "fibonocci_series(n)"
   ]
  },
  {
   "cell_type": "code",
   "execution_count": null,
   "id": "b6161f92-2366-43de-8187-8219fe8ee5ad",
   "metadata": {},
   "outputs": [],
   "source": []
  },
  {
   "cell_type": "markdown",
   "id": "8837078a-494f-45bc-a37c-70a308fd93d1",
   "metadata": {},
   "source": [
    "# prime numbers"
   ]
  },
  {
   "cell_type": "code",
   "execution_count": null,
   "id": "8c97e19a-ca5c-4193-97f2-212e62e9ad50",
   "metadata": {},
   "outputs": [],
   "source": [
    "def is_prime(n):\n",
    "    if n <= 1:\n",
    "        return False\n",
    "    for i in range(2, int(n ** 0.5) + 1):\n",
    "        if n % i == 0:\n",
    "            return False\n",
    "    return True\n",
    "\n",
    "print(is_prime(25))  # False\n",
    "print(is_prime(23))  # True"
   ]
  },
  {
   "cell_type": "code",
   "execution_count": null,
   "id": "7eb3efd0-03f3-4382-8f1b-0df00b51d885",
   "metadata": {},
   "outputs": [],
   "source": [
    "import sympy\n",
    "\n",
    "print(sympy.isprime(25))  # False\n",
    "print(sympy.isprime(23))  # True"
   ]
  },
  {
   "cell_type": "markdown",
   "id": "d741457f-7c9e-45b5-911c-ddeb64298ee5",
   "metadata": {},
   "source": [
    "# recurrsion"
   ]
  },
  {
   "cell_type": "code",
   "execution_count": 2,
   "id": "3a29ec6c-84ee-4ed6-8985-5cdcca7f598b",
   "metadata": {},
   "outputs": [
    {
     "data": {
      "text/plain": [
       "362880"
      ]
     },
     "execution_count": 2,
     "metadata": {},
     "output_type": "execute_result"
    }
   ],
   "source": [
    "def fact(n):\n",
    "    if type(n)==int:\n",
    "        if n==1:\n",
    "            return 1\n",
    "        else:\n",
    "            return n*fact(n-1)\n",
    "    else:\n",
    "        return('invalid entry')\n",
    "fact(9)"
   ]
  },
  {
   "cell_type": "code",
   "execution_count": 11,
   "id": "dbf612d8-203b-436c-8bf5-8ccd7db68522",
   "metadata": {},
   "outputs": [
    {
     "name": "stdin",
     "output_type": "stream",
     "text": [
      " 10\n"
     ]
    },
    {
     "data": {
      "text/plain": [
       "3628800"
      ]
     },
     "execution_count": 11,
     "metadata": {},
     "output_type": "execute_result"
    }
   ],
   "source": [
    "def fact(n):\n",
    "    n=int(n)\n",
    "    if n==1:\n",
    "        return 1\n",
    "    else:\n",
    "        return n*fact(n-1)\n",
    "n=input()\n",
    "fact(n)"
   ]
  },
  {
   "cell_type": "code",
   "execution_count": 39,
   "id": "ef3d3034-5a8f-42d0-b1eb-9aa8d9467497",
   "metadata": {},
   "outputs": [
    {
     "data": {
      "text/plain": [
       "5"
      ]
     },
     "execution_count": 39,
     "metadata": {},
     "output_type": "execute_result"
    }
   ],
   "source": [
    "#these codes are not working for large numbers\n",
    "def feb(n):\n",
    "    if n==0:\n",
    "        return 0\n",
    "    elif n==1:\n",
    "        return 1\n",
    "    else:\n",
    "        return feb(n-1)+feb(n-2)\n",
    "feb(5)"
   ]
  },
  {
   "cell_type": "code",
   "execution_count": 41,
   "id": "6001aa54-ac0b-46c9-9e30-e7c942fa243b",
   "metadata": {},
   "outputs": [
    {
     "name": "stdin",
     "output_type": "stream",
     "text": [
      " 10\n"
     ]
    },
    {
     "data": {
      "text/plain": [
       "[0, 1, 1, 2, 3, 5, 8, 13, 21, 34, 55]"
      ]
     },
     "execution_count": 41,
     "metadata": {},
     "output_type": "execute_result"
    }
   ],
   "source": [
    "#these codes are not working for large numbers\n",
    "def fibonacci(n):\n",
    "    if n <= 1:\n",
    "        return n\n",
    "    else:\n",
    "        return fibonacci(n-1) + fibonacci(n-2)\n",
    "n=int(input())\n",
    "x=[]\n",
    "for i in range(n+1):\n",
    "    x.append(fibonacci(i))\n",
    "x"
   ]
  },
  {
   "cell_type": "markdown",
   "id": "e169fcc5-fb2b-4b68-8a0e-1fd41494c8e5",
   "metadata": {},
   "source": [
    "# lambda\n",
    "silglr or multy input but only one output for function (mini fuctions)"
   ]
  },
  {
   "cell_type": "markdown",
   "id": "506c90b4-ef1f-4c70-bd0a-c55f19edf44a",
   "metadata": {},
   "source": [
    "## `lambda` Function:\n",
    "\n",
    "- A `lambda` function in Python is a small, `anonymous function` that is defined using the `lambda keyword` in a `single line of code`.\n",
    "\n",
    "- It is often `used for short, simple operations` where defining a full function using a normal function definition would be overkill.\n",
    "\n",
    "- A lambda function `can take any number of arguments` but `can only have a single expression (output)`.\n",
    "\n",
    "- A lambda function also `accepts the positional arguments`, `keyword arguments` and `variable length arguments (*args and **kwargs)` just like a normal function would do."
   ]
  },
  {
   "cell_type": "code",
   "execution_count": 44,
   "id": "f2323b4b-d046-4deb-b6cc-385a55f88513",
   "metadata": {},
   "outputs": [
    {
     "data": {
      "text/plain": [
       "16"
      ]
     },
     "execution_count": 44,
     "metadata": {},
     "output_type": "execute_result"
    }
   ],
   "source": [
    "m_sum=lambda x,y,z:x+z+y\n",
    "m_sum(5,6,5)"
   ]
  },
  {
   "cell_type": "code",
   "execution_count": 45,
   "id": "d74bd53b-8852-4583-a81f-56ae412a0267",
   "metadata": {},
   "outputs": [
    {
     "data": {
      "text/plain": [
       "{'args': (1, 2, 3), 'kwargs': {'a': 66, 'b': 99}}"
      ]
     },
     "execution_count": 45,
     "metadata": {},
     "output_type": "execute_result"
    }
   ],
   "source": [
    "m_dic=lambda *n,**k:{'args':n,'kwargs':k} #args= arguments,kwargs= keyword arguements\n",
    "m_dic(1,2,3,a=66,b=99)"
   ]
  },
  {
   "cell_type": "code",
   "execution_count": 49,
   "id": "92c96ad8-39ab-4fae-af8e-c91ca624393b",
   "metadata": {},
   "outputs": [
    {
     "data": {
      "text/plain": [
       "15"
      ]
     },
     "execution_count": 49,
     "metadata": {},
     "output_type": "execute_result"
    }
   ],
   "source": [
    "m_sum=lambda *a:sum(a)\n",
    "\n",
    "m_sum(1,2,3,4,5)"
   ]
  },
  {
   "cell_type": "code",
   "execution_count": 51,
   "id": "2d0ece04-98c8-4b28-b905-1488a6f44ef7",
   "metadata": {},
   "outputs": [
    {
     "data": {
      "text/plain": [
       "[[-5, 5], [-1, 10], [1, 2], [2, 4]]"
      ]
     },
     "execution_count": 51,
     "metadata": {},
     "output_type": "execute_result"
    }
   ],
   "source": [
    "l1=[[1,2],[2,4],[-5,5],[-1,10]]\n",
    "l1.sort()\n",
    "l1\n",
    "#If a key function is given, apply it once to each list item and sort them,ascending or descending, according to their function values.\n",
    "# in nested lists the 0th element is considered"
   ]
  },
  {
   "cell_type": "code",
   "execution_count": 3,
   "id": "5fe666cf-8f02-4ad5-82ed-fe16c48205ac",
   "metadata": {},
   "outputs": [
    {
     "data": {
      "text/plain": [
       "[[1, 2], [2, 4], [-5, 5], [-1, 10]]"
      ]
     },
     "execution_count": 3,
     "metadata": {},
     "output_type": "execute_result"
    }
   ],
   "source": [
    "l1=[[1,2],[2,4],[-5,5],[-1,10]]\n",
    "l1.sort(key=lambda x:x[1]) #nested 1 inxed is used as base to sort\n",
    "l1"
   ]
  },
  {
   "cell_type": "code",
   "execution_count": 4,
   "id": "13b552a9-a755-4af5-b31d-7bde3056c919",
   "metadata": {},
   "outputs": [
    {
     "data": {
      "text/plain": [
       "[[-1, 10], [-5, 5], [2, 4], [1, 2]]"
      ]
     },
     "execution_count": 4,
     "metadata": {},
     "output_type": "execute_result"
    }
   ],
   "source": [
    "l1=[[1,2],[2,4],[-5,5],[-1,10]]\n",
    "l1.sort(key=lambda x:x[1],reverse=True) #desending order\n",
    "l1"
   ]
  },
  {
   "cell_type": "markdown",
   "id": "78f185ce-3709-4b75-886d-66de2a79f06e",
   "metadata": {},
   "source": [
    "# doc string"
   ]
  },
  {
   "cell_type": "code",
   "execution_count": 2,
   "id": "d799a1ad-e8c3-4643-8653-d87e9296143b",
   "metadata": {},
   "outputs": [],
   "source": [
    "def docstring():\n",
    "    '''write how the function works example of the print function\n",
    "    \n",
    "    Signature: print(*args, sep=' ', end='\\n', file=None, flush=False)\n",
    "    \n",
    "    Docstring:\n",
    "   \n",
    "    Prints the values to a stream, or to sys.stdout by default.\n",
    "    \n",
    "    sep\n",
    "      string inserted between values, default a space.\n",
    "    end\n",
    "      string appended after the last value, default a newline.\n",
    "    file\n",
    "      a file-like object (stream); defaults to the current sys.stdout.\n",
    "    flush\n",
    "      whether to forcibly flush the stream.\n",
    "    Type:      builtin_function_or_method'''"
   ]
  },
  {
   "cell_type": "code",
   "execution_count": null,
   "id": "85b59e59-4241-4289-a7d2-a3b4c36f889b",
   "metadata": {},
   "outputs": [],
   "source": [
    "docstring() #shift+tab to view docstring"
   ]
  },
  {
   "cell_type": "code",
   "execution_count": 5,
   "id": "f17bb15e-d202-4b3f-9897-1dbf23ad459f",
   "metadata": {},
   "outputs": [
    {
     "data": {
      "text/plain": [
       "('D', 'T', 'R')"
      ]
     },
     "execution_count": 5,
     "metadata": {},
     "output_type": "execute_result"
    }
   ],
   "source": [
    "tuple(map(str,'DTR'))"
   ]
  },
  {
   "cell_type": "code",
   "execution_count": 36,
   "id": "c7ccf70a-2cb4-43ee-8291-4ebef7ef336f",
   "metadata": {},
   "outputs": [
    {
     "data": {
      "text/plain": [
       "362880"
      ]
     },
     "execution_count": 36,
     "metadata": {},
     "output_type": "execute_result"
    }
   ],
   "source": [
    "import math\n",
    "s1='123'\n",
    "s2='4567'\n",
    "s3='89'\n",
    "s4=s1+s2+s3\n",
    "\n",
    "num=list(map(int,(s4)))\n",
    "a=math.prod(num)\n",
    "a"
   ]
  },
  {
   "cell_type": "code",
   "execution_count": 32,
   "id": "356a2cdf-e2fc-400e-94a9-45405d69cff8",
   "metadata": {},
   "outputs": [
    {
     "name": "stdout",
     "output_type": "stream",
     "text": [
      "120\n"
     ]
    }
   ],
   "source": [
    "import math\n",
    "numbers = [1, 2, 3, 4, 5]\n",
    "product = math.prod(numbers)\n",
    "print(product)  # Output: 120"
   ]
  },
  {
   "cell_type": "markdown",
   "id": "c3e7dcb2-6756-4cc5-a1fc-70324b0aea57",
   "metadata": {},
   "source": [
    "## `lambda` Function:\n",
    "\n",
    "- A `lambda` function in Python is a small, `anonymous function` that is defined using the `lambda keyword` in a `single line of code`.\n",
    "\n",
    "- It is often `used for short, simple operations` where defining a full function using a normal function definition would be overkill.\n",
    "\n",
    "- A lambda function `can take any number of arguments` but `can only have a single expression (output)`.\n",
    "\n",
    "- A lambda function also `accepts the positional arguments`, `keyword arguments` and `variable length arguments (*args and **kwargs)` just like a normal function would do."
   ]
  },
  {
   "cell_type": "markdown",
   "id": "31d6d0f9-8973-4061-aa7a-52e9969706bf",
   "metadata": {},
   "source": [
    " ### When to Use lambda Functions:\n",
    "\n",
    "    - Small, one-time operations: When you need to define a simple function for a short task (e.g., within map(), filter(), or sorted()).\n",
    "\n",
    "    - Higher-order functions: When passing a function as an argument, and it is only used once.\n",
    "\n",
    "    - Avoid using lambda for complex functions: If your function involves multiple steps or logic, it's better to use a regular function for better readability and debugging.\n",
    "\n",
    "- ### Limitations of lambda Functions:\n",
    "\n",
    "    - Single Expression: Lambda functions can only contain a single expression, so they are not suited for complex logic.\n",
    "\n",
    "    - Less Readable: Overusing lambda functions in more complex code can make it harder to read and understand, especially for less experienced developers."
   ]
  },
  {
   "cell_type": "code",
   "execution_count": null,
   "id": "53c88aaa-69ee-4740-90b3-40bd4533e233",
   "metadata": {},
   "outputs": [],
   "source": [
    "# Sorting using the 2nd positional element in the nested list\n",
    "\n",
    " \n",
    "\n",
    "sort_2nd_lambda = lambda x : x[1]\n",
    "\n",
    " \n",
    "\n",
    "nested_list_2 = [[1, -2], [-1, 22], [3, -4], [-3, 4]]\n",
    "\n",
    " \n",
    "\n",
    "nested_list_2.sort(key = sort_2nd_lambda, reverse = True)\n",
    "\n",
    " \n",
    "\n",
    "nested_list_2\n",
    "\n",
    "\n",
    "\n",
    "\n"
   ]
  },
  {
   "cell_type": "markdown",
   "id": "447ccd77-0355-46c0-90ca-ca68864fd4bc",
   "metadata": {},
   "source": [
    "# Filter \n",
    "\n",
    " \n",
    "\n",
    "### `filter()` Function:\n",
    "\n",
    "    - The filter() function filters elements from an iterable based on a given condition (a function that returns True or False for each item).\n",
    "\n",
    "    - It returns an iterator containing only those items that meet the condition (i.e., where the function returns True).\n",
    "\n",
    "- ### Syntax: `filter(function, iterable)`\n",
    "\n",
    "    - function: A function that returns a boolean value (True or False).\n",
    "\n",
    "    - iterable: A collection of items (such as a list, tuple, etc.) to be filtered.\n",
    "\n",
    "- ### How filter() Works:\n",
    "\n",
    "    - `filter()` applies the function to each element of the iterable.\n",
    "\n",
    "    - If the function returns True for an element, that element is included in the result. Otherwise, it is excluded.\n",
    "\n",
    "    - The result is an iterator, which can be converted into a list, tuple, etc."
   ]
  },
  {
   "cell_type": "markdown",
   "id": "312716c7-b055-4064-865e-168ea8f2683a",
   "metadata": {},
   "source": [
    "# map"
   ]
  },
  {
   "cell_type": "markdown",
   "id": "8b6037dc-b42d-487b-ba13-0307b2d3aeab",
   "metadata": {},
   "source": [
    "```Syntax```:\n",
    "\n",
    "map(function, iterable) \n",
    "\n",
    "```function```: This is the function that will be applied to each item of the iterable. It can be a regular function, a lambda function, or any callable.\n",
    "```iterable```: One or more iterables (like lists, tuples, or sets) whose elements will be passed to the function.\n",
    "If multiple iterables are passed, the function must take as many arguments as there are iterables. It will apply the function to the items from the iterables in parallel (element by element).\n",
    "\n",
    "```How map() Works```:\n",
    "The map() function applies the function to each item in the provided iterable(s).\n",
    "The result is a map object, which is an iterator (i.e., it doesn't contain the result immediately but computes it when needed).\n",
    "To get the result as a list or another collection, you often need to convert the map object using functions like list(), tuple(), etc."
   ]
  },
  {
   "cell_type": "code",
   "execution_count": null,
   "id": "b8e4aae6-05c9-4139-98f4-59fe47646efd",
   "metadata": {},
   "outputs": [],
   "source": [
    "numbers = [1, 2, 3, 4, 5]\n",
    "\n",
    "# Using list comprehension\n",
    "squared_numbers = [x * x for x in numbers]\n",
    "\n",
    "# Using map()\n",
    "squared_numbers = map(lambda x: x * x, numbers)\n"
   ]
  },
  {
   "cell_type": "code",
   "execution_count": 37,
   "id": "f96c77c2-d6bc-4da4-a4d2-4523ead319f6",
   "metadata": {},
   "outputs": [
    {
     "name": "stdout",
     "output_type": "stream",
     "text": [
      "[5, 7, 9]\n"
     ]
    }
   ],
   "source": [
    "def add(x, y):\n",
    "    return x + y\n",
    "\n",
    "numbers1 = [1, 2, 3]\n",
    "numbers2 = [4, 5, 6]\n",
    "result = map(add, numbers1, numbers2)\n",
    "\n",
    "print(list(result))  # Output: [5, 7, 9]\n"
   ]
  },
  {
   "cell_type": "markdown",
   "id": "1a80d128-150b-4165-b039-ab822ebc496b",
   "metadata": {},
   "source": [
    "### `Reduce()` function:\n",
    "\n",
    "- reduce() function from functools module is used to apply a function repeatedly to accumulate a single data value. A summation is a good example of this process. The first value is added to the second value, then that sum is added to third value, and so on, until the sum of all the values is produced.\n",
    "\n",
    " \n",
    "\n",
    "### Parameters:\n",
    "\n",
    "- `function`: A callable that takes `two arguments`. It defines how the reduction is performed.\n",
    "\n",
    "- `iterable`: The data structure to iterate through (or reduce from), like a list or tuple.\n",
    "\n",
    "- `initial`: initializer - optional. A starting value for the reduction. If provided, it's used as the first argument to the function and other values are iterated from an iterable passed to the function."
   ]
  },
  {
   "cell_type": "code",
   "execution_count": 38,
   "id": "69eafda5-3191-4aca-a2c8-b7a6de896989",
   "metadata": {},
   "outputs": [
    {
     "data": {
      "text/plain": [
       "28"
      ]
     },
     "execution_count": 38,
     "metadata": {},
     "output_type": "execute_result"
    }
   ],
   "source": [
    "from functools import reduce\n",
    "\n",
    " \n",
    "\n",
    "tup_1 = (1, 2, 3, 4, 5, 6, 7)\n",
    "\n",
    " \n",
    "\n",
    "lambda_rdc = lambda x, y : x + y\n",
    "\n",
    " \n",
    "\n",
    "reduce(lambda_rdc, tup_1)"
   ]
  },
  {
   "cell_type": "code",
   "execution_count": 39,
   "id": "09bc7bf2-2817-4b79-a90e-1d48840efe4f",
   "metadata": {},
   "outputs": [
    {
     "data": {
      "text/plain": [
       "38"
      ]
     },
     "execution_count": 39,
     "metadata": {},
     "output_type": "execute_result"
    }
   ],
   "source": [
    "# reduce function with initial value\n",
    "\n",
    " \n",
    "\n",
    "reduce(lambda_rdc, tup_1, 10)"
   ]
  },
  {
   "cell_type": "code",
   "execution_count": 40,
   "id": "075caae9-4028-444f-80d4-6e7d85fea1b1",
   "metadata": {},
   "outputs": [
    {
     "name": "stdout",
     "output_type": "stream",
     "text": [
      "Fahrenheit temp : [32.0, 50.0, 68.0, 86.0, 104.0]\n"
     ]
    }
   ],
   "source": [
    "# Conver a list of temp's which are in celsius to farenheit\n",
    "\n",
    " \n",
    "\n",
    "celsius = [0, 10, 20, 30, 40]\n",
    "\n",
    " \n",
    "\n",
    "fahrenheit = list(map(lambda x: (x * 9/5) + 32, celsius))\n",
    "\n",
    " \n",
    "\n",
    "print(\"Fahrenheit temp :\", fahrenheit)"
   ]
  },
  {
   "cell_type": "raw",
   "id": "6668d635-d955-44cf-906a-d0ab6220356d",
   "metadata": {},
   "source": [
    "Data Manipulation:\n",
    "\n",
    "len(): Get the length of an object (e.g., list, tuple, string).\n",
    "type(): Determine the type of an object.\n",
    "id(): Get the memory address of an object.\n",
    "sorted(): Return a sorted version of an iterable.\n",
    "zip(): Combine two or more iterables into tuples.\n",
    "enumerate(): Iterate through a sequence while keeping track of the index.\n",
    "min() / max(): Find the smallest or largest item in an iterable.\n",
    "map(): Apply a function to all items in an iterable.\n",
    "filter(): Filter elements of an iterable based on a function.\n",
    "reversed(): Reverse the order of items in an iterable.\n",
    "Mathematical:\n",
    "\n",
    "abs(): Return the absolute value of a number.\n",
    "round(): Round a number to a specified number of decimal places.\n",
    "pow(): Compute the power of a number.\n",
    "divmod(): Return the quotient and remainder of a division.\n",
    "all() / any(): Check if all or any elements in an iterable are True.\n",
    "range(): Generate a sequence of numbers.\n",
    "sum(): Calculate the sum of an iterable.\n",
    "mean(): (available in Python 3.8+): Compute the average value.\n",
    "median(): Find the median value of a dataset.\n",
    "set(): Create a set of unique elements.\n",
    "Strings:\n",
    "\n",
    "str(): Convert an object to a string.\n",
    "format(): Format strings.\n",
    "split() / join(): Split a string or join elements into a string.\n",
    "replace(): Replace parts of a string.\n",
    "lower() / upper(): Convert strings to lowercase or uppercase.\n",
    "strip(): Remove whitespace from the beginning and end of a string.\n",
    "Input or Output:\n",
    "\n",
    "open(): Open files for reading or writing.\n",
    "print(): Display output.\n",
    "input(): Accept user input.\n",
    "read() / write(): Read from or write to a file.\n",
    "Data Structure Manipulation:\n",
    "\n",
    "dict(): Create a dictionary.\n",
    "list() / tuple() / set(): Convert an object to a list, tuple, or set.\n",
    "sorted(): Return a sorted list of items.\n",
    "getattr() / setattr(): Get or set attributes dynamically.\n",
    "Functional Programming:\n",
    "\n",
    "map(): Apply a function to all elements in an iterable.\n",
    "filter(): Filter elements based on a function.\n",
    "reduce(): Perform a rolling computation (from functools module).\n",
    "lambda: Create anonymous functions for short tasks.\n",
    "Some Special Functions:\n",
    "\n",
    "eval(): Parse and evaluate an expression as Python code.\n",
    "exec(): Execute dynamically created Python code.\n",
    "globals() / locals(): Access global or local symbol tables.\n",
    "Utility and Debugging:\n",
    "\n",
    "help(): Display documentation for a function or module.\n",
    "dir(): List attributes of an object or module.\n",
    "isinstance(): Check the type of an object.\n",
    "id(): Get the memory address of an object."
   ]
  },
  {
   "cell_type": "markdown",
   "id": "51e9cea7-928d-4082-ada2-72795c5d17fc",
   "metadata": {},
   "source": [
    "- to define a fuction 'def' keyword is used the syntax will be 'def function_name():'\n",
    "- parameters are the inputs of the function,we can have muti input parameters and they can be predefined and *args and **kwargs is used too\n",
    "- write what you want to do in the fuction using parameters it is called as body of the function\n",
    "- add a doc string on how it works\n",
    "- you can use the fuction_name to call the function"
   ]
  },
  {
   "cell_type": "code",
   "execution_count": 43,
   "id": "1b617ed0-ed65-4eae-b394-e38f77f36000",
   "metadata": {},
   "outputs": [
    {
     "data": {
      "text/plain": [
       "120"
      ]
     },
     "execution_count": 43,
     "metadata": {},
     "output_type": "execute_result"
    }
   ],
   "source": [
    "import math\n",
    "# defining fuction\n",
    "def prod_name(*n):\n",
    "    # fuction condition\n",
    "    return math.prod(n) \n",
    "#function calling\n",
    "prod_name(1,2,3,4,5)"
   ]
  },
  {
   "cell_type": "code",
   "execution_count": 45,
   "id": "f685ae10-7904-4553-a604-52847526ce7d",
   "metadata": {},
   "outputs": [
    {
     "data": {
      "text/plain": [
       "{'sum of three inputs': 6,\n",
       " 'square 4th input': 16,\n",
       " 'sum of 3 elemrnts divided by 5th': 1}"
      ]
     },
     "execution_count": 45,
     "metadata": {},
     "output_type": "execute_result"
    }
   ],
   "source": [
    "def l1(a,b,c,d,e):\n",
    "    return {'sum of three inputs':a+b+c,'square 4th input':d**2,'sum of 3 elemrnts divided by 5th':(a+b+c)//e}\n",
    "l1(1,2,3,4,5)"
   ]
  },
  {
   "cell_type": "code",
   "execution_count": 65,
   "id": "7a6c6825-e368-4256-841b-e6a7025612d2",
   "metadata": {},
   "outputs": [
    {
     "data": {
      "text/plain": [
       "'your pet name is zoro and it is a animal'"
      ]
     },
     "execution_count": 65,
     "metadata": {},
     "output_type": "execute_result"
    }
   ],
   "source": [
    "def describe_pet(name,typ='animal'):\n",
    "    return(f'your pet name is {name} and it is a {typ}')\n",
    "describe_pet('zoro')\n"
   ]
  },
  {
   "cell_type": "code",
   "execution_count": 66,
   "id": "16b309c8-ea10-4754-9928-dd3986afc0ec",
   "metadata": {},
   "outputs": [
    {
     "data": {
      "text/plain": [
       "'your pet name is tommy and it is a lab'"
      ]
     },
     "execution_count": 66,
     "metadata": {},
     "output_type": "execute_result"
    }
   ],
   "source": [
    "describe_pet('tommy','lab')"
   ]
  },
  {
   "cell_type": "code",
   "execution_count": 60,
   "id": "92e54dbb-0e1d-4fba-a089-9aa79799c1ac",
   "metadata": {},
   "outputs": [
    {
     "data": {
      "text/plain": [
       "'name of the most populer person on bathrooms nitish at the age of 50 his height was 8.8 and he is a very good person'"
      ]
     },
     "execution_count": 60,
     "metadata": {},
     "output_type": "execute_result"
    }
   ],
   "source": [
    "def per_info(name,age,height):\n",
    "    return f'name of the most populer person on bathrooms {name} at the age of {age} his height was {height} and he is a very good person'\n",
    "per_info('nitish',50,8.8)"
   ]
  },
  {
   "cell_type": "code",
   "execution_count": 61,
   "id": "ebff17ec-c656-4b5f-b1c0-821beb8a3441",
   "metadata": {},
   "outputs": [
    {
     "data": {
      "text/plain": [
       "'name of the most populer person on bathrooms lawliet at the age of 45 his height was 6.6 and he is a very good person'"
      ]
     },
     "execution_count": 61,
     "metadata": {},
     "output_type": "execute_result"
    }
   ],
   "source": [
    "per_info('lawliet',45,6.6)"
   ]
  },
  {
   "cell_type": "markdown",
   "id": "f6737d47-c835-4349-b869-5ba0cebfef66",
   "metadata": {},
   "source": [
    "- first x is defined as 10\n",
    "- defined a fuction as modify in the body x is redefined as 5 and printed x\n",
    "- calling the fuction modify which will give an out of x that is 5\n",
    "- print(x) is printing the first defined x that is 10"
   ]
  }
 ],
 "metadata": {
  "kernelspec": {
   "display_name": "Python 3 (ipykernel)",
   "language": "python",
   "name": "python3"
  },
  "language_info": {
   "codemirror_mode": {
    "name": "ipython",
    "version": 3
   },
   "file_extension": ".py",
   "mimetype": "text/x-python",
   "name": "python",
   "nbconvert_exporter": "python",
   "pygments_lexer": "ipython3",
   "version": "3.12.7"
  }
 },
 "nbformat": 4,
 "nbformat_minor": 5
}
