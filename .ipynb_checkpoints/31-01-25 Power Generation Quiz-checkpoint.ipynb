{
 "cells": [
  {
   "cell_type": "code",
   "execution_count": 1,
   "id": "b142b76e-7b11-4be8-ba5e-987dbe371cda",
   "metadata": {},
   "outputs": [
    {
     "data": {
      "text/html": [
       "<div>\n",
       "<style scoped>\n",
       "    .dataframe tbody tr th:only-of-type {\n",
       "        vertical-align: middle;\n",
       "    }\n",
       "\n",
       "    .dataframe tbody tr th {\n",
       "        vertical-align: top;\n",
       "    }\n",
       "\n",
       "    .dataframe thead th {\n",
       "        text-align: right;\n",
       "    }\n",
       "</style>\n",
       "<table border=\"1\" class=\"dataframe\">\n",
       "  <thead>\n",
       "    <tr style=\"text-align: right;\">\n",
       "      <th></th>\n",
       "      <th>Dates</th>\n",
       "      <th>Power Station</th>\n",
       "      <th>Monitored Cap.(MW)</th>\n",
       "      <th>Total Cap. Under Maintenace (MW)</th>\n",
       "      <th>Planned Maintanence (MW)</th>\n",
       "      <th>Forced Maintanence(MW)</th>\n",
       "      <th>Other Reasons (MW)</th>\n",
       "      <th>Programme or Expected(MU)</th>\n",
       "      <th>Actual(MU)</th>\n",
       "      <th>Excess(+) / Shortfall (-)</th>\n",
       "      <th>Deviation</th>\n",
       "    </tr>\n",
       "  </thead>\n",
       "  <tbody>\n",
       "    <tr>\n",
       "      <th>0</th>\n",
       "      <td>2017-09-01</td>\n",
       "      <td>Delhi</td>\n",
       "      <td>2235.4</td>\n",
       "      <td>135.00</td>\n",
       "      <td>0.00</td>\n",
       "      <td>135.0</td>\n",
       "      <td>0</td>\n",
       "      <td>13</td>\n",
       "      <td>18</td>\n",
       "      <td>5.00</td>\n",
       "      <td>0.0</td>\n",
       "    </tr>\n",
       "    <tr>\n",
       "      <th>1</th>\n",
       "      <td>2017-09-01</td>\n",
       "      <td>Haryana</td>\n",
       "      <td>2720.0</td>\n",
       "      <td>2470.00</td>\n",
       "      <td>0.00</td>\n",
       "      <td>2470.0</td>\n",
       "      <td>0</td>\n",
       "      <td>28</td>\n",
       "      <td>7</td>\n",
       "      <td>-21.80</td>\n",
       "      <td>0.0</td>\n",
       "    </tr>\n",
       "    <tr>\n",
       "      <th>2</th>\n",
       "      <td>2017-09-01</td>\n",
       "      <td>Himachal Pradesh</td>\n",
       "      <td>3378.0</td>\n",
       "      <td>379.00</td>\n",
       "      <td>0.00</td>\n",
       "      <td>231.0</td>\n",
       "      <td>0</td>\n",
       "      <td>40</td>\n",
       "      <td>46</td>\n",
       "      <td>5.63</td>\n",
       "      <td>0.0</td>\n",
       "    </tr>\n",
       "    <tr>\n",
       "      <th>3</th>\n",
       "      <td>2017-09-01</td>\n",
       "      <td>Jammu and Kashmir</td>\n",
       "      <td>1285.0</td>\n",
       "      <td>150.00</td>\n",
       "      <td>0.00</td>\n",
       "      <td>0.0</td>\n",
       "      <td>0</td>\n",
       "      <td>14</td>\n",
       "      <td>23</td>\n",
       "      <td>9.43</td>\n",
       "      <td>0.0</td>\n",
       "    </tr>\n",
       "    <tr>\n",
       "      <th>4</th>\n",
       "      <td>2017-09-01</td>\n",
       "      <td>Punjab</td>\n",
       "      <td>3826.3</td>\n",
       "      <td>2697.65</td>\n",
       "      <td>77.65</td>\n",
       "      <td>2620.0</td>\n",
       "      <td>0</td>\n",
       "      <td>39</td>\n",
       "      <td>17</td>\n",
       "      <td>-21.69</td>\n",
       "      <td>0.0</td>\n",
       "    </tr>\n",
       "    <tr>\n",
       "      <th>...</th>\n",
       "      <td>...</td>\n",
       "      <td>...</td>\n",
       "      <td>...</td>\n",
       "      <td>...</td>\n",
       "      <td>...</td>\n",
       "      <td>...</td>\n",
       "      <td>...</td>\n",
       "      <td>...</td>\n",
       "      <td>...</td>\n",
       "      <td>...</td>\n",
       "      <td>...</td>\n",
       "    </tr>\n",
       "    <tr>\n",
       "      <th>345268</th>\n",
       "      <td>2022-04-13</td>\n",
       "      <td>Tripura</td>\n",
       "      <td>137.0</td>\n",
       "      <td>32.00</td>\n",
       "      <td>0.00</td>\n",
       "      <td>0.0</td>\n",
       "      <td>32</td>\n",
       "      <td>0</td>\n",
       "      <td>1</td>\n",
       "      <td>0.29</td>\n",
       "      <td>0.0</td>\n",
       "    </tr>\n",
       "    <tr>\n",
       "      <th>345269</th>\n",
       "      <td>2022-04-13</td>\n",
       "      <td>NEEPCO.</td>\n",
       "      <td>2027.0</td>\n",
       "      <td>963.50</td>\n",
       "      <td>313.50</td>\n",
       "      <td>650.0</td>\n",
       "      <td>0</td>\n",
       "      <td>0</td>\n",
       "      <td>12</td>\n",
       "      <td>-1.59</td>\n",
       "      <td>0.0</td>\n",
       "    </tr>\n",
       "    <tr>\n",
       "      <th>345270</th>\n",
       "      <td>2022-04-13</td>\n",
       "      <td>NHPC</td>\n",
       "      <td>105.0</td>\n",
       "      <td>35.00</td>\n",
       "      <td>0.00</td>\n",
       "      <td>35.0</td>\n",
       "      <td>0</td>\n",
       "      <td>0</td>\n",
       "      <td>0</td>\n",
       "      <td>-0.72</td>\n",
       "      <td>0.0</td>\n",
       "    </tr>\n",
       "    <tr>\n",
       "      <th>345271</th>\n",
       "      <td>2022-04-13</td>\n",
       "      <td>NTPC Ltd.</td>\n",
       "      <td>750.0</td>\n",
       "      <td>250.00</td>\n",
       "      <td>0.00</td>\n",
       "      <td>250.0</td>\n",
       "      <td>0</td>\n",
       "      <td>0</td>\n",
       "      <td>11</td>\n",
       "      <td>4.45</td>\n",
       "      <td>0.0</td>\n",
       "    </tr>\n",
       "    <tr>\n",
       "      <th>345272</th>\n",
       "      <td>2022-04-13</td>\n",
       "      <td>ONGC</td>\n",
       "      <td>726.6</td>\n",
       "      <td>0.00</td>\n",
       "      <td>0.00</td>\n",
       "      <td>0.0</td>\n",
       "      <td>0</td>\n",
       "      <td>0</td>\n",
       "      <td>13</td>\n",
       "      <td>1.80</td>\n",
       "      <td>0.0</td>\n",
       "    </tr>\n",
       "  </tbody>\n",
       "</table>\n",
       "<p>345273 rows × 11 columns</p>\n",
       "</div>"
      ],
      "text/plain": [
       "             Dates      Power Station  Monitored Cap.(MW)  \\\n",
       "0       2017-09-01              Delhi              2235.4   \n",
       "1       2017-09-01            Haryana              2720.0   \n",
       "2       2017-09-01   Himachal Pradesh              3378.0   \n",
       "3       2017-09-01  Jammu and Kashmir              1285.0   \n",
       "4       2017-09-01             Punjab              3826.3   \n",
       "...            ...                ...                 ...   \n",
       "345268  2022-04-13            Tripura               137.0   \n",
       "345269  2022-04-13            NEEPCO.              2027.0   \n",
       "345270  2022-04-13               NHPC               105.0   \n",
       "345271  2022-04-13          NTPC Ltd.               750.0   \n",
       "345272  2022-04-13               ONGC               726.6   \n",
       "\n",
       "        Total Cap. Under Maintenace (MW)  Planned Maintanence (MW)  \\\n",
       "0                                 135.00                      0.00   \n",
       "1                                2470.00                      0.00   \n",
       "2                                 379.00                      0.00   \n",
       "3                                 150.00                      0.00   \n",
       "4                                2697.65                     77.65   \n",
       "...                                  ...                       ...   \n",
       "345268                             32.00                      0.00   \n",
       "345269                            963.50                    313.50   \n",
       "345270                             35.00                      0.00   \n",
       "345271                            250.00                      0.00   \n",
       "345272                              0.00                      0.00   \n",
       "\n",
       "        Forced Maintanence(MW)  Other Reasons (MW)  Programme or Expected(MU)  \\\n",
       "0                        135.0                   0                         13   \n",
       "1                       2470.0                   0                         28   \n",
       "2                        231.0                   0                         40   \n",
       "3                          0.0                   0                         14   \n",
       "4                       2620.0                   0                         39   \n",
       "...                        ...                 ...                        ...   \n",
       "345268                     0.0                  32                          0   \n",
       "345269                   650.0                   0                          0   \n",
       "345270                    35.0                   0                          0   \n",
       "345271                   250.0                   0                          0   \n",
       "345272                     0.0                   0                          0   \n",
       "\n",
       "        Actual(MU)  Excess(+) / Shortfall (-)  Deviation  \n",
       "0               18                       5.00        0.0  \n",
       "1                7                     -21.80        0.0  \n",
       "2               46                       5.63        0.0  \n",
       "3               23                       9.43        0.0  \n",
       "4               17                     -21.69        0.0  \n",
       "...            ...                        ...        ...  \n",
       "345268           1                       0.29        0.0  \n",
       "345269          12                      -1.59        0.0  \n",
       "345270           0                      -0.72        0.0  \n",
       "345271          11                       4.45        0.0  \n",
       "345272          13                       1.80        0.0  \n",
       "\n",
       "[345273 rows x 11 columns]"
      ]
     },
     "execution_count": 1,
     "metadata": {},
     "output_type": "execute_result"
    }
   ],
   "source": [
    "import pandas as pd\n",
    "import numpy as np\n",
    "df=pd.read_csv(r\"C:\\Users\\dtrri\\bot\\PowerGeneration.csv\")\n",
    "df"
   ]
  },
  {
   "cell_type": "markdown",
   "id": "27946518-9bb7-449a-ac42-fce976d46403",
   "metadata": {},
   "source": [
    "## 1.Which Power Station had the highest total 'Deviation' in 2020?"
   ]
  },
  {
   "cell_type": "code",
   "execution_count": 2,
   "id": "b3229a5a-0c3a-4d4b-9b64-708b0234062c",
   "metadata": {},
   "outputs": [
    {
     "name": "stdout",
     "output_type": "stream",
     "text": [
      "<class 'pandas.core.frame.DataFrame'>\n",
      "RangeIndex: 345273 entries, 0 to 345272\n",
      "Data columns (total 11 columns):\n",
      " #   Column                            Non-Null Count   Dtype  \n",
      "---  ------                            --------------   -----  \n",
      " 0   Dates                             345273 non-null  object \n",
      " 1   Power Station                     345273 non-null  object \n",
      " 2   Monitored Cap.(MW)                345273 non-null  float64\n",
      " 3   Total Cap. Under Maintenace (MW)  345273 non-null  float64\n",
      " 4   Planned Maintanence (MW)          345273 non-null  float64\n",
      " 5   Forced Maintanence(MW)            345273 non-null  float64\n",
      " 6   Other Reasons (MW)                345273 non-null  int64  \n",
      " 7   Programme or Expected(MU)         345273 non-null  int64  \n",
      " 8   Actual(MU)                        345273 non-null  int64  \n",
      " 9   Excess(+) / Shortfall (-)         345273 non-null  float64\n",
      " 10  Deviation                         345273 non-null  float64\n",
      "dtypes: float64(6), int64(3), object(2)\n",
      "memory usage: 29.0+ MB\n"
     ]
    }
   ],
   "source": [
    "df.info()"
   ]
  },
  {
   "cell_type": "code",
   "execution_count": 3,
   "id": "1b2d200b-6490-4c4c-9575-dabd182619d0",
   "metadata": {},
   "outputs": [
    {
     "data": {
      "text/plain": [
       "Index(['Dates', 'Power Station', 'Monitored Cap.(MW)',\n",
       "       'Total Cap. Under Maintenace (MW)', 'Planned Maintanence (MW)',\n",
       "       'Forced Maintanence(MW)', 'Other Reasons (MW)',\n",
       "       'Programme or Expected(MU)', 'Actual(MU)', 'Excess(+) / Shortfall (-)',\n",
       "       'Deviation'],\n",
       "      dtype='object')"
      ]
     },
     "execution_count": 3,
     "metadata": {},
     "output_type": "execute_result"
    }
   ],
   "source": [
    "df.columns"
   ]
  },
  {
   "cell_type": "code",
   "execution_count": 19,
   "id": "3f9fd740-8a90-41f1-9aaf-1be5d857fbf8",
   "metadata": {},
   "outputs": [
    {
     "data": {
      "text/plain": [
       "182"
      ]
     },
     "execution_count": 19,
     "metadata": {},
     "output_type": "execute_result"
    }
   ],
   "source": [
    "df['Power Station'].nunique()"
   ]
  },
  {
   "cell_type": "code",
   "execution_count": 7,
   "id": "3b494253-fe48-49ee-bc07-6566d0bd0782",
   "metadata": {},
   "outputs": [],
   "source": [
    "df['Dates']=(pd.to_datetime(df['Dates']))"
   ]
  },
  {
   "cell_type": "code",
   "execution_count": 18,
   "id": "3374c2ff-72cc-4290-af33-21c8ab04f871",
   "metadata": {},
   "outputs": [
    {
     "name": "stdout",
     "output_type": "stream",
     "text": [
      "<class 'pandas.core.frame.DataFrame'>\n",
      "RangeIndex: 345273 entries, 0 to 345272\n",
      "Data columns (total 11 columns):\n",
      " #   Column                            Non-Null Count   Dtype         \n",
      "---  ------                            --------------   -----         \n",
      " 0   Dates                             345273 non-null  datetime64[ns]\n",
      " 1   Power Station                     345273 non-null  object        \n",
      " 2   Monitored Cap.(MW)                345273 non-null  float64       \n",
      " 3   Total Cap. Under Maintenace (MW)  345273 non-null  float64       \n",
      " 4   Planned Maintanence (MW)          345273 non-null  float64       \n",
      " 5   Forced Maintanence(MW)            345273 non-null  float64       \n",
      " 6   Other Reasons (MW)                345273 non-null  int64         \n",
      " 7   Programme or Expected(MU)         345273 non-null  int64         \n",
      " 8   Actual(MU)                        345273 non-null  int64         \n",
      " 9   Excess(+) / Shortfall (-)         345273 non-null  float64       \n",
      " 10  Deviation                         345273 non-null  float64       \n",
      "dtypes: datetime64[ns](1), float64(6), int64(3), object(1)\n",
      "memory usage: 29.0+ MB\n"
     ]
    }
   ],
   "source": [
    "df.info()"
   ]
  },
  {
   "cell_type": "code",
   "execution_count": 17,
   "id": "87fbcce9-a26d-4b30-aca5-69c464c6daeb",
   "metadata": {},
   "outputs": [
    {
     "data": {
      "text/html": [
       "<div>\n",
       "<style scoped>\n",
       "    .dataframe tbody tr th:only-of-type {\n",
       "        vertical-align: middle;\n",
       "    }\n",
       "\n",
       "    .dataframe tbody tr th {\n",
       "        vertical-align: top;\n",
       "    }\n",
       "\n",
       "    .dataframe thead th {\n",
       "        text-align: right;\n",
       "    }\n",
       "</style>\n",
       "<table border=\"1\" class=\"dataframe\">\n",
       "  <thead>\n",
       "    <tr style=\"text-align: right;\">\n",
       "      <th></th>\n",
       "      <th>Dates</th>\n",
       "      <th>Power Station</th>\n",
       "      <th>Monitored Cap.(MW)</th>\n",
       "      <th>Total Cap. Under Maintenace (MW)</th>\n",
       "      <th>Planned Maintanence (MW)</th>\n",
       "      <th>Forced Maintanence(MW)</th>\n",
       "      <th>Other Reasons (MW)</th>\n",
       "      <th>Programme or Expected(MU)</th>\n",
       "      <th>Actual(MU)</th>\n",
       "      <th>Excess(+) / Shortfall (-)</th>\n",
       "      <th>Deviation</th>\n",
       "    </tr>\n",
       "  </thead>\n",
       "  <tbody>\n",
       "    <tr>\n",
       "      <th>147566</th>\n",
       "      <td>2020-01-01</td>\n",
       "      <td>Delhi</td>\n",
       "      <td>2100.4</td>\n",
       "      <td>784.6</td>\n",
       "      <td>0.0</td>\n",
       "      <td>0.0</td>\n",
       "      <td>0</td>\n",
       "      <td>17</td>\n",
       "      <td>11</td>\n",
       "      <td>-5.99</td>\n",
       "      <td>0.0</td>\n",
       "    </tr>\n",
       "    <tr>\n",
       "      <th>147567</th>\n",
       "      <td>2020-01-01</td>\n",
       "      <td>Haryana</td>\n",
       "      <td>2720.0</td>\n",
       "      <td>1320.0</td>\n",
       "      <td>0.0</td>\n",
       "      <td>1320.0</td>\n",
       "      <td>0</td>\n",
       "      <td>32</td>\n",
       "      <td>26</td>\n",
       "      <td>-5.25</td>\n",
       "      <td>0.0</td>\n",
       "    </tr>\n",
       "    <tr>\n",
       "      <th>147568</th>\n",
       "      <td>2020-01-01</td>\n",
       "      <td>Himachal Pradesh</td>\n",
       "      <td>777.0</td>\n",
       "      <td>115.0</td>\n",
       "      <td>0.0</td>\n",
       "      <td>0.0</td>\n",
       "      <td>0</td>\n",
       "      <td>3</td>\n",
       "      <td>3</td>\n",
       "      <td>-0.46</td>\n",
       "      <td>0.0</td>\n",
       "    </tr>\n",
       "    <tr>\n",
       "      <th>147569</th>\n",
       "      <td>2020-01-01</td>\n",
       "      <td>Jammu and Kashmir</td>\n",
       "      <td>1285.0</td>\n",
       "      <td>360.0</td>\n",
       "      <td>0.0</td>\n",
       "      <td>0.0</td>\n",
       "      <td>0</td>\n",
       "      <td>4</td>\n",
       "      <td>3</td>\n",
       "      <td>-0.87</td>\n",
       "      <td>0.0</td>\n",
       "    </tr>\n",
       "    <tr>\n",
       "      <th>147570</th>\n",
       "      <td>2020-01-01</td>\n",
       "      <td>Punjab</td>\n",
       "      <td>2701.0</td>\n",
       "      <td>1583.5</td>\n",
       "      <td>243.5</td>\n",
       "      <td>1340.0</td>\n",
       "      <td>0</td>\n",
       "      <td>24</td>\n",
       "      <td>17</td>\n",
       "      <td>-6.86</td>\n",
       "      <td>0.0</td>\n",
       "    </tr>\n",
       "    <tr>\n",
       "      <th>...</th>\n",
       "      <td>...</td>\n",
       "      <td>...</td>\n",
       "      <td>...</td>\n",
       "      <td>...</td>\n",
       "      <td>...</td>\n",
       "      <td>...</td>\n",
       "      <td>...</td>\n",
       "      <td>...</td>\n",
       "      <td>...</td>\n",
       "      <td>...</td>\n",
       "      <td>...</td>\n",
       "    </tr>\n",
       "    <tr>\n",
       "      <th>219455</th>\n",
       "      <td>2020-03-08</td>\n",
       "      <td>Tripura</td>\n",
       "      <td>169.5</td>\n",
       "      <td>69.0</td>\n",
       "      <td>0.0</td>\n",
       "      <td>21.0</td>\n",
       "      <td>0</td>\n",
       "      <td>1</td>\n",
       "      <td>1</td>\n",
       "      <td>0.22</td>\n",
       "      <td>0.0</td>\n",
       "    </tr>\n",
       "    <tr>\n",
       "      <th>219456</th>\n",
       "      <td>2020-03-08</td>\n",
       "      <td>NEEPCO.</td>\n",
       "      <td>1727.0</td>\n",
       "      <td>828.5</td>\n",
       "      <td>328.5</td>\n",
       "      <td>500.0</td>\n",
       "      <td>0</td>\n",
       "      <td>15</td>\n",
       "      <td>12</td>\n",
       "      <td>-2.74</td>\n",
       "      <td>0.0</td>\n",
       "    </tr>\n",
       "    <tr>\n",
       "      <th>219457</th>\n",
       "      <td>2020-03-08</td>\n",
       "      <td>NHPC</td>\n",
       "      <td>105.0</td>\n",
       "      <td>0.0</td>\n",
       "      <td>0.0</td>\n",
       "      <td>0.0</td>\n",
       "      <td>0</td>\n",
       "      <td>0</td>\n",
       "      <td>0</td>\n",
       "      <td>-0.07</td>\n",
       "      <td>0.0</td>\n",
       "    </tr>\n",
       "    <tr>\n",
       "      <th>219458</th>\n",
       "      <td>2020-03-08</td>\n",
       "      <td>NTPC Ltd.</td>\n",
       "      <td>750.0</td>\n",
       "      <td>0.0</td>\n",
       "      <td>0.0</td>\n",
       "      <td>0.0</td>\n",
       "      <td>0</td>\n",
       "      <td>10</td>\n",
       "      <td>9</td>\n",
       "      <td>-0.63</td>\n",
       "      <td>0.0</td>\n",
       "    </tr>\n",
       "    <tr>\n",
       "      <th>219459</th>\n",
       "      <td>2020-03-08</td>\n",
       "      <td>ONGC</td>\n",
       "      <td>726.6</td>\n",
       "      <td>726.6</td>\n",
       "      <td>0.0</td>\n",
       "      <td>363.3</td>\n",
       "      <td>0</td>\n",
       "      <td>13</td>\n",
       "      <td>0</td>\n",
       "      <td>-13.00</td>\n",
       "      <td>0.0</td>\n",
       "    </tr>\n",
       "  </tbody>\n",
       "</table>\n",
       "<p>64968 rows × 11 columns</p>\n",
       "</div>"
      ],
      "text/plain": [
       "            Dates      Power Station  Monitored Cap.(MW)  \\\n",
       "147566 2020-01-01              Delhi              2100.4   \n",
       "147567 2020-01-01            Haryana              2720.0   \n",
       "147568 2020-01-01   Himachal Pradesh               777.0   \n",
       "147569 2020-01-01  Jammu and Kashmir              1285.0   \n",
       "147570 2020-01-01             Punjab              2701.0   \n",
       "...           ...                ...                 ...   \n",
       "219455 2020-03-08            Tripura               169.5   \n",
       "219456 2020-03-08            NEEPCO.              1727.0   \n",
       "219457 2020-03-08               NHPC               105.0   \n",
       "219458 2020-03-08          NTPC Ltd.               750.0   \n",
       "219459 2020-03-08               ONGC               726.6   \n",
       "\n",
       "        Total Cap. Under Maintenace (MW)  Planned Maintanence (MW)  \\\n",
       "147566                             784.6                       0.0   \n",
       "147567                            1320.0                       0.0   \n",
       "147568                             115.0                       0.0   \n",
       "147569                             360.0                       0.0   \n",
       "147570                            1583.5                     243.5   \n",
       "...                                  ...                       ...   \n",
       "219455                              69.0                       0.0   \n",
       "219456                             828.5                     328.5   \n",
       "219457                               0.0                       0.0   \n",
       "219458                               0.0                       0.0   \n",
       "219459                             726.6                       0.0   \n",
       "\n",
       "        Forced Maintanence(MW)  Other Reasons (MW)  Programme or Expected(MU)  \\\n",
       "147566                     0.0                   0                         17   \n",
       "147567                  1320.0                   0                         32   \n",
       "147568                     0.0                   0                          3   \n",
       "147569                     0.0                   0                          4   \n",
       "147570                  1340.0                   0                         24   \n",
       "...                        ...                 ...                        ...   \n",
       "219455                    21.0                   0                          1   \n",
       "219456                   500.0                   0                         15   \n",
       "219457                     0.0                   0                          0   \n",
       "219458                     0.0                   0                         10   \n",
       "219459                   363.3                   0                         13   \n",
       "\n",
       "        Actual(MU)  Excess(+) / Shortfall (-)  Deviation  \n",
       "147566          11                      -5.99        0.0  \n",
       "147567          26                      -5.25        0.0  \n",
       "147568           3                      -0.46        0.0  \n",
       "147569           3                      -0.87        0.0  \n",
       "147570          17                      -6.86        0.0  \n",
       "...            ...                        ...        ...  \n",
       "219455           1                       0.22        0.0  \n",
       "219456          12                      -2.74        0.0  \n",
       "219457           0                      -0.07        0.0  \n",
       "219458           9                      -0.63        0.0  \n",
       "219459           0                     -13.00        0.0  \n",
       "\n",
       "[64968 rows x 11 columns]"
      ]
     },
     "execution_count": 17,
     "metadata": {},
     "output_type": "execute_result"
    }
   ],
   "source": [
    "df.loc[(df['Dates']>='2020-1-1')&(df['Dates']<='2020-12-31')]"
   ]
  },
  {
   "cell_type": "code",
   "execution_count": 20,
   "id": "9d18c959-2e35-4529-bb64-50e38957e6dd",
   "metadata": {},
   "outputs": [
    {
     "data": {
      "text/plain": [
       "Power Station    164\n",
       "dtype: int64"
      ]
     },
     "execution_count": 20,
     "metadata": {},
     "output_type": "execute_result"
    }
   ],
   "source": [
    "df.loc[(df['Dates']>='2020-1-1')&(df['Dates']<='2020-12-31'),['Power Station']].nunique()"
   ]
  },
  {
   "cell_type": "code",
   "execution_count": 21,
   "id": "a8348828-6726-4b67-b667-14cfeead5436",
   "metadata": {},
   "outputs": [
    {
     "data": {
      "text/plain": [
       "64968"
      ]
     },
     "execution_count": 21,
     "metadata": {},
     "output_type": "execute_result"
    }
   ],
   "source": [
    "len(df.loc[(df['Dates']>='2020-1-1')&(df['Dates']<='2020-12-31')])"
   ]
  },
  {
   "cell_type": "code",
   "execution_count": 73,
   "id": "22f37389-df00-4c7f-8c02-8c08ada3cb5b",
   "metadata": {},
   "outputs": [
    {
     "data": {
      "text/html": [
       "<div>\n",
       "<style scoped>\n",
       "    .dataframe tbody tr th:only-of-type {\n",
       "        vertical-align: middle;\n",
       "    }\n",
       "\n",
       "    .dataframe tbody tr th {\n",
       "        vertical-align: top;\n",
       "    }\n",
       "\n",
       "    .dataframe thead th {\n",
       "        text-align: right;\n",
       "    }\n",
       "</style>\n",
       "<table border=\"1\" class=\"dataframe\">\n",
       "  <thead>\n",
       "    <tr style=\"text-align: right;\">\n",
       "      <th></th>\n",
       "      <th>Deviation</th>\n",
       "    </tr>\n",
       "    <tr>\n",
       "      <th>Power Station</th>\n",
       "      <th></th>\n",
       "    </tr>\n",
       "  </thead>\n",
       "  <tbody>\n",
       "    <tr>\n",
       "      <th>ABAN POWR</th>\n",
       "      <td>0.0</td>\n",
       "    </tr>\n",
       "    <tr>\n",
       "      <th>ACB</th>\n",
       "      <td>0.0</td>\n",
       "    </tr>\n",
       "    <tr>\n",
       "      <th>ACPL</th>\n",
       "      <td>0.0</td>\n",
       "    </tr>\n",
       "    <tr>\n",
       "      <th>ADHPL</th>\n",
       "      <td>0.0</td>\n",
       "    </tr>\n",
       "    <tr>\n",
       "      <th>ADHUNIK</th>\n",
       "      <td>0.0</td>\n",
       "    </tr>\n",
       "    <tr>\n",
       "      <th>...</th>\n",
       "      <td>...</td>\n",
       "    </tr>\n",
       "    <tr>\n",
       "      <th>VESPL</th>\n",
       "      <td>0.0</td>\n",
       "    </tr>\n",
       "    <tr>\n",
       "      <th>VIP</th>\n",
       "      <td>0.0</td>\n",
       "    </tr>\n",
       "    <tr>\n",
       "      <th>VVL</th>\n",
       "      <td>0.0</td>\n",
       "    </tr>\n",
       "    <tr>\n",
       "      <th>WPCL</th>\n",
       "      <td>0.0</td>\n",
       "    </tr>\n",
       "    <tr>\n",
       "      <th>West Bengal</th>\n",
       "      <td>0.0</td>\n",
       "    </tr>\n",
       "  </tbody>\n",
       "</table>\n",
       "<p>164 rows × 1 columns</p>\n",
       "</div>"
      ],
      "text/plain": [
       "               Deviation\n",
       "Power Station           \n",
       "ABAN POWR            0.0\n",
       "ACB                  0.0\n",
       "ACPL                 0.0\n",
       "ADHPL                0.0\n",
       "ADHUNIK              0.0\n",
       "...                  ...\n",
       "VESPL                0.0\n",
       "VIP                  0.0\n",
       "VVL                  0.0\n",
       "WPCL                 0.0\n",
       "West Bengal          0.0\n",
       "\n",
       "[164 rows x 1 columns]"
      ]
     },
     "execution_count": 73,
     "metadata": {},
     "output_type": "execute_result"
    }
   ],
   "source": [
    "df.loc[(df['Dates']>='2020-1-1')&(df['Dates']<='2020-12-31')].groupby('Power Station')[['Deviation']].sum()"
   ]
  },
  {
   "cell_type": "code",
   "execution_count": 105,
   "id": "9bba565c-9570-40f8-857d-2573d43221cd",
   "metadata": {},
   "outputs": [
    {
     "data": {
      "text/html": [
       "<div>\n",
       "<style scoped>\n",
       "    .dataframe tbody tr th:only-of-type {\n",
       "        vertical-align: middle;\n",
       "    }\n",
       "\n",
       "    .dataframe tbody tr th {\n",
       "        vertical-align: top;\n",
       "    }\n",
       "\n",
       "    .dataframe thead th {\n",
       "        text-align: right;\n",
       "    }\n",
       "</style>\n",
       "<table border=\"1\" class=\"dataframe\">\n",
       "  <thead>\n",
       "    <tr style=\"text-align: right;\">\n",
       "      <th></th>\n",
       "      <th>Deviation</th>\n",
       "    </tr>\n",
       "    <tr>\n",
       "      <th>Power Station</th>\n",
       "      <th></th>\n",
       "    </tr>\n",
       "  </thead>\n",
       "  <tbody>\n",
       "    <tr>\n",
       "      <th>ABAN POWR</th>\n",
       "      <td>0.0</td>\n",
       "    </tr>\n",
       "    <tr>\n",
       "      <th>ACB</th>\n",
       "      <td>0.0</td>\n",
       "    </tr>\n",
       "    <tr>\n",
       "      <th>ACPL</th>\n",
       "      <td>0.0</td>\n",
       "    </tr>\n",
       "    <tr>\n",
       "      <th>ADHPL</th>\n",
       "      <td>0.0</td>\n",
       "    </tr>\n",
       "    <tr>\n",
       "      <th>ADHUNIK</th>\n",
       "      <td>0.0</td>\n",
       "    </tr>\n",
       "    <tr>\n",
       "      <th>...</th>\n",
       "      <td>...</td>\n",
       "    </tr>\n",
       "    <tr>\n",
       "      <th>VESPL</th>\n",
       "      <td>0.0</td>\n",
       "    </tr>\n",
       "    <tr>\n",
       "      <th>VIP</th>\n",
       "      <td>0.0</td>\n",
       "    </tr>\n",
       "    <tr>\n",
       "      <th>VVL</th>\n",
       "      <td>0.0</td>\n",
       "    </tr>\n",
       "    <tr>\n",
       "      <th>WPCL</th>\n",
       "      <td>0.0</td>\n",
       "    </tr>\n",
       "    <tr>\n",
       "      <th>West Bengal</th>\n",
       "      <td>0.0</td>\n",
       "    </tr>\n",
       "  </tbody>\n",
       "</table>\n",
       "<p>164 rows × 1 columns</p>\n",
       "</div>"
      ],
      "text/plain": [
       "               Deviation\n",
       "Power Station           \n",
       "ABAN POWR            0.0\n",
       "ACB                  0.0\n",
       "ACPL                 0.0\n",
       "ADHPL                0.0\n",
       "ADHUNIK              0.0\n",
       "...                  ...\n",
       "VESPL                0.0\n",
       "VIP                  0.0\n",
       "VVL                  0.0\n",
       "WPCL                 0.0\n",
       "West Bengal          0.0\n",
       "\n",
       "[164 rows x 1 columns]"
      ]
     },
     "execution_count": 105,
     "metadata": {},
     "output_type": "execute_result"
    }
   ],
   "source": [
    "a=df.loc[(df['Dates']>='2020-1-1')&(df['Dates']<='2020-12-31')].groupby('Power Station')[['Deviation']].sum()\n",
    "a.loc[a['Deviation']==a['Deviation'].max()]"
   ]
  },
  {
   "cell_type": "code",
   "execution_count": 106,
   "id": "6e950ade-d957-4792-a9cf-abda6d890b07",
   "metadata": {},
   "outputs": [
    {
     "data": {
      "text/plain": [
       "Index(['ABAN POWR', 'ACB', 'ACPL', 'ADHPL', 'ADHUNIK', 'AEML', 'AHPC (GVK)',\n",
       "       'AMNEPL', 'APCPL', 'APGPCL',\n",
       "       ...\n",
       "       'Tripura', 'UPCL', 'Uttar Pradesh', 'Uttarakhand', 'VEMAGIRI', 'VESPL',\n",
       "       'VIP', 'VVL', 'WPCL', 'West Bengal'],\n",
       "      dtype='object', name='Power Station', length=164)"
      ]
     },
     "execution_count": 106,
     "metadata": {},
     "output_type": "execute_result"
    }
   ],
   "source": [
    "a=df.loc[(df['Dates']>='2020-1-1')&(df['Dates']<='2020-12-31')].groupby('Power Station')[['Deviation']].sum()\n",
    "a.loc[a['Deviation']==a['Deviation'].max()].index"
   ]
  },
  {
   "cell_type": "markdown",
   "id": "664047fc-773e-48b5-b090-777ce2b1fcf2",
   "metadata": {},
   "source": [
    "## 2.What is the average 'Forced Maintenance (MW)' for weekends in 2019? "
   ]
  },
  {
   "cell_type": "code",
   "execution_count": 24,
   "id": "1097d198-e27b-4627-9f85-45b50dbd200c",
   "metadata": {},
   "outputs": [],
   "source": [
    "from datetime import datetime "
   ]
  },
  {
   "cell_type": "code",
   "execution_count": 30,
   "id": "45bba44b-327f-46a1-9980-451970c14a58",
   "metadata": {},
   "outputs": [
    {
     "data": {
      "text/plain": [
       "0"
      ]
     },
     "execution_count": 30,
     "metadata": {},
     "output_type": "execute_result"
    }
   ],
   "source": [
    "datetime.now().weekday()"
   ]
  },
  {
   "cell_type": "code",
   "execution_count": 39,
   "id": "30ed90e4-9926-4f65-81cd-27ee73149580",
   "metadata": {},
   "outputs": [],
   "source": [
    "def is_weekend(date):\n",
    "    return date.weekday() in [5, 6]"
   ]
  },
  {
   "cell_type": "code",
   "execution_count": 43,
   "id": "ef4fc4a7-8de3-4bfc-b548-9222f675f670",
   "metadata": {},
   "outputs": [
    {
     "data": {
      "text/plain": [
       "0         False\n",
       "1         False\n",
       "2         False\n",
       "3         False\n",
       "4         False\n",
       "          ...  \n",
       "345268    False\n",
       "345269    False\n",
       "345270    False\n",
       "345271    False\n",
       "345272    False\n",
       "Name: Dates, Length: 345273, dtype: bool"
      ]
     },
     "execution_count": 43,
     "metadata": {},
     "output_type": "execute_result"
    }
   ],
   "source": [
    "df['Dates'].apply(is_weekend)"
   ]
  },
  {
   "cell_type": "code",
   "execution_count": 42,
   "id": "c9e5827d-7f5b-4967-9e2d-1f231b75da0f",
   "metadata": {},
   "outputs": [
    {
     "data": {
      "text/plain": [
       "323.9577622110772"
      ]
     },
     "execution_count": 42,
     "metadata": {},
     "output_type": "execute_result"
    }
   ],
   "source": [
    "df.loc[(df['Dates']>='2019-1-1')&(df['Dates']<='2019-12-31')].loc[df['Dates'].apply(is_weekend)]['Forced Maintanence(MW)'].mean()"
   ]
  },
  {
   "cell_type": "markdown",
   "id": "a212d07b-81c5-4457-9719-4ff87e5756af",
   "metadata": {},
   "source": [
    "## 3.What is the total number of days in 2020 where 'Total Cap. Under Maintenace (MW)' exceeded 'Monitored Cap.(MW)' ?"
   ]
  },
  {
   "cell_type": "code",
   "execution_count": 44,
   "id": "c4a16c57-6678-4b1e-943d-80ba0ae028f5",
   "metadata": {},
   "outputs": [
    {
     "data": {
      "text/plain": [
       "Index(['Dates', 'Power Station', 'Monitored Cap.(MW)',\n",
       "       'Total Cap. Under Maintenace (MW)', 'Planned Maintanence (MW)',\n",
       "       'Forced Maintanence(MW)', 'Other Reasons (MW)',\n",
       "       'Programme or Expected(MU)', 'Actual(MU)', 'Excess(+) / Shortfall (-)',\n",
       "       'Deviation'],\n",
       "      dtype='object')"
      ]
     },
     "execution_count": 44,
     "metadata": {},
     "output_type": "execute_result"
    }
   ],
   "source": [
    "df.columns"
   ]
  },
  {
   "cell_type": "code",
   "execution_count": 51,
   "id": "d36af3a2-cc1e-4fff-923b-a9dd5fb6348b",
   "metadata": {},
   "outputs": [
    {
     "data": {
      "text/html": [
       "<div>\n",
       "<style scoped>\n",
       "    .dataframe tbody tr th:only-of-type {\n",
       "        vertical-align: middle;\n",
       "    }\n",
       "\n",
       "    .dataframe tbody tr th {\n",
       "        vertical-align: top;\n",
       "    }\n",
       "\n",
       "    .dataframe thead th {\n",
       "        text-align: right;\n",
       "    }\n",
       "</style>\n",
       "<table border=\"1\" class=\"dataframe\">\n",
       "  <thead>\n",
       "    <tr style=\"text-align: right;\">\n",
       "      <th></th>\n",
       "      <th>Dates</th>\n",
       "      <th>Power Station</th>\n",
       "      <th>Monitored Cap.(MW)</th>\n",
       "      <th>Total Cap. Under Maintenace (MW)</th>\n",
       "      <th>Planned Maintanence (MW)</th>\n",
       "      <th>Forced Maintanence(MW)</th>\n",
       "      <th>Other Reasons (MW)</th>\n",
       "      <th>Programme or Expected(MU)</th>\n",
       "      <th>Actual(MU)</th>\n",
       "      <th>Excess(+) / Shortfall (-)</th>\n",
       "      <th>Deviation</th>\n",
       "    </tr>\n",
       "  </thead>\n",
       "  <tbody>\n",
       "  </tbody>\n",
       "</table>\n",
       "</div>"
      ],
      "text/plain": [
       "Empty DataFrame\n",
       "Columns: [Dates, Power Station, Monitored Cap.(MW), Total Cap. Under Maintenace (MW), Planned Maintanence (MW), Forced Maintanence(MW), Other Reasons (MW), Programme or Expected(MU), Actual(MU), Excess(+) / Shortfall (-), Deviation]\n",
       "Index: []"
      ]
     },
     "execution_count": 51,
     "metadata": {},
     "output_type": "execute_result"
    }
   ],
   "source": [
    "df.loc[((df['Dates']>='2020-1-1')&(df['Dates']<='2020-12-31')) &(df['Total Cap. Under Maintenace (MW)']>df['Monitored Cap.(MW)'])]"
   ]
  },
  {
   "cell_type": "code",
   "execution_count": 56,
   "id": "2a58e9ba-2b3c-4879-a7cf-4b43d0904ee5",
   "metadata": {},
   "outputs": [
    {
     "data": {
      "text/html": [
       "<div>\n",
       "<style scoped>\n",
       "    .dataframe tbody tr th:only-of-type {\n",
       "        vertical-align: middle;\n",
       "    }\n",
       "\n",
       "    .dataframe tbody tr th {\n",
       "        vertical-align: top;\n",
       "    }\n",
       "\n",
       "    .dataframe thead th {\n",
       "        text-align: right;\n",
       "    }\n",
       "</style>\n",
       "<table border=\"1\" class=\"dataframe\">\n",
       "  <thead>\n",
       "    <tr style=\"text-align: right;\">\n",
       "      <th></th>\n",
       "      <th>Dates</th>\n",
       "      <th>Power Station</th>\n",
       "      <th>Monitored Cap.(MW)</th>\n",
       "      <th>Total Cap. Under Maintenace (MW)</th>\n",
       "      <th>Planned Maintanence (MW)</th>\n",
       "      <th>Forced Maintanence(MW)</th>\n",
       "      <th>Other Reasons (MW)</th>\n",
       "      <th>Programme or Expected(MU)</th>\n",
       "      <th>Actual(MU)</th>\n",
       "      <th>Excess(+) / Shortfall (-)</th>\n",
       "      <th>Deviation</th>\n",
       "    </tr>\n",
       "  </thead>\n",
       "  <tbody>\n",
       "    <tr>\n",
       "      <th>3158</th>\n",
       "      <td>2017-09-19</td>\n",
       "      <td>SEL</td>\n",
       "      <td>1200.0</td>\n",
       "      <td>2400.0</td>\n",
       "      <td>0.0</td>\n",
       "      <td>2400.0</td>\n",
       "      <td>0</td>\n",
       "      <td>8</td>\n",
       "      <td>0</td>\n",
       "      <td>-8.23</td>\n",
       "      <td>0.0</td>\n",
       "    </tr>\n",
       "    <tr>\n",
       "      <th>3335</th>\n",
       "      <td>2017-09-20</td>\n",
       "      <td>SEL</td>\n",
       "      <td>1200.0</td>\n",
       "      <td>2400.0</td>\n",
       "      <td>0.0</td>\n",
       "      <td>2400.0</td>\n",
       "      <td>0</td>\n",
       "      <td>8</td>\n",
       "      <td>0</td>\n",
       "      <td>-8.23</td>\n",
       "      <td>0.0</td>\n",
       "    </tr>\n",
       "    <tr>\n",
       "      <th>3512</th>\n",
       "      <td>2017-09-21</td>\n",
       "      <td>SEL</td>\n",
       "      <td>1200.0</td>\n",
       "      <td>2400.0</td>\n",
       "      <td>0.0</td>\n",
       "      <td>2400.0</td>\n",
       "      <td>0</td>\n",
       "      <td>8</td>\n",
       "      <td>0</td>\n",
       "      <td>-8.23</td>\n",
       "      <td>0.0</td>\n",
       "    </tr>\n",
       "    <tr>\n",
       "      <th>4043</th>\n",
       "      <td>2017-09-24</td>\n",
       "      <td>SEL</td>\n",
       "      <td>1200.0</td>\n",
       "      <td>2400.0</td>\n",
       "      <td>0.0</td>\n",
       "      <td>2400.0</td>\n",
       "      <td>0</td>\n",
       "      <td>8</td>\n",
       "      <td>0</td>\n",
       "      <td>-8.23</td>\n",
       "      <td>0.0</td>\n",
       "    </tr>\n",
       "    <tr>\n",
       "      <th>4220</th>\n",
       "      <td>2017-09-25</td>\n",
       "      <td>SEL</td>\n",
       "      <td>1200.0</td>\n",
       "      <td>2400.0</td>\n",
       "      <td>0.0</td>\n",
       "      <td>2400.0</td>\n",
       "      <td>0</td>\n",
       "      <td>8</td>\n",
       "      <td>0</td>\n",
       "      <td>-8.23</td>\n",
       "      <td>0.0</td>\n",
       "    </tr>\n",
       "    <tr>\n",
       "      <th>...</th>\n",
       "      <td>...</td>\n",
       "      <td>...</td>\n",
       "      <td>...</td>\n",
       "      <td>...</td>\n",
       "      <td>...</td>\n",
       "      <td>...</td>\n",
       "      <td>...</td>\n",
       "      <td>...</td>\n",
       "      <td>...</td>\n",
       "      <td>...</td>\n",
       "      <td>...</td>\n",
       "    </tr>\n",
       "    <tr>\n",
       "      <th>37611</th>\n",
       "      <td>2018-03-29</td>\n",
       "      <td>SEL</td>\n",
       "      <td>1200.0</td>\n",
       "      <td>1800.0</td>\n",
       "      <td>0.0</td>\n",
       "      <td>1800.0</td>\n",
       "      <td>0</td>\n",
       "      <td>8</td>\n",
       "      <td>5</td>\n",
       "      <td>-3.13</td>\n",
       "      <td>0.0</td>\n",
       "    </tr>\n",
       "    <tr>\n",
       "      <th>37788</th>\n",
       "      <td>2018-03-30</td>\n",
       "      <td>PVUNL</td>\n",
       "      <td>0.0</td>\n",
       "      <td>455.0</td>\n",
       "      <td>0.0</td>\n",
       "      <td>455.0</td>\n",
       "      <td>0</td>\n",
       "      <td>2</td>\n",
       "      <td>0</td>\n",
       "      <td>-2.52</td>\n",
       "      <td>0.0</td>\n",
       "    </tr>\n",
       "    <tr>\n",
       "      <th>37789</th>\n",
       "      <td>2018-03-30</td>\n",
       "      <td>SEL</td>\n",
       "      <td>1200.0</td>\n",
       "      <td>1800.0</td>\n",
       "      <td>0.0</td>\n",
       "      <td>1800.0</td>\n",
       "      <td>0</td>\n",
       "      <td>8</td>\n",
       "      <td>7</td>\n",
       "      <td>-0.84</td>\n",
       "      <td>0.0</td>\n",
       "    </tr>\n",
       "    <tr>\n",
       "      <th>37966</th>\n",
       "      <td>2018-03-31</td>\n",
       "      <td>PVUNL</td>\n",
       "      <td>0.0</td>\n",
       "      <td>455.0</td>\n",
       "      <td>0.0</td>\n",
       "      <td>455.0</td>\n",
       "      <td>0</td>\n",
       "      <td>2</td>\n",
       "      <td>0</td>\n",
       "      <td>-2.52</td>\n",
       "      <td>0.0</td>\n",
       "    </tr>\n",
       "    <tr>\n",
       "      <th>37967</th>\n",
       "      <td>2018-03-31</td>\n",
       "      <td>SEL</td>\n",
       "      <td>1200.0</td>\n",
       "      <td>1800.0</td>\n",
       "      <td>0.0</td>\n",
       "      <td>1800.0</td>\n",
       "      <td>0</td>\n",
       "      <td>8</td>\n",
       "      <td>5</td>\n",
       "      <td>-2.33</td>\n",
       "      <td>0.0</td>\n",
       "    </tr>\n",
       "  </tbody>\n",
       "</table>\n",
       "<p>321 rows × 11 columns</p>\n",
       "</div>"
      ],
      "text/plain": [
       "           Dates Power Station  Monitored Cap.(MW)  \\\n",
       "3158  2017-09-19           SEL              1200.0   \n",
       "3335  2017-09-20           SEL              1200.0   \n",
       "3512  2017-09-21           SEL              1200.0   \n",
       "4043  2017-09-24           SEL              1200.0   \n",
       "4220  2017-09-25           SEL              1200.0   \n",
       "...          ...           ...                 ...   \n",
       "37611 2018-03-29           SEL              1200.0   \n",
       "37788 2018-03-30         PVUNL                 0.0   \n",
       "37789 2018-03-30           SEL              1200.0   \n",
       "37966 2018-03-31         PVUNL                 0.0   \n",
       "37967 2018-03-31           SEL              1200.0   \n",
       "\n",
       "       Total Cap. Under Maintenace (MW)  Planned Maintanence (MW)  \\\n",
       "3158                             2400.0                       0.0   \n",
       "3335                             2400.0                       0.0   \n",
       "3512                             2400.0                       0.0   \n",
       "4043                             2400.0                       0.0   \n",
       "4220                             2400.0                       0.0   \n",
       "...                                 ...                       ...   \n",
       "37611                            1800.0                       0.0   \n",
       "37788                             455.0                       0.0   \n",
       "37789                            1800.0                       0.0   \n",
       "37966                             455.0                       0.0   \n",
       "37967                            1800.0                       0.0   \n",
       "\n",
       "       Forced Maintanence(MW)  Other Reasons (MW)  Programme or Expected(MU)  \\\n",
       "3158                   2400.0                   0                          8   \n",
       "3335                   2400.0                   0                          8   \n",
       "3512                   2400.0                   0                          8   \n",
       "4043                   2400.0                   0                          8   \n",
       "4220                   2400.0                   0                          8   \n",
       "...                       ...                 ...                        ...   \n",
       "37611                  1800.0                   0                          8   \n",
       "37788                   455.0                   0                          2   \n",
       "37789                  1800.0                   0                          8   \n",
       "37966                   455.0                   0                          2   \n",
       "37967                  1800.0                   0                          8   \n",
       "\n",
       "       Actual(MU)  Excess(+) / Shortfall (-)  Deviation  \n",
       "3158            0                      -8.23        0.0  \n",
       "3335            0                      -8.23        0.0  \n",
       "3512            0                      -8.23        0.0  \n",
       "4043            0                      -8.23        0.0  \n",
       "4220            0                      -8.23        0.0  \n",
       "...           ...                        ...        ...  \n",
       "37611           5                      -3.13        0.0  \n",
       "37788           0                      -2.52        0.0  \n",
       "37789           7                      -0.84        0.0  \n",
       "37966           0                      -2.52        0.0  \n",
       "37967           5                      -2.33        0.0  \n",
       "\n",
       "[321 rows x 11 columns]"
      ]
     },
     "execution_count": 56,
     "metadata": {},
     "output_type": "execute_result"
    }
   ],
   "source": [
    "df.loc[df['Total Cap. Under Maintenace (MW)']>df['Monitored Cap.(MW)']]"
   ]
  },
  {
   "cell_type": "markdown",
   "id": "3ac474f8-60e0-426a-acb2-25eaf0d21c3d",
   "metadata": {},
   "source": [
    "```as you can see date ends at 2018 in the dataset so 2020 has no such days where 'Total Cap. Under Maintenace (MW)' exceeded 'Monitored Cap.(MW)'```"
   ]
  },
  {
   "cell_type": "markdown",
   "id": "17369e9d-ece9-46b2-96b7-dbec0dd39ee9",
   "metadata": {},
   "source": [
    "## 4.Which Power Station had the highest average 'Planned Maintenance (MW)' during the winter months (December to February) across all years?"
   ]
  },
  {
   "cell_type": "code",
   "execution_count": 59,
   "id": "039cce83-4dcc-4de7-b319-846ae52bc17d",
   "metadata": {},
   "outputs": [
    {
     "data": {
      "text/plain": [
       "2"
      ]
     },
     "execution_count": 59,
     "metadata": {},
     "output_type": "execute_result"
    }
   ],
   "source": [
    "datetime.now().month"
   ]
  },
  {
   "cell_type": "code",
   "execution_count": 60,
   "id": "d3d7641a-9755-42d8-9b42-29c6fc36214a",
   "metadata": {},
   "outputs": [],
   "source": [
    "def is_winter(date):\n",
    "    return date.month in [12,1,2]"
   ]
  },
  {
   "cell_type": "code",
   "execution_count": 61,
   "id": "b7a64046-065d-4750-bcf4-e594ab48cd9d",
   "metadata": {},
   "outputs": [
    {
     "data": {
      "text/plain": [
       "0         False\n",
       "1         False\n",
       "2         False\n",
       "3         False\n",
       "4         False\n",
       "          ...  \n",
       "345268    False\n",
       "345269    False\n",
       "345270    False\n",
       "345271    False\n",
       "345272    False\n",
       "Name: Dates, Length: 345273, dtype: bool"
      ]
     },
     "execution_count": 61,
     "metadata": {},
     "output_type": "execute_result"
    }
   ],
   "source": [
    "df['Dates'].apply(is_winter)"
   ]
  },
  {
   "cell_type": "code",
   "execution_count": 79,
   "id": "71db4c01-097a-434e-80f9-f24fe62aa2af",
   "metadata": {},
   "outputs": [
    {
     "data": {
      "text/html": [
       "<div>\n",
       "<style scoped>\n",
       "    .dataframe tbody tr th:only-of-type {\n",
       "        vertical-align: middle;\n",
       "    }\n",
       "\n",
       "    .dataframe tbody tr th {\n",
       "        vertical-align: top;\n",
       "    }\n",
       "\n",
       "    .dataframe thead th {\n",
       "        text-align: right;\n",
       "    }\n",
       "</style>\n",
       "<table border=\"1\" class=\"dataframe\">\n",
       "  <thead>\n",
       "    <tr style=\"text-align: right;\">\n",
       "      <th></th>\n",
       "      <th>Planned Maintanence (MW)</th>\n",
       "    </tr>\n",
       "    <tr>\n",
       "      <th>Power Station</th>\n",
       "      <th></th>\n",
       "    </tr>\n",
       "  </thead>\n",
       "  <tbody>\n",
       "    <tr>\n",
       "      <th>Andhra Pradesh.</th>\n",
       "      <td>730.615385</td>\n",
       "    </tr>\n",
       "  </tbody>\n",
       "</table>\n",
       "</div>"
      ],
      "text/plain": [
       "                 Planned Maintanence (MW)\n",
       "Power Station                            \n",
       "Andhra Pradesh.                730.615385"
      ]
     },
     "execution_count": 79,
     "metadata": {},
     "output_type": "execute_result"
    }
   ],
   "source": [
    "a=df.loc[df['Dates'].apply(is_winter)].groupby('Power Station')[['Planned Maintanence (MW)']].mean()\n",
    "a.loc[a['Planned Maintanence (MW)']==a['Planned Maintanence (MW)'].max()]"
   ]
  },
  {
   "cell_type": "markdown",
   "id": "e4ec30c4-84ad-4f19-880d-d3aa96bdec0d",
   "metadata": {},
   "source": [
    "## 5.What is the median 'Actual (MU)' for each quarter in 2020?"
   ]
  },
  {
   "cell_type": "code",
   "execution_count": 83,
   "id": "e41d1828-edce-4481-ad9f-036a33af01d6",
   "metadata": {},
   "outputs": [
    {
     "data": {
      "text/plain": [
       "Index(['Dates', 'Power Station', 'Monitored Cap.(MW)',\n",
       "       'Total Cap. Under Maintenace (MW)', 'Planned Maintanence (MW)',\n",
       "       'Forced Maintanence(MW)', 'Other Reasons (MW)',\n",
       "       'Programme or Expected(MU)', 'Actual(MU)', 'Excess(+) / Shortfall (-)',\n",
       "       'Deviation'],\n",
       "      dtype='object')"
      ]
     },
     "execution_count": 83,
     "metadata": {},
     "output_type": "execute_result"
    }
   ],
   "source": [
    "df.columns"
   ]
  },
  {
   "cell_type": "code",
   "execution_count": 85,
   "id": "49853a63-3b5d-4bcc-b438-2a77ffba0022",
   "metadata": {},
   "outputs": [
    {
     "data": {
      "text/plain": [
       "Dates\n",
       "2020Q1    6.0\n",
       "2020Q2    6.0\n",
       "2020Q3    6.0\n",
       "2020Q4    5.0\n",
       "Freq: Q-DEC, Name: Actual(MU), dtype: float64"
      ]
     },
     "execution_count": 85,
     "metadata": {},
     "output_type": "execute_result"
    }
   ],
   "source": [
    "df.loc[(df['Dates']>='2020-1-1')&(df['Dates']<='2020-12-31')].groupby(df['Dates'].dt.to_period('Q'))['Actual(MU)'].median()"
   ]
  },
  {
   "cell_type": "markdown",
   "id": "437e9252-caeb-426a-83ac-2e084003c55f",
   "metadata": {},
   "source": [
    "## 6.What is the average 'Deviation' in the first quarter (Q1) of 2019?"
   ]
  },
  {
   "cell_type": "code",
   "execution_count": 86,
   "id": "63531afa-0fb5-45bd-b162-7656c9a69118",
   "metadata": {},
   "outputs": [
    {
     "data": {
      "text/plain": [
       "Dates\n",
       "2019Q1    0.0\n",
       "2019Q2    0.0\n",
       "2019Q3    0.0\n",
       "2019Q4    0.0\n",
       "Freq: Q-DEC, Name: Deviation, dtype: float64"
      ]
     },
     "execution_count": 86,
     "metadata": {},
     "output_type": "execute_result"
    }
   ],
   "source": [
    "df.loc[(df['Dates']>='2019-1-1')&(df['Dates']<='2019-12-31')].groupby(df['Dates'].dt.to_period('Q'))['Deviation'].mean()"
   ]
  },
  {
   "cell_type": "markdown",
   "id": "0584601a-2a8d-4fac-831d-7272c69db087",
   "metadata": {},
   "source": [
    "## 7.What is the total 'Actual(MU)' generated on weekends (Saturday and Sunday) in 2018?"
   ]
  },
  {
   "cell_type": "code",
   "execution_count": 87,
   "id": "16e6bb59-bd65-4029-9b85-a7b0ca38508e",
   "metadata": {},
   "outputs": [
    {
     "data": {
      "text/plain": [
       "342018"
      ]
     },
     "execution_count": 87,
     "metadata": {},
     "output_type": "execute_result"
    }
   ],
   "source": [
    "df.loc[(df['Dates']>='2018-1-1')&(df['Dates']<='2018-12-31')].loc[df['Dates'].apply(is_weekend)]['Actual(MU)'].sum()"
   ]
  },
  {
   "cell_type": "markdown",
   "id": "61f87bf3-f6f9-44a9-9c93-0ff2d804f630",
   "metadata": {},
   "source": [
    "## 8.Which Power Station had the highest average 'Excess(+) / Shortfall (-)' in 2019?"
   ]
  },
  {
   "cell_type": "code",
   "execution_count": 91,
   "id": "2faac642-bcd7-4e24-8286-3d53e3b93f58",
   "metadata": {},
   "outputs": [
    {
     "data": {
      "text/html": [
       "<div>\n",
       "<style scoped>\n",
       "    .dataframe tbody tr th:only-of-type {\n",
       "        vertical-align: middle;\n",
       "    }\n",
       "\n",
       "    .dataframe tbody tr th {\n",
       "        vertical-align: top;\n",
       "    }\n",
       "\n",
       "    .dataframe thead th {\n",
       "        text-align: right;\n",
       "    }\n",
       "</style>\n",
       "<table border=\"1\" class=\"dataframe\">\n",
       "  <thead>\n",
       "    <tr style=\"text-align: right;\">\n",
       "      <th></th>\n",
       "      <th>Excess(+) / Shortfall (-)</th>\n",
       "    </tr>\n",
       "    <tr>\n",
       "      <th>Power Station</th>\n",
       "      <th></th>\n",
       "    </tr>\n",
       "  </thead>\n",
       "  <tbody>\n",
       "    <tr>\n",
       "      <th>GCEL</th>\n",
       "      <td>8.262712</td>\n",
       "    </tr>\n",
       "  </tbody>\n",
       "</table>\n",
       "</div>"
      ],
      "text/plain": [
       "               Excess(+) / Shortfall (-)\n",
       "Power Station                           \n",
       "GCEL                            8.262712"
      ]
     },
     "execution_count": 91,
     "metadata": {},
     "output_type": "execute_result"
    }
   ],
   "source": [
    "a=df.loc[(df['Dates']>='2019-1-1')&(df['Dates']<='2019-12-31')].groupby('Power Station')[['Excess(+) / Shortfall (-)']].mean()\n",
    "a.loc[a['Excess(+) / Shortfall (-)']==a['Excess(+) / Shortfall (-)'].max()]"
   ]
  },
  {
   "cell_type": "markdown",
   "id": "491768a7-09ac-4abb-a43b-b2715bcc86a9",
   "metadata": {},
   "source": [
    "## 9.What is the median 'Total Cap. Under Maintenance (MW)' during the monsoon months (June to September) across all years?"
   ]
  },
  {
   "cell_type": "code",
   "execution_count": 92,
   "id": "b92a5a71-d389-4257-956a-41ea3ccaca7d",
   "metadata": {},
   "outputs": [],
   "source": [
    "def is_monsoon(date):\n",
    "    return date.month() in [6,7,8,9]"
   ]
  },
  {
   "cell_type": "code",
   "execution_count": 97,
   "id": "500a238f-5c80-470a-ac33-a5efb905f20f",
   "metadata": {},
   "outputs": [
    {
     "data": {
      "text/plain": [
       "Total Cap. Under Maintenace (MW)    150.0\n",
       "dtype: float64"
      ]
     },
     "execution_count": 97,
     "metadata": {},
     "output_type": "execute_result"
    }
   ],
   "source": [
    "df.loc[df['Dates'].apply(is_winter),['Total Cap. Under Maintenace (MW)']].median()"
   ]
  },
  {
   "cell_type": "markdown",
   "id": "a45df3fb-bb1b-4e90-83e1-39f439f6d2f2",
   "metadata": {},
   "source": [
    "## 10.What is the percentage of days in 2020 where 'Actual(MU)' was less than 'Programme or Expected(MU)'?"
   ]
  },
  {
   "cell_type": "code",
   "execution_count": 101,
   "id": "2065ad61-cca2-4fbd-a1a6-c11d99837763",
   "metadata": {},
   "outputs": [
    {
     "data": {
      "text/plain": [
       "20563"
      ]
     },
     "execution_count": 101,
     "metadata": {},
     "output_type": "execute_result"
    }
   ],
   "source": [
    "d_g=len(df.loc[((df['Dates']>='2020-1-1')&(df['Dates']<='2020-12-31')) &(df['Programme or Expected(MU)']>df['Actual(MU)'])])\n",
    "d_g"
   ]
  },
  {
   "cell_type": "code",
   "execution_count": 103,
   "id": "8af4d0a8-c8b3-4f54-85d8-0013331b3e58",
   "metadata": {},
   "outputs": [
    {
     "data": {
      "text/plain": [
       "64968"
      ]
     },
     "execution_count": 103,
     "metadata": {},
     "output_type": "execute_result"
    }
   ],
   "source": [
    "t_d=len(df.loc[((df['Dates']>='2020-1-1')&(df['Dates']<='2020-12-31'))])\n",
    "t_d"
   ]
  },
  {
   "cell_type": "code",
   "execution_count": 168,
   "id": "cf89cb12-8b3c-47ce-ba3c-e84500b679ea",
   "metadata": {},
   "outputs": [
    {
     "name": "stdout",
     "output_type": "stream",
     "text": [
      "31.650967 %\n"
     ]
    }
   ],
   "source": [
    "print(f'{(d_g/t_d)*100 :0f} %')"
   ]
  },
  {
   "cell_type": "markdown",
   "id": "13c4ade2-124c-40e0-9669-2c4ec54b69e7",
   "metadata": {},
   "source": [
    "# Make sure you make Date column as Index before answering"
   ]
  },
  {
   "cell_type": "code",
   "execution_count": 107,
   "id": "0477553a-91e0-4176-895d-66d4e96f2d7f",
   "metadata": {},
   "outputs": [
    {
     "data": {
      "text/html": [
       "<div>\n",
       "<style scoped>\n",
       "    .dataframe tbody tr th:only-of-type {\n",
       "        vertical-align: middle;\n",
       "    }\n",
       "\n",
       "    .dataframe tbody tr th {\n",
       "        vertical-align: top;\n",
       "    }\n",
       "\n",
       "    .dataframe thead th {\n",
       "        text-align: right;\n",
       "    }\n",
       "</style>\n",
       "<table border=\"1\" class=\"dataframe\">\n",
       "  <thead>\n",
       "    <tr style=\"text-align: right;\">\n",
       "      <th></th>\n",
       "      <th>Power Station</th>\n",
       "      <th>Monitored Cap.(MW)</th>\n",
       "      <th>Total Cap. Under Maintenace (MW)</th>\n",
       "      <th>Planned Maintanence (MW)</th>\n",
       "      <th>Forced Maintanence(MW)</th>\n",
       "      <th>Other Reasons (MW)</th>\n",
       "      <th>Programme or Expected(MU)</th>\n",
       "      <th>Actual(MU)</th>\n",
       "      <th>Excess(+) / Shortfall (-)</th>\n",
       "      <th>Deviation</th>\n",
       "    </tr>\n",
       "    <tr>\n",
       "      <th>Dates</th>\n",
       "      <th></th>\n",
       "      <th></th>\n",
       "      <th></th>\n",
       "      <th></th>\n",
       "      <th></th>\n",
       "      <th></th>\n",
       "      <th></th>\n",
       "      <th></th>\n",
       "      <th></th>\n",
       "      <th></th>\n",
       "    </tr>\n",
       "  </thead>\n",
       "  <tbody>\n",
       "    <tr>\n",
       "      <th>2017-09-01</th>\n",
       "      <td>Delhi</td>\n",
       "      <td>2235.4</td>\n",
       "      <td>135.00</td>\n",
       "      <td>0.00</td>\n",
       "      <td>135.0</td>\n",
       "      <td>0</td>\n",
       "      <td>13</td>\n",
       "      <td>18</td>\n",
       "      <td>5.00</td>\n",
       "      <td>0.0</td>\n",
       "    </tr>\n",
       "    <tr>\n",
       "      <th>2017-09-01</th>\n",
       "      <td>Haryana</td>\n",
       "      <td>2720.0</td>\n",
       "      <td>2470.00</td>\n",
       "      <td>0.00</td>\n",
       "      <td>2470.0</td>\n",
       "      <td>0</td>\n",
       "      <td>28</td>\n",
       "      <td>7</td>\n",
       "      <td>-21.80</td>\n",
       "      <td>0.0</td>\n",
       "    </tr>\n",
       "    <tr>\n",
       "      <th>2017-09-01</th>\n",
       "      <td>Himachal Pradesh</td>\n",
       "      <td>3378.0</td>\n",
       "      <td>379.00</td>\n",
       "      <td>0.00</td>\n",
       "      <td>231.0</td>\n",
       "      <td>0</td>\n",
       "      <td>40</td>\n",
       "      <td>46</td>\n",
       "      <td>5.63</td>\n",
       "      <td>0.0</td>\n",
       "    </tr>\n",
       "    <tr>\n",
       "      <th>2017-09-01</th>\n",
       "      <td>Jammu and Kashmir</td>\n",
       "      <td>1285.0</td>\n",
       "      <td>150.00</td>\n",
       "      <td>0.00</td>\n",
       "      <td>0.0</td>\n",
       "      <td>0</td>\n",
       "      <td>14</td>\n",
       "      <td>23</td>\n",
       "      <td>9.43</td>\n",
       "      <td>0.0</td>\n",
       "    </tr>\n",
       "    <tr>\n",
       "      <th>2017-09-01</th>\n",
       "      <td>Punjab</td>\n",
       "      <td>3826.3</td>\n",
       "      <td>2697.65</td>\n",
       "      <td>77.65</td>\n",
       "      <td>2620.0</td>\n",
       "      <td>0</td>\n",
       "      <td>39</td>\n",
       "      <td>17</td>\n",
       "      <td>-21.69</td>\n",
       "      <td>0.0</td>\n",
       "    </tr>\n",
       "    <tr>\n",
       "      <th>...</th>\n",
       "      <td>...</td>\n",
       "      <td>...</td>\n",
       "      <td>...</td>\n",
       "      <td>...</td>\n",
       "      <td>...</td>\n",
       "      <td>...</td>\n",
       "      <td>...</td>\n",
       "      <td>...</td>\n",
       "      <td>...</td>\n",
       "      <td>...</td>\n",
       "    </tr>\n",
       "    <tr>\n",
       "      <th>2022-04-13</th>\n",
       "      <td>Tripura</td>\n",
       "      <td>137.0</td>\n",
       "      <td>32.00</td>\n",
       "      <td>0.00</td>\n",
       "      <td>0.0</td>\n",
       "      <td>32</td>\n",
       "      <td>0</td>\n",
       "      <td>1</td>\n",
       "      <td>0.29</td>\n",
       "      <td>0.0</td>\n",
       "    </tr>\n",
       "    <tr>\n",
       "      <th>2022-04-13</th>\n",
       "      <td>NEEPCO.</td>\n",
       "      <td>2027.0</td>\n",
       "      <td>963.50</td>\n",
       "      <td>313.50</td>\n",
       "      <td>650.0</td>\n",
       "      <td>0</td>\n",
       "      <td>0</td>\n",
       "      <td>12</td>\n",
       "      <td>-1.59</td>\n",
       "      <td>0.0</td>\n",
       "    </tr>\n",
       "    <tr>\n",
       "      <th>2022-04-13</th>\n",
       "      <td>NHPC</td>\n",
       "      <td>105.0</td>\n",
       "      <td>35.00</td>\n",
       "      <td>0.00</td>\n",
       "      <td>35.0</td>\n",
       "      <td>0</td>\n",
       "      <td>0</td>\n",
       "      <td>0</td>\n",
       "      <td>-0.72</td>\n",
       "      <td>0.0</td>\n",
       "    </tr>\n",
       "    <tr>\n",
       "      <th>2022-04-13</th>\n",
       "      <td>NTPC Ltd.</td>\n",
       "      <td>750.0</td>\n",
       "      <td>250.00</td>\n",
       "      <td>0.00</td>\n",
       "      <td>250.0</td>\n",
       "      <td>0</td>\n",
       "      <td>0</td>\n",
       "      <td>11</td>\n",
       "      <td>4.45</td>\n",
       "      <td>0.0</td>\n",
       "    </tr>\n",
       "    <tr>\n",
       "      <th>2022-04-13</th>\n",
       "      <td>ONGC</td>\n",
       "      <td>726.6</td>\n",
       "      <td>0.00</td>\n",
       "      <td>0.00</td>\n",
       "      <td>0.0</td>\n",
       "      <td>0</td>\n",
       "      <td>0</td>\n",
       "      <td>13</td>\n",
       "      <td>1.80</td>\n",
       "      <td>0.0</td>\n",
       "    </tr>\n",
       "  </tbody>\n",
       "</table>\n",
       "<p>345273 rows × 10 columns</p>\n",
       "</div>"
      ],
      "text/plain": [
       "                Power Station  Monitored Cap.(MW)  \\\n",
       "Dates                                               \n",
       "2017-09-01              Delhi              2235.4   \n",
       "2017-09-01            Haryana              2720.0   \n",
       "2017-09-01   Himachal Pradesh              3378.0   \n",
       "2017-09-01  Jammu and Kashmir              1285.0   \n",
       "2017-09-01             Punjab              3826.3   \n",
       "...                       ...                 ...   \n",
       "2022-04-13            Tripura               137.0   \n",
       "2022-04-13            NEEPCO.              2027.0   \n",
       "2022-04-13               NHPC               105.0   \n",
       "2022-04-13          NTPC Ltd.               750.0   \n",
       "2022-04-13               ONGC               726.6   \n",
       "\n",
       "            Total Cap. Under Maintenace (MW)  Planned Maintanence (MW)  \\\n",
       "Dates                                                                    \n",
       "2017-09-01                            135.00                      0.00   \n",
       "2017-09-01                           2470.00                      0.00   \n",
       "2017-09-01                            379.00                      0.00   \n",
       "2017-09-01                            150.00                      0.00   \n",
       "2017-09-01                           2697.65                     77.65   \n",
       "...                                      ...                       ...   \n",
       "2022-04-13                             32.00                      0.00   \n",
       "2022-04-13                            963.50                    313.50   \n",
       "2022-04-13                             35.00                      0.00   \n",
       "2022-04-13                            250.00                      0.00   \n",
       "2022-04-13                              0.00                      0.00   \n",
       "\n",
       "            Forced Maintanence(MW)  Other Reasons (MW)  \\\n",
       "Dates                                                    \n",
       "2017-09-01                   135.0                   0   \n",
       "2017-09-01                  2470.0                   0   \n",
       "2017-09-01                   231.0                   0   \n",
       "2017-09-01                     0.0                   0   \n",
       "2017-09-01                  2620.0                   0   \n",
       "...                            ...                 ...   \n",
       "2022-04-13                     0.0                  32   \n",
       "2022-04-13                   650.0                   0   \n",
       "2022-04-13                    35.0                   0   \n",
       "2022-04-13                   250.0                   0   \n",
       "2022-04-13                     0.0                   0   \n",
       "\n",
       "            Programme or Expected(MU)  Actual(MU)  Excess(+) / Shortfall (-)  \\\n",
       "Dates                                                                          \n",
       "2017-09-01                         13          18                       5.00   \n",
       "2017-09-01                         28           7                     -21.80   \n",
       "2017-09-01                         40          46                       5.63   \n",
       "2017-09-01                         14          23                       9.43   \n",
       "2017-09-01                         39          17                     -21.69   \n",
       "...                               ...         ...                        ...   \n",
       "2022-04-13                          0           1                       0.29   \n",
       "2022-04-13                          0          12                      -1.59   \n",
       "2022-04-13                          0           0                      -0.72   \n",
       "2022-04-13                          0          11                       4.45   \n",
       "2022-04-13                          0          13                       1.80   \n",
       "\n",
       "            Deviation  \n",
       "Dates                  \n",
       "2017-09-01        0.0  \n",
       "2017-09-01        0.0  \n",
       "2017-09-01        0.0  \n",
       "2017-09-01        0.0  \n",
       "2017-09-01        0.0  \n",
       "...               ...  \n",
       "2022-04-13        0.0  \n",
       "2022-04-13        0.0  \n",
       "2022-04-13        0.0  \n",
       "2022-04-13        0.0  \n",
       "2022-04-13        0.0  \n",
       "\n",
       "[345273 rows x 10 columns]"
      ]
     },
     "execution_count": 107,
     "metadata": {},
     "output_type": "execute_result"
    }
   ],
   "source": [
    "df.set_index('Dates',drop=True,inplace=True)\n",
    "df"
   ]
  },
  {
   "cell_type": "code",
   "execution_count": 111,
   "id": "63a3ded0-5b5c-45a3-b7e4-be3137b66791",
   "metadata": {},
   "outputs": [
    {
     "name": "stdout",
     "output_type": "stream",
     "text": [
      "<class 'pandas.core.frame.DataFrame'>\n",
      "DatetimeIndex: 345273 entries, 2017-09-01 to 2022-04-13\n",
      "Data columns (total 10 columns):\n",
      " #   Column                            Non-Null Count   Dtype  \n",
      "---  ------                            --------------   -----  \n",
      " 0   Power Station                     345273 non-null  object \n",
      " 1   Monitored Cap.(MW)                345273 non-null  float64\n",
      " 2   Total Cap. Under Maintenace (MW)  345273 non-null  float64\n",
      " 3   Planned Maintanence (MW)          345273 non-null  float64\n",
      " 4   Forced Maintanence(MW)            345273 non-null  float64\n",
      " 5   Other Reasons (MW)                345273 non-null  int64  \n",
      " 6   Programme or Expected(MU)         345273 non-null  int64  \n",
      " 7   Actual(MU)                        345273 non-null  int64  \n",
      " 8   Excess(+) / Shortfall (-)         345273 non-null  float64\n",
      " 9   Deviation                         345273 non-null  float64\n",
      "dtypes: float64(6), int64(3), object(1)\n",
      "memory usage: 29.0+ MB\n"
     ]
    }
   ],
   "source": [
    "df.info()"
   ]
  },
  {
   "cell_type": "markdown",
   "id": "85690826-9a4f-4112-9dbe-1551b95f6ca5",
   "metadata": {},
   "source": [
    "## 1.Which Power Station had the highest total 'Deviation' in 2020?"
   ]
  },
  {
   "cell_type": "code",
   "execution_count": 112,
   "id": "45761fd3-f359-4cd8-93a8-3eec153bfd67",
   "metadata": {},
   "outputs": [
    {
     "data": {
      "text/html": [
       "<div>\n",
       "<style scoped>\n",
       "    .dataframe tbody tr th:only-of-type {\n",
       "        vertical-align: middle;\n",
       "    }\n",
       "\n",
       "    .dataframe tbody tr th {\n",
       "        vertical-align: top;\n",
       "    }\n",
       "\n",
       "    .dataframe thead th {\n",
       "        text-align: right;\n",
       "    }\n",
       "</style>\n",
       "<table border=\"1\" class=\"dataframe\">\n",
       "  <thead>\n",
       "    <tr style=\"text-align: right;\">\n",
       "      <th></th>\n",
       "      <th>Deviation</th>\n",
       "    </tr>\n",
       "    <tr>\n",
       "      <th>Power Station</th>\n",
       "      <th></th>\n",
       "    </tr>\n",
       "  </thead>\n",
       "  <tbody>\n",
       "    <tr>\n",
       "      <th>ABAN POWR</th>\n",
       "      <td>0.0</td>\n",
       "    </tr>\n",
       "    <tr>\n",
       "      <th>ACB</th>\n",
       "      <td>0.0</td>\n",
       "    </tr>\n",
       "    <tr>\n",
       "      <th>ACPL</th>\n",
       "      <td>0.0</td>\n",
       "    </tr>\n",
       "    <tr>\n",
       "      <th>ADHPL</th>\n",
       "      <td>0.0</td>\n",
       "    </tr>\n",
       "    <tr>\n",
       "      <th>ADHUNIK</th>\n",
       "      <td>0.0</td>\n",
       "    </tr>\n",
       "    <tr>\n",
       "      <th>...</th>\n",
       "      <td>...</td>\n",
       "    </tr>\n",
       "    <tr>\n",
       "      <th>VESPL</th>\n",
       "      <td>0.0</td>\n",
       "    </tr>\n",
       "    <tr>\n",
       "      <th>VIP</th>\n",
       "      <td>0.0</td>\n",
       "    </tr>\n",
       "    <tr>\n",
       "      <th>VVL</th>\n",
       "      <td>0.0</td>\n",
       "    </tr>\n",
       "    <tr>\n",
       "      <th>WPCL</th>\n",
       "      <td>0.0</td>\n",
       "    </tr>\n",
       "    <tr>\n",
       "      <th>West Bengal</th>\n",
       "      <td>0.0</td>\n",
       "    </tr>\n",
       "  </tbody>\n",
       "</table>\n",
       "<p>164 rows × 1 columns</p>\n",
       "</div>"
      ],
      "text/plain": [
       "               Deviation\n",
       "Power Station           \n",
       "ABAN POWR            0.0\n",
       "ACB                  0.0\n",
       "ACPL                 0.0\n",
       "ADHPL                0.0\n",
       "ADHUNIK              0.0\n",
       "...                  ...\n",
       "VESPL                0.0\n",
       "VIP                  0.0\n",
       "VVL                  0.0\n",
       "WPCL                 0.0\n",
       "West Bengal          0.0\n",
       "\n",
       "[164 rows x 1 columns]"
      ]
     },
     "execution_count": 112,
     "metadata": {},
     "output_type": "execute_result"
    }
   ],
   "source": [
    "df = df.sort_index()\n",
    "\n",
    "a = df.loc['2020-01-01':'2020-12-31'].groupby('Power Station')[['Deviation']].sum()\n",
    "\n",
    "a.loc[a['Deviation'] == a['Deviation'].max()]\n"
   ]
  },
  {
   "cell_type": "markdown",
   "id": "02c2e06c-1946-4c71-9db4-cbe9ca8b2c36",
   "metadata": {},
   "source": [
    "## 2.What is the average 'Forced Maintenance (MW)' for weekends in 2019? "
   ]
  },
  {
   "cell_type": "code",
   "execution_count": 116,
   "id": "016689a9-d24a-4ce3-ad62-081d8a9aec5a",
   "metadata": {},
   "outputs": [
    {
     "data": {
      "text/plain": [
       "Dates\n",
       "2017-09-01    False\n",
       "2017-09-01    False\n",
       "2017-09-01    False\n",
       "2017-09-01    False\n",
       "2017-09-01    False\n",
       "              ...  \n",
       "2022-12-22    False\n",
       "2022-12-22    False\n",
       "2022-12-22    False\n",
       "2022-12-22    False\n",
       "2022-12-22    False\n",
       "Name: Dates, Length: 345273, dtype: bool"
      ]
     },
     "execution_count": 116,
     "metadata": {},
     "output_type": "execute_result"
    }
   ],
   "source": [
    "df.index.to_series().apply(is_weekend)"
   ]
  },
  {
   "cell_type": "code",
   "execution_count": 118,
   "id": "aa0ff4d5-c899-413f-9c58-252505bee33b",
   "metadata": {},
   "outputs": [
    {
     "name": "stdout",
     "output_type": "stream",
     "text": [
      "323.95776221107724\n"
     ]
    }
   ],
   "source": [
    "filtered_df = df.loc['2019-01-01':'2019-12-31']\n",
    "weekend_df = filtered_df.loc[filtered_df.index.to_series().apply(is_weekend)]\n",
    "mean_forced_maintenance = weekend_df['Forced Maintanence(MW)'].mean()\n",
    "\n",
    "print(mean_forced_maintenance)\n"
   ]
  },
  {
   "cell_type": "markdown",
   "id": "e15823dc-d956-4a7d-a2de-e2148a09050b",
   "metadata": {},
   "source": [
    "## 3.What is the total number of days in 2020 where 'Total Cap. Under Maintenace (MW)' exceeded 'Monitored Cap.(MW)' ?"
   ]
  },
  {
   "cell_type": "code",
   "execution_count": 120,
   "id": "b194e05e-a5f2-4284-8568-160936df6bb6",
   "metadata": {},
   "outputs": [
    {
     "name": "stdout",
     "output_type": "stream",
     "text": [
      "Empty DataFrame\n",
      "Columns: [Power Station, Monitored Cap.(MW), Total Cap. Under Maintenace (MW), Planned Maintanence (MW), Forced Maintanence(MW), Other Reasons (MW), Programme or Expected(MU), Actual(MU), Excess(+) / Shortfall (-), Deviation]\n",
      "Index: []\n"
     ]
    }
   ],
   "source": [
    "df = df.sort_index() \n",
    "\n",
    "filtered_df = df.loc['2020-01-01':'2020-12-31'] \n",
    "result = filtered_df[filtered_df['Total Cap. Under Maintenace (MW)'] > filtered_df['Monitored Cap.(MW)']]\n",
    "\n",
    "print(result)"
   ]
  },
  {
   "cell_type": "code",
   "execution_count": 121,
   "id": "31b6a183-22c3-4524-8246-faa608ad2199",
   "metadata": {},
   "outputs": [
    {
     "data": {
      "text/html": [
       "<div>\n",
       "<style scoped>\n",
       "    .dataframe tbody tr th:only-of-type {\n",
       "        vertical-align: middle;\n",
       "    }\n",
       "\n",
       "    .dataframe tbody tr th {\n",
       "        vertical-align: top;\n",
       "    }\n",
       "\n",
       "    .dataframe thead th {\n",
       "        text-align: right;\n",
       "    }\n",
       "</style>\n",
       "<table border=\"1\" class=\"dataframe\">\n",
       "  <thead>\n",
       "    <tr style=\"text-align: right;\">\n",
       "      <th></th>\n",
       "      <th>Power Station</th>\n",
       "      <th>Monitored Cap.(MW)</th>\n",
       "      <th>Total Cap. Under Maintenace (MW)</th>\n",
       "      <th>Planned Maintanence (MW)</th>\n",
       "      <th>Forced Maintanence(MW)</th>\n",
       "      <th>Other Reasons (MW)</th>\n",
       "      <th>Programme or Expected(MU)</th>\n",
       "      <th>Actual(MU)</th>\n",
       "      <th>Excess(+) / Shortfall (-)</th>\n",
       "      <th>Deviation</th>\n",
       "    </tr>\n",
       "    <tr>\n",
       "      <th>Dates</th>\n",
       "      <th></th>\n",
       "      <th></th>\n",
       "      <th></th>\n",
       "      <th></th>\n",
       "      <th></th>\n",
       "      <th></th>\n",
       "      <th></th>\n",
       "      <th></th>\n",
       "      <th></th>\n",
       "      <th></th>\n",
       "    </tr>\n",
       "  </thead>\n",
       "  <tbody>\n",
       "  </tbody>\n",
       "</table>\n",
       "</div>"
      ],
      "text/plain": [
       "Empty DataFrame\n",
       "Columns: [Power Station, Monitored Cap.(MW), Total Cap. Under Maintenace (MW), Planned Maintanence (MW), Forced Maintanence(MW), Other Reasons (MW), Programme or Expected(MU), Actual(MU), Excess(+) / Shortfall (-), Deviation]\n",
       "Index: []"
      ]
     },
     "execution_count": 121,
     "metadata": {},
     "output_type": "execute_result"
    }
   ],
   "source": [
    "df.sort_index().loc['2020-01-01':'2020-12-31'].query(\"`Total Cap. Under Maintenace (MW)` > `Monitored Cap.(MW)`\")\n"
   ]
  },
  {
   "cell_type": "markdown",
   "id": "4466c9be-4da4-464c-b610-5df2e5b81864",
   "metadata": {},
   "source": [
    "## 4.Which Power Station had the highest average 'Planned Maintenance (MW)' during the winter months (December to February) across all years?"
   ]
  },
  {
   "cell_type": "code",
   "execution_count": 122,
   "id": "05d04491-45bb-4ce7-940f-3d7b52deea31",
   "metadata": {},
   "outputs": [
    {
     "data": {
      "text/html": [
       "<div>\n",
       "<style scoped>\n",
       "    .dataframe tbody tr th:only-of-type {\n",
       "        vertical-align: middle;\n",
       "    }\n",
       "\n",
       "    .dataframe tbody tr th {\n",
       "        vertical-align: top;\n",
       "    }\n",
       "\n",
       "    .dataframe thead th {\n",
       "        text-align: right;\n",
       "    }\n",
       "</style>\n",
       "<table border=\"1\" class=\"dataframe\">\n",
       "  <thead>\n",
       "    <tr style=\"text-align: right;\">\n",
       "      <th></th>\n",
       "      <th>Planned Maintanence (MW)</th>\n",
       "    </tr>\n",
       "    <tr>\n",
       "      <th>Power Station</th>\n",
       "      <th></th>\n",
       "    </tr>\n",
       "  </thead>\n",
       "  <tbody>\n",
       "    <tr>\n",
       "      <th>Andhra Pradesh.</th>\n",
       "      <td>730.615385</td>\n",
       "    </tr>\n",
       "  </tbody>\n",
       "</table>\n",
       "</div>"
      ],
      "text/plain": [
       "                 Planned Maintanence (MW)\n",
       "Power Station                            \n",
       "Andhra Pradesh.                730.615385"
      ]
     },
     "execution_count": 122,
     "metadata": {},
     "output_type": "execute_result"
    }
   ],
   "source": [
    "df = df.sort_index()  \n",
    "\n",
    "\n",
    "a = df.loc[df.index.to_series().apply(is_winter)].groupby('Power Station')[['Planned Maintanence (MW)']].mean()\n",
    "\n",
    "\n",
    "a.loc[a['Planned Maintanence (MW)'] == a['Planned Maintanence (MW)'].max()]\n"
   ]
  },
  {
   "cell_type": "code",
   "execution_count": 123,
   "id": "18d0c3a9-5dc5-4a55-9339-760ffb948b9c",
   "metadata": {},
   "outputs": [
    {
     "data": {
      "text/html": [
       "<div>\n",
       "<style scoped>\n",
       "    .dataframe tbody tr th:only-of-type {\n",
       "        vertical-align: middle;\n",
       "    }\n",
       "\n",
       "    .dataframe tbody tr th {\n",
       "        vertical-align: top;\n",
       "    }\n",
       "\n",
       "    .dataframe thead th {\n",
       "        text-align: right;\n",
       "    }\n",
       "</style>\n",
       "<table border=\"1\" class=\"dataframe\">\n",
       "  <thead>\n",
       "    <tr style=\"text-align: right;\">\n",
       "      <th></th>\n",
       "      <th>Planned Maintanence (MW)</th>\n",
       "    </tr>\n",
       "    <tr>\n",
       "      <th>Power Station</th>\n",
       "      <th></th>\n",
       "    </tr>\n",
       "  </thead>\n",
       "  <tbody>\n",
       "    <tr>\n",
       "      <th>Andhra Pradesh.</th>\n",
       "      <td>730.615385</td>\n",
       "    </tr>\n",
       "  </tbody>\n",
       "</table>\n",
       "</div>"
      ],
      "text/plain": [
       "                 Planned Maintanence (MW)\n",
       "Power Station                            \n",
       "Andhra Pradesh.                730.615385"
      ]
     },
     "execution_count": 123,
     "metadata": {},
     "output_type": "execute_result"
    }
   ],
   "source": [
    "a.loc[[a['Planned Maintanence (MW)'].idxmax()]]"
   ]
  },
  {
   "cell_type": "markdown",
   "id": "f6f6de05-0849-4caa-b5df-1452a849e252",
   "metadata": {},
   "source": [
    "## 5.What is the median 'Actual (MU)' for each quarter in 2020?"
   ]
  },
  {
   "cell_type": "code",
   "execution_count": 127,
   "id": "a67c4000-22f1-4c0d-b727-ebc06edadc8b",
   "metadata": {},
   "outputs": [
    {
     "name": "stdout",
     "output_type": "stream",
     "text": [
      "Dates\n",
      "2020-03-31    6.0\n",
      "2020-06-30    6.0\n",
      "2020-09-30    6.0\n",
      "2020-12-31    5.0\n",
      "Freq: QE-DEC, Name: Actual(MU), dtype: float64\n"
     ]
    },
    {
     "name": "stderr",
     "output_type": "stream",
     "text": [
      "C:\\Users\\dtrri\\AppData\\Local\\Temp\\ipykernel_7060\\3580364944.py:4: FutureWarning: 'Q' is deprecated and will be removed in a future version, please use 'QE' instead.\n",
      "  result = df.loc['2020-01-01':'2020-12-31'].groupby(pd.Grouper(freq='Q'))['Actual(MU)'].median()\n"
     ]
    }
   ],
   "source": [
    "df = df.sort_index()  # Ensure the DatetimeIndex is sorted\n",
    "\n",
    "# Group by quarter using pd.Grouper and calculate median for 'Actual(MU)'\n",
    "result = df.loc['2020-01-01':'2020-12-31'].groupby(pd.Grouper(freq='Q'))['Actual(MU)'].median()\n",
    "\n",
    "print(result)\n"
   ]
  },
  {
   "cell_type": "code",
   "execution_count": 130,
   "id": "e2465a3b-3fe2-4734-b2d2-af2d84da3952",
   "metadata": {},
   "outputs": [
    {
     "data": {
      "text/plain": [
       "Actual(MU)    6.0\n",
       "dtype: float64"
      ]
     },
     "execution_count": 130,
     "metadata": {},
     "output_type": "execute_result"
    }
   ],
   "source": [
    "df.loc['2020-01-01':'2020-3-31',['Actual(MU)']].median()"
   ]
  },
  {
   "cell_type": "code",
   "execution_count": 132,
   "id": "539f1eb5-24d3-427b-a11a-7ec91c54d573",
   "metadata": {},
   "outputs": [
    {
     "data": {
      "text/plain": [
       "Actual(MU)    6.0\n",
       "dtype: float64"
      ]
     },
     "execution_count": 132,
     "metadata": {},
     "output_type": "execute_result"
    }
   ],
   "source": [
    "df.loc['2020-04-01':'2020-6-30',['Actual(MU)']].median()"
   ]
  },
  {
   "cell_type": "code",
   "execution_count": 134,
   "id": "f87f71e1-9b35-454f-8084-8b68317877f7",
   "metadata": {},
   "outputs": [
    {
     "data": {
      "text/plain": [
       "Actual(MU)    6.0\n",
       "dtype: float64"
      ]
     },
     "execution_count": 134,
     "metadata": {},
     "output_type": "execute_result"
    }
   ],
   "source": [
    "df.loc['2020-07-01':'2020-9-30',['Actual(MU)']].median()"
   ]
  },
  {
   "cell_type": "code",
   "execution_count": 135,
   "id": "4071b5de-9041-435b-8e7a-838d90de1a8c",
   "metadata": {},
   "outputs": [
    {
     "data": {
      "text/plain": [
       "Actual(MU)    5.0\n",
       "dtype: float64"
      ]
     },
     "execution_count": 135,
     "metadata": {},
     "output_type": "execute_result"
    }
   ],
   "source": [
    "df.loc['2020-10-01':'2020-12-31',['Actual(MU)']].median()"
   ]
  },
  {
   "cell_type": "markdown",
   "id": "42f1895e-66b2-40a9-ad51-bb1d7d171fc3",
   "metadata": {},
   "source": [
    "## 6.What is the average 'Deviation' in the first quarter (Q1) of 2019?"
   ]
  },
  {
   "cell_type": "code",
   "execution_count": 138,
   "id": "63ef6603-65fd-4fc3-89df-8c0b8a84dd87",
   "metadata": {},
   "outputs": [
    {
     "data": {
      "text/plain": [
       "Deviation    0.0\n",
       "dtype: float64"
      ]
     },
     "execution_count": 138,
     "metadata": {},
     "output_type": "execute_result"
    }
   ],
   "source": [
    "df.loc['2019-1-1':'2019-3-31',['Deviation']].mean()"
   ]
  },
  {
   "cell_type": "markdown",
   "id": "668effeb-696c-4e94-bdf8-843d25849697",
   "metadata": {},
   "source": [
    "## 7.What is the total 'Actual(MU)' generated on weekends (Saturday and Sunday) in 2018?"
   ]
  },
  {
   "cell_type": "code",
   "execution_count": 149,
   "id": "604161bb-9876-4f46-8927-28738cfaa219",
   "metadata": {},
   "outputs": [
    {
     "data": {
      "text/plain": [
       "342018"
      ]
     },
     "execution_count": 149,
     "metadata": {},
     "output_type": "execute_result"
    }
   ],
   "source": [
    "df=df.sort_index()\n",
    "filter_df=df.loc[df.index.to_series().apply(is_weekend)]\n",
    "filter_df.loc['2018-1-1':'2018-12-31']['Actual(MU)'].sum()"
   ]
  },
  {
   "cell_type": "markdown",
   "id": "e4065941-397f-433c-8626-48a81bb2096d",
   "metadata": {},
   "source": [
    "## 8.Which Power Station had the highest average 'Excess(+) / Shortfall (-)' in 2019?"
   ]
  },
  {
   "cell_type": "code",
   "execution_count": 151,
   "id": "82917416-fecb-4ddc-8b95-35641d115edd",
   "metadata": {},
   "outputs": [
    {
     "data": {
      "text/html": [
       "<div>\n",
       "<style scoped>\n",
       "    .dataframe tbody tr th:only-of-type {\n",
       "        vertical-align: middle;\n",
       "    }\n",
       "\n",
       "    .dataframe tbody tr th {\n",
       "        vertical-align: top;\n",
       "    }\n",
       "\n",
       "    .dataframe thead th {\n",
       "        text-align: right;\n",
       "    }\n",
       "</style>\n",
       "<table border=\"1\" class=\"dataframe\">\n",
       "  <thead>\n",
       "    <tr style=\"text-align: right;\">\n",
       "      <th></th>\n",
       "      <th>Excess(+) / Shortfall (-)</th>\n",
       "    </tr>\n",
       "    <tr>\n",
       "      <th>Power Station</th>\n",
       "      <th></th>\n",
       "    </tr>\n",
       "  </thead>\n",
       "  <tbody>\n",
       "    <tr>\n",
       "      <th>GCEL</th>\n",
       "      <td>8.262712</td>\n",
       "    </tr>\n",
       "  </tbody>\n",
       "</table>\n",
       "</div>"
      ],
      "text/plain": [
       "               Excess(+) / Shortfall (-)\n",
       "Power Station                           \n",
       "GCEL                            8.262712"
      ]
     },
     "execution_count": 151,
     "metadata": {},
     "output_type": "execute_result"
    }
   ],
   "source": [
    "df=df.sort_index()\n",
    "a=df.loc['2019-1-1':'2019-12-31'].groupby('Power Station')[['Excess(+) / Shortfall (-)']].mean()\n",
    "a.loc[a['Excess(+) / Shortfall (-)']==a['Excess(+) / Shortfall (-)'].max()]"
   ]
  },
  {
   "cell_type": "markdown",
   "id": "68d45adb-9016-4b98-8293-67dca51e1b3c",
   "metadata": {},
   "source": [
    "## 9.What is the median 'Total Cap. Under Maintenance (MW)' during the monsoon months (June to September) across all years?"
   ]
  },
  {
   "cell_type": "code",
   "execution_count": 152,
   "id": "212bf122-90bb-46a0-88a8-98f688d2e164",
   "metadata": {},
   "outputs": [
    {
     "data": {
      "text/plain": [
       "Total Cap. Under Maintenace (MW)    150.0\n",
       "dtype: float64"
      ]
     },
     "execution_count": 152,
     "metadata": {},
     "output_type": "execute_result"
    }
   ],
   "source": [
    "df.loc[df.index.to_series().apply(is_winter),['Total Cap. Under Maintenace (MW)']].median()"
   ]
  },
  {
   "cell_type": "code",
   "execution_count": 171,
   "id": "53e7d030-e655-4f64-9d18-7401edcbc640",
   "metadata": {},
   "outputs": [
    {
     "data": {
      "text/html": [
       "<div>\n",
       "<style scoped>\n",
       "    .dataframe tbody tr th:only-of-type {\n",
       "        vertical-align: middle;\n",
       "    }\n",
       "\n",
       "    .dataframe tbody tr th {\n",
       "        vertical-align: top;\n",
       "    }\n",
       "\n",
       "    .dataframe thead th {\n",
       "        text-align: right;\n",
       "    }\n",
       "</style>\n",
       "<table border=\"1\" class=\"dataframe\">\n",
       "  <thead>\n",
       "    <tr style=\"text-align: right;\">\n",
       "      <th></th>\n",
       "      <th>Total Cap. Under Maintenace (MW)</th>\n",
       "    </tr>\n",
       "    <tr>\n",
       "      <th>Dates</th>\n",
       "      <th></th>\n",
       "    </tr>\n",
       "  </thead>\n",
       "  <tbody>\n",
       "    <tr>\n",
       "      <th>2017-12-01</th>\n",
       "      <td>0.0</td>\n",
       "    </tr>\n",
       "    <tr>\n",
       "      <th>2017-12-01</th>\n",
       "      <td>0.0</td>\n",
       "    </tr>\n",
       "    <tr>\n",
       "      <th>2017-12-01</th>\n",
       "      <td>750.0</td>\n",
       "    </tr>\n",
       "    <tr>\n",
       "      <th>2017-12-01</th>\n",
       "      <td>0.0</td>\n",
       "    </tr>\n",
       "    <tr>\n",
       "      <th>2017-12-01</th>\n",
       "      <td>1381.0</td>\n",
       "    </tr>\n",
       "    <tr>\n",
       "      <th>...</th>\n",
       "      <td>...</td>\n",
       "    </tr>\n",
       "    <tr>\n",
       "      <th>2022-12-22</th>\n",
       "      <td>0.0</td>\n",
       "    </tr>\n",
       "    <tr>\n",
       "      <th>2022-12-22</th>\n",
       "      <td>515.0</td>\n",
       "    </tr>\n",
       "    <tr>\n",
       "      <th>2022-12-22</th>\n",
       "      <td>600.0</td>\n",
       "    </tr>\n",
       "    <tr>\n",
       "      <th>2022-12-22</th>\n",
       "      <td>120.0</td>\n",
       "    </tr>\n",
       "    <tr>\n",
       "      <th>2022-12-22</th>\n",
       "      <td>960.0</td>\n",
       "    </tr>\n",
       "  </tbody>\n",
       "</table>\n",
       "<p>84143 rows × 1 columns</p>\n",
       "</div>"
      ],
      "text/plain": [
       "            Total Cap. Under Maintenace (MW)\n",
       "Dates                                       \n",
       "2017-12-01                               0.0\n",
       "2017-12-01                               0.0\n",
       "2017-12-01                             750.0\n",
       "2017-12-01                               0.0\n",
       "2017-12-01                            1381.0\n",
       "...                                      ...\n",
       "2022-12-22                               0.0\n",
       "2022-12-22                             515.0\n",
       "2022-12-22                             600.0\n",
       "2022-12-22                             120.0\n",
       "2022-12-22                             960.0\n",
       "\n",
       "[84143 rows x 1 columns]"
      ]
     },
     "execution_count": 171,
     "metadata": {},
     "output_type": "execute_result"
    }
   ],
   "source": [
    "df.loc[df.index.to_series().apply(is_winter),['Total Cap. Under Maintenace (MW)']]"
   ]
  },
  {
   "cell_type": "markdown",
   "id": "7546cd7b-af4f-4630-88a1-8cb55b8fbf36",
   "metadata": {},
   "source": [
    "## 10.What is the percentage of days in 2020 where 'Actual(MU)' was less than 'Programme or Expected(MU)'?"
   ]
  },
  {
   "cell_type": "code",
   "execution_count": 159,
   "id": "eea25604-4505-4c12-90c8-34942a849aeb",
   "metadata": {},
   "outputs": [
    {
     "data": {
      "text/plain": [
       "20563"
      ]
     },
     "execution_count": 159,
     "metadata": {},
     "output_type": "execute_result"
    }
   ],
   "source": [
    "df=df.sort_index()\n",
    "f_df=df.loc['2020-1-1':'2020-12-31']\n",
    "\n",
    "d_g=len(f_df.loc[(f_df['Programme or Expected(MU)']>f_df['Actual(MU)'])])\n",
    "d_g\n"
   ]
  },
  {
   "cell_type": "code",
   "execution_count": 160,
   "id": "38ce5a93-8b7c-404a-9954-b58d03147ddd",
   "metadata": {},
   "outputs": [
    {
     "data": {
      "text/plain": [
       "64968"
      ]
     },
     "execution_count": 160,
     "metadata": {},
     "output_type": "execute_result"
    }
   ],
   "source": [
    "t_d=len(df.loc['2020-1-1':'2020-12-31'])\n",
    "t_d"
   ]
  },
  {
   "cell_type": "code",
   "execution_count": 167,
   "id": "246f323f-5fec-45c9-9c3d-4996b428ff80",
   "metadata": {},
   "outputs": [
    {
     "name": "stdout",
     "output_type": "stream",
     "text": [
      "31.650967 %\n"
     ]
    }
   ],
   "source": [
    "print(f'{(d_g/t_d)*100 :0f} %')"
   ]
  },
  {
   "cell_type": "code",
   "execution_count": 170,
   "id": "0c31f6f3-c622-4260-8ee3-368de020960a",
   "metadata": {},
   "outputs": [
    {
     "data": {
      "text/html": [
       "<div>\n",
       "<style scoped>\n",
       "    .dataframe tbody tr th:only-of-type {\n",
       "        vertical-align: middle;\n",
       "    }\n",
       "\n",
       "    .dataframe tbody tr th {\n",
       "        vertical-align: top;\n",
       "    }\n",
       "\n",
       "    .dataframe thead th {\n",
       "        text-align: right;\n",
       "    }\n",
       "</style>\n",
       "<table border=\"1\" class=\"dataframe\">\n",
       "  <thead>\n",
       "    <tr style=\"text-align: right;\">\n",
       "      <th></th>\n",
       "      <th>Actual(MU)</th>\n",
       "    </tr>\n",
       "    <tr>\n",
       "      <th>Power Station</th>\n",
       "      <th></th>\n",
       "    </tr>\n",
       "  </thead>\n",
       "  <tbody>\n",
       "    <tr>\n",
       "      <th>NTPC Ltd.</th>\n",
       "      <td>269772</td>\n",
       "    </tr>\n",
       "  </tbody>\n",
       "</table>\n",
       "</div>"
      ],
      "text/plain": [
       "               Actual(MU)\n",
       "Power Station            \n",
       "NTPC Ltd.          269772"
      ]
     },
     "execution_count": 170,
     "metadata": {},
     "output_type": "execute_result"
    }
   ],
   "source": [
    "df = df.sort_index()\n",
    "\n",
    "a = df.loc['2020-01-01':'2020-12-31'].groupby('Power Station')[['Actual(MU)']].sum()\n",
    "\n",
    "a.loc[a['Actual(MU)'] == a['Actual(MU)'].max()]"
   ]
  },
  {
   "cell_type": "code",
   "execution_count": null,
   "id": "06f70c86-3a2f-456c-aaf3-8cb0eb61d289",
   "metadata": {},
   "outputs": [],
   "source": []
  }
 ],
 "metadata": {
  "kernelspec": {
   "display_name": "Python 3 (ipykernel)",
   "language": "python",
   "name": "python3"
  },
  "language_info": {
   "codemirror_mode": {
    "name": "ipython",
    "version": 3
   },
   "file_extension": ".py",
   "mimetype": "text/x-python",
   "name": "python",
   "nbconvert_exporter": "python",
   "pygments_lexer": "ipython3",
   "version": "3.12.7"
  }
 },
 "nbformat": 4,
 "nbformat_minor": 5
}
