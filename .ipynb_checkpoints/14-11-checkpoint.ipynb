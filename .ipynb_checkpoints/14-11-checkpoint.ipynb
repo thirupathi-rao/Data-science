{
 "cells": [
  {
   "cell_type": "code",
   "execution_count": null,
   "id": "0383aaf3-1e77-4fa5-ad8c-5524e37ac7cd",
   "metadata": {},
   "outputs": [],
   "source": [
    "Q1.\n",
    "a. Create a variable to store the string \"Earth revolves around the sun\"\n",
    "- Print \"revolves\" using slice operator\n",
    "- Print \"sun\" using negative index\n",
    "b. Create two variables to store how many fruits and vegetables you eat in a day.\n",
    "Now, Print \"I eat x veggies and y fruits daily\" where x and y presents vegetables\n",
    "and fruits that you eat everyday."
   ]
  },
  {
   "cell_type": "code",
   "execution_count": null,
   "id": "d1c19022-e81f-476e-863f-0fb8d63eca38",
   "metadata": {},
   "outputs": [],
   "source": [
    "#A\n",
    "s=\"Earth revolves around the sun\"\n",
    "x=s[6:15]\n",
    "print(x)\n",
    "y=s.split(\" \")\n",
    "print(y[-1])"
   ]
  },
  {
   "cell_type": "code",
   "execution_count": 2,
   "id": "d9d19f21-d517-4364-a66a-350be9822235",
   "metadata": {},
   "outputs": [
    {
     "name": "stdin",
     "output_type": "stream",
     "text": [
      "enter how many friuts you eat in a day :  5\n",
      "enter how many vegitables you eat in a day :  6\n"
     ]
    },
    {
     "name": "stdout",
     "output_type": "stream",
     "text": [
      "I eat 6 veggies and 5 fruits daily\n"
     ]
    }
   ],
   "source": [
    "#b\n",
    "fruits=int(input('enter how many friuts you eat in a day : '))\n",
    "veg=int(input('enter how many vegitables you eat in a day : '))\n",
    "print('I eat {} veggies and {} fruits daily'.format(veg,fruits))"
   ]
  },
  {
   "cell_type": "code",
   "execution_count": null,
   "id": "bdfce4dc-e92f-40aa-95f1-7077df7578e6",
   "metadata": {},
   "outputs": [],
   "source": [
    "Q2.\n",
    "a. Write a program that takes a sentence ='Give papa a cup of proper coffee in a\n",
    "copper coffee cup' as input and replaces all occurrences of the word \"coffee\" with\n",
    "\"tea\".\n",
    "b. Check if the above sentence starts with \"Hello\" and ends with \"cup\".\n",
    "c. Return the above sentence in title case and capital case.\n"
   ]
  },
  {
   "cell_type": "code",
   "execution_count": 9,
   "id": "39e8f3aa-9f9e-460a-b6c4-16fa826f3f2d",
   "metadata": {},
   "outputs": [
    {
     "name": "stdout",
     "output_type": "stream",
     "text": [
      "Give papa a cup of proper tea in a copper tea cup\n",
      "False\n",
      "True\n",
      "Give Papa A Cup Of Proper Coffee In A Copper Coffee Cup\n",
      "Give papa a cup of proper coffee in a copper coffee cup\n"
     ]
    }
   ],
   "source": [
    "s='Give papa a cup of proper coffee in a copper coffee cup'\n",
    "\n",
    "print(s.replace(\"coffee\",'tea'))\n",
    "print(s.startswith('hello'))\n",
    "print(s.endswith('cup'))\n",
    "print(s.title())\n",
    "print(s.capitalize())"
   ]
  },
  {
   "cell_type": "code",
   "execution_count": null,
   "id": "fb93eea1-4462-4ba7-8090-8c08a9e484d3",
   "metadata": {},
   "outputs": [],
   "source": [
    "Q3.\n",
    "a. Convert the above sentence into uppercase and count how many times the letter\n",
    "‘P’ is repeated.\n",
    "b. Now, convert the whole string into lowercase and find the index of letter ‘c’"
   ]
  },
  {
   "cell_type": "code",
   "execution_count": 11,
   "id": "0074b79c-6ab0-4861-8757-d19940a7a97c",
   "metadata": {},
   "outputs": [
    {
     "name": "stdout",
     "output_type": "stream",
     "text": [
      "GIVE PAPA A CUP OF PROPER COFFEE IN A COPPER COFFEE CUP\n",
      "8\n",
      "give papa a cup of proper coffee in a copper coffee cup\n",
      "12\n"
     ]
    }
   ],
   "source": [
    "#a\n",
    "print(s.upper())\n",
    "print(s.count('p'))\n",
    "print(s.lower())\n",
    "print(s.index('c'))"
   ]
  },
  {
   "cell_type": "code",
   "execution_count": null,
   "id": "47a1a95f-f97f-4bf0-b383-75d46864c630",
   "metadata": {},
   "outputs": [],
   "source": [
    "Q4. Explore five different string methods from documentation as explained in class.\n",
    "Also, Prepare a cheat sheet for all strings methods."
   ]
  },
  {
   "cell_type": "code",
   "execution_count": 18,
   "id": "fb5067d8-6dbe-4a80-8e6e-0b7e740e340a",
   "metadata": {},
   "outputs": [
    {
     "name": "stdout",
     "output_type": "stream",
     "text": [
      "HELLO WORLD!\n",
      "hello world!\n",
      "Hello World!\n",
      "False\n",
      "False\n",
      "False\n",
      "False\n",
      "False\n",
      "False\n",
      "False\n",
      "True\n",
      "False\n",
      "['Hello', 'world!']\n",
      "aHello world!bHello world!c\n",
      "1\n",
      "yo world!\n"
     ]
    }
   ],
   "source": [
    "spam = 'Hello world!'\n",
    "x='abc'\n",
    "spam[0]\n",
    "spam[0:5]\n",
    "'Hello' in 'Hello World'\n",
    "print(spam.upper())\n",
    "print(spam.lower())\n",
    "print(spam.title())\n",
    "print(spam.islower())\n",
    "print(spam.isupper())\n",
    "print(spam.isalpha())\n",
    "print(spam.isalnum())\n",
    "print(spam.isdecimal())\n",
    "print(spam.isspace())\n",
    "print(spam.istitle())\n",
    "print(spam.startswith('Hello'))\n",
    "print(spam.endswith('yo'))\n",
    "print(spam.split(' '))\n",
    "print(spam.join(x))\n",
    "print(spam.count('e'))\n",
    "print(spam.replace('Hello','yo'))"
   ]
  },
  {
   "cell_type": "code",
   "execution_count": null,
   "id": "b88c2ec2-ce53-4f2e-8c8a-7d95601f7bd8",
   "metadata": {},
   "outputs": [],
   "source": []
  }
 ],
 "metadata": {
  "kernelspec": {
   "display_name": "Python 3 (ipykernel)",
   "language": "python",
   "name": "python3"
  },
  "language_info": {
   "codemirror_mode": {
    "name": "ipython",
    "version": 3
   },
   "file_extension": ".py",
   "mimetype": "text/x-python",
   "name": "python",
   "nbconvert_exporter": "python",
   "pygments_lexer": "ipython3",
   "version": "3.12.7"
  }
 },
 "nbformat": 4,
 "nbformat_minor": 5
}
