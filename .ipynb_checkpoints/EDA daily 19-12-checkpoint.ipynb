{
 "cells": [
  {
   "cell_type": "markdown",
   "id": "5bcd5bc9-b1af-4864-bf29-17e3c37a0f46",
   "metadata": {},
   "source": [
    "Create a 3x3 matrix with random values between 0 and 1 using numpy.random.\n"
   ]
  },
  {
   "cell_type": "code",
   "execution_count": 1,
   "id": "d50aa95f-ef6f-4438-a11e-6dadf5a8ae5c",
   "metadata": {},
   "outputs": [],
   "source": [
    "import numpy as np"
   ]
  },
  {
   "cell_type": "code",
   "execution_count": 4,
   "id": "b5f5106f-8fb4-4146-90f5-96f840819d28",
   "metadata": {},
   "outputs": [
    {
     "data": {
      "text/plain": [
       "array([[0.72068139, 0.96856699, 0.43177482],\n",
       "       [0.10681711, 0.42540761, 0.79424735],\n",
       "       [0.2486103 , 0.72443704, 0.72978684]])"
      ]
     },
     "execution_count": 4,
     "metadata": {},
     "output_type": "execute_result"
    }
   ],
   "source": [
    "a=np.random.rand(3,3)\n",
    "a"
   ]
  },
  {
   "cell_type": "markdown",
   "id": "32ad6d89-7110-4ba8-b5de-a2eaae00ee04",
   "metadata": {},
   "source": [
    "Generate a 1D array of 10 random integers between 50 and 100."
   ]
  },
  {
   "cell_type": "code",
   "execution_count": 8,
   "id": "cdb36880-f7e7-49d3-9304-6e367deb82d6",
   "metadata": {},
   "outputs": [
    {
     "name": "stdout",
     "output_type": "stream",
     "text": [
      "[70 90 90 74 53 64 64 99 61 96]\n",
      "<class 'numpy.ndarray'>\n"
     ]
    }
   ],
   "source": [
    "a=np.random.randint(50,100,10)\n",
    "print(a)\n",
    "print(type(a))"
   ]
  },
  {
   "cell_type": "markdown",
   "id": "787a6f0c-c2b4-4794-879c-2d269ed13230",
   "metadata": {},
   "source": [
    "Create a 1D NumPy array with 15 random integers between 10 and 100"
   ]
  },
  {
   "cell_type": "code",
   "execution_count": 9,
   "id": "5c3fb381-6e91-446b-a9d0-1082d64a7979",
   "metadata": {},
   "outputs": [
    {
     "name": "stdout",
     "output_type": "stream",
     "text": [
      "[54 63 57 70 61 94 75 70 58 98 57 71 81 66 65]\n",
      "<class 'numpy.ndarray'>\n"
     ]
    }
   ],
   "source": [
    "a=np.random.randint(50,100,15)\n",
    "print(a)\n",
    "print(type(a))"
   ]
  },
  {
   "cell_type": "code",
   "execution_count": null,
   "id": "845cffb5-63de-4537-a06b-970b7380b05b",
   "metadata": {},
   "outputs": [],
   "source": []
  },
  {
   "cell_type": "code",
   "execution_count": null,
   "id": "2f96c811-34d4-439b-9fbd-42abc96385dc",
   "metadata": {},
   "outputs": [],
   "source": []
  },
  {
   "cell_type": "code",
   "execution_count": null,
   "id": "2e003b00-1b81-403d-bf74-8f809f3475d4",
   "metadata": {},
   "outputs": [],
   "source": []
  },
  {
   "cell_type": "code",
   "execution_count": null,
   "id": "ef31c0e4-7f18-48f6-a332-ce90d23c8e0b",
   "metadata": {},
   "outputs": [],
   "source": []
  }
 ],
 "metadata": {
  "kernelspec": {
   "display_name": "Python 3 (ipykernel)",
   "language": "python",
   "name": "python3"
  },
  "language_info": {
   "codemirror_mode": {
    "name": "ipython",
    "version": 3
   },
   "file_extension": ".py",
   "mimetype": "text/x-python",
   "name": "python",
   "nbconvert_exporter": "python",
   "pygments_lexer": "ipython3",
   "version": "3.12.7"
  }
 },
 "nbformat": 4,
 "nbformat_minor": 5
}
