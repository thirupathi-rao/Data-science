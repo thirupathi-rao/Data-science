{
 "cells": [
  {
   "cell_type": "markdown",
   "id": "16902687-8857-4292-958b-a28001f642f3",
   "metadata": {},
   "source": [
    " create a user defined function for calculating mean without using inbuilt functions\n",
    "def my_mean(l):\n",
    "    -----\n",
    "    ----\n",
    "    ----\n",
    "    return mean\n",
    "\n",
    "my_mean([10,20,30,40,50,60,70,80]) --- 45\n",
    "\n",
    "given a number tell it is amstrong or not\n",
    "eg : 153 --- amrstong\n",
    "     120 --- not armstrong\n",
    "\n",
    "def my_median(l):-------------\n",
    " return median\n",
    "\n",
    "def my_weight_mean(w,l):-----------\n",
    "\n",
    "eg: my_weight_mean([5,6,7,8,9],[10,20,30,40,50])  --- 32.8 \n"
   ]
  },
  {
   "cell_type": "code",
   "execution_count": 2,
   "id": "2864bf6a-531b-44e0-afc9-5eab7c224f8c",
   "metadata": {},
   "outputs": [
    {
     "data": {
      "text/plain": [
       "'mean of given numbers [10, 20, 30, 40, 50, 60, 70, 80] is 45.0'"
      ]
     },
     "execution_count": 2,
     "metadata": {},
     "output_type": "execute_result"
    }
   ],
   "source": [
    "def my_mean(a):\n",
    "    b=0\n",
    "    c=0\n",
    "    for i in a:\n",
    "        b+=i\n",
    "        c+=1\n",
    "    return f'mean of given numbers {a} is {b/c}'\n",
    "my_mean([10,20,30,40,50,60,70,80])"
   ]
  },
  {
   "cell_type": "code",
   "execution_count": 27,
   "id": "5b6c7c0b-913c-4044-b6e5-0cd2624656f1",
   "metadata": {},
   "outputs": [
    {
     "name": "stdout",
     "output_type": "stream",
     "text": [
      "153 is a armstrong number\n",
      "123 is not a armstrong number\n"
     ]
    }
   ],
   "source": [
    "def armstrong(a):\n",
    "        b=list(str(a))\n",
    "        c=0\n",
    "        for i in b:\n",
    "            c+=1\n",
    "        d=0\n",
    "        for i in range(0,c):\n",
    "            d+=pow(int(b[i]),c)\n",
    "        if d==a:\n",
    "            return (f'{a} is a armstrong number')\n",
    "        else:\n",
    "            return (f'{a} is not a armstrong number')\n",
    "\n",
    "print(armstrong(153))\n",
    "print(armstrong(123))\n",
    "            \n",
    "            "
   ]
  },
  {
   "cell_type": "code",
   "execution_count": 1,
   "id": "f4b9fca7-0e96-4f6f-85b9-dde468c94b4f",
   "metadata": {},
   "outputs": [
    {
     "name": "stdout",
     "output_type": "stream",
     "text": [
      "153 is an Armstrong number.\n"
     ]
    }
   ],
   "source": [
    "def is_armstrong(num):\n",
    "    temp = num\n",
    "    count = 0\n",
    "    while temp > 0:\n",
    "        count += 1\n",
    "        temp //= 10\n",
    "    temp = num\n",
    "    sum_of_powers = 0\n",
    "    while temp > 0:\n",
    "        digit = temp % 10\n",
    "        power = 1\n",
    "        for _ in range(count): \n",
    "            power *= digit\n",
    "        sum_of_powers += power\n",
    "        temp //= 10\n",
    "    return sum_of_powers == num\n",
    "\n",
    "number = 153  \n",
    "if is_armstrong(number):\n",
    "    print(f\"{number} is an Armstrong number.\")\n",
    "else:\n",
    "    print(f\"{number} is not an Armstrong number.\")\n"
   ]
  },
  {
   "cell_type": "code",
   "execution_count": 22,
   "id": "35d1124e-453e-42c2-93c9-e4ec8ef65b25",
   "metadata": {},
   "outputs": [
    {
     "name": "stdout",
     "output_type": "stream",
     "text": [
      "5\n",
      "weighted mean of given is 32.857142857142854\n"
     ]
    }
   ],
   "source": [
    "def my_weight_mean(w,l):\n",
    "    a=0\n",
    "    b=0\n",
    "    count=0\n",
    "    for i in w:\n",
    "        count+=1\n",
    "    print(count)\n",
    "    d=0\n",
    "    while d<count:\n",
    "        a+=(w[d]*l[d])\n",
    "        b+=w[d]\n",
    "        d+=1\n",
    "    return f'weighted mean of given is {a/b}'\n",
    "print(my_weight_mean([5,6,7,8,9],[10,20,30,40,50]))"
   ]
  },
  {
   "cell_type": "code",
   "execution_count": 16,
   "id": "cb87e51c-4923-48d8-944a-a94f00c0e5f9",
   "metadata": {},
   "outputs": [
    {
     "name": "stdout",
     "output_type": "stream",
     "text": [
      "median is 3\n",
      "median is 3.5\n"
     ]
    }
   ],
   "source": [
    "def my_median(l):\n",
    "    count=0\n",
    "    for i in l:\n",
    "        count+=1\n",
    "    a=count//2-1\n",
    "    b=(count//2)\n",
    "    if count%2==0:\n",
    "        return f'median is {(l[a]+l[b])/2}'\n",
    "    else:\n",
    "        return f'median is {l[b]}'\n",
    "print(my_median([1,2,3,4,5]))\n",
    "print(my_median([1,2,3,4,5,6]))"
   ]
  },
  {
   "cell_type": "code",
   "execution_count": null,
   "id": "79e92c00-a05b-4667-9b75-967b816c9a7f",
   "metadata": {},
   "outputs": [],
   "source": []
  },
  {
   "cell_type": "code",
   "execution_count": null,
   "id": "6faeb91f-d4b7-4f0f-a393-7666e68c5dda",
   "metadata": {},
   "outputs": [],
   "source": []
  },
  {
   "cell_type": "code",
   "execution_count": null,
   "id": "903b208d-d331-4478-97a7-7c0a6c063b7c",
   "metadata": {},
   "outputs": [],
   "source": []
  },
  {
   "cell_type": "code",
   "execution_count": null,
   "id": "b3109bd1-4d1a-435e-b382-a7be58f5f65a",
   "metadata": {},
   "outputs": [],
   "source": []
  }
 ],
 "metadata": {
  "kernelspec": {
   "display_name": "Python 3 (ipykernel)",
   "language": "python",
   "name": "python3"
  },
  "language_info": {
   "codemirror_mode": {
    "name": "ipython",
    "version": 3
   },
   "file_extension": ".py",
   "mimetype": "text/x-python",
   "name": "python",
   "nbconvert_exporter": "python",
   "pygments_lexer": "ipython3",
   "version": "3.12.7"
  }
 },
 "nbformat": 4,
 "nbformat_minor": 5
}
