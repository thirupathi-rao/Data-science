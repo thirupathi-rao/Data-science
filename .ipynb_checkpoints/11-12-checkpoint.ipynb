{
 "cells": [
  {
   "cell_type": "markdown",
   "id": "e280e837-2568-4234-ab82-32113106dfe1",
   "metadata": {},
   "source": [
    "1. Write a function basic_operations that performs basic math operations like\n",
    "+, -, *, and / on two numbers. Then, create a decorator function\n",
    "enhance_operations that adds support for additional operations such as //, %,\n",
    "and ** using the same two numbers as input. Demonstrate the usage of the\n",
    "decorated function with examples."
   ]
  },
  {
   "cell_type": "code",
   "execution_count": 5,
   "id": "5f31b4e7-fdb2-488a-baf2-aed4e6beb80f",
   "metadata": {},
   "outputs": [
    {
     "name": "stdout",
     "output_type": "stream",
     "text": [
      "Example 1:\n",
      "Addition: 12\n",
      "Subtraction: 8\n",
      "Multiplication: 20\n",
      "Division: 5.0\n",
      "Floor Division: 5\n",
      "Modulus: 0\n",
      "Exponentiation: 100\n",
      "\n",
      "Example 2:\n",
      "Error: integer division or modulo by zero\n"
     ]
    }
   ],
   "source": [
    "def enhance_operations(func):\n",
    "    \"\"\"\n",
    "    Decorator to add support for additional operations: //, %, **\n",
    "    \"\"\"\n",
    "    def wrapper(a, b):\n",
    "        basic_ops = func(a, b)\n",
    "        try:\n",
    "            enhanced_ops = {\n",
    "            \"Floor Division\": a // b,\n",
    "            \"Modulus\": a % b,\n",
    "            \"Exponentiation\": a ** b}\n",
    "        except Exception as e:\n",
    "            return {'Error':str(e)}\n",
    "        basic_ops.update(enhanced_ops)\n",
    "        return basic_ops\n",
    "    return wrapper\n",
    "@enhance_operations\n",
    "def basic_operations(a, b):\n",
    "    \"\"\"\n",
    "    Perform basic math operations: +, -, *, /\n",
    "    \"\"\"\n",
    "    try:\n",
    "        return {\n",
    "            \"Addition\": a + b,\n",
    "            \"Subtraction\": a - b,\n",
    "            \"Multiplication\": a * b,\n",
    "            \"Division\": a / b if b != 0 else \"Undefined (division by zero)\"}\n",
    "    except Exception as e:\n",
    "        return {\"Error\": str(e)}\n",
    "print(\"Example 1:\")\n",
    "results = basic_operations(10, 2)\n",
    "for operation, result in results.items():\n",
    "    print(f\"{operation}: {result}\")\n",
    "print()\n",
    "print(\"Example 2:\")\n",
    "results = basic_operations(10, 0)\n",
    "for operation, result in results.items():\n",
    "    print(f\"{operation}: {result}\")"
   ]
  },
  {
   "cell_type": "markdown",
   "id": "f8de50a8-2b50-4bec-ba09-bb516c19fc78",
   "metadata": {},
   "source": [
    "2. How does @staticmethod differ from an instance method? Provide a code\n",
    "snippet to illustrate."
   ]
  },
  {
   "cell_type": "markdown",
   "id": "4d2c0087-7790-428b-9a2a-7a80e1b7744a",
   "metadata": {},
   "source": [
    "Difference Between @staticmethod and Instance Methods\n",
    "\n",
    "1.Instance Method:\n",
    "\n",
    "- Defined without any decorator.\n",
    "- Takes self as the first parameter, which refers to the instance of the class.\n",
    "- Can access instance attributes (self.attribute) and other instance methods.\n",
    "\n",
    "2.Static Method:\n",
    "\n",
    "- Defined using the @staticmethod decorator.\n",
    "- Does not take self or cls as a parameter.\n",
    "- Cannot access instance attributes or class attributes directly.\n",
    "- Used when the method logic does not depend on the instance or class context.\n"
   ]
  },
  {
   "cell_type": "code",
   "execution_count": 10,
   "id": "82a524da-84ca-4002-93d2-7ab2756da853",
   "metadata": {},
   "outputs": [
    {
     "name": "stdout",
     "output_type": "stream",
     "text": [
      "Instance method called. Value is 10\n",
      "Updated Value: 11\n",
      "Static method called with arguments: 5, 7\n",
      "Static Method Result: 12\n",
      "Static method called with arguments: 2, 3\n",
      "Static Method Result (called via instance): 5\n"
     ]
    }
   ],
   "source": [
    "class Example:\n",
    "    def __init__(self, value):\n",
    "        self.value = value\n",
    "\n",
    "    def instance_method(self):\n",
    "        \"\"\"Instance method: can access and modify instance attributes.\"\"\"\n",
    "        print(f\"Instance method called. Value is {self.value}\")\n",
    "        self.value += 1\n",
    "\n",
    "    @staticmethod\n",
    "    def static_method(x, y):\n",
    "        \"\"\"Static method: does not rely on instance or class attributes.\"\"\"\n",
    "        print(f\"Static method called with arguments: {x}, {y}\")\n",
    "        return x + y\n",
    "example = Example(10)\n",
    "example.instance_method()\n",
    "print(f\"Updated Value: {example.value}\")\n",
    "\n",
    "result = Example.static_method(5, 7)\n",
    "print(f\"Static Method Result: {result}\")\n",
    "\n",
    "result_instance = example.static_method(2, 3)\n",
    "print(f\"Static Method Result (called via instance): {result_instance}\")\n"
   ]
  },
  {
   "cell_type": "markdown",
   "id": "94ddcafb-21de-44b9-961a-778babb8cf33",
   "metadata": {},
   "source": [
    "3. Why would you use @classmethod instead of an instance method? Give a\n",
    "practical use case.\n"
   ]
  },
  {
   "cell_type": "markdown",
   "id": "87f83eaf-518d-474c-bc17-433bc83308f1",
   "metadata": {},
   "source": [
    "- Takes cls (the class itself) as its first parameter, instead of self (the instance).\n",
    "- Can be called using the class name or an instance, but it always operates on the class."
   ]
  },
  {
   "cell_type": "code",
   "execution_count": 19,
   "id": "39abb343-e9e5-49f2-837d-b5622a34cb78",
   "metadata": {},
   "outputs": [
    {
     "name": "stdout",
     "output_type": "stream",
     "text": [
      "before change {'name': 'tom', 'age': 15, 'class': 10, 'school': 'nasscom'}\n",
      "\n",
      "after change {'name': 'tom', 'age': 15, 'class': 10, 'school': 'sage school'}\n"
     ]
    }
   ],
   "source": [
    "class Student:\n",
    "    school='nasscom'\n",
    "    def __init__(self,name,age,class_room):\n",
    "        self.name=name\n",
    "        self.age=age\n",
    "        self.class_room=class_room\n",
    "    @classmethod\n",
    "    def change_school(cls,new_name):\n",
    "        cls.school=new_name\n",
    "    def details(self):\n",
    "        return {'name':self.name,'age':self.age,'class':self.class_room,'school':self.school}\n",
    "e1=Student('tom',15,10)\n",
    "print(f'before change {e1.details()}')\n",
    "print()\n",
    "e1.change_school('sage school')\n",
    "print(f'after change {e1.details()}')\n",
    "        "
   ]
  },
  {
   "cell_type": "markdown",
   "id": "4d857787-a817-46eb-87f2-908df5f9871b",
   "metadata": {},
   "source": [
    "4. Research and demonstrate how multiple decorators can be applied to a single\n",
    "function. Explain the order of execution and how each decorator interacts\n",
    "with the function. Provide an example with at least three decorators stacked\n",
    "together, each modifying the function in a unique way."
   ]
  },
  {
   "cell_type": "code",
   "execution_count": 21,
   "id": "c1b29269-0ec7-45cb-ae2f-87578b8e888f",
   "metadata": {},
   "outputs": [
    {
     "name": "stdout",
     "output_type": "stream",
     "text": [
      "HELLO!!! WORLD\n"
     ]
    }
   ],
   "source": [
    "def uppercase_decorator(func):\n",
    "    def wrapper():\n",
    "        result = func()\n",
    "        return result.upper()\n",
    "    return wrapper\n",
    "\n",
    "def add_world(func):\n",
    "    def wrapper():\n",
    "        result=func()\n",
    "        return result+ ' '+'World'\n",
    "    return wrapper\n",
    "\n",
    "def exclamation_decorator(func):\n",
    "    def wrapper():\n",
    "        result = func()\n",
    "        return result + \"!!!\"\n",
    "    return wrapper\n",
    "\n",
    "\n",
    "@uppercase_decorator\n",
    "@add_world\n",
    "@exclamation_decorator\n",
    "def greet():\n",
    "    return \"hello\"\n",
    "print(greet())"
   ]
  },
  {
   "cell_type": "code",
   "execution_count": null,
   "id": "c4e6f25e-2c4d-4e53-be7b-3622739a9b04",
   "metadata": {},
   "outputs": [],
   "source": []
  }
 ],
 "metadata": {
  "kernelspec": {
   "display_name": "Python 3 (ipykernel)",
   "language": "python",
   "name": "python3"
  },
  "language_info": {
   "codemirror_mode": {
    "name": "ipython",
    "version": 3
   },
   "file_extension": ".py",
   "mimetype": "text/x-python",
   "name": "python",
   "nbconvert_exporter": "python",
   "pygments_lexer": "ipython3",
   "version": "3.12.7"
  }
 },
 "nbformat": 4,
 "nbformat_minor": 5
}
