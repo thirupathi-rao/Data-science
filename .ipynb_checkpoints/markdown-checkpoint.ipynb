{
 "cells": [
  {
   "cell_type": "code",
   "execution_count": null,
   "id": "b1c8832b-18d7-4d51-a843-bcce37b07613",
   "metadata": {},
   "outputs": [],
   "source": [
    "## (space) for headings\n",
    "no.of # = decrese in size\n"
   ]
  },
  {
   "cell_type": "markdown",
   "id": "d33b679e-aaf4-438b-bde4-0bbc73b93fe8",
   "metadata": {},
   "source": [
    "### zxdfghjk"
   ]
  },
  {
   "cell_type": "code",
   "execution_count": null,
   "id": "539cbffb-f0c2-441b-a66a-8ae71184c2ab",
   "metadata": {},
   "outputs": [],
   "source": [
    "highlight with`"
   ]
  },
  {
   "cell_type": "markdown",
   "id": "74d5771c-1d79-48c1-8a1a-fb7aac49aabf",
   "metadata": {},
   "source": [
    "`gdxjgngjd`"
   ]
  },
  {
   "cell_type": "markdown",
   "id": "83efb884-2fdd-4c60-aab8-75076f5deb2e",
   "metadata": {},
   "source": [
    "bold with ** **\n",
    "italic ___ ___(3_)"
   ]
  },
  {
   "cell_type": "markdown",
   "id": "2f44a187-979e-4856-8c33-4b377c8e3994",
   "metadata": {},
   "source": [
    "**gdjgj**\n",
    "__hgfdjgc__"
   ]
  },
  {
   "cell_type": "markdown",
   "id": "533d1e7d-d0c2-4459-932b-c09131f8755e",
   "metadata": {},
   "source": [
    "___gfj___"
   ]
  },
  {
   "cell_type": "markdown",
   "id": "b6eb53e8-8d1b-48e9-96c2-8baed1ff8937",
   "metadata": {},
   "source": [
    "lline or seperate ~~~"
   ]
  },
  {
   "cell_type": "code",
   "execution_count": null,
   "id": "fa0878d8-336c-47d3-a949-a77692d21ae1",
   "metadata": {},
   "outputs": [],
   "source": [
    "~~ scrach ~~"
   ]
  },
  {
   "cell_type": "markdown",
   "id": "5354ead5-165d-4cb1-ac42-ee2e3e3f6642",
   "metadata": {},
   "source": [
    "~~hshsb~~"
   ]
  },
  {
   "cell_type": "code",
   "execution_count": null,
   "id": "8f276edd-fe60-4e62-838f-5c2b94336456",
   "metadata": {},
   "outputs": [],
   "source": [
    "blocknote\n",
    "> some text\n",
    ">> and then some more text\n",
    ">>> and then some more"
   ]
  },
  {
   "cell_type": "markdown",
   "id": "e4d9efd1-4b5c-4da8-94d6-ca4439e264e0",
   "metadata": {},
   "source": [
    ">sdfghjkl"
   ]
  },
  {
   "cell_type": "markdown",
   "id": "be604d08-d593-4ebd-8227-d8532046e750",
   "metadata": {},
   "source": [
    ">>>sxcvbn"
   ]
  },
  {
   "cell_type": "markdown",
   "id": "8992f646-13d2-4785-9f1a-b6d6917e7a0b",
   "metadata": {},
   "source": [
    "https://en.wikipedia.org"
   ]
  },
  {
   "cell_type": "markdown",
   "id": "eebe2718-8803-46d0-a8ac-6a13f4ca5485",
   "metadata": {},
   "source": [
    "1. hkbv\n",
    "2. cvbnm,\n",
    "3. cvbnm\n",
    "4. wertyujkl\n",
    "5. xcvhjkl;\n",
    "6. ';lkbvcxcvbl;'\n",
    "7. lkjhvc\n",
    "8. number . and space"
   ]
  },
  {
   "cell_type": "markdown",
   "id": "3a6de271-5d19-4c9b-80aa-223100b04eea",
   "metadata": {},
   "source": [
    "- dfjfkj\n",
    "- hfgjg\n",
    "- (- and space)"
   ]
  },
  {
   "cell_type": "code",
   "execution_count": null,
   "id": "35749dc6-e12b-47aa-939a-566dd993fc52",
   "metadata": {},
   "outputs": [],
   "source": [
    "This is [a reference](https://en.wikipedia.org \"Wikipedia\") "
   ]
  },
  {
   "cell_type": "markdown",
   "id": "ae2a8396-400d-4515-99a4-dd30fbc848dd",
   "metadata": {},
   "source": [
    "This is [a reference](https://en.wikipedia.org \"Wikipedia\") "
   ]
  },
  {
   "cell_type": "code",
   "execution_count": null,
   "id": "4e5524f4-f855-47a9-bcf8-dfcbbdf8b527",
   "metadata": {},
   "outputs": [],
   "source": [
    "![logo](https://www.python.org/static/community_logos/python-logo-master-v3-TM.png)"
   ]
  },
  {
   "cell_type": "markdown",
   "id": "84137610-ac24-4854-8dec-3f4bec8a62fd",
   "metadata": {},
   "source": [
    "![logo](https://www.python.org/static/community_logos/python-logo-master-v3-TM.png)"
   ]
  },
  {
   "cell_type": "markdown",
   "id": "39f92587-1121-4f78-b832-7f9368b743fc",
   "metadata": {},
   "source": [
    "![vloggo](https://i.pinimg.com/736x/83/97/f1/8397f1fff87e350e211a5fda885f627c.jpg)"
   ]
  },
  {
   "cell_type": "markdown",
   "id": "f2624c25-f3a6-43c9-8ed0-3e3bb2c9bc10",
   "metadata": {},
   "source": [
    "1. ##AFASDA\n",
    "2. HGCV,\n"
   ]
  },
  {
   "cell_type": "markdown",
   "id": "65c0ddef-59ab-493e-8cc8-f7da7374827a",
   "metadata": {},
   "source": [
    "1. ASFADSFAD\n",
    "    - SADASF\n",
    "    asd"
   ]
  },
  {
   "cell_type": "markdown",
   "id": "4ddc8857-09cd-472c-91ad-d0f6d95a77e8",
   "metadata": {},
   "source": [
    "# HJGJHASG"
   ]
  },
  {
   "cell_type": "markdown",
   "id": "828e511e-11c3-4a9e-a501-9a1835cfe53b",
   "metadata": {},
   "source": [
    "# SDFGHJKLKV"
   ]
  },
  {
   "cell_type": "markdown",
   "id": "dd07b5ce-061e-4822-896d-98d15f2516c0",
   "metadata": {},
   "source": [
    "## SAFBADSJKH"
   ]
  },
  {
   "cell_type": "markdown",
   "id": "11cf864f-9c95-4b08-a741-001669be033a",
   "metadata": {},
   "source": [
    "### DFGHJKL;"
   ]
  },
  {
   "cell_type": "code",
   "execution_count": null,
   "id": "74d93abe-70f6-4cbd-8d22-dbf009c58f75",
   "metadata": {},
   "outputs": [],
   "source": []
  }
 ],
 "metadata": {
  "kernelspec": {
   "display_name": "Python 3 (ipykernel)",
   "language": "python",
   "name": "python3"
  },
  "language_info": {
   "codemirror_mode": {
    "name": "ipython",
    "version": 3
   },
   "file_extension": ".py",
   "mimetype": "text/x-python",
   "name": "python",
   "nbconvert_exporter": "python",
   "pygments_lexer": "ipython3",
   "version": "3.12.7"
  }
 },
 "nbformat": 4,
 "nbformat_minor": 5
}
