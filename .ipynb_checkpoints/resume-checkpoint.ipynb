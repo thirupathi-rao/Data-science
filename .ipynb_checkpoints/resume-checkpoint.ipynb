{
 "cells": [
  {
   "cell_type": "markdown",
   "id": "491709aa-cadc-4577-a7fe-4847075f745a",
   "metadata": {},
   "source": [
    "# THIRUPATHI RAO DUGYALA\n",
    "\n",
    "`contact`\n",
    ">**mail** : thirupathirao2611@gmail.com\n",
    ">**phone** : 85xxxxxx55\n",
    "\n",
    "## Qualification\n",
    "- `btech` in ece from malla reddy institute of technology with 6.0 cgpa\n",
    "- `intermediate` in mpc from alphrose junior collage with 84 precentage\n",
    "- `schooling` from st.mary's high school with 9.0 gpa\n",
    "\n",
    "## skills\n",
    "- python\n",
    "- html\n",
    "- css\n",
    "- sql\n",
    "\n",
    "## Interst's\n",
    "- coading\n",
    "- gaming\n",
    "- movies\n",
    "\n",
    "## languages\n",
    "- telegu\n",
    "- english\n",
    "- hindi\n"
   ]
  },
  {
   "cell_type": "raw",
   "id": "0890875b-9f60-4a66-9f79-3dce5fe76cca",
   "metadata": {},
   "source": []
  }
 ],
 "metadata": {
  "kernelspec": {
   "display_name": "Python 3 (ipykernel)",
   "language": "python",
   "name": "python3"
  },
  "language_info": {
   "codemirror_mode": {
    "name": "ipython",
    "version": 3
   },
   "file_extension": ".py",
   "mimetype": "text/x-python",
   "name": "python",
   "nbconvert_exporter": "python",
   "pygments_lexer": "ipython3",
   "version": "3.12.7"
  }
 },
 "nbformat": 4,
 "nbformat_minor": 5
}
