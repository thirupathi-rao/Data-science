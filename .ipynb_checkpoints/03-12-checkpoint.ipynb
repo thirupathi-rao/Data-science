{
 "cells": [
  {
   "cell_type": "markdown",
   "id": "532bff2b-9449-4fd0-9956-aa71d33ee0d9",
   "metadata": {},
   "source": [
    "1. Write a lambda function that takes two numbers and returns their sum\n",
    "and product as a tuple.\n",
    "2. Write a normal function that does the same but includes a docstring\n",
    "explaining its purpose, parameters, and return value.\n",
    "3. Use help() and __doc__ to display the docstring of the normal\n",
    "function.\n",
    "4. Write a lambda function that checks if a given number is even and\n",
    "returns True or False.\n",
    "5. Write a normal function with a docstring that performs the same\n",
    "check.\n",
    "6. Print the function’s docstring using help() and __doc__.\n",
    "7. Create a lambda function that returns the square of a given number.\n",
    "8. Implement a normal function with a docstring that performs the same\n",
    "task.\n",
    "9. Use help() and __doc__ to print the documentation of the normal\n",
    "function.\n",
    "10.Write a lambda function that takes two strings and returns True if they\n",
    "have the same length, False otherwise.\n",
    "11.Write a normal function with a docstring that performs the same\n",
    "comparison.\n",
    "12.Display the docstring using help() and __doc__.\n",
    "13.Use a lambda function with filter() to extract even numbers from a list\n",
    "of integers.\n",
    "14.Write a normal function with a docstring that performs the same\n",
    "filtering.\n",
    "15.Print the normal function’s docstring using help() and __doc__."
   ]
  },
  {
   "cell_type": "code",
   "execution_count": 10,
   "id": "98398602-a760-4c3d-a8f4-bed15b730192",
   "metadata": {},
   "outputs": [
    {
     "data": {
      "text/plain": [
       "200"
      ]
     },
     "execution_count": 10,
     "metadata": {},
     "output_type": "execute_result"
    }
   ],
   "source": [
    "#1\n",
    "c=lambda a,b:a*b\n",
    "c(10,20)"
   ]
  },
  {
   "cell_type": "code",
   "execution_count": 11,
   "id": "1a8b7bcc-28f5-4900-be25-3ef3cf5c6e72",
   "metadata": {},
   "outputs": [
    {
     "data": {
      "text/plain": [
       "8"
      ]
     },
     "execution_count": 11,
     "metadata": {},
     "output_type": "execute_result"
    }
   ],
   "source": [
    "#2\n",
    "def add_numbers(x, y):\n",
    "    \"\"\"\n",
    "    Adds two numbers and returns the result.\n",
    "\n",
    "    Parameters:\n",
    "    x (int or float): The first number to be added.\n",
    "    y (int or float): The second number to be added.\n",
    "\n",
    "    Returns:\n",
    "    int or float: The sum of x and y.\n",
    "    \"\"\"\n",
    "    return x + y\n",
    "\n",
    "# Example usage\n",
    "add_numbers(5, 3)"
   ]
  },
  {
   "cell_type": "code",
   "execution_count": 16,
   "id": "5c7f6f5a-fc25-438c-8df2-656972c70c03",
   "metadata": {},
   "outputs": [
    {
     "name": "stdout",
     "output_type": "stream",
     "text": [
      "Help on function add_numbers in module __main__:\n",
      "\n",
      "add_numbers(x, y)\n",
      "    Adds two numbers and returns the result.\n",
      "\n",
      "    Parameters:\n",
      "    x (int or float): The first number to be added.\n",
      "    y (int or float): The second number to be added.\n",
      "\n",
      "    Returns:\n",
      "    int or float: The sum of x and y.\n",
      "\n",
      "No Python documentation found for 'Adds two numbers and returns the result.\\n\\n    Parameters:\\n    x (int or float): The first number to be added.\\n    y (int or float): The second number to be added.\\n\\n    Returns:\\n    int or float: The sum of x and y.'.\n",
      "Use help() to get the interactive help utility.\n",
      "Use help(str) for help on the str class.\n",
      "\n"
     ]
    }
   ],
   "source": [
    "#3\n",
    "help(add_numbers)\n",
    "help(add_numbers.__doc__)"
   ]
  },
  {
   "cell_type": "code",
   "execution_count": 13,
   "id": "eb676594-0798-4118-bcbb-7d4aee326856",
   "metadata": {},
   "outputs": [
    {
     "data": {
      "text/plain": [
       "False"
      ]
     },
     "execution_count": 13,
     "metadata": {},
     "output_type": "execute_result"
    }
   ],
   "source": [
    "#4\n",
    "is_even=lambda x:x%2==0\n",
    "is_even(5)"
   ]
  },
  {
   "cell_type": "code",
   "execution_count": 21,
   "id": "fe9d7be1-6851-4e1a-9e5b-aa5926d54afa",
   "metadata": {},
   "outputs": [
    {
     "name": "stdout",
     "output_type": "stream",
     "text": [
      "True\n",
      "False\n"
     ]
    }
   ],
   "source": [
    "#5\n",
    "def is_even(n):\n",
    "    \"\"\"\n",
    "    Checks if a given number is even.\n",
    "\n",
    "    Parameters:\n",
    "    n (int): The number to be checked.\n",
    "\n",
    "    Returns:\n",
    "    bool: True if the number is even, False if the number is odd.\n",
    "    \"\"\"\n",
    "    return n % 2 == 0\n",
    "\n",
    "print(is_even(4))\n",
    "print(is_even(7))\n"
   ]
  },
  {
   "cell_type": "code",
   "execution_count": 40,
   "id": "aa5242e0-132e-4034-a068-b95109c082d0",
   "metadata": {},
   "outputs": [
    {
     "name": "stdout",
     "output_type": "stream",
     "text": [
      "Help on function is_even in module __main__:\n",
      "\n",
      "is_even(n)\n",
      "    Checks if a given number is even.\n",
      "\n",
      "    Parameters:\n",
      "    n (int): The number to be checked.\n",
      "\n",
      "    Returns:\n",
      "    bool: True if the number is even, False if the number is odd.\n",
      "\n",
      "\n",
      "    Checks if a given number is even.\n",
      "\n",
      "    Parameters:\n",
      "    n (int): The number to be checked.\n",
      "\n",
      "    Returns:\n",
      "    bool: True if the number is even, False if the number is odd.\n",
      "    \n"
     ]
    }
   ],
   "source": [
    "#6\n",
    "help(is_even)\n",
    "print(is_even.__doc__)"
   ]
  },
  {
   "cell_type": "code",
   "execution_count": 20,
   "id": "a1d30d03-72af-4fcd-9e1a-700958bc324c",
   "metadata": {},
   "outputs": [
    {
     "data": {
      "text/plain": [
       "25"
      ]
     },
     "execution_count": 20,
     "metadata": {},
     "output_type": "execute_result"
    }
   ],
   "source": [
    "#7\n",
    "square=lambda x:pow(x,2)\n",
    "square(5)"
   ]
  },
  {
   "cell_type": "code",
   "execution_count": 24,
   "id": "8cbaaaef-da5e-42d8-b650-03809fb1c37d",
   "metadata": {},
   "outputs": [
    {
     "name": "stdout",
     "output_type": "stream",
     "text": [
      "25\n",
      "100\n"
     ]
    }
   ],
   "source": [
    "#8\n",
    "def square_num(n):\n",
    "    '''\n",
    "    give the square of the given number.\n",
    "\n",
    "    parameters:\n",
    "    n (int):the number to be checked.\n",
    "\n",
    "    return:\n",
    "    int or float: the square of n.\n",
    "    '''\n",
    "    return pow(n,2)\n",
    "\n",
    "print(square_num(5))\n",
    "print(square_num(10))"
   ]
  },
  {
   "cell_type": "code",
   "execution_count": 25,
   "id": "e789ddc0-9a09-4191-a125-5685b97e53f3",
   "metadata": {
    "jp-MarkdownHeadingCollapsed": true
   },
   "outputs": [
    {
     "name": "stdout",
     "output_type": "stream",
     "text": [
      "Help on function square_num in module __main__:\n",
      "\n",
      "square_num(n)\n",
      "    give the square of the given number.\n",
      "\n",
      "    parameters:\n",
      "    n (int):the number to be checked.\n",
      "\n",
      "    return:\n",
      "    int or float: the square of n.\n",
      "\n",
      "No Python documentation found for 'give the square of the given number.\\n\\n    parameters:\\n    n (int):the number to be checked.\\n\\n    return:\\n    int or float: the square of n.'.\n",
      "Use help() to get the interactive help utility.\n",
      "Use help(str) for help on the str class.\n",
      "\n"
     ]
    }
   ],
   "source": [
    "#9\n",
    "help(square_num)\n",
    "help(square_num.__doc__)"
   ]
  },
  {
   "cell_type": "code",
   "execution_count": 29,
   "id": "0968e68d-09fd-4261-8f85-33d550f528f1",
   "metadata": {},
   "outputs": [
    {
     "name": "stdout",
     "output_type": "stream",
     "text": [
      "False\n",
      "True\n"
     ]
    }
   ],
   "source": [
    "#10\n",
    "c=lambda a,b:len(a)==len(b)\n",
    "print(c('abc','abcd'))\n",
    "print(c('abc','abc'))"
   ]
  },
  {
   "cell_type": "code",
   "execution_count": 30,
   "id": "f8a89639-9c09-4957-8441-a8a9ebff4fe9",
   "metadata": {},
   "outputs": [
    {
     "name": "stdout",
     "output_type": "stream",
     "text": [
      "False\n",
      "True\n"
     ]
    }
   ],
   "source": [
    "#11\n",
    "def c_len(a,b):\n",
    "    '''\n",
    "    check if the given strings have same length.\n",
    "\n",
    "    parameters:\n",
    "    a (str): The first string to compare.\n",
    "    b (str): The second string to compare.\n",
    "\n",
    "    Returns:\n",
    "    bool: True if both strings have the same length, False otherwise.\n",
    "    '''\n",
    "    return len(a)==len(b)\n",
    "\n",
    "print(c_len('abc','abcd'))\n",
    "print(c_len('abc','abc'))"
   ]
  },
  {
   "cell_type": "code",
   "execution_count": 31,
   "id": "fab1a3c4-c565-4ea8-bf70-96b379c39c25",
   "metadata": {},
   "outputs": [
    {
     "name": "stdout",
     "output_type": "stream",
     "text": [
      "Help on function c_len in module __main__:\n",
      "\n",
      "c_len(a, b)\n",
      "    check if the given strings have same length.\n",
      "\n",
      "    parameters:\n",
      "    a (str): The first string to compare.\n",
      "    b (str): The second string to compare.\n",
      "\n",
      "    Returns:\n",
      "    bool: True if both strings have the same length, False otherwise.\n",
      "\n",
      "No Python documentation found for 'check if the given strings have same length.\\n\\n    parameters:\\n    a (str): The first string to compare.\\n    b (str): The second string to compare.\\n\\n    Returns:\\n    bool: True if both strings have the same length, False otherwise.'.\n",
      "Use help() to get the interactive help utility.\n",
      "Use help(str) for help on the str class.\n",
      "\n"
     ]
    }
   ],
   "source": [
    "#12\n",
    "help(c_len)\n",
    "help(c_len.__doc__)"
   ]
  },
  {
   "cell_type": "code",
   "execution_count": 36,
   "id": "d8c47e3f-c9e7-4dcb-b600-448c21eaff50",
   "metadata": {
    "jp-MarkdownHeadingCollapsed": true
   },
   "outputs": [
    {
     "data": {
      "text/plain": [
       "[2, 4, 6]"
      ]
     },
     "execution_count": 36,
     "metadata": {},
     "output_type": "execute_result"
    }
   ],
   "source": [
    "#13\n",
    "a=[1,2,3,4,5,6]\n",
    "c=list(filter(lambda x:x%2==0,a))\n",
    "c"
   ]
  },
  {
   "cell_type": "code",
   "execution_count": 38,
   "id": "023a95b3-d89d-45df-bef4-a51dd8c1cad0",
   "metadata": {},
   "outputs": [
    {
     "data": {
      "text/plain": [
       "[2, 4, 6, 8, 10]"
      ]
     },
     "execution_count": 38,
     "metadata": {},
     "output_type": "execute_result"
    }
   ],
   "source": [
    "#14\n",
    "def even_(a):\n",
    "    '''\n",
    "    checks in given list numbers are even.\n",
    "\n",
    "    parameters:\n",
    "    a (list):list of the number. \n",
    "\n",
    "    return:\n",
    "    list:returns the list with the even numbers.\n",
    "    '''\n",
    "    return list(filter(lambda x:x%2==0,a))\n",
    "even_([1,2,3,4,5,6,7,8,9,10])    "
   ]
  },
  {
   "cell_type": "code",
   "execution_count": 39,
   "id": "2497318a-a2d8-4603-ae43-439a2d7c0a53",
   "metadata": {},
   "outputs": [
    {
     "name": "stdout",
     "output_type": "stream",
     "text": [
      "Help on function even_ in module __main__:\n",
      "\n",
      "even_(a)\n",
      "    checks in given list numbers are even.\n",
      "\n",
      "    parameters:\n",
      "    a (list):list of the number.\n",
      "\n",
      "    return:\n",
      "    list:returns the list with the even numbers.\n",
      "\n",
      "No Python documentation found for 'checks in given list numbers are even.\\n\\n    parameters:\\n    a (list):list of the number. \\n\\n    return:\\n    list:returns the list with the even numbers.'.\n",
      "Use help() to get the interactive help utility.\n",
      "Use help(str) for help on the str class.\n",
      "\n"
     ]
    }
   ],
   "source": [
    "help(even_)\n",
    "help(even_.__doc__)"
   ]
  },
  {
   "cell_type": "code",
   "execution_count": null,
   "id": "a6f3f750-428f-450f-a846-ee09eb07ed48",
   "metadata": {},
   "outputs": [],
   "source": []
  }
 ],
 "metadata": {
  "kernelspec": {
   "display_name": "Python 3 (ipykernel)",
   "language": "python",
   "name": "python3"
  },
  "language_info": {
   "codemirror_mode": {
    "name": "ipython",
    "version": 3
   },
   "file_extension": ".py",
   "mimetype": "text/x-python",
   "name": "python",
   "nbconvert_exporter": "python",
   "pygments_lexer": "ipython3",
   "version": "3.12.7"
  }
 },
 "nbformat": 4,
 "nbformat_minor": 5
}
