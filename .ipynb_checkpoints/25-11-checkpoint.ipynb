{
 "cells": [
  {
   "cell_type": "markdown",
   "id": "1da86309-83c0-4982-8b44-bdf71a53d25b",
   "metadata": {},
   "source": [
    "Q1. Print the multiplication table for numbers 1 to 10. Use nested while loops."
   ]
  },
  {
   "cell_type": "code",
   "execution_count": 2,
   "id": "c41bef10-86a1-47d9-b79c-03f7969c9b31",
   "metadata": {},
   "outputs": [
    {
     "name": "stdout",
     "output_type": "stream",
     "text": [
      "1*1=1\n",
      "1*2=2\n",
      "1*3=3\n",
      "1*4=4\n",
      "1*5=5\n",
      "1*6=6\n",
      "1*7=7\n",
      "1*8=8\n",
      "1*9=9\n",
      "1*10=10\n",
      "2*1=2\n",
      "2*2=4\n",
      "2*3=6\n",
      "2*4=8\n",
      "2*5=10\n",
      "2*6=12\n",
      "2*7=14\n",
      "2*8=16\n",
      "2*9=18\n",
      "2*10=20\n",
      "3*1=3\n",
      "3*2=6\n",
      "3*3=9\n",
      "3*4=12\n",
      "3*5=15\n",
      "3*6=18\n",
      "3*7=21\n",
      "3*8=24\n",
      "3*9=27\n",
      "3*10=30\n",
      "4*1=4\n",
      "4*2=8\n",
      "4*3=12\n",
      "4*4=16\n",
      "4*5=20\n",
      "4*6=24\n",
      "4*7=28\n",
      "4*8=32\n",
      "4*9=36\n",
      "4*10=40\n",
      "5*1=5\n",
      "5*2=10\n",
      "5*3=15\n",
      "5*4=20\n",
      "5*5=25\n",
      "5*6=30\n",
      "5*7=35\n",
      "5*8=40\n",
      "5*9=45\n",
      "5*10=50\n",
      "6*1=6\n",
      "6*2=12\n",
      "6*3=18\n",
      "6*4=24\n",
      "6*5=30\n",
      "6*6=36\n",
      "6*7=42\n",
      "6*8=48\n",
      "6*9=54\n",
      "6*10=60\n",
      "7*1=7\n",
      "7*2=14\n",
      "7*3=21\n",
      "7*4=28\n",
      "7*5=35\n",
      "7*6=42\n",
      "7*7=49\n",
      "7*8=56\n",
      "7*9=63\n",
      "7*10=70\n",
      "8*1=8\n",
      "8*2=16\n",
      "8*3=24\n",
      "8*4=32\n",
      "8*5=40\n",
      "8*6=48\n",
      "8*7=56\n",
      "8*8=64\n",
      "8*9=72\n",
      "8*10=80\n",
      "9*1=9\n",
      "9*2=18\n",
      "9*3=27\n",
      "9*4=36\n",
      "9*5=45\n",
      "9*6=54\n",
      "9*7=63\n",
      "9*8=72\n",
      "9*9=81\n",
      "9*10=90\n",
      "10*1=10\n",
      "10*2=20\n",
      "10*3=30\n",
      "10*4=40\n",
      "10*5=50\n",
      "10*6=60\n",
      "10*7=70\n",
      "10*8=80\n",
      "10*9=90\n",
      "10*10=100\n"
     ]
    }
   ],
   "source": [
    "i=1\n",
    "while i<=10:\n",
    "    j=1\n",
    "    while j<=10:\n",
    "        print(f'{i}*{j}={i*j}')\n",
    "        j+=1\n",
    "    i+=1"
   ]
  },
  {
   "cell_type": "code",
   "execution_count": null,
   "id": "77e221dc-f51d-4f06-83c0-badec033cc0a",
   "metadata": {},
   "outputs": [],
   "source": [
    "Q2.\n",
    "a. Print the following number pattern using nested while loops:\n",
    "1\n",
    "12\n",
    "123\n",
    "1234\n",
    "12345\n",
    "b. Print a rhombus pattern of asterisks with a side length of 5 using nested while loops."
   ]
  },
  {
   "cell_type": "code",
   "execution_count": 9,
   "id": "118b744a-0e6b-493d-8078-3cfc149b3ea6",
   "metadata": {},
   "outputs": [
    {
     "name": "stdout",
     "output_type": "stream",
     "text": [
      "1\n",
      "12\n",
      "123\n",
      "1234\n",
      "12345\n"
     ]
    }
   ],
   "source": [
    "i=1\n",
    "while i<=5:\n",
    "    j=1\n",
    "    while j<=i:\n",
    "        print(j,end='')\n",
    "        j+=1\n",
    "    print() \n",
    "    i+=1\n",
    "    "
   ]
  },
  {
   "cell_type": "code",
   "execution_count": 10,
   "id": "5a341af7-0803-41f4-83ac-f17adc593d66",
   "metadata": {},
   "outputs": [
    {
     "name": "stdout",
     "output_type": "stream",
     "text": [
      "    *\n",
      "   **\n",
      "  ***\n",
      " ****\n",
      "*****\n"
     ]
    }
   ],
   "source": [
    "n = 5\n",
    "i = 1\n",
    "while i <= n:\n",
    "    print(' ' * (n - i), end='')\n",
    "    print('*'*i)\n",
    "    i += 1"
   ]
  },
  {
   "cell_type": "code",
   "execution_count": 21,
   "id": "a6269e8e-9a10-4c86-b9c0-c010b6386c70",
   "metadata": {},
   "outputs": [
    {
     "name": "stdout",
     "output_type": "stream",
     "text": [
      "    *    \n",
      "   **   \n",
      "  ***  \n",
      " **** \n",
      "*****\n"
     ]
    }
   ],
   "source": [
    "n = 5\n",
    "i = 1\n",
    "while i <= n:\n",
    "    # print leading spaces\n",
    "    print(' ' * (n - i), end='')\n",
    "    j = 1\n",
    "    while j <= i:\n",
    "        print('*', end='')\n",
    "        j += 1\n",
    "    # print trailing spaces\n",
    "    print(' ' * (n - i))\n",
    "    i += 1"
   ]
  },
  {
   "cell_type": "code",
   "execution_count": 64,
   "id": "56f008af-a679-4cdf-862b-f8f65ef93a84",
   "metadata": {},
   "outputs": [
    {
     "name": "stdout",
     "output_type": "stream",
     "text": [
      "   * * * * \n",
      "  * * * * \n",
      " * * * * \n",
      "* * * * \n"
     ]
    }
   ],
   "source": [
    "n = 4\n",
    "i = 1\n",
    "while i <= n:\n",
    "    print(' ' * (n - i), end='')\n",
    "    print('* '*4)\n",
    "    i += 1"
   ]
  },
  {
   "cell_type": "code",
   "execution_count": null,
   "id": "ee3da21c-e7e0-4087-a8e8-e7874b101980",
   "metadata": {},
   "outputs": [],
   "source": [
    "Q3.\n",
    "a. Print the following pattern using nested while loops:\n",
    "12345\n",
    "54321\n",
    "12345\n",
    "54321\n",
    "b. Print a square pattern of asterisks with a side length of 5 using nested while loops."
   ]
  },
  {
   "cell_type": "code",
   "execution_count": 45,
   "id": "fa24caef-f7c9-4c1c-897d-4187572c0dab",
   "metadata": {},
   "outputs": [
    {
     "name": "stdout",
     "output_type": "stream",
     "text": [
      "12345\n",
      "54321\n",
      "12345\n",
      "54321\n"
     ]
    }
   ],
   "source": [
    "i=1\n",
    "n=5\n",
    "while i<5:\n",
    "    if i%2==0:\n",
    "        j=1\n",
    "        n=5\n",
    "       \n",
    "        while n>=j:\n",
    "            print(n,end='')\n",
    "            n-=1\n",
    "        print()\n",
    "        i+=1\n",
    "        #print(i)\n",
    "        \n",
    "    else:\n",
    "        j=1\n",
    "        \n",
    "        while j<=5:\n",
    "            print(j,end='')\n",
    "            j+=1\n",
    "        print()\n",
    "        i+=1\n",
    "        #print(i)\n",
    "\n",
    "    "
   ]
  },
  {
   "cell_type": "code",
   "execution_count": 61,
   "id": "813c1c5f-b225-43bb-a2ad-da8cc8540d09",
   "metadata": {},
   "outputs": [
    {
     "name": "stdout",
     "output_type": "stream",
     "text": [
      "* * * * * \n",
      "* * * * * \n",
      "* * * * * \n",
      "* * * * * \n",
      "* * * * * \n"
     ]
    }
   ],
   "source": [
    "i=1\n",
    "while i<=5:\n",
    "    print('* '*5)\n",
    "    i+=1"
   ]
  },
  {
   "cell_type": "code",
   "execution_count": null,
   "id": "ebe56ce1-fec6-4fa4-a47b-24714c7a71dd",
   "metadata": {},
   "outputs": [],
   "source": []
  },
  {
   "cell_type": "code",
   "execution_count": null,
   "id": "1f7ef817-f957-49fd-968b-bbe2c0e3e135",
   "metadata": {},
   "outputs": [],
   "source": [
    "Q4. Write a program to print the following pattern using a While loop:"
   ]
  },
  {
   "cell_type": "code",
   "execution_count": null,
   "id": "08c13f6f-8e21-42ef-bd22-d9adabda7a99",
   "metadata": {},
   "outputs": [],
   "source": [
    "1\n",
    "2 2\n",
    "3 3 3\n",
    "4 4 4 4\n",
    "5 5 5 5 5\n",
    "4 4 4 4\n",
    "3 3 3\n",
    "2 2\n",
    "1"
   ]
  },
  {
   "cell_type": "code",
   "execution_count": 63,
   "id": "f159c6a2-1d2d-4e0b-a05f-94151a52794d",
   "metadata": {},
   "outputs": [
    {
     "name": "stdout",
     "output_type": "stream",
     "text": [
      "    1 \n",
      "   2 2 \n",
      "  3 3 3 \n",
      " 4 4 4 4 \n",
      "5 5 5 5 5 \n",
      " 4 4 4 4 \n",
      "  3 3 3 \n",
      "   2 2 \n",
      "    1 \n"
     ]
    }
   ],
   "source": [
    "i=1\n",
    "j=5\n",
    "while i<=5:\n",
    "    print(' '*(j-i),end='')\n",
    "    print(((f'{i} ')*i))\n",
    "    i+=1\n",
    "a=4\n",
    "b=1\n",
    "while a>=1:\n",
    "    print(' '*(b),end='')\n",
    "    b+=1\n",
    "    print((f'{a} ')*a)\n",
    "    a-=1"
   ]
  },
  {
   "cell_type": "code",
   "execution_count": null,
   "id": "b807e7d8-f677-47db-8f3c-01b0fda007e7",
   "metadata": {},
   "outputs": [],
   "source": []
  }
 ],
 "metadata": {
  "kernelspec": {
   "display_name": "Python 3 (ipykernel)",
   "language": "python",
   "name": "python3"
  },
  "language_info": {
   "codemirror_mode": {
    "name": "ipython",
    "version": 3
   },
   "file_extension": ".py",
   "mimetype": "text/x-python",
   "name": "python",
   "nbconvert_exporter": "python",
   "pygments_lexer": "ipython3",
   "version": "3.12.7"
  }
 },
 "nbformat": 4,
 "nbformat_minor": 5
}
