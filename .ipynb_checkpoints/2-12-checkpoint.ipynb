{
 "cells": [
  {
   "cell_type": "raw",
   "id": "f8967382-7c61-4011-8a54-7c2fdcc52e07",
   "metadata": {},
   "source": [
    "Q1.\n",
    "a. Write a function to get the maximum of 3 numbers.\n",
    "b. Write a function to check if the given number if even or not\n",
    "Example:\n",
    "is_even(10) , then o/p: even\n",
    "is_even(23), then o/p: odd\n"
   ]
  },
  {
   "cell_type": "code",
   "execution_count": 1,
   "id": "400902d0-25ad-4494-919e-c6ec1e2e165f",
   "metadata": {},
   "outputs": [
    {
     "data": {
      "text/plain": [
       "30"
      ]
     },
     "execution_count": 1,
     "metadata": {},
     "output_type": "execute_result"
    }
   ],
   "source": [
    "def max_of_3(n1,n2,n3):\n",
    "    return max(n1,n2,n3)\n",
    "max_of_3(1,30,2)"
   ]
  },
  {
   "cell_type": "markdown",
   "id": "6b25a4fe-75e4-45ea-bce1-c34543e15f7b",
   "metadata": {},
   "source": [
    "i defined a function to return the maximum number of the three given numbers used max() function"
   ]
  },
  {
   "cell_type": "code",
   "execution_count": 2,
   "id": "c58f6fc6-4c21-4573-9ade-3ecc2b40b89c",
   "metadata": {},
   "outputs": [
    {
     "data": {
      "text/plain": [
       "'odd'"
      ]
     },
     "execution_count": 2,
     "metadata": {},
     "output_type": "execute_result"
    }
   ],
   "source": [
    "def e_or_o(n):\n",
    "    if n%2==0:\n",
    "        return 'even'\n",
    "    else:\n",
    "        return 'odd'\n",
    "e_or_o(5)"
   ]
  },
  {
   "cell_type": "markdown",
   "id": "83518c73-4211-4de5-9121-f3feb357eb80",
   "metadata": {},
   "source": [
    "i defined a function to return the given number is even or odd by checking if it's divisable by 2"
   ]
  },
  {
   "cell_type": "raw",
   "id": "0399b4f3-d328-4c48-85e5-85f9665d3f51",
   "metadata": {},
   "source": [
    "Q2.\n",
    "a. Write a program to get the sum of all the even values in given list,\n",
    "Example:\n",
    "my_sum([1,2,3,4,5]), then o/p: 6\n",
    "my_sum([10,11,12]), then o/p: 22\n"
   ]
  },
  {
   "cell_type": "code",
   "execution_count": 3,
   "id": "1c3ba17d-a7d9-411d-9344-bf58800ca6bc",
   "metadata": {},
   "outputs": [
    {
     "data": {
      "text/plain": [
       "186"
      ]
     },
     "execution_count": 3,
     "metadata": {},
     "output_type": "execute_result"
    }
   ],
   "source": [
    "def sum_all(*n):\n",
    "    return sum(n)\n",
    "sum_all(1,23,55,3,99,5)"
   ]
  },
  {
   "cell_type": "markdown",
   "id": "5aa5f26a-48cc-4246-9b7c-ae351567d253",
   "metadata": {},
   "source": [
    "i defined a function to return the sum of given numbers *arge is used in the parameter so there is no limit for inputs and use sum fuction to return the sum"
   ]
  },
  {
   "cell_type": "code",
   "execution_count": null,
   "id": "73998146-2bcb-45e1-b80c-663647b18fe9",
   "metadata": {},
   "outputs": [],
   "source": [
    "Q3. Construct your own function my_range() which acts as range() to print numbers in\n",
    "forward direction (step is positive) and backward direction(step is negative) with given\n",
    "start,stop and step as parameters.\n",
    "eg: my_range(1,10,1), then o/p= 1,2,3,4,5,6,7,8,9\n",
    "my_range(1,10,2), then o/p= 1,3,5,7,9\n",
    "my_range(10,1,-1), then o/p = 10,9,8,7,6,5,4,3,2\n",
    "my_range(10,1,-2), then o/p = 10,8,6,4,2"
   ]
  },
  {
   "cell_type": "code",
   "execution_count": 35,
   "id": "43edd21c-1e64-4eed-814a-3b3d96d63051",
   "metadata": {},
   "outputs": [
    {
     "name": "stdout",
     "output_type": "stream",
     "text": [
      "[1, 2, 3, 4, 5, 6, 7, 8, 9]\n",
      "[1, 3, 5, 7, 9]\n",
      "[10, 9, 8, 7, 6, 5, 4, 3, 2]\n",
      "[10, 8, 6, 4, 2]\n",
      "[10, 9, 8, 7, 6, 5, 4, 3, 2]\n"
     ]
    }
   ],
   "source": [
    "def my_range(start,stop,skip=0):\n",
    "    if skip>0:\n",
    "        i=start\n",
    "        while i<stop:\n",
    "            yield i\n",
    "            i+=skip\n",
    "    elif start>stop:\n",
    "        if skip<0:\n",
    "            i=start\n",
    "            while i>stop:\n",
    "                yield i\n",
    "                i+=skip\n",
    "        else:\n",
    "            i=start\n",
    "            while i>stop:\n",
    "                yield i\n",
    "                i-=1\n",
    "    else:\n",
    "        i=start\n",
    "        while i<stop:\n",
    "            if i%skip==0:\n",
    "                pass\n",
    "                i+=1\n",
    "            else:\n",
    "                yield i\n",
    "                i+=1\n",
    "            \n",
    "print(list(my_range(1,10,1)))\n",
    "print(list(my_range(1,10,2)))\n",
    "print(list(my_range(10,1,-1)))\n",
    "print(list(my_range(10,1,-2)))\n",
    "print(list(my_range(10,1)))"
   ]
  },
  {
   "cell_type": "markdown",
   "id": "5c4c1fc8-e321-4b6e-ae51-d4b98a7cd526",
   "metadata": {},
   "source": [
    "this will work for range of numbers first if will check for skip and the elif is for the negative order lists and else for the ordinary list production "
   ]
  },
  {
   "cell_type": "code",
   "execution_count": null,
   "id": "7451383e-6e29-425d-a7c4-3162cf70017e",
   "metadata": {},
   "outputs": [],
   "source": [
    "def my_range(start, stop, step):\n",
    "    if step > 0:\n",
    "        i = start\n",
    "        while i <stop:\n",
    "            print(i, end=', ')\n",
    "            i += step\n",
    "    else:\n",
    "        i = start\n",
    "        while i >stop:\n",
    "            print(i, end=', ')\n",
    "            i += step\n",
    "\n",
    "my_range(1, 10, 1)\n",
    "print()\n",
    "my_range(1, 10, 2)\n",
    "print()\n",
    "my_range(10, 1, -1)\n",
    "print()\n",
    "my_range(10, 1, -2)\n",
    "print()"
   ]
  },
  {
   "cell_type": "code",
   "execution_count": null,
   "id": "6a0084cf-8516-4aef-8df2-c73932dc4a63",
   "metadata": {},
   "outputs": [],
   "source": [
    "function is for genrete a list of numbers from the given inputs spoiler:'it can only work if i in put step in and step is mandatory'"
   ]
  }
 ],
 "metadata": {
  "kernelspec": {
   "display_name": "Python 3 (ipykernel)",
   "language": "python",
   "name": "python3"
  },
  "language_info": {
   "codemirror_mode": {
    "name": "ipython",
    "version": 3
   },
   "file_extension": ".py",
   "mimetype": "text/x-python",
   "name": "python",
   "nbconvert_exporter": "python",
   "pygments_lexer": "ipython3",
   "version": "3.12.7"
  }
 },
 "nbformat": 4,
 "nbformat_minor": 5
}
