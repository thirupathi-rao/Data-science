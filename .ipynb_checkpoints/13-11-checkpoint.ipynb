{
 "cells": [
  {
   "cell_type": "markdown",
   "id": "69df411a-048a-4d30-bae3-8dbfea6d9e86",
   "metadata": {},
   "source": [
    "Q1.\n",
    "a. Write a program to create a new string made of an input string’s first, middle, and\n",
    "last character.\n",
    "Example input: Holiday\n",
    "Example output: Hiy\n",
    "b. Create a string made of the middle two characters.\n",
    "Example input: Innomatics\n",
    "Example output: ma\n"
   ]
  },
  {
   "cell_type": "code",
   "execution_count": 20,
   "id": "add40409-0cbe-43e3-9c5b-5f33c5751ed5",
   "metadata": {},
   "outputs": [
    {
     "name": "stdin",
     "output_type": "stream",
     "text": [
      "enter a word  lenovo\n"
     ]
    },
    {
     "name": "stdout",
     "output_type": "stream",
     "text": [
      "6\n",
      "2 2\n",
      "n o\n"
     ]
    }
   ],
   "source": [
    "word=str(input('enter a word '))\n",
    "x=int(len(word))\n",
    "print(x)\n",
    "y=int((x-1)*0.5)\n",
    "z=int((x-2)*0.5)\n",
    "n=int(x/2)\n",
    "print(y,z)\n",
    "if x%2!=0:\n",
    "    print(word[0],word[y],word[x-1])\n",
    "elif x%2==0:\n",
    "    print(word[z],word[n])\n",
    "else:\n",
    "    print('enter valid input')"
   ]
  },
  {
   "cell_type": "code",
   "execution_count": null,
   "id": "b60e9791-459a-489a-b6b3-ad0b66ea73b9",
   "metadata": {},
   "outputs": [],
   "source": [
    "Q2. Solve below:\n",
    "s=\"your full name\"\n",
    "s[-1],s[-3],s[3], s[2:7],s[2:7:1],s[2:7:1],s[2:7:2],s[2:7:-1],s[2:7:-2],s[7:2:1],s[7:2:-1],s[7:2:-2]\n",
    "Solve this question using pen and paper attach your images in the notebook itself, then\n",
    "verify answers by writing codes. Include your examples and try playing with different\n",
    "kinds of slicing with positive and negative steps.\n"
   ]
  },
  {
   "cell_type": "code",
   "execution_count": null,
   "id": "7d4169e1-f9f8-4989-a90b-8782ac69c092",
   "metadata": {},
   "outputs": [],
   "source": []
  },
  {
   "cell_type": "code",
   "execution_count": null,
   "id": "17bb4171-122a-4527-b5e5-5621d84e7ba8",
   "metadata": {},
   "outputs": [],
   "source": [
    "Q3. How do you repeat a string multiple times?\n",
    "Example: input = “Innomatics”\n",
    "Output = “Innomatics Innomatics Innomatics”"
   ]
  },
  {
   "cell_type": "code",
   "execution_count": 21,
   "id": "ac9528f9-6643-4ec7-8575-4b9e5f539d65",
   "metadata": {},
   "outputs": [
    {
     "name": "stdin",
     "output_type": "stream",
     "text": [
      "enter a word:  hi\n",
      "enter number of times you want to multyply the word:  3\n"
     ]
    },
    {
     "name": "stdout",
     "output_type": "stream",
     "text": [
      "hi hi hi \n"
     ]
    }
   ],
   "source": [
    "w1=str(input('enter a word: '))\n",
    "n=int(input('enter number of times you want to multyply the word: '))\n",
    "print((w1+\" \")*n)"
   ]
  },
  {
   "cell_type": "code",
   "execution_count": null,
   "id": "a69fac33-d046-4177-83d2-0ab7aafe3c22",
   "metadata": {},
   "outputs": [],
   "source": [
    "Q4. Check if the string s (s = \"madam\") is a palindrome and assign the result (True/False) to the\n",
    "variable is_palindrome."
   ]
  },
  {
   "cell_type": "code",
   "execution_count": 38,
   "id": "863e8751-a5f5-41d4-b9a9-affe32dc8329",
   "metadata": {},
   "outputs": [
    {
     "name": "stdout",
     "output_type": "stream",
     "text": [
      "true\n"
     ]
    }
   ],
   "source": [
    "def is_palindrome(str):\n",
    "        for i in range(0, int(len(str)/2)):\n",
    "            if str[i] != str[len(str)-i-1]:\n",
    "                return False\n",
    "        return True\n",
    "s = \"madam\"\n",
    "x=is_palindrome(s)\n",
    "if x:\n",
    "    print('true')\n",
    "else:\n",
    "    print('false')"
   ]
  },
  {
   "cell_type": "code",
   "execution_count": null,
   "id": "d8e2e5db-1afa-4ebc-aa81-42e0de53e679",
   "metadata": {},
   "outputs": [],
   "source": [
    "Q5. Create a variable to store the string \"Earth revolves around the sun\"\n",
    "- Print \"revolves\" using slice operator\n",
    "- Print \"sun\" using negative index"
   ]
  },
  {
   "cell_type": "code",
   "execution_count": 31,
   "id": "e393d3ff-0573-4bf4-98a3-2b70ff87bc8d",
   "metadata": {},
   "outputs": [
    {
     "name": "stdout",
     "output_type": "stream",
     "text": [
      "revolves \n",
      "sun\n"
     ]
    }
   ],
   "source": [
    "s=\"Earth revolves around the sun\"\n",
    "x=s[6:15]\n",
    "print(x)\n",
    "y=s.split(\" \")\n",
    "print(y[-1])"
   ]
  },
  {
   "cell_type": "code",
   "execution_count": null,
   "id": "821cfa59-4834-4fbf-8139-19aadc0759ad",
   "metadata": {},
   "outputs": [],
   "source": []
  }
 ],
 "metadata": {
  "kernelspec": {
   "display_name": "Python 3 (ipykernel)",
   "language": "python",
   "name": "python3"
  },
  "language_info": {
   "codemirror_mode": {
    "name": "ipython",
    "version": 3
   },
   "file_extension": ".py",
   "mimetype": "text/x-python",
   "name": "python",
   "nbconvert_exporter": "python",
   "pygments_lexer": "ipython3",
   "version": "3.12.7"
  }
 },
 "nbformat": 4,
 "nbformat_minor": 5
}
