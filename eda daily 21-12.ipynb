{
 "cells": [
  {
   "cell_type": "markdown",
   "id": "9661a567-6352-4d19-81a1-08744fb7a8e7",
   "metadata": {},
   "source": [
    "1.Given the following 1D NumPy array:\n",
    "arr = np.array([1, 2, 3, 4, 5])\n",
    "a) What is the value at index 2?\n",
    "b) What is the value at index 4?\n",
    "c) Slice the array to get the first 3 elements.\n",
    "d) Slice the array to get the last 2 elements"
   ]
  },
  {
   "cell_type": "code",
   "execution_count": 2,
   "id": "c4b246dd-f9b9-4f35-9bd7-fd482f862cc3",
   "metadata": {},
   "outputs": [],
   "source": [
    "import numpy as np\n",
    "arr = np.array([1, 2, 3, 4, 5])"
   ]
  },
  {
   "cell_type": "code",
   "execution_count": 3,
   "id": "c8a0481b-28c1-4185-8162-0d87fe3dbf49",
   "metadata": {},
   "outputs": [
    {
     "data": {
      "text/plain": [
       "3"
      ]
     },
     "execution_count": 3,
     "metadata": {},
     "output_type": "execute_result"
    }
   ],
   "source": [
    "arr[2]"
   ]
  },
  {
   "cell_type": "code",
   "execution_count": 4,
   "id": "89812099-8140-4c6d-ac8f-0b8e12d9fd83",
   "metadata": {},
   "outputs": [
    {
     "data": {
      "text/plain": [
       "5"
      ]
     },
     "execution_count": 4,
     "metadata": {},
     "output_type": "execute_result"
    }
   ],
   "source": [
    "arr[4]"
   ]
  },
  {
   "cell_type": "code",
   "execution_count": 6,
   "id": "7b49a2f8-31bc-4440-82e2-a1d7cf1ffe96",
   "metadata": {},
   "outputs": [
    {
     "data": {
      "text/plain": [
       "array([1, 2, 3])"
      ]
     },
     "execution_count": 6,
     "metadata": {},
     "output_type": "execute_result"
    }
   ],
   "source": [
    "arr[:3]"
   ]
  },
  {
   "cell_type": "code",
   "execution_count": 13,
   "id": "cbeda532-b468-420b-81b2-e016c763c38c",
   "metadata": {},
   "outputs": [
    {
     "data": {
      "text/plain": [
       "array([2, 1])"
      ]
     },
     "execution_count": 13,
     "metadata": {},
     "output_type": "execute_result"
    }
   ],
   "source": [
    "arr[1::-1]"
   ]
  },
  {
   "cell_type": "markdown",
   "id": "8c172718-f57d-46e1-b67e-c13ece828878",
   "metadata": {},
   "source": [
    "2)create two 1D arrays with any values of your choice\n",
    "a) Use the argmax() function to find the index of the maximum value in the array.\n",
    "b) Use the argmin() function to find the index of the minimum value in the array."
   ]
  },
  {
   "cell_type": "code",
   "execution_count": 21,
   "id": "0d83bdaa-e8ba-40df-94f3-850541fe5ab6",
   "metadata": {},
   "outputs": [],
   "source": [
    "arr = np.array([1, 2, 3, 4, 5])"
   ]
  },
  {
   "cell_type": "code",
   "execution_count": 22,
   "id": "bf47de60-bc4d-4171-9387-6fa150c5bf23",
   "metadata": {},
   "outputs": [
    {
     "name": "stdout",
     "output_type": "stream",
     "text": [
      "max number index 4\n",
      "max number 5\n"
     ]
    }
   ],
   "source": [
    "print(f'max number index {np.argmax(arr)}')\n",
    "print(f'max number {arr[np.argmax(arr)]}')\n"
   ]
  },
  {
   "cell_type": "code",
   "execution_count": 23,
   "id": "3ed1ba89-ab08-4a42-920c-890099483aed",
   "metadata": {},
   "outputs": [
    {
     "name": "stdout",
     "output_type": "stream",
     "text": [
      "min number index 0\n",
      "min number 1\n"
     ]
    }
   ],
   "source": [
    "print(f'min number index {np.argmin(arr)}')\n",
    "print(f'min number {arr[np.argmin(arr)]}')"
   ]
  },
  {
   "cell_type": "code",
   "execution_count": 24,
   "id": "44756c43-9f46-4019-afe2-dc2bf6036c81",
   "metadata": {},
   "outputs": [],
   "source": [
    "b=np.array([9,9,6,6,8,8,6,1,0,4])"
   ]
  },
  {
   "cell_type": "code",
   "execution_count": 27,
   "id": "b433a2a3-6a76-457c-85b1-e87effb615da",
   "metadata": {},
   "outputs": [
    {
     "name": "stdout",
     "output_type": "stream",
     "text": [
      "max number index 0\n",
      "max number 9\n"
     ]
    }
   ],
   "source": [
    "print(f'max number index {np.argmax(b)}')\n",
    "print(f'max number {b[np.argmax(b)]}')"
   ]
  },
  {
   "cell_type": "code",
   "execution_count": 28,
   "id": "7965207e-7a7d-46f5-8086-faddb897aaec",
   "metadata": {},
   "outputs": [
    {
     "name": "stdout",
     "output_type": "stream",
     "text": [
      "min number index 8\n",
      "min number 0\n"
     ]
    }
   ],
   "source": [
    "print(f'min number index {np.argmin(b)}')\n",
    "print(f'min number {b[np.argmin(b)]}')"
   ]
  },
  {
   "cell_type": "code",
   "execution_count": null,
   "id": "187371bc-2a23-4f8f-a265-b5573b0d6d44",
   "metadata": {},
   "outputs": [],
   "source": []
  }
 ],
 "metadata": {
  "kernelspec": {
   "display_name": "Python 3 (ipykernel)",
   "language": "python",
   "name": "python3"
  },
  "language_info": {
   "codemirror_mode": {
    "name": "ipython",
    "version": 3
   },
   "file_extension": ".py",
   "mimetype": "text/x-python",
   "name": "python",
   "nbconvert_exporter": "python",
   "pygments_lexer": "ipython3",
   "version": "3.12.7"
  }
 },
 "nbformat": 4,
 "nbformat_minor": 5
}
