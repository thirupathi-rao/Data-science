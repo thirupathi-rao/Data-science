{
 "cells": [
  {
   "cell_type": "markdown",
   "id": "f7ae3852-532a-4fa3-9d79-ef3e43dcc510",
   "metadata": {},
   "source": [
    "# List Comprehension Questions:\n",
    "1. Generate a list of squares of numbers from 1 to 10, but only include even numbers;\n",
    "otherwise, include 0.\n",
    "2. Create a list of \"Positive\" if the number is greater than 0, else \"Negative\" for numbers\n",
    "in [-10, -5, 0, 5, 10].\n",
    "3. Generate a list of \"Even\" or \"Odd\" based on numbers from 1 to 20 using list\n",
    "comprehension.\n",
    "4. Create a list of the absolute values of numbers from [-3, -2, -1, 0, 1, 2,\n",
    "3] using list comprehension.\n",
    "5. Generate a list of squares if the number is odd, otherwise include the number itself\n",
    "for numbers from 1 to 15.\n",
    "6. Create a list with numbers from 0 to 9; for multiples of 3, return \"Multiple of 3\",\n",
    "otherwise return the number.\n",
    "7. Generate a list where numbers divisible by 4 are doubled, otherwise include the\n",
    "number itself for numbers from 1 to 20.\n",
    "8. Create a list of cube roots if the number is negative, and squares if positive for\n",
    "numbers in [-2, -1, 0, 1, 2].\n",
    "9. Generate a list of first letters in each word of ['apple', 'banana', 'cherry']\n",
    "if the word contains the letter 'a', otherwise return 'N/A'.\n",
    "10. Create a list with numbers from 0 to 19 where even numbers are halved, and odd\n",
    "numbers are doubled.\n"
   ]
  },
  {
   "cell_type": "code",
   "execution_count": 5,
   "id": "50c9f6a4-5e11-4d09-a0b9-1c37d7e62825",
   "metadata": {},
   "outputs": [
    {
     "data": {
      "text/plain": [
       "[0, 4, 0, 16, 0, 36, 0, 64, 0, 100]"
      ]
     },
     "execution_count": 5,
     "metadata": {},
     "output_type": "execute_result"
    }
   ],
   "source": [
    "#1\n",
    "x=[i**2 if i%2==0  else 0 for i in range(1,11) ]\n",
    "x"
   ]
  },
  {
   "cell_type": "code",
   "execution_count": 9,
   "id": "81b006fc-5f35-43f0-836e-8759db048346",
   "metadata": {},
   "outputs": [
    {
     "data": {
      "text/plain": [
       "['negative', 'negative', 'positive', 'positive', 'positive']"
      ]
     },
     "execution_count": 9,
     "metadata": {},
     "output_type": "execute_result"
    }
   ],
   "source": [
    "#2\n",
    "a=[-10, -5, 0, 5, 10]\n",
    "x=['positive' if i>=0 else 'negative' for i in a]\n",
    "x"
   ]
  },
  {
   "cell_type": "code",
   "execution_count": 11,
   "id": "040bf94d-ff4f-4907-9a39-8437fcacddcc",
   "metadata": {},
   "outputs": [
    {
     "data": {
      "text/plain": [
       "['odd',\n",
       " 'even',\n",
       " 'odd',\n",
       " 'even',\n",
       " 'odd',\n",
       " 'even',\n",
       " 'odd',\n",
       " 'even',\n",
       " 'odd',\n",
       " 'even',\n",
       " 'odd',\n",
       " 'even',\n",
       " 'odd',\n",
       " 'even',\n",
       " 'odd',\n",
       " 'even',\n",
       " 'odd',\n",
       " 'even',\n",
       " 'odd',\n",
       " 'even']"
      ]
     },
     "execution_count": 11,
     "metadata": {},
     "output_type": "execute_result"
    }
   ],
   "source": [
    "#3\n",
    "x=['even' if i%2==0  else 'odd' for i in range(1,21) ]\n",
    "x"
   ]
  },
  {
   "cell_type": "code",
   "execution_count": 13,
   "id": "51250ffa-b11b-46b2-a51c-834ae5287abe",
   "metadata": {},
   "outputs": [
    {
     "data": {
      "text/plain": [
       "[3, 2, 1, 0, 1, 2, 3]"
      ]
     },
     "execution_count": 13,
     "metadata": {},
     "output_type": "execute_result"
    }
   ],
   "source": [
    "#4\n",
    "a=[-3, -2, -1, 0, 1, 2,3]\n",
    "x=[abs(i) for i in a]\n",
    "x"
   ]
  },
  {
   "cell_type": "code",
   "execution_count": 14,
   "id": "13c01778-039a-41d6-b463-f0a4c5c2e10c",
   "metadata": {},
   "outputs": [
    {
     "data": {
      "text/plain": [
       "[1, 2, 9, 4, 25, 6, 49, 8, 81, 10, 121, 12, 169, 14, 225, 16, 289, 18, 361, 20]"
      ]
     },
     "execution_count": 14,
     "metadata": {},
     "output_type": "execute_result"
    }
   ],
   "source": [
    "#5\n",
    "x=[i**2 if i%2!=0  else i for i in range(1,21) ]\n",
    "x"
   ]
  },
  {
   "cell_type": "code",
   "execution_count": 16,
   "id": "28b1df01-50a8-4738-9ba5-00a42c912e32",
   "metadata": {},
   "outputs": [
    {
     "data": {
      "text/plain": [
       "['Multiple of 3',\n",
       " 1,\n",
       " 2,\n",
       " 'Multiple of 3',\n",
       " 4,\n",
       " 5,\n",
       " 'Multiple of 3',\n",
       " 7,\n",
       " 8,\n",
       " 'Multiple of 3']"
      ]
     },
     "execution_count": 16,
     "metadata": {},
     "output_type": "execute_result"
    }
   ],
   "source": [
    "#6\n",
    "x=['Multiple of 3' if i%3==0  else i for i in range(10) ]\n",
    "x"
   ]
  },
  {
   "cell_type": "code",
   "execution_count": 17,
   "id": "78dd0ae1-17d7-424c-9a07-c55a883f81dc",
   "metadata": {},
   "outputs": [
    {
     "data": {
      "text/plain": [
       "[1, 2, 3, 8, 5, 6, 7, 16, 9, 10, 11, 24, 13, 14, 15, 32, 17, 18, 19, 40]"
      ]
     },
     "execution_count": 17,
     "metadata": {},
     "output_type": "execute_result"
    }
   ],
   "source": [
    "#7\n",
    "x=[i*2 if i%4==0  else i for i in range(1,21) ]\n",
    "x"
   ]
  },
  {
   "cell_type": "code",
   "execution_count": 20,
   "id": "7705689c-f2fa-4dec-a041-b0bcfeb46fb7",
   "metadata": {},
   "outputs": [
    {
     "name": "stdout",
     "output_type": "stream",
     "text": [
      "[(0.6299605249474367+1.0911236359717214j), (0.5000000000000001+0.8660254037844386j), 0, 1, 4]\n"
     ]
    }
   ],
   "source": [
    "#8\n",
    "numbers = [-2, -1, 0, 1, 2]\n",
    "result = [num ** (1/3)if num < 0 else num ** 2 for num in numbers]\n",
    "print(result)"
   ]
  },
  {
   "cell_type": "code",
   "execution_count": 27,
   "id": "d7c6068d-bfbc-42eb-bb7a-5d0741015c6d",
   "metadata": {},
   "outputs": [
    {
     "data": {
      "text/plain": [
       "['a', 'N/A', 'N/A']"
      ]
     },
     "execution_count": 27,
     "metadata": {},
     "output_type": "execute_result"
    }
   ],
   "source": [
    "#9\n",
    "a=['apple', 'banana', 'cherry']\n",
    "x=['a' if i[0]=='a' else 'N/A' for i in a]\n",
    "x"
   ]
  },
  {
   "cell_type": "code",
   "execution_count": 29,
   "id": "5816b7d6-b722-4159-914b-255dc0e49a01",
   "metadata": {},
   "outputs": [
    {
     "data": {
      "text/plain": [
       "[0,\n",
       " 0.5,\n",
       " 4,\n",
       " 1.5,\n",
       " 8,\n",
       " 2.5,\n",
       " 12,\n",
       " 3.5,\n",
       " 16,\n",
       " 4.5,\n",
       " 20,\n",
       " 5.5,\n",
       " 24,\n",
       " 6.5,\n",
       " 28,\n",
       " 7.5,\n",
       " 32,\n",
       " 8.5,\n",
       " 36,\n",
       " 9.5]"
      ]
     },
     "execution_count": 29,
     "metadata": {},
     "output_type": "execute_result"
    }
   ],
   "source": [
    "#10\n",
    "x=[i/2 if i%2!=0  else i*2 for i in range(0,20) ]\n",
    "x"
   ]
  },
  {
   "cell_type": "markdown",
   "id": "6836396d-73b3-492d-bac5-645eb78b9b75",
   "metadata": {},
   "source": [
    "# Dictionary Comprehension Questions:\n",
    "11. Generate a dictionary where keys are numbers from 1 to 5, and values are \"Even\" or\n",
    "\"Odd\" based on the key.\n",
    "12. Create a dictionary with numbers from 1 to 10 as keys, and the value is \"Divisible by\n",
    "3\" if divisible by 3, otherwise \"Not Divisible\".\n",
    "13. Generate a dictionary where the key is a number from 1 to 7, and the value is its\n",
    "square if even, otherwise its cube.\n",
    "14. Create a dictionary where keys are characters from the string \"python\" and values\n",
    "are the uppercase of the character if it's a vowel, else the character itself.\n",
    "15. Generate a dictionary where keys are numbers from 1 to 5, and values are \"Positive\"\n",
    "if greater than 0, otherwise \"Zero\".\n",
    "16. Create a dictionary with keys as numbers from 1 to 10, and values are half the\n",
    "number if it’s even, or the number itself if odd.\n",
    "17. Generate a dictionary where keys are numbers from 0 to 5, and values are\n",
    "\"Negative\", \"Zero\", or \"Positive\" based on the number.\n",
    "18. Create a dictionary where keys are words from the list ['apple', 'banana',\n",
    "'kiwi'], and values are the word length if it contains 'a', otherwise None.\n",
    "19. Generate a dictionary where keys are numbers from 1 to 5, and values are \"Prime\"\n",
    "or \"Non-Prime\".\n",
    "20. Create a dictionary where keys are numbers from 1 to 10, and values are \"Multiple of\n",
    "2\" if divisible by 2, else \"Not Multiple\"."
   ]
  },
  {
   "cell_type": "code",
   "execution_count": 33,
   "id": "f4c730f3-87b2-4ddd-8cda-91c1c0be6051",
   "metadata": {},
   "outputs": [
    {
     "data": {
      "text/plain": [
       "{1: 'odd', 2: 'even', 3: 'odd', 4: 'even', 5: 'odd'}"
      ]
     },
     "execution_count": 33,
     "metadata": {},
     "output_type": "execute_result"
    }
   ],
   "source": [
    "#11\n",
    "x={i:'even' if i%2==0 else 'odd' for i in range(1,6)}\n",
    "x"
   ]
  },
  {
   "cell_type": "code",
   "execution_count": 37,
   "id": "fb242c5b-2518-42d8-b559-2e0ece30c671",
   "metadata": {},
   "outputs": [
    {
     "data": {
      "text/plain": [
       "{1: 'not divisible',\n",
       " 2: 'not divisible',\n",
       " 3: 'divisible by 3',\n",
       " 4: 'not divisible',\n",
       " 5: 'not divisible',\n",
       " 6: 'divisible by 3',\n",
       " 7: 'not divisible',\n",
       " 8: 'not divisible',\n",
       " 9: 'divisible by 3',\n",
       " 10: 'not divisible'}"
      ]
     },
     "execution_count": 37,
     "metadata": {},
     "output_type": "execute_result"
    }
   ],
   "source": [
    "#12\n",
    "x={i:'divisible by 3' if i%3==0 else 'not divisible' for i in range(1,11)}\n",
    "x"
   ]
  },
  {
   "cell_type": "code",
   "execution_count": 36,
   "id": "60a0843c-2d00-41a6-91c5-570a10be3627",
   "metadata": {},
   "outputs": [
    {
     "data": {
      "text/plain": [
       "{1: 1, 2: 4, 3: 27, 4: 16, 5: 125, 6: 36, 7: 343}"
      ]
     },
     "execution_count": 36,
     "metadata": {},
     "output_type": "execute_result"
    }
   ],
   "source": [
    "#13\n",
    "x={i:i**2 if i%2==0 else i**3 for i in range(1,8)}\n",
    "x"
   ]
  },
  {
   "cell_type": "code",
   "execution_count": 39,
   "id": "3fd083b7-3e78-4da5-874d-c032fee432a6",
   "metadata": {},
   "outputs": [
    {
     "data": {
      "text/plain": [
       "{'p': 'p', 'y': 'y', 't': 't', 'h': 'h', 'o': 'O', 'n': 'n'}"
      ]
     },
     "execution_count": 39,
     "metadata": {},
     "output_type": "execute_result"
    }
   ],
   "source": [
    "#14\n",
    "x={i:i.capitalize() if i in 'aeiou' else i for i in 'python'}\n",
    "x"
   ]
  },
  {
   "cell_type": "code",
   "execution_count": 40,
   "id": "ca496719-2fc1-4b9b-80ac-42f3c759158f",
   "metadata": {},
   "outputs": [
    {
     "data": {
      "text/plain": [
       "{1: 'positive', 2: 'positive', 3: 'positive', 4: 'positive', 5: 'positive'}"
      ]
     },
     "execution_count": 40,
     "metadata": {},
     "output_type": "execute_result"
    }
   ],
   "source": [
    "#15\n",
    "x={i:'positive' if i>0 else 'zero' for i in range(1,6)}\n",
    "x"
   ]
  },
  {
   "cell_type": "code",
   "execution_count": 41,
   "id": "f388fde9-ccb3-47f4-b5d6-3f07ee461c1d",
   "metadata": {},
   "outputs": [
    {
     "data": {
      "text/plain": [
       "{1: 1, 2: 1, 3: 3, 4: 2, 5: 5, 6: 3, 7: 7}"
      ]
     },
     "execution_count": 41,
     "metadata": {},
     "output_type": "execute_result"
    }
   ],
   "source": [
    "#16\n",
    "x={i:i//2 if i%2==0 else i for i in range(1,8)}\n",
    "x"
   ]
  },
  {
   "cell_type": "code",
   "execution_count": 44,
   "id": "66c9ef41-784f-452e-9f3e-a0a93f98418c",
   "metadata": {},
   "outputs": [
    {
     "data": {
      "text/plain": [
       "{0: 'zero',\n",
       " 1: 'positive',\n",
       " 2: 'positive',\n",
       " 3: 'positive',\n",
       " 4: 'positive',\n",
       " 5: 'positive'}"
      ]
     },
     "execution_count": 44,
     "metadata": {},
     "output_type": "execute_result"
    }
   ],
   "source": [
    "#17\n",
    "x={i:'positive' if i>0 else 'zero' for i in range(0,6)}\n",
    "x"
   ]
  },
  {
   "cell_type": "code",
   "execution_count": 46,
   "id": "0810dd54-e99d-43cb-bd60-1a5642f7529a",
   "metadata": {},
   "outputs": [
    {
     "data": {
      "text/plain": [
       "{'apple': 5, 'banana': 'none', 'kiwi': 'none'}"
      ]
     },
     "execution_count": 46,
     "metadata": {},
     "output_type": "execute_result"
    }
   ],
   "source": [
    "#18\n",
    "a=['apple', 'banana', 'kiwi']\n",
    "x={i:len(i) if i.startswith('a') else 'none' for i in a}\n",
    "x"
   ]
  },
  {
   "cell_type": "code",
   "execution_count": 47,
   "id": "fe30d7bb-ed23-4b65-946d-0f40684bf684",
   "metadata": {},
   "outputs": [
    {
     "data": {
      "text/plain": [
       "{1: 'non prime', 2: 'prime', 3: 'prime', 4: 'non prime', 5: 'prime'}"
      ]
     },
     "execution_count": 47,
     "metadata": {},
     "output_type": "execute_result"
    }
   ],
   "source": [
    "#19\n",
    "import sympy\n",
    "x={i:'prime' if sympy.isprime(i) else 'non prime' for i in range(1,6)}\n",
    "x"
   ]
  },
  {
   "cell_type": "code",
   "execution_count": 48,
   "id": "54ca80a6-d1f7-4df9-a16c-870e6be1cc69",
   "metadata": {},
   "outputs": [
    {
     "data": {
      "text/plain": [
       "{0: 'Multiple of 3',\n",
       " 1: 'not multiple',\n",
       " 2: 'Multiple of 3',\n",
       " 3: 'not multiple',\n",
       " 4: 'Multiple of 3',\n",
       " 5: 'not multiple',\n",
       " 6: 'Multiple of 3',\n",
       " 7: 'not multiple',\n",
       " 8: 'Multiple of 3',\n",
       " 9: 'not multiple',\n",
       " 10: 'Multiple of 3'}"
      ]
     },
     "execution_count": 48,
     "metadata": {},
     "output_type": "execute_result"
    }
   ],
   "source": [
    "#20\n",
    "x={i:'Multiple of 3' if i%2==0  else 'not multiple' for i in range(11)}\n",
    "x"
   ]
  },
  {
   "cell_type": "code",
   "execution_count": null,
   "id": "7327ae36-89a9-496c-bf56-c0d81bee3b48",
   "metadata": {},
   "outputs": [],
   "source": []
  }
 ],
 "metadata": {
  "kernelspec": {
   "display_name": "Python 3 (ipykernel)",
   "language": "python",
   "name": "python3"
  },
  "language_info": {
   "codemirror_mode": {
    "name": "ipython",
    "version": 3
   },
   "file_extension": ".py",
   "mimetype": "text/x-python",
   "name": "python",
   "nbconvert_exporter": "python",
   "pygments_lexer": "ipython3",
   "version": "3.12.7"
  }
 },
 "nbformat": 4,
 "nbformat_minor": 5
}
